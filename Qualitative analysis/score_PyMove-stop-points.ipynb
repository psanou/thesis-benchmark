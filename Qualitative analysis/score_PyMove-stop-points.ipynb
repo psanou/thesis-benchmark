{
 "cells": [
  {
   "cell_type": "code",
   "execution_count": 1,
   "id": "c243f8f3-15b9-4b51-ab46-f9a0dd94130c",
   "metadata": {
    "tags": []
   },
   "outputs": [],
   "source": [
    "\"\"\"\n",
    "Function to compute the execution time.\n",
    "\"\"\"\n",
    "from datetime import timedelta\n",
    "import time\n",
    "def get_time(f, kwargs={}):\n",
    "    times = []\n",
    "    result = None\n",
    "    for i in range(5):\n",
    "        print(\"\\nmeasure\",i+1)\n",
    "        t = time.time()\n",
    "        result = f(**kwargs)\n",
    "        res = time.time()-t\n",
    "        times.append(res)\n",
    "        print( timedelta(seconds=res))\n",
    "        if res > 3600:\n",
    "            print(\"trop de temps\")\n",
    "            return result\n",
    "        \n",
    "    print(\"\\nall times:\", times)\n",
    "    a = min(times)\n",
    "    b = max(times)\n",
    "    print(\"times' outliers:\",a,\"&\",b)\n",
    "    t = (sum(times)-a-b)/3\n",
    "    print(\"benchmark time\",str(t)+\"s\",\"or\", timedelta(seconds=t))\n",
    "    return result"
   ]
  },
  {
   "cell_type": "code",
   "execution_count": 2,
   "id": "6cf12847-e649-479e-b2a4-58730db8a2c7",
   "metadata": {
    "tags": []
   },
   "outputs": [],
   "source": [
    "import pandas as pd\n",
    "import pymove as pm\n",
    "from pymove import MoveDataFrame\n",
    "from pymove import filters\n",
    "import pymove as pm\n",
    "from pymove.visualization import folium as f, matplotlib as mpl\n",
    "from pymove.utils import visual\n",
    "from pymove.preprocessing import stay_point_detection, compression, segmentation\n",
    "from geopy.distance import geodesic "
   ]
  },
  {
   "cell_type": "code",
   "execution_count": 3,
   "id": "8900cc31-206a-4fe8-99bc-4e40a2a57c49",
   "metadata": {
    "tags": []
   },
   "outputs": [],
   "source": [
    "SIZE = \"medium\""
   ]
  },
  {
   "cell_type": "markdown",
   "id": "f1a25e09-470a-4b6a-b046-767ac71a4c20",
   "metadata": {},
   "source": [
    "# cars trajectories"
   ]
  },
  {
   "cell_type": "code",
   "execution_count": 4,
   "id": "6b6aefcb-36e3-427e-9374-1b701788c361",
   "metadata": {
    "tags": []
   },
   "outputs": [],
   "source": [
    "PATH=\"datasets/new.csv\"\n",
    "df = pd.read_csv(PATH)\n",
    "move_df = MoveDataFrame(data=df, latitude=\"latitude\", longitude=\"longitude\", datetime=\"time\", traj_id=\"id\")"
   ]
  },
  {
   "cell_type": "code",
   "execution_count": 5,
   "id": "8ffa2fdc-45bd-4c83-b495-0b7cf710029c",
   "metadata": {
    "tags": []
   },
   "outputs": [
    {
     "data": {
      "application/vnd.jupyter.widget-view+json": {
       "model_id": "280c89e3592448e1af2b182285e6efb7",
       "version_major": 2,
       "version_minor": 0
      },
      "text/plain": [
       "VBox(children=(HTML(value=''), IntProgress(value=0, max=1)))"
      ]
     },
     "metadata": {},
     "output_type": "display_data"
    },
    {
     "data": {
      "application/vnd.jupyter.widget-view+json": {
       "model_id": "9342bbb6c3a54df9b2a3036b6998b85a",
       "version_major": 2,
       "version_minor": 0
      },
      "text/plain": [
       "VBox(children=(HTML(value=''), IntProgress(value=0, max=1)))"
      ]
     },
     "metadata": {},
     "output_type": "display_data"
    },
    {
     "data": {
      "application/vnd.jupyter.widget-view+json": {
       "model_id": "a8a4763a206e401cb32081724c35baad",
       "version_major": 2,
       "version_minor": 0
      },
      "text/plain": [
       "VBox(children=(HTML(value=''), IntProgress(value=0, max=1)))"
      ]
     },
     "metadata": {},
     "output_type": "display_data"
    },
    {
     "data": {
      "application/vnd.jupyter.widget-view+json": {
       "model_id": "ef73ae322309473cbfb03e401e4d8c39",
       "version_major": 2,
       "version_minor": 0
      },
      "text/plain": [
       "VBox(children=(HTML(value=''), IntProgress(value=0, max=1)))"
      ]
     },
     "metadata": {},
     "output_type": "display_data"
    },
    {
     "data": {
      "text/html": [
       "<div>\n",
       "<style scoped>\n",
       "    .dataframe tbody tr th:only-of-type {\n",
       "        vertical-align: middle;\n",
       "    }\n",
       "\n",
       "    .dataframe tbody tr th {\n",
       "        vertical-align: top;\n",
       "    }\n",
       "\n",
       "    .dataframe thead th {\n",
       "        text-align: right;\n",
       "    }\n",
       "</style>\n",
       "<table border=\"1\" class=\"dataframe\">\n",
       "  <thead>\n",
       "    <tr style=\"text-align: right;\">\n",
       "      <th></th>\n",
       "      <th>segment_stop</th>\n",
       "      <th>id</th>\n",
       "      <th>datetime</th>\n",
       "      <th>lat</th>\n",
       "      <th>lon</th>\n",
       "      <th>dist_to_prev</th>\n",
       "      <th>time_to_prev</th>\n",
       "      <th>speed_to_prev</th>\n",
       "      <th>stop</th>\n",
       "    </tr>\n",
       "  </thead>\n",
       "  <tbody>\n",
       "    <tr>\n",
       "      <th>0</th>\n",
       "      <td>1</td>\n",
       "      <td>0</td>\n",
       "      <td>2023-12-23 14:14:47</td>\n",
       "      <td>50.838258</td>\n",
       "      <td>4.361925</td>\n",
       "      <td>NaN</td>\n",
       "      <td>NaN</td>\n",
       "      <td>NaN</td>\n",
       "      <td>True</td>\n",
       "    </tr>\n",
       "    <tr>\n",
       "      <th>1</th>\n",
       "      <td>1</td>\n",
       "      <td>0</td>\n",
       "      <td>2023-12-23 14:15:17</td>\n",
       "      <td>50.838224</td>\n",
       "      <td>4.361931</td>\n",
       "      <td>3.804032</td>\n",
       "      <td>30.0</td>\n",
       "      <td>0.126801</td>\n",
       "      <td>True</td>\n",
       "    </tr>\n",
       "    <tr>\n",
       "      <th>2</th>\n",
       "      <td>1</td>\n",
       "      <td>0</td>\n",
       "      <td>2023-12-23 14:15:47</td>\n",
       "      <td>50.838221</td>\n",
       "      <td>4.361931</td>\n",
       "      <td>0.333585</td>\n",
       "      <td>30.0</td>\n",
       "      <td>0.011119</td>\n",
       "      <td>True</td>\n",
       "    </tr>\n",
       "    <tr>\n",
       "      <th>3</th>\n",
       "      <td>1</td>\n",
       "      <td>0</td>\n",
       "      <td>2023-12-23 14:16:17</td>\n",
       "      <td>50.838205</td>\n",
       "      <td>4.361933</td>\n",
       "      <td>1.784653</td>\n",
       "      <td>30.0</td>\n",
       "      <td>0.059488</td>\n",
       "      <td>True</td>\n",
       "    </tr>\n",
       "    <tr>\n",
       "      <th>4</th>\n",
       "      <td>1</td>\n",
       "      <td>0</td>\n",
       "      <td>2023-12-23 14:16:47</td>\n",
       "      <td>50.838192</td>\n",
       "      <td>4.361936</td>\n",
       "      <td>1.460804</td>\n",
       "      <td>30.0</td>\n",
       "      <td>0.048693</td>\n",
       "      <td>True</td>\n",
       "    </tr>\n",
       "    <tr>\n",
       "      <th>...</th>\n",
       "      <td>...</td>\n",
       "      <td>...</td>\n",
       "      <td>...</td>\n",
       "      <td>...</td>\n",
       "      <td>...</td>\n",
       "      <td>...</td>\n",
       "      <td>...</td>\n",
       "      <td>...</td>\n",
       "      <td>...</td>\n",
       "    </tr>\n",
       "    <tr>\n",
       "      <th>297</th>\n",
       "      <td>1</td>\n",
       "      <td>0</td>\n",
       "      <td>2023-12-23 16:43:17</td>\n",
       "      <td>50.836090</td>\n",
       "      <td>4.362949</td>\n",
       "      <td>0.888005</td>\n",
       "      <td>30.0</td>\n",
       "      <td>0.029600</td>\n",
       "      <td>True</td>\n",
       "    </tr>\n",
       "    <tr>\n",
       "      <th>298</th>\n",
       "      <td>1</td>\n",
       "      <td>0</td>\n",
       "      <td>2023-12-23 16:43:47</td>\n",
       "      <td>50.836086</td>\n",
       "      <td>4.362962</td>\n",
       "      <td>1.035021</td>\n",
       "      <td>30.0</td>\n",
       "      <td>0.034501</td>\n",
       "      <td>True</td>\n",
       "    </tr>\n",
       "    <tr>\n",
       "      <th>299</th>\n",
       "      <td>1</td>\n",
       "      <td>0</td>\n",
       "      <td>2023-12-23 16:44:17</td>\n",
       "      <td>50.836082</td>\n",
       "      <td>4.362975</td>\n",
       "      <td>1.035021</td>\n",
       "      <td>30.0</td>\n",
       "      <td>0.034501</td>\n",
       "      <td>True</td>\n",
       "    </tr>\n",
       "    <tr>\n",
       "      <th>300</th>\n",
       "      <td>1</td>\n",
       "      <td>0</td>\n",
       "      <td>2023-12-23 16:44:47</td>\n",
       "      <td>50.836080</td>\n",
       "      <td>4.362986</td>\n",
       "      <td>0.822374</td>\n",
       "      <td>30.0</td>\n",
       "      <td>0.027412</td>\n",
       "      <td>True</td>\n",
       "    </tr>\n",
       "    <tr>\n",
       "      <th>301</th>\n",
       "      <td>1</td>\n",
       "      <td>0</td>\n",
       "      <td>2023-12-23 16:45:17</td>\n",
       "      <td>50.836077</td>\n",
       "      <td>4.362997</td>\n",
       "      <td>0.822374</td>\n",
       "      <td>30.0</td>\n",
       "      <td>0.027412</td>\n",
       "      <td>True</td>\n",
       "    </tr>\n",
       "  </tbody>\n",
       "</table>\n",
       "<p>302 rows × 9 columns</p>\n",
       "</div>"
      ],
      "text/plain": [
       "     segment_stop  id            datetime        lat       lon  dist_to_prev  \\\n",
       "0               1   0 2023-12-23 14:14:47  50.838258  4.361925           NaN   \n",
       "1               1   0 2023-12-23 14:15:17  50.838224  4.361931      3.804032   \n",
       "2               1   0 2023-12-23 14:15:47  50.838221  4.361931      0.333585   \n",
       "3               1   0 2023-12-23 14:16:17  50.838205  4.361933      1.784653   \n",
       "4               1   0 2023-12-23 14:16:47  50.838192  4.361936      1.460804   \n",
       "..            ...  ..                 ...        ...       ...           ...   \n",
       "297             1   0 2023-12-23 16:43:17  50.836090  4.362949      0.888005   \n",
       "298             1   0 2023-12-23 16:43:47  50.836086  4.362962      1.035021   \n",
       "299             1   0 2023-12-23 16:44:17  50.836082  4.362975      1.035021   \n",
       "300             1   0 2023-12-23 16:44:47  50.836080  4.362986      0.822374   \n",
       "301             1   0 2023-12-23 16:45:17  50.836077  4.362997      0.822374   \n",
       "\n",
       "     time_to_prev  speed_to_prev  stop  \n",
       "0             NaN            NaN  True  \n",
       "1            30.0       0.126801  True  \n",
       "2            30.0       0.011119  True  \n",
       "3            30.0       0.059488  True  \n",
       "4            30.0       0.048693  True  \n",
       "..            ...            ...   ...  \n",
       "297          30.0       0.029600  True  \n",
       "298          30.0       0.034501  True  \n",
       "299          30.0       0.034501  True  \n",
       "300          30.0       0.027412  True  \n",
       "301          30.0       0.027412  True  \n",
       "\n",
       "[302 rows x 9 columns]"
      ]
     },
     "execution_count": 5,
     "metadata": {},
     "output_type": "execute_result"
    }
   ],
   "source": [
    "stops = stay_point_detection.create_or_update_move_stop_by_dist_time(move_data=move_df,dist_radius=20,time_radius=15*60)\n",
    "stops"
   ]
  },
  {
   "cell_type": "code",
   "execution_count": 6,
   "id": "321ae91b",
   "metadata": {
    "tags": []
   },
   "outputs": [
    {
     "data": {
      "text/plain": [
       "302"
      ]
     },
     "execution_count": 6,
     "metadata": {},
     "output_type": "execute_result"
    }
   ],
   "source": [
    "len(stops[stops[\"stop\"] == True])"
   ]
  },
  {
   "cell_type": "code",
   "execution_count": 7,
   "id": "d46ef256-8813-41c7-a38d-7b25d17aa455",
   "metadata": {
    "tags": []
   },
   "outputs": [
    {
     "data": {
      "text/plain": [
       "1"
      ]
     },
     "execution_count": 7,
     "metadata": {},
     "output_type": "execute_result"
    }
   ],
   "source": [
    "len(stops[stops[\"stop\"] == True]['segment_stop'].unique())"
   ]
  },
  {
   "cell_type": "markdown",
   "id": "68055187",
   "metadata": {},
   "source": [
    "# Accuracy"
   ]
  },
  {
   "cell_type": "code",
   "execution_count": null,
   "id": "bd034e4c-ce39-4b25-8291-64774cd44d00",
   "metadata": {},
   "outputs": [],
   "source": [
    "HM = (50.83749695938153, 4.361910678357021)\n",
    "ICI_PARIS = (50.83639483000942, 4.36310730085289)\n",
    "PRIMARK = (50.83609678331181, 4.362912067372084)\n",
    "\n",
    "hm = (stops[\"lat\"].values[0], stops[\"lng\"].values[0])\n",
    "ici_paris = ((stops[\"lat\"].values[1], stops[\"lng\"].values[1]))\n",
    "primark = ((stops[\"lat\"].values[2], stops[\"lng\"].values[2]))\n",
    "print(hm, ici_paris, primark)\n",
    "\n",
    "def dist(coord1, coord2):\n",
    "    return geodesic(coord1, coord2).m\n",
    "\n",
    "dist(hm, HM), dist(ici_paris, ICI_PARIS), dist(primark, PRIMARK)"
   ]
  }
 ],
 "metadata": {
  "kernelspec": {
   "display_name": "Python 3 (ipykernel)",
   "language": "python",
   "name": "python3"
  },
  "language_info": {
   "codemirror_mode": {
    "name": "ipython",
    "version": 3
   },
   "file_extension": ".py",
   "mimetype": "text/x-python",
   "name": "python",
   "nbconvert_exporter": "python",
   "pygments_lexer": "ipython3",
   "version": "3.7.16"
  }
 },
 "nbformat": 4,
 "nbformat_minor": 5
}

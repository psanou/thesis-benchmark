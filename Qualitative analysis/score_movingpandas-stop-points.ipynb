{
 "cells": [
  {
   "cell_type": "markdown",
   "id": "7fcc125d-ed88-4fb0-93f5-0f3e590edc4d",
   "metadata": {},
   "source": [
    "# Study of a more simple trajectory\n",
    "We will study a collection of 3 trajectories in order to compare the visualisation of each library"
   ]
  },
  {
   "cell_type": "code",
   "execution_count": 32,
   "id": "bbee8683-9870-41da-8093-db20bec59e3c",
   "metadata": {},
   "outputs": [],
   "source": [
    "\"\"\"\n",
    "Function to compute the execution time.\n",
    "\"\"\"\n",
    "from datetime import timedelta\n",
    "import time\n",
    "def get_time(f, kwargs={}):\n",
    "    times = []\n",
    "    result = None\n",
    "    for i in range(1):\n",
    "        print(\"\\nmeasure\",i+1)\n",
    "        t = time.time()\n",
    "        result = f(**kwargs)\n",
    "        res = time.time()-t\n",
    "        times.append(res)\n",
    "        print( timedelta(seconds=res))\n",
    "        if res > 3600*2:\n",
    "            print(\"trop de temps\")\n",
    "            return result\n",
    "        \n",
    "    print(\"\\nall times:\", times)\n",
    "    a = min(times)\n",
    "    b = max(times)\n",
    "    print(\"times' outliers:\",a,\"&\",b)\n",
    "    t = (sum(times)-a-b)/3\n",
    "    print(\"benchmark time\",str(t)+\"s\",\"or\", timedelta(seconds=t))\n",
    "    return result"
   ]
  },
  {
   "cell_type": "code",
   "execution_count": 33,
   "id": "efff0ea2-6100-44ee-89f8-cf36e98c6b9f",
   "metadata": {},
   "outputs": [],
   "source": [
    "import numpy as np\n",
    "import pandas as pd\n",
    "from geopandas import GeoDataFrame, read_file\n",
    "from shapely.geometry import Point, LineString, Polygon\n",
    "from datetime import datetime, timedelta\n",
    "import matplotlib.pyplot as plt\n",
    "import movingpandas as mpd\n",
    "#from holoviews import opts, dim\n",
    "import hvplot\n",
    "import warnings\n",
    "warnings.simplefilter(\"ignore\")\n",
    "from geopy.distance import geodesic "
   ]
  },
  {
   "cell_type": "code",
   "execution_count": 34,
   "id": "7924b182-280c-4ceb-8d20-62f45a4b87f6",
   "metadata": {},
   "outputs": [],
   "source": [
    "SIZE = \"large\""
   ]
  },
  {
   "cell_type": "markdown",
   "id": "e07ebd06-5a05-4124-a923-dad9d4e750d8",
   "metadata": {},
   "source": [
    "# cars trajectories"
   ]
  },
  {
   "cell_type": "code",
   "execution_count": 135,
   "id": "139b329d-58b0-4368-98fb-685b089f6bee",
   "metadata": {},
   "outputs": [],
   "source": [
    "PATH='datasets/walking_journey (copy).csv'\n",
    "#PATH=\"datasets/new(1).csv\"\n",
    "df = pd.read_csv(PATH)\n",
    "df[\"time\"] = pd.to_datetime(df[\"time\"],format=\"mixed\")\n",
    "traj = mpd.TrajectoryCollection(data=df, traj_id_col='id', t='time', x='longitude', y='latitude')"
   ]
  },
  {
   "cell_type": "code",
   "execution_count": 136,
   "id": "69ac98c5-2492-4df7-b151-84566c920d93",
   "metadata": {},
   "outputs": [
    {
     "data": {
      "text/html": [
       "<div>\n",
       "<style scoped>\n",
       "    .dataframe tbody tr th:only-of-type {\n",
       "        vertical-align: middle;\n",
       "    }\n",
       "\n",
       "    .dataframe tbody tr th {\n",
       "        vertical-align: top;\n",
       "    }\n",
       "\n",
       "    .dataframe thead th {\n",
       "        text-align: right;\n",
       "    }\n",
       "</style>\n",
       "<table border=\"1\" class=\"dataframe\">\n",
       "  <thead>\n",
       "    <tr style=\"text-align: right;\">\n",
       "      <th></th>\n",
       "      <th>geometry</th>\n",
       "      <th>start_time</th>\n",
       "      <th>end_time</th>\n",
       "      <th>traj_id</th>\n",
       "      <th>duration_s</th>\n",
       "    </tr>\n",
       "    <tr>\n",
       "      <th>stop_id</th>\n",
       "      <th></th>\n",
       "      <th></th>\n",
       "      <th></th>\n",
       "      <th></th>\n",
       "      <th></th>\n",
       "    </tr>\n",
       "  </thead>\n",
       "  <tbody>\n",
       "    <tr>\n",
       "      <th>0_2023-12-23 14:28:55</th>\n",
       "      <td>POINT (4.36304 50.83640)</td>\n",
       "      <td>2023-12-23 14:28:55</td>\n",
       "      <td>2023-12-23 14:39:35</td>\n",
       "      <td>0</td>\n",
       "      <td>640.0</td>\n",
       "    </tr>\n",
       "    <tr>\n",
       "      <th>0_2023-12-23 14:47:19</th>\n",
       "      <td>POINT (4.36168 50.83742)</td>\n",
       "      <td>2023-12-23 14:47:19</td>\n",
       "      <td>2023-12-23 14:57:27</td>\n",
       "      <td>0</td>\n",
       "      <td>608.0</td>\n",
       "    </tr>\n",
       "    <tr>\n",
       "      <th>0_2023-12-23 15:00:55</th>\n",
       "      <td>POINT (4.36255 50.83593)</td>\n",
       "      <td>2023-12-23 15:00:55</td>\n",
       "      <td>2023-12-23 15:31:03</td>\n",
       "      <td>0</td>\n",
       "      <td>1808.0</td>\n",
       "    </tr>\n",
       "  </tbody>\n",
       "</table>\n",
       "</div>"
      ],
      "text/plain": [
       "                                       geometry          start_time  \\\n",
       "stop_id                                                               \n",
       "0_2023-12-23 14:28:55  POINT (4.36304 50.83640) 2023-12-23 14:28:55   \n",
       "0_2023-12-23 14:47:19  POINT (4.36168 50.83742) 2023-12-23 14:47:19   \n",
       "0_2023-12-23 15:00:55  POINT (4.36255 50.83593) 2023-12-23 15:00:55   \n",
       "\n",
       "                                 end_time  traj_id  duration_s  \n",
       "stop_id                                                         \n",
       "0_2023-12-23 14:28:55 2023-12-23 14:39:35        0       640.0  \n",
       "0_2023-12-23 14:47:19 2023-12-23 14:57:27        0       608.0  \n",
       "0_2023-12-23 15:00:55 2023-12-23 15:31:03        0      1808.0  "
      ]
     },
     "execution_count": 136,
     "metadata": {},
     "output_type": "execute_result"
    }
   ],
   "source": [
    "stop_points = mpd.TrajectoryStopDetector(traj).get_stop_points(min_duration=timedelta(minutes=10), max_diameter=40)\n",
    "stop_points"
   ]
  },
  {
   "cell_type": "code",
   "execution_count": 137,
   "id": "bdc70ac9",
   "metadata": {},
   "outputs": [
    {
     "name": "stdout",
     "output_type": "stream",
     "text": [
      "nombre de points d'arret 3\n"
     ]
    }
   ],
   "source": [
    "print(\"nombre de points d'arret\",len(stop_points))"
   ]
  },
  {
   "cell_type": "code",
   "execution_count": 138,
   "id": "67d97970-9f08-49bb-b7e8-1a956126002c",
   "metadata": {},
   "outputs": [
    {
     "data": {
      "text/html": [
       "<div>\n",
       "<style scoped>\n",
       "    .dataframe tbody tr th:only-of-type {\n",
       "        vertical-align: middle;\n",
       "    }\n",
       "\n",
       "    .dataframe tbody tr th {\n",
       "        vertical-align: top;\n",
       "    }\n",
       "\n",
       "    .dataframe thead th {\n",
       "        text-align: right;\n",
       "    }\n",
       "</style>\n",
       "<table border=\"1\" class=\"dataframe\">\n",
       "  <thead>\n",
       "    <tr style=\"text-align: right;\">\n",
       "      <th></th>\n",
       "      <th>id</th>\n",
       "      <th>geometry</th>\n",
       "    </tr>\n",
       "    <tr>\n",
       "      <th>time</th>\n",
       "      <th></th>\n",
       "      <th></th>\n",
       "    </tr>\n",
       "  </thead>\n",
       "  <tbody>\n",
       "    <tr>\n",
       "      <th>2023-12-23 14:14:47</th>\n",
       "      <td>0</td>\n",
       "      <td>POINT (4.36190 50.83815)</td>\n",
       "    </tr>\n",
       "    <tr>\n",
       "      <th>2023-12-23 14:15:03</th>\n",
       "      <td>0</td>\n",
       "      <td>POINT (4.36197 50.83809)</td>\n",
       "    </tr>\n",
       "    <tr>\n",
       "      <th>2023-12-23 14:15:19</th>\n",
       "      <td>0</td>\n",
       "      <td>POINT (4.36201 50.83806)</td>\n",
       "    </tr>\n",
       "    <tr>\n",
       "      <th>2023-12-23 14:15:35</th>\n",
       "      <td>0</td>\n",
       "      <td>POINT (4.36202 50.83803)</td>\n",
       "    </tr>\n",
       "    <tr>\n",
       "      <th>2023-12-23 14:15:51</th>\n",
       "      <td>0</td>\n",
       "      <td>POINT (4.36201 50.83801)</td>\n",
       "    </tr>\n",
       "    <tr>\n",
       "      <th>...</th>\n",
       "      <td>...</td>\n",
       "      <td>...</td>\n",
       "    </tr>\n",
       "    <tr>\n",
       "      <th>2023-12-23 15:43:19</th>\n",
       "      <td>0</td>\n",
       "      <td>POINT (4.36390 50.83512)</td>\n",
       "    </tr>\n",
       "    <tr>\n",
       "      <th>2023-12-23 15:43:35</th>\n",
       "      <td>0</td>\n",
       "      <td>POINT (4.36394 50.83512)</td>\n",
       "    </tr>\n",
       "    <tr>\n",
       "      <th>2023-12-23 15:43:51</th>\n",
       "      <td>0</td>\n",
       "      <td>POINT (4.36394 50.83514)</td>\n",
       "    </tr>\n",
       "    <tr>\n",
       "      <th>2023-12-23 15:44:07</th>\n",
       "      <td>0</td>\n",
       "      <td>POINT (4.36397 50.83519)</td>\n",
       "    </tr>\n",
       "    <tr>\n",
       "      <th>2023-12-23 15:44:23</th>\n",
       "      <td>0</td>\n",
       "      <td>POINT (4.36388 50.83518)</td>\n",
       "    </tr>\n",
       "  </tbody>\n",
       "</table>\n",
       "<p>337 rows × 2 columns</p>\n",
       "</div>"
      ],
      "text/plain": [
       "                     id                  geometry\n",
       "time                                             \n",
       "2023-12-23 14:14:47   0  POINT (4.36190 50.83815)\n",
       "2023-12-23 14:15:03   0  POINT (4.36197 50.83809)\n",
       "2023-12-23 14:15:19   0  POINT (4.36201 50.83806)\n",
       "2023-12-23 14:15:35   0  POINT (4.36202 50.83803)\n",
       "2023-12-23 14:15:51   0  POINT (4.36201 50.83801)\n",
       "...                  ..                       ...\n",
       "2023-12-23 15:43:19   0  POINT (4.36390 50.83512)\n",
       "2023-12-23 15:43:35   0  POINT (4.36394 50.83512)\n",
       "2023-12-23 15:43:51   0  POINT (4.36394 50.83514)\n",
       "2023-12-23 15:44:07   0  POINT (4.36397 50.83519)\n",
       "2023-12-23 15:44:23   0  POINT (4.36388 50.83518)\n",
       "\n",
       "[337 rows x 2 columns]"
      ]
     },
     "execution_count": 138,
     "metadata": {},
     "output_type": "execute_result"
    }
   ],
   "source": [
    "traj.trajectories[0].to_point_gdf()"
   ]
  },
  {
   "cell_type": "markdown",
   "id": "f11cf3fc",
   "metadata": {},
   "source": [
    "# Accuracy"
   ]
  },
  {
   "cell_type": "code",
   "execution_count": 139,
   "id": "d1eb2a10-7a48-404f-8d0a-9001c3e3f1fc",
   "metadata": {},
   "outputs": [
    {
     "name": "stdout",
     "output_type": "stream",
     "text": [
      "(50.83639700626393, 4.363043524166537) (50.83742489870556, 4.3616806) (50.835932858861504, 4.3625484)\n"
     ]
    },
    {
     "data": {
      "text/plain": [
       "(146.08677385878482, 152.41886300569195, 31.446004198856667)"
      ]
     },
     "execution_count": 139,
     "metadata": {},
     "output_type": "execute_result"
    }
   ],
   "source": [
    "HM = (50.83749695938153, 4.361910678357021)\n",
    "ICI_PARIS = (50.83639483000942, 4.36310730085289)\n",
    "PRIMARK = (50.83609678331181, 4.362912067372084)\n",
    "\n",
    "hm = stop_points[\"geometry\"].values[0]\n",
    "hm = (hm.y, hm.x)\n",
    "ici_paris = stop_points[\"geometry\"].values[1]\n",
    "ici_paris = (ici_paris.y, ici_paris.x)\n",
    "primark = stop_points[\"geometry\"].values[2]\n",
    "primark = (primark.y, primark.x)\n",
    "print(hm, ici_paris, primark)\n",
    "\n",
    "def dist(coord1, coord2):\n",
    "    return geodesic(coord1, coord2).m\n",
    "\n",
    "dist(hm, HM), dist(ici_paris, ICI_PARIS), dist(primark, PRIMARK)"
   ]
  },
  {
   "cell_type": "code",
   "execution_count": null,
   "id": "aad8c1fb-d269-440a-9e5c-74e92c02e5ee",
   "metadata": {},
   "outputs": [],
   "source": []
  },
  {
   "cell_type": "code",
   "execution_count": 140,
   "id": "51d09730-c33c-4a19-9fab-bf694533f9d6",
   "metadata": {},
   "outputs": [],
   "source": [
    "from shapely.geometry import Polygon\n",
    "import matplotlib.pyplot as plt\n",
    "import geopandas as gpd\n",
    "\n",
    "hm_points = [(4.361751392226751,50.837557454216),\n",
    "(4.361680197932412,50.83758512529476),\n",
    "(4.361615507694445,50.83749602253124),\n",
    "(4.361348909126123,50.83758455842273),\n",
    "(4.361286136778264,50.83746780017795),\n",
    "(4.361574839843958,50.83725473799701),\n",
    "(4.36203388271873,50.8374328390111),\n",
    "(4.361942032549679,50.8375707149803),\n",
    "(4.361751392226751,50.837557454216)]\n",
    "\n",
    "primark_points = [(4.362896766180572,50.83617392790824),\n",
    "(4.362470536721625,50.83596462800733),\n",
    "(4.362415641019282,50.83600564607535),\n",
    "(4.361831949209036,50.83568922774191),\n",
    "(4.36214474170608,50.83547792998715),\n",
    "(4.362863512141311,50.83587392823398),\n",
    "(4.3628074875803,50.83591228182476),\n",
    "(4.363039276765206,50.83603882377207),\n",
    "(4.362896766180572,50.83617392790824),\n",
    "]\n",
    "\n",
    "ici_paris_points = [(4.362977955590129,50.83630268153196),\n",
    "(4.363328861404733,50.83639980218501),\n",
    "(4.363276140239741,50.8364930460425),\n",
    "(4.362918451023474,50.83639022943366),\n",
    "(4.362977955590129,50.83630268153196)]\n",
    "\n",
    "hm_polygon = Polygon(hm_points)\n",
    "primark_polygon = Polygon(primark_points)\n",
    "ici_paris_polygon = Polygon(ici_paris_points)\n",
    "d = {'geometry': [hm_polygon,primark_polygon,ici_paris_polygon]}\n",
    "gdf = GeoDataFrame(d, crs=\"EPSG:31370\")\n",
    "places = gdf.hvplot(geo=True, color=\"rgba(245, 40, 145, 0.3)\")"
   ]
  },
  {
   "cell_type": "code",
   "execution_count": 141,
   "id": "aabecfd4-5545-4174-871f-3722fa12ee44",
   "metadata": {},
   "outputs": [
    {
     "data": {},
     "metadata": {},
     "output_type": "display_data"
    },
    {
     "data": {
      "application/vnd.holoviews_exec.v0+json": "",
      "text/html": [
       "<div id='7300'>\n",
       "  <div class=\"bk-root\" id=\"05b5af32-b0ba-44e8-a128-32e401ab4ebb\" data-root-id=\"7300\"></div>\n",
       "</div>\n",
       "<script type=\"application/javascript\">(function(root) {\n",
       "  function embed_document(root) {\n",
       "    var docs_json = {\"ba984be9-6e42-451a-819e-e4496cacc3fb\":{\"defs\":[{\"extends\":null,\"module\":null,\"name\":\"ReactiveHTML1\",\"overrides\":[],\"properties\":[]},{\"extends\":null,\"module\":null,\"name\":\"FlexBox1\",\"overrides\":[],\"properties\":[{\"default\":\"flex-start\",\"kind\":null,\"name\":\"align_content\"},{\"default\":\"flex-start\",\"kind\":null,\"name\":\"align_items\"},{\"default\":\"row\",\"kind\":null,\"name\":\"flex_direction\"},{\"default\":\"wrap\",\"kind\":null,\"name\":\"flex_wrap\"},{\"default\":\"flex-start\",\"kind\":null,\"name\":\"justify_content\"}]},{\"extends\":null,\"module\":null,\"name\":\"GridStack1\",\"overrides\":[],\"properties\":[{\"default\":\"warn\",\"kind\":null,\"name\":\"mode\"},{\"default\":null,\"kind\":null,\"name\":\"ncols\"},{\"default\":null,\"kind\":null,\"name\":\"nrows\"},{\"default\":true,\"kind\":null,\"name\":\"allow_resize\"},{\"default\":true,\"kind\":null,\"name\":\"allow_drag\"},{\"default\":[],\"kind\":null,\"name\":\"state\"}]},{\"extends\":null,\"module\":null,\"name\":\"click1\",\"overrides\":[],\"properties\":[{\"default\":\"\",\"kind\":null,\"name\":\"terminal_output\"},{\"default\":\"\",\"kind\":null,\"name\":\"debug_name\"},{\"default\":0,\"kind\":null,\"name\":\"clears\"}]},{\"extends\":null,\"module\":null,\"name\":\"NotificationAreaBase1\",\"overrides\":[],\"properties\":[{\"default\":\"bottom-right\",\"kind\":null,\"name\":\"position\"},{\"default\":0,\"kind\":null,\"name\":\"_clear\"}]},{\"extends\":null,\"module\":null,\"name\":\"NotificationArea1\",\"overrides\":[],\"properties\":[{\"default\":[],\"kind\":null,\"name\":\"notifications\"},{\"default\":\"bottom-right\",\"kind\":null,\"name\":\"position\"},{\"default\":0,\"kind\":null,\"name\":\"_clear\"},{\"default\":[{\"background\":\"#ffc107\",\"icon\":{\"className\":\"fas fa-exclamation-triangle\",\"color\":\"white\",\"tagName\":\"i\"},\"type\":\"warning\"},{\"background\":\"#007bff\",\"icon\":{\"className\":\"fas fa-info-circle\",\"color\":\"white\",\"tagName\":\"i\"},\"type\":\"info\"}],\"kind\":null,\"name\":\"types\"}]},{\"extends\":null,\"module\":null,\"name\":\"Notification\",\"overrides\":[],\"properties\":[{\"default\":null,\"kind\":null,\"name\":\"background\"},{\"default\":3000,\"kind\":null,\"name\":\"duration\"},{\"default\":null,\"kind\":null,\"name\":\"icon\"},{\"default\":\"\",\"kind\":null,\"name\":\"message\"},{\"default\":null,\"kind\":null,\"name\":\"notification_type\"},{\"default\":false,\"kind\":null,\"name\":\"_destroyed\"}]},{\"extends\":null,\"module\":null,\"name\":\"TemplateActions1\",\"overrides\":[],\"properties\":[{\"default\":0,\"kind\":null,\"name\":\"open_modal\"},{\"default\":0,\"kind\":null,\"name\":\"close_modal\"}]},{\"extends\":null,\"module\":null,\"name\":\"MaterialTemplateActions1\",\"overrides\":[],\"properties\":[{\"default\":0,\"kind\":null,\"name\":\"open_modal\"},{\"default\":0,\"kind\":null,\"name\":\"close_modal\"}]}],\"roots\":{\"references\":[{\"attributes\":{\"angle\":{\"value\":-4.554806454321435},\"fill_alpha\":{\"value\":0.2},\"fill_color\":{\"value\":\"#1f77b4\"},\"hatch_alpha\":{\"value\":0.2},\"hatch_color\":{\"value\":\"#1f77b4\"},\"line_alpha\":{\"value\":0.2},\"line_color\":{\"value\":\"#1f77b4\"},\"marker\":{\"value\":\"triangle\"},\"size\":{\"value\":14.142135623730951},\"tags\":[\"apply_ranges\"],\"x\":{\"field\":\"Longitude\"},\"y\":{\"field\":\"Latitude\"}},\"id\":\"7404\",\"type\":\"Scatter\"},{\"attributes\":{\"match_aspect\":true,\"overlay\":{\"id\":\"7349\"}},\"id\":\"7347\",\"type\":\"BoxZoomTool\"},{\"attributes\":{},\"id\":\"7348\",\"type\":\"ResetTool\"},{\"attributes\":{\"fill_alpha\":{\"value\":0.1},\"fill_color\":{\"value\":\"deeppink\"},\"hatch_alpha\":{\"value\":0.1},\"hatch_color\":{\"value\":\"deeppink\"},\"line_alpha\":{\"value\":0.1},\"line_color\":{\"value\":\"deeppink\"},\"size\":{\"field\":\"size\"},\"tags\":[\"apply_ranges\"],\"x\":{\"field\":\"Longitude\"},\"y\":{\"field\":\"Latitude\"}},\"id\":\"7423\",\"type\":\"Scatter\"},{\"attributes\":{\"code\":\"\\n        var projections = Bokeh.require(\\\"core/util/projections\\\");\\n        var x = special_vars.data_x\\n        var y = special_vars.data_y\\n        var coords = projections.wgs84_mercator.invert(x, y)\\n        return \\\"\\\" + (coords[1]).toFixed(4)\\n    \"},\"id\":\"7428\",\"type\":\"CustomJSHover\"},{\"attributes\":{\"coordinates\":null,\"data_source\":{\"id\":\"7399\"},\"glyph\":{\"id\":\"7402\"},\"group\":null,\"hover_glyph\":null,\"muted_glyph\":{\"id\":\"7404\"},\"nonselection_glyph\":{\"id\":\"7403\"},\"selection_glyph\":{\"id\":\"7409\"},\"view\":{\"id\":\"7406\"}},\"id\":\"7405\",\"type\":\"GlyphRenderer\"},{\"attributes\":{\"axis_label\":\"x\",\"coordinates\":null,\"formatter\":{\"id\":\"7360\"},\"group\":null,\"major_label_policy\":{\"id\":\"7365\"},\"ticker\":{\"id\":\"7359\"}},\"id\":\"7336\",\"type\":\"LinearAxis\"},{\"attributes\":{\"bottom_units\":\"screen\",\"coordinates\":null,\"fill_alpha\":0.5,\"fill_color\":\"lightgrey\",\"group\":null,\"left_units\":\"screen\",\"level\":\"overlay\",\"line_alpha\":1.0,\"line_color\":\"black\",\"line_dash\":[4,4],\"line_width\":2,\"right_units\":\"screen\",\"syncable\":false,\"top_units\":\"screen\"},\"id\":\"7349\",\"type\":\"BoxAnnotation\"},{\"attributes\":{\"data\":{\"xs\":[{\"__ndarray__\":\"Hpfv/vOiHUGoCcZQEKMdQQ==\",\"dtype\":\"float64\",\"order\":\"little\",\"shape\":[2]},{\"__ndarray__\":\"qAnGUBCjHUHK613MJKMdQQ==\",\"dtype\":\"float64\",\"order\":\"little\",\"shape\":[2]},{\"__ndarray__\":\"yutdzCSjHUG2VX5+KKMdQQ==\",\"dtype\":\"float64\",\"order\":\"little\",\"shape\":[2]},{\"__ndarray__\":\"tlV+fiijHUHL2gkxIaMdQQ==\",\"dtype\":\"float64\",\"order\":\"little\",\"shape\":[2]},{\"__ndarray__\":\"y9oJMSGjHUHFAvpOJKMdQQ==\",\"dtype\":\"float64\",\"order\":\"little\",\"shape\":[2]},{\"__ndarray__\":\"xQL6TiSjHUFazadoKqMdQQ==\",\"dtype\":\"float64\",\"order\":\"little\",\"shape\":[2]},{\"__ndarray__\":\"Ws2naCqjHUECMdnDKqMdQQ==\",\"dtype\":\"float64\",\"order\":\"little\",\"shape\":[2]},{\"__ndarray__\":\"AjHZwyqjHUF7WpvbLKMdQQ==\",\"dtype\":\"float64\",\"order\":\"little\",\"shape\":[2]},{\"__ndarray__\":\"e1qb2yyjHUFc70+fMaMdQQ==\",\"dtype\":\"float64\",\"order\":\"little\",\"shape\":[2]},{\"__ndarray__\":\"XO9PnzGjHUH9i8WzOKMdQQ==\",\"dtype\":\"float64\",\"order\":\"little\",\"shape\":[2]},{\"__ndarray__\":\"/YvFszijHUEMgDXlQKMdQQ==\",\"dtype\":\"float64\",\"order\":\"little\",\"shape\":[2]},{\"__ndarray__\":\"DIA15UCjHUG19LrbRKMdQQ==\",\"dtype\":\"float64\",\"order\":\"little\",\"shape\":[2]},{\"__ndarray__\":\"tfS620SjHUFoKrQxRqMdQQ==\",\"dtype\":\"float64\",\"order\":\"little\",\"shape\":[2]},{\"__ndarray__\":\"aCq0MUajHUERaZliQaMdQQ==\",\"dtype\":\"float64\",\"order\":\"little\",\"shape\":[2]},{\"__ndarray__\":\"EWmZYkGjHUEBeM0kN6MdQQ==\",\"dtype\":\"float64\",\"order\":\"little\",\"shape\":[2]},{\"__ndarray__\":\"AXjNJDejHUEZ+rTjMaMdQQ==\",\"dtype\":\"float64\",\"order\":\"little\",\"shape\":[2]},{\"__ndarray__\":\"Gfq04zGjHUEBDzGNI6MdQQ==\",\"dtype\":\"float64\",\"order\":\"little\",\"shape\":[2]},{\"__ndarray__\":\"AQ8xjSOjHUFjbxeFHqMdQQ==\",\"dtype\":\"float64\",\"order\":\"little\",\"shape\":[2]},{\"__ndarray__\":\"Y28XhR6jHUEYKHy0CqMdQQ==\",\"dtype\":\"float64\",\"order\":\"little\",\"shape\":[2]},{\"__ndarray__\":\"GCh8tAqjHUGx74XaEqMdQQ==\",\"dtype\":\"float64\",\"order\":\"little\",\"shape\":[2]},{\"__ndarray__\":\"se+F2hKjHUFxLefwHaMdQQ==\",\"dtype\":\"float64\",\"order\":\"little\",\"shape\":[2]},{\"__ndarray__\":\"cS3n8B2jHUH6bMFwL6MdQQ==\",\"dtype\":\"float64\",\"order\":\"little\",\"shape\":[2]},{\"__ndarray__\":\"+mzBcC+jHUF+nutIO6MdQQ==\",\"dtype\":\"float64\",\"order\":\"little\",\"shape\":[2]},{\"__ndarray__\":\"fp7rSDujHUFSciytQqMdQQ==\",\"dtype\":\"float64\",\"order\":\"little\",\"shape\":[2]},{\"__ndarray__\":\"UnIsrUKjHUHIwDrvSaMdQQ==\",\"dtype\":\"float64\",\"order\":\"little\",\"shape\":[2]},{\"__ndarray__\":\"yMA670mjHUGZlx9HT6MdQQ==\",\"dtype\":\"float64\",\"order\":\"little\",\"shape\":[2]},{\"__ndarray__\":\"mZcfR0+jHUH5LaYEU6MdQQ==\",\"dtype\":\"float64\",\"order\":\"little\",\"shape\":[2]},{\"__ndarray__\":\"+S2mBFOjHUF3USA1WaMdQQ==\",\"dtype\":\"float64\",\"order\":\"little\",\"shape\":[2]},{\"__ndarray__\":\"d1EgNVmjHUExlckyYKMdQQ==\",\"dtype\":\"float64\",\"order\":\"little\",\"shape\":[2]},{\"__ndarray__\":\"MZXJMmCjHUFKSq3DZaMdQQ==\",\"dtype\":\"float64\",\"order\":\"little\",\"shape\":[2]},{\"__ndarray__\":\"Skqtw2WjHUE5wn0db6MdQQ==\",\"dtype\":\"float64\",\"order\":\"little\",\"shape\":[2]},{\"__ndarray__\":\"OcJ9HW+jHUHJxW/we6MdQQ==\",\"dtype\":\"float64\",\"order\":\"little\",\"shape\":[2]},{\"__ndarray__\":\"ycVv8HujHUFAJdLNhqMdQQ==\",\"dtype\":\"float64\",\"order\":\"little\",\"shape\":[2]},{\"__ndarray__\":\"QCXSzYajHUFZ7q3tjaMdQQ==\",\"dtype\":\"float64\",\"order\":\"little\",\"shape\":[2]},{\"__ndarray__\":\"We6t7Y2jHUGVLeH9l6MdQQ==\",\"dtype\":\"float64\",\"order\":\"little\",\"shape\":[2]},{\"__ndarray__\":\"lS3h/ZejHUHqE0j3oaMdQQ==\",\"dtype\":\"float64\",\"order\":\"little\",\"shape\":[2]},{\"__ndarray__\":\"6hNI96GjHUFK3cqGsKMdQQ==\",\"dtype\":\"float64\",\"order\":\"little\",\"shape\":[2]},{\"__ndarray__\":\"St3KhrCjHUGst6GxwqMdQQ==\",\"dtype\":\"float64\",\"order\":\"little\",\"shape\":[2]},{\"__ndarray__\":\"rLehscKjHUEhPFC50qMdQQ==\",\"dtype\":\"float64\",\"order\":\"little\",\"shape\":[2]},{\"__ndarray__\":\"ITxQudKjHUGwUzob4aMdQQ==\",\"dtype\":\"float64\",\"order\":\"little\",\"shape\":[2]},{\"__ndarray__\":\"sFM6G+GjHUEkx5SH7aMdQQ==\",\"dtype\":\"float64\",\"order\":\"little\",\"shape\":[2]},{\"__ndarray__\":\"JMeUh+2jHUFdCWyL9aMdQQ==\",\"dtype\":\"float64\",\"order\":\"little\",\"shape\":[2]},{\"__ndarray__\":\"XQlsi/WjHUEhRCmuAqQdQQ==\",\"dtype\":\"float64\",\"order\":\"little\",\"shape\":[2]},{\"__ndarray__\":\"IUQprgKkHUHne0LdEaQdQQ==\",\"dtype\":\"float64\",\"order\":\"little\",\"shape\":[2]},{\"__ndarray__\":\"53tC3RGkHUG7YNfcHKQdQQ==\",\"dtype\":\"float64\",\"order\":\"little\",\"shape\":[2]},{\"__ndarray__\":\"u2DX3BykHUEn7nG/JqQdQQ==\",\"dtype\":\"float64\",\"order\":\"little\",\"shape\":[2]},{\"__ndarray__\":\"J+5xvyakHUFeREFSMKQdQQ==\",\"dtype\":\"float64\",\"order\":\"little\",\"shape\":[2]},{\"__ndarray__\":\"XkRBUjCkHUFoTKkSOqQdQQ==\",\"dtype\":\"float64\",\"order\":\"little\",\"shape\":[2]},{\"__ndarray__\":\"aEypEjqkHUEqdhKaQ6QdQQ==\",\"dtype\":\"float64\",\"order\":\"little\",\"shape\":[2]},{\"__ndarray__\":\"KnYSmkOkHUHPI9xJTqQdQQ==\",\"dtype\":\"float64\",\"order\":\"little\",\"shape\":[2]},{\"__ndarray__\":\"zyPcSU6kHUE7nX6dVqQdQQ==\",\"dtype\":\"float64\",\"order\":\"little\",\"shape\":[2]},{\"__ndarray__\":\"O51+nVakHUFaT746XqQdQQ==\",\"dtype\":\"float64\",\"order\":\"little\",\"shape\":[2]},{\"__ndarray__\":\"Wk++Ol6kHUEqN/ctZ6QdQQ==\",\"dtype\":\"float64\",\"order\":\"little\",\"shape\":[2]},{\"__ndarray__\":\"Kjf3LWekHUFvQd89f6QdQQ==\",\"dtype\":\"float64\",\"order\":\"little\",\"shape\":[2]},{\"__ndarray__\":\"b0HfPX+kHUGzS8dNl6QdQQ==\",\"dtype\":\"float64\",\"order\":\"little\",\"shape\":[2]},{\"__ndarray__\":\"s0vHTZekHUFBEatG16QdQQ==\",\"dtype\":\"float64\",\"order\":\"little\",\"shape\":[2]},{\"__ndarray__\":\"QRGrRtekHUHT1o4/F6UdQQ==\",\"dtype\":\"float64\",\"order\":\"little\",\"shape\":[2]},{\"__ndarray__\":\"09aOPxelHUF0E8IOB6UdQQ==\",\"dtype\":\"float64\",\"order\":\"little\",\"shape\":[2]},{\"__ndarray__\":\"dBPCDgelHUEVUPXd9qQdQQ==\",\"dtype\":\"float64\",\"order\":\"little\",\"shape\":[2]},{\"__ndarray__\":\"FVD13fakHUEzf9Ch4KQdQQ==\",\"dtype\":\"float64\",\"order\":\"little\",\"shape\":[2]},{\"__ndarray__\":\"M3/QoeCkHUFPrqtlyqQdQQ==\",\"dtype\":\"float64\",\"order\":\"little\",\"shape\":[2]},{\"__ndarray__\":\"T66rZcqkHUGwAVPM1aQdQQ==\",\"dtype\":\"float64\",\"order\":\"little\",\"shape\":[2]},{\"__ndarray__\":\"sAFTzNWkHUERVfoy4aQdQQ==\",\"dtype\":\"float64\",\"order\":\"little\",\"shape\":[2]},{\"__ndarray__\":\"EVX6MuGkHUEnpywL4qQdQQ==\",\"dtype\":\"float64\",\"order\":\"little\",\"shape\":[2]},{\"__ndarray__\":\"J6csC+KkHUE8+V7j4qQdQQ==\",\"dtype\":\"float64\",\"order\":\"little\",\"shape\":[2]},{\"__ndarray__\":\"PPle4+KkHUGLnjgi76QdQQ==\",\"dtype\":\"float64\",\"order\":\"little\",\"shape\":[2]},{\"__ndarray__\":\"i544Iu+kHUHcQxJh+6QdQQ==\",\"dtype\":\"float64\",\"order\":\"little\",\"shape\":[2]},{\"__ndarray__\":\"3EMSYfukHUHy5HErDqUdQQ==\",\"dtype\":\"float64\",\"order\":\"little\",\"shape\":[2]},{\"__ndarray__\":\"8uRxKw6lHUEJhtH1IKUdQQ==\",\"dtype\":\"float64\",\"order\":\"little\",\"shape\":[2]},{\"__ndarray__\":\"CYbR9SClHUHli9vB/qQdQQ==\",\"dtype\":\"float64\",\"order\":\"little\",\"shape\":[2]},{\"__ndarray__\":\"5Yvbwf6kHUHDkeWN3KQdQQ==\",\"dtype\":\"float64\",\"order\":\"little\",\"shape\":[2]},{\"__ndarray__\":\"w5HljdykHUHthHcw8KQdQQ==\",\"dtype\":\"float64\",\"order\":\"little\",\"shape\":[2]},{\"__ndarray__\":\"7YR3MPCkHUEXeAnTA6UdQQ==\",\"dtype\":\"float64\",\"order\":\"little\",\"shape\":[2]},{\"__ndarray__\":\"F3gJ0wOlHUEuGWmdFqUdQQ==\",\"dtype\":\"float64\",\"order\":\"little\",\"shape\":[2]},{\"__ndarray__\":\"LhlpnRalHUFFushnKaUdQQ==\",\"dtype\":\"float64\",\"order\":\"little\",\"shape\":[2]},{\"__ndarray__\":\"RbrIZymlHUEAPgiVHaUdQQ==\",\"dtype\":\"float64\",\"order\":\"little\",\"shape\":[2]},{\"__ndarray__\":\"AD4IlR2lHUG7wUfCEaUdQQ==\",\"dtype\":\"float64\",\"order\":\"little\",\"shape\":[2]},{\"__ndarray__\":\"u8FHwhGlHUHpiB5QBKUdQQ==\",\"dtype\":\"float64\",\"order\":\"little\",\"shape\":[2]},{\"__ndarray__\":\"6YgeUASlHUEVUPXd9qQdQQ==\",\"dtype\":\"float64\",\"order\":\"little\",\"shape\":[2]},{\"__ndarray__\":\"FVD13fakHUHBOfFd8qQdQQ==\",\"dtype\":\"float64\",\"order\":\"little\",\"shape\":[2]},{\"__ndarray__\":\"wTnxXfKkHUFsI+3d7aQdQQ==\",\"dtype\":\"float64\",\"order\":\"little\",\"shape\":[2]},{\"__ndarray__\":\"bCPt3e2kHUGjs3+f9KQdQQ==\",\"dtype\":\"float64\",\"order\":\"little\",\"shape\":[2]},{\"__ndarray__\":\"o7N/n/SkHUHcQxJh+6QdQQ==\",\"dtype\":\"float64\",\"order\":\"little\",\"shape\":[2]},{\"__ndarray__\":\"3EMSYfukHUF+IOj3/qQdQQ==\",\"dtype\":\"float64\",\"order\":\"little\",\"shape\":[2]},{\"__ndarray__\":\"fiDo9/6kHUEg/b2OAqUdQQ==\",\"dtype\":\"float64\",\"order\":\"little\",\"shape\":[2]},{\"__ndarray__\":\"IP29jgKlHUHfmEkf66QdQQ==\",\"dtype\":\"float64\",\"order\":\"little\",\"shape\":[2]},{\"__ndarray__\":\"35hJH+ukHUGiNNWv06QdQQ==\",\"dtype\":\"float64\",\"order\":\"little\",\"shape\":[2]},{\"__ndarray__\":\"ojTVr9OkHUGvu8Ylz6QdQQ==\",\"dtype\":\"float64\",\"order\":\"little\",\"shape\":[2]},{\"__ndarray__\":\"r7vGJc+kHUHBQribyqQdQQ==\",\"dtype\":\"float64\",\"order\":\"little\",\"shape\":[2]},{\"__ndarray__\":\"wUK4m8qkHUG8nlPryKQdQQ==\",\"dtype\":\"float64\",\"order\":\"little\",\"shape\":[2]},{\"__ndarray__\":\"vJ5T68ikHUG4+u46x6QdQQ==\",\"dtype\":\"float64\",\"order\":\"little\",\"shape\":[2]},{\"__ndarray__\":\"uPruOsekHUE4U9hBvqQdQQ==\",\"dtype\":\"float64\",\"order\":\"little\",\"shape\":[2]},{\"__ndarray__\":\"OFPYQb6kHUG4q8FItaQdQQ==\",\"dtype\":\"float64\",\"order\":\"little\",\"shape\":[2]},{\"__ndarray__\":\"uKvBSLWkHUGiCmJ+oqQdQQ==\",\"dtype\":\"float64\",\"order\":\"little\",\"shape\":[2]},{\"__ndarray__\":\"ogpifqKkHUGNaQK0j6QdQQ==\",\"dtype\":\"float64\",\"order\":\"little\",\"shape\":[2]},{\"__ndarray__\":\"jWkCtI+kHUHqWf4QcaQdQQ==\",\"dtype\":\"float64\",\"order\":\"little\",\"shape\":[2]},{\"__ndarray__\":\"6ln+EHGkHUFJSvptUqQdQQ==\",\"dtype\":\"float64\",\"order\":\"little\",\"shape\":[2]},{\"__ndarray__\":\"SUr6bVKkHUEa3Y5YSaQdQQ==\",\"dtype\":\"float64\",\"order\":\"little\",\"shape\":[2]},{\"__ndarray__\":\"Gt2OWEmkHUEFyhrkN6QdQQ==\",\"dtype\":\"float64\",\"order\":\"little\",\"shape\":[2]},{\"__ndarray__\":\"Bcoa5DekHUHzpVLUIqQdQQ==\",\"dtype\":\"float64\",\"order\":\"little\",\"shape\":[2]},{\"__ndarray__\":\"86VS1CKkHUHT0WoAFKQdQQ==\",\"dtype\":\"float64\",\"order\":\"little\",\"shape\":[2]},{\"__ndarray__\":\"09FqABSkHUHMxl5MDKQdQQ==\",\"dtype\":\"float64\",\"order\":\"little\",\"shape\":[2]},{\"__ndarray__\":\"zMZeTAykHUGBxrfcBKQdQQ==\",\"dtype\":\"float64\",\"order\":\"little\",\"shape\":[2]},{\"__ndarray__\":\"gca33ASkHUFePGhdAKQdQQ==\",\"dtype\":\"float64\",\"order\":\"little\",\"shape\":[2]},{\"__ndarray__\":\"XjxoXQCkHUHWMi6j96MdQQ==\",\"dtype\":\"float64\",\"order\":\"little\",\"shape\":[2]},{\"__ndarray__\":\"1jIuo/ejHUGwl4qI76MdQQ==\",\"dtype\":\"float64\",\"order\":\"little\",\"shape\":[2]},{\"__ndarray__\":\"sJeKiO+jHUEHSFG88KMdQQ==\",\"dtype\":\"float64\",\"order\":\"little\",\"shape\":[2]},{\"__ndarray__\":\"B0hRvPCjHUH6ht1c86MdQQ==\",\"dtype\":\"float64\",\"order\":\"little\",\"shape\":[2]},{\"__ndarray__\":\"+obdXPOjHUHHLWrW66MdQQ==\",\"dtype\":\"float64\",\"order\":\"little\",\"shape\":[2]},{\"__ndarray__\":\"xy1q1uujHUEeqJBE5KMdQQ==\",\"dtype\":\"float64\",\"order\":\"little\",\"shape\":[2]},{\"__ndarray__\":\"HqiQROSjHUGLyeqb3KMdQQ==\",\"dtype\":\"float64\",\"order\":\"little\",\"shape\":[2]},{\"__ndarray__\":\"i8nqm9yjHUEFrLhS0qMdQQ==\",\"dtype\":\"float64\",\"order\":\"little\",\"shape\":[2]},{\"__ndarray__\":\"Bay4UtKjHUHq9tTBzKMdQQ==\",\"dtype\":\"float64\",\"order\":\"little\",\"shape\":[2]},{\"__ndarray__\":\"6vbUwcyjHUFzvL4Ox6MdQQ==\",\"dtype\":\"float64\",\"order\":\"little\",\"shape\":[2]},{\"__ndarray__\":\"c7y+DsejHUGuklWHvaMdQQ==\",\"dtype\":\"float64\",\"order\":\"little\",\"shape\":[2]},{\"__ndarray__\":\"rpJVh72jHUFKAhextaMdQQ==\",\"dtype\":\"float64\",\"order\":\"little\",\"shape\":[2]},{\"__ndarray__\":\"SgIXsbWjHUF5BuYuq6MdQQ==\",\"dtype\":\"float64\",\"order\":\"little\",\"shape\":[2]},{\"__ndarray__\":\"eQbmLqujHUHWaXAapKMdQQ==\",\"dtype\":\"float64\",\"order\":\"little\",\"shape\":[2]},{\"__ndarray__\":\"1mlwGqSjHUHdMCxhnaMdQQ==\",\"dtype\":\"float64\",\"order\":\"little\",\"shape\":[2]},{\"__ndarray__\":\"3TAsYZ2jHUE/mo3/a6MdQQ==\",\"dtype\":\"float64\",\"order\":\"little\",\"shape\":[2]},{\"__ndarray__\":\"P5qN/2ujHUF1rAwlZ6MdQQ==\",\"dtype\":\"float64\",\"order\":\"little\",\"shape\":[2]},{\"__ndarray__\":\"dawMJWejHUHSPV7hOKMdQQ==\",\"dtype\":\"float64\",\"order\":\"little\",\"shape\":[2]},{\"__ndarray__\":\"0j1e4TijHUGjadFSEqMdQQ==\",\"dtype\":\"float64\",\"order\":\"little\",\"shape\":[2]},{\"__ndarray__\":\"o2nRUhKjHUFwlUTE66IdQQ==\",\"dtype\":\"float64\",\"order\":\"little\",\"shape\":[2]},{\"__ndarray__\":\"cJVExOuiHUEBL5Oa16IdQQ==\",\"dtype\":\"float64\",\"order\":\"little\",\"shape\":[2]},{\"__ndarray__\":\"AS+TmteiHUGQyOFww6IdQQ==\",\"dtype\":\"float64\",\"order\":\"little\",\"shape\":[2]},{\"__ndarray__\":\"kMjhcMOiHUFjYWgbvaIdQQ==\",\"dtype\":\"float64\",\"order\":\"little\",\"shape\":[2]},{\"__ndarray__\":\"Y2FoG72iHUE2+u7FtqIdQQ==\",\"dtype\":\"float64\",\"order\":\"little\",\"shape\":[2]},{\"__ndarray__\":\"NvruxbaiHUGF5Q7gpqIdQQ==\",\"dtype\":\"float64\",\"order\":\"little\",\"shape\":[2]},{\"__ndarray__\":\"heUO4KaiHUHU0C76lqIdQQ==\",\"dtype\":\"float64\",\"order\":\"little\",\"shape\":[2]},{\"__ndarray__\":\"1NAu+paiHUGR25M+l6IdQQ==\",\"dtype\":\"float64\",\"order\":\"little\",\"shape\":[2]},{\"__ndarray__\":\"kduTPpeiHUEg8Nmsp6IdQQ==\",\"dtype\":\"float64\",\"order\":\"little\",\"shape\":[2]},{\"__ndarray__\":\"IPDZrKeiHUGaO0T7sKIdQQ==\",\"dtype\":\"float64\",\"order\":\"little\",\"shape\":[2]},{\"__ndarray__\":\"mjtE+7CiHUG94gawiqIdQQ==\",\"dtype\":\"float64\",\"order\":\"little\",\"shape\":[2]},{\"__ndarray__\":\"veIGsIqiHUEFWGlRd6IdQQ==\",\"dtype\":\"float64\",\"order\":\"little\",\"shape\":[2]},{\"__ndarray__\":\"BVhpUXeiHUHkWF6gjaIdQQ==\",\"dtype\":\"float64\",\"order\":\"little\",\"shape\":[2]},{\"__ndarray__\":\"5FheoI2iHUF/6scAjaIdQQ==\",\"dtype\":\"float64\",\"order\":\"little\",\"shape\":[2]},{\"__ndarray__\":\"f+rHAI2iHUEm9rBffaIdQQ==\",\"dtype\":\"float64\",\"order\":\"little\",\"shape\":[2]},{\"__ndarray__\":\"JvawX32iHUF5y8O9g6IdQQ==\",\"dtype\":\"float64\",\"order\":\"little\",\"shape\":[2]},{\"__ndarray__\":\"ecvDvYOiHUEAKBFzaqIdQQ==\",\"dtype\":\"float64\",\"order\":\"little\",\"shape\":[2]},{\"__ndarray__\":\"ACgRc2qiHUHKwO1EXaIdQQ==\",\"dtype\":\"float64\",\"order\":\"little\",\"shape\":[2]},{\"__ndarray__\":\"ysDtRF2iHUHOajZWgaIdQQ==\",\"dtype\":\"float64\",\"order\":\"little\",\"shape\":[2]},{\"__ndarray__\":\"zmo2VoGiHUHYl+pAkKIdQQ==\",\"dtype\":\"float64\",\"order\":\"little\",\"shape\":[2]},{\"__ndarray__\":\"2JfqQJCiHUGlPne6iKIdQQ==\",\"dtype\":\"float64\",\"order\":\"little\",\"shape\":[2]},{\"__ndarray__\":\"pT53uoiiHUEVpCF/j6IdQQ==\",\"dtype\":\"float64\",\"order\":\"little\",\"shape\":[2]},{\"__ndarray__\":\"FaQhf4+iHUEOQc3Od6IdQQ==\",\"dtype\":\"float64\",\"order\":\"little\",\"shape\":[2]},{\"__ndarray__\":\"DkHNzneiHUENQaJzeKIdQQ==\",\"dtype\":\"float64\",\"order\":\"little\",\"shape\":[2]},{\"__ndarray__\":\"DUGic3iiHUEIQXcYeaIdQQ==\",\"dtype\":\"float64\",\"order\":\"little\",\"shape\":[2]},{\"__ndarray__\":\"CEF3GHmiHUFcwRDJbKIdQQ==\",\"dtype\":\"float64\",\"order\":\"little\",\"shape\":[2]},{\"__ndarray__\":\"XMEQyWyiHUGtQap5YKIdQQ==\",\"dtype\":\"float64\",\"order\":\"little\",\"shape\":[2]},{\"__ndarray__\":\"rUGqeWCiHUEBOWUObqIdQQ==\",\"dtype\":\"float64\",\"order\":\"little\",\"shape\":[2]},{\"__ndarray__\":\"ATllDm6iHUFlNeRvh6IdQQ==\",\"dtype\":\"float64\",\"order\":\"little\",\"shape\":[2]},{\"__ndarray__\":\"ZTXkb4eiHUEZstEmlaIdQQ==\",\"dtype\":\"float64\",\"order\":\"little\",\"shape\":[2]},{\"__ndarray__\":\"GbLRJpWiHUHDuhaSh6IdQQ==\",\"dtype\":\"float64\",\"order\":\"little\",\"shape\":[2]},{\"__ndarray__\":\"w7oWkoeiHUEtVNnhlaIdQQ==\",\"dtype\":\"float64\",\"order\":\"little\",\"shape\":[2]},{\"__ndarray__\":\"LVTZ4ZWiHUGU7ZsxpKIdQQ==\",\"dtype\":\"float64\",\"order\":\"little\",\"shape\":[2]},{\"__ndarray__\":\"lO2bMaSiHUG+4C3Ut6IdQQ==\",\"dtype\":\"float64\",\"order\":\"little\",\"shape\":[2]},{\"__ndarray__\":\"vuAt1LeiHUHo0792y6IdQQ==\",\"dtype\":\"float64\",\"order\":\"little\",\"shape\":[2]},{\"__ndarray__\":\"6NO/dsuiHUHEoffPC6MdQQ==\",\"dtype\":\"float64\",\"order\":\"little\",\"shape\":[2]},{\"__ndarray__\":\"xKH3zwujHUGgby8pTKMdQQ==\",\"dtype\":\"float64\",\"order\":\"little\",\"shape\":[2]},{\"__ndarray__\":\"oG8vKUyjHUH6Jw+73qMdQQ==\",\"dtype\":\"float64\",\"order\":\"little\",\"shape\":[2]},{\"__ndarray__\":\"+icPu96jHUFW4O5McaQdQQ==\",\"dtype\":\"float64\",\"order\":\"little\",\"shape\":[2]},{\"__ndarray__\":\"VuDuTHGkHUFRghZDdqQdQQ==\",\"dtype\":\"float64\",\"order\":\"little\",\"shape\":[2]},{\"__ndarray__\":\"UYIWQ3akHUFLJD45e6QdQQ==\",\"dtype\":\"float64\",\"order\":\"little\",\"shape\":[2]},{\"__ndarray__\":\"SyQ+OXukHUE3jH+6c6QdQQ==\",\"dtype\":\"float64\",\"order\":\"little\",\"shape\":[2]},{\"__ndarray__\":\"N4x/unOkHUEh9MA7bKQdQQ==\",\"dtype\":\"float64\",\"order\":\"little\",\"shape\":[2]},{\"__ndarray__\":\"IfTAO2ykHUGTKvVncaQdQQ==\",\"dtype\":\"float64\",\"order\":\"little\",\"shape\":[2]},{\"__ndarray__\":\"kyr1Z3GkHUH8YCmUdqQdQQ==\",\"dtype\":\"float64\",\"order\":\"little\",\"shape\":[2]},{\"__ndarray__\":\"/GAplHakHUGm65odmqQdQQ==\",\"dtype\":\"float64\",\"order\":\"little\",\"shape\":[2]},{\"__ndarray__\":\"puuaHZqkHUFPdgynvaQdQQ==\",\"dtype\":\"float64\",\"order\":\"little\",\"shape\":[2]},{\"__ndarray__\":\"T3YMp72kHUFn55/KtKQdQQ==\",\"dtype\":\"float64\",\"order\":\"little\",\"shape\":[2]},{\"__ndarray__\":\"Z+efyrSkHUFDTPyvrKQdQQ==\",\"dtype\":\"float64\",\"order\":\"little\",\"shape\":[2]},{\"__ndarray__\":\"Q0z8r6ykHUGphPKJpKQdQQ==\",\"dtype\":\"float64\",\"order\":\"little\",\"shape\":[2]},{\"__ndarray__\":\"qYTyiaSkHUE+Lfhso6QdQQ==\",\"dtype\":\"float64\",\"order\":\"little\",\"shape\":[2]},{\"__ndarray__\":\"Pi34bKOkHUGim44MpKQdQQ==\",\"dtype\":\"float64\",\"order\":\"little\",\"shape\":[2]},{\"__ndarray__\":\"opuODKSkHUHL7JnSoaQdQQ==\",\"dtype\":\"float64\",\"order\":\"little\",\"shape\":[2]},{\"__ndarray__\":\"y+yZ0qGkHUGzARZ8k6QdQQ==\",\"dtype\":\"float64\",\"order\":\"little\",\"shape\":[2]},{\"__ndarray__\":\"swEWfJOkHUHGU6VcgaQdQQ==\",\"dtype\":\"float64\",\"order\":\"little\",\"shape\":[2]},{\"__ndarray__\":\"xlOlXIGkHUFYpwY3bqQdQQ==\",\"dtype\":\"float64\",\"order\":\"little\",\"shape\":[2]},{\"__ndarray__\":\"WKcGN26kHUHL8N93Q6QdQQ==\",\"dtype\":\"float64\",\"order\":\"little\",\"shape\":[2]},{\"__ndarray__\":\"y/Dfd0OkHUF67QVJZKQdQQ==\",\"dtype\":\"float64\",\"order\":\"little\",\"shape\":[2]},{\"__ndarray__\":\"eu0FSWSkHUFaT746XqQdQQ==\",\"dtype\":\"float64\",\"order\":\"little\",\"shape\":[2]},{\"__ndarray__\":\"Wk++Ol6kHUE/8iKmaKQdQQ==\",\"dtype\":\"float64\",\"order\":\"little\",\"shape\":[2]},{\"__ndarray__\":\"P/IipmikHUEC1ZfMZaQdQQ==\",\"dtype\":\"float64\",\"order\":\"little\",\"shape\":[2]},{\"__ndarray__\":\"AtWXzGWkHUGrJNGYZKQdQQ==\",\"dtype\":\"float64\",\"order\":\"little\",\"shape\":[2]},{\"__ndarray__\":\"qyTRmGSkHUHmH7Q7YKQdQQ==\",\"dtype\":\"float64\",\"order\":\"little\",\"shape\":[2]},{\"__ndarray__\":\"5h+0O2CkHUFsWlm6P6QdQQ==\",\"dtype\":\"float64\",\"order\":\"little\",\"shape\":[2]},{\"__ndarray__\":\"bFpZuj+kHUG5HIdvDqQdQQ==\",\"dtype\":\"float64\",\"order\":\"little\",\"shape\":[2]},{\"__ndarray__\":\"uRyHbw6kHUEBgZV196MdQQ==\",\"dtype\":\"float64\",\"order\":\"little\",\"shape\":[2]},{\"__ndarray__\":\"AYGVdfejHUHSNdKW9aMdQQ==\",\"dtype\":\"float64\",\"order\":\"little\",\"shape\":[2]},{\"__ndarray__\":\"0jXSlvWjHUG8jp6t9aMdQQ==\",\"dtype\":\"float64\",\"order\":\"little\",\"shape\":[2]},{\"__ndarray__\":\"vI6erfWjHUEKIwWS66MdQQ==\",\"dtype\":\"float64\",\"order\":\"little\",\"shape\":[2]},{\"__ndarray__\":\"CiMFkuujHUFK1E/g3KMdQQ==\",\"dtype\":\"float64\",\"order\":\"little\",\"shape\":[2]},{\"__ndarray__\":\"StRP4NyjHUHPPH95CKQdQQ==\",\"dtype\":\"float64\",\"order\":\"little\",\"shape\":[2]},{\"__ndarray__\":\"zzx/eQikHUFUpa4SNKQdQQ==\",\"dtype\":\"float64\",\"order\":\"little\",\"shape\":[2]},{\"__ndarray__\":\"VKWuEjSkHUH2gYSpN6QdQQ==\",\"dtype\":\"float64\",\"order\":\"little\",\"shape\":[2]},{\"__ndarray__\":\"9oGEqTekHUGWXlpAO6QdQQ==\",\"dtype\":\"float64\",\"order\":\"little\",\"shape\":[2]},{\"__ndarray__\":\"ll5aQDukHUHi6+cbU6QdQQ==\",\"dtype\":\"float64\",\"order\":\"little\",\"shape\":[2]},{\"__ndarray__\":\"4uvnG1OkHUEreXX3aqQdQQ==\",\"dtype\":\"float64\",\"order\":\"little\",\"shape\":[2]},{\"__ndarray__\":\"K3l192qkHUG1swKnIqQdQQ==\",\"dtype\":\"float64\",\"order\":\"little\",\"shape\":[2]},{\"__ndarray__\":\"tbMCpyKkHUFA7o9W2qMdQQ==\",\"dtype\":\"float64\",\"order\":\"little\",\"shape\":[2]},{\"__ndarray__\":\"QO6PVtqjHUEeueTf56MdQQ==\",\"dtype\":\"float64\",\"order\":\"little\",\"shape\":[2]},{\"__ndarray__\":\"Hrnk3+ejHUGKeXuU/KMdQQ==\",\"dtype\":\"float64\",\"order\":\"little\",\"shape\":[2]},{\"__ndarray__\":\"inl7lPyjHUF1fxWk4qMdQQ==\",\"dtype\":\"float64\",\"order\":\"little\",\"shape\":[2]},{\"__ndarray__\":\"dX8VpOKjHUFaha+zyKMdQQ==\",\"dtype\":\"float64\",\"order\":\"little\",\"shape\":[2]},{\"__ndarray__\":\"WoWvs8ijHUF11ORc46MdQQ==\",\"dtype\":\"float64\",\"order\":\"little\",\"shape\":[2]},{\"__ndarray__\":\"ddTkXOOjHUGSIxoG/qMdQQ==\",\"dtype\":\"float64\",\"order\":\"little\",\"shape\":[2]},{\"__ndarray__\":\"kiMaBv6jHUGc/QWA7KMdQQ==\",\"dtype\":\"float64\",\"order\":\"little\",\"shape\":[2]},{\"__ndarray__\":\"nP0FgOyjHUGm1/H52qMdQQ==\",\"dtype\":\"float64\",\"order\":\"little\",\"shape\":[2]},{\"__ndarray__\":\"ptfx+dqjHUEbnHst6qMdQQ==\",\"dtype\":\"float64\",\"order\":\"little\",\"shape\":[2]},{\"__ndarray__\":\"G5x7LeqjHUGPYAVh+aMdQQ==\",\"dtype\":\"float64\",\"order\":\"little\",\"shape\":[2]},{\"__ndarray__\":\"j2AFYfmjHUFIUiJ1AqQdQQ==\",\"dtype\":\"float64\",\"order\":\"little\",\"shape\":[2]},{\"__ndarray__\":\"SFIidQKkHUECRD+JC6QdQQ==\",\"dtype\":\"float64\",\"order\":\"little\",\"shape\":[2]},{\"__ndarray__\":\"AkQ/iQukHUHLvm8EM6QdQQ==\",\"dtype\":\"float64\",\"order\":\"little\",\"shape\":[2]},{\"__ndarray__\":\"y75vBDOkHUGVOaB/WqQdQQ==\",\"dtype\":\"float64\",\"order\":\"little\",\"shape\":[2]},{\"__ndarray__\":\"lTmgf1qkHUH9qp0VOKQdQQ==\",\"dtype\":\"float64\",\"order\":\"little\",\"shape\":[2]},{\"__ndarray__\":\"/aqdFTikHUFoHJurFaQdQQ==\",\"dtype\":\"float64\",\"order\":\"little\",\"shape\":[2]},{\"__ndarray__\":\"aBybqxWkHUFPfCAh+6MdQQ==\",\"dtype\":\"float64\",\"order\":\"little\",\"shape\":[2]},{\"__ndarray__\":\"T3wgIfujHUE13KWW4KMdQQ==\",\"dtype\":\"float64\",\"order\":\"little\",\"shape\":[2]},{\"__ndarray__\":\"NdylluCjHUF3wwrkA6QdQQ==\",\"dtype\":\"float64\",\"order\":\"little\",\"shape\":[2]},{\"__ndarray__\":\"d8MK5AOkHUG3qm8xJ6QdQQ==\",\"dtype\":\"float64\",\"order\":\"little\",\"shape\":[2]},{\"__ndarray__\":\"t6pvMSekHUGXdcS6NKQdQQ==\",\"dtype\":\"float64\",\"order\":\"little\",\"shape\":[2]},{\"__ndarray__\":\"l3XEujSkHUEjawbmO6QdQQ==\",\"dtype\":\"float64\",\"order\":\"little\",\"shape\":[2]},{\"__ndarray__\":\"I2sG5jukHUFyQ703QKQdQQ==\",\"dtype\":\"float64\",\"order\":\"little\",\"shape\":[2]},{\"__ndarray__\":\"ckO9N0CkHUHgqwvwRKQdQQ==\",\"dtype\":\"float64\",\"order\":\"little\",\"shape\":[2]},{\"__ndarray__\":\"4KsL8ESkHUG+VLhCS6QdQQ==\",\"dtype\":\"float64\",\"order\":\"little\",\"shape\":[2]},{\"__ndarray__\":\"vlS4QkukHUHvWIfAQKQdQQ==\",\"dtype\":\"float64\",\"order\":\"little\",\"shape\":[2]},{\"__ndarray__\":\"71iHwECkHUHsFDdTMqQdQQ==\",\"dtype\":\"float64\",\"order\":\"little\",\"shape\":[2]},{\"__ndarray__\":\"7BQ3UzKkHUGznL+JIaQdQQ==\",\"dtype\":\"float64\",\"order\":\"little\",\"shape\":[2]},{\"__ndarray__\":\"s5y/iSGkHUEdOHPe/6MdQQ==\",\"dtype\":\"float64\",\"order\":\"little\",\"shape\":[2]},{\"__ndarray__\":\"HThz3v+jHUGI0yYz3qMdQQ==\",\"dtype\":\"float64\",\"order\":\"little\",\"shape\":[2]},{\"__ndarray__\":\"iNMmM96jHUGWf//HDaQdQQ==\",\"dtype\":\"float64\",\"order\":\"little\",\"shape\":[2]},{\"__ndarray__\":\"ln//xw2kHUGlK9hcPaQdQQ==\",\"dtype\":\"float64\",\"order\":\"little\",\"shape\":[2]},{\"__ndarray__\":\"pSvYXD2kHUHBAr/wPKQdQQ==\",\"dtype\":\"float64\",\"order\":\"little\",\"shape\":[2]},{\"__ndarray__\":\"wQK/8DykHUHd2aWEPKQdQQ==\",\"dtype\":\"float64\",\"order\":\"little\",\"shape\":[2]},{\"__ndarray__\":\"3dmlhDykHUFaC7PZL6QdQQ==\",\"dtype\":\"float64\",\"order\":\"little\",\"shape\":[2]},{\"__ndarray__\":\"Wguz2S+kHUHaPMAuI6QdQQ==\",\"dtype\":\"float64\",\"order\":\"little\",\"shape\":[2]},{\"__ndarray__\":\"2jzALiOkHUE/onDbB6QdQQ==\",\"dtype\":\"float64\",\"order\":\"little\",\"shape\":[2]},{\"__ndarray__\":\"P6Jw2wekHUGkByGI7KMdQQ==\",\"dtype\":\"float64\",\"order\":\"little\",\"shape\":[2]},{\"__ndarray__\":\"pAchiOyjHUHXhaoDGqQdQQ==\",\"dtype\":\"float64\",\"order\":\"little\",\"shape\":[2]},{\"__ndarray__\":\"14WqAxqkHUENBDR/R6QdQQ==\",\"dtype\":\"float64\",\"order\":\"little\",\"shape\":[2]},{\"__ndarray__\":\"DQQ0f0ekHUGQG2j8H6QdQQ==\",\"dtype\":\"float64\",\"order\":\"little\",\"shape\":[2]},{\"__ndarray__\":\"kBto/B+kHUERM5x5+KMdQQ==\",\"dtype\":\"float64\",\"order\":\"little\",\"shape\":[2]},{\"__ndarray__\":\"ETOcefijHUExGlAi8qMdQQ==\",\"dtype\":\"float64\",\"order\":\"little\",\"shape\":[2]},{\"__ndarray__\":\"MRpQIvKjHUFSAQTL66MdQQ==\",\"dtype\":\"float64\",\"order\":\"little\",\"shape\":[2]},{\"__ndarray__\":\"UgEEy+ujHUGteIZF5qMdQQ==\",\"dtype\":\"float64\",\"order\":\"little\",\"shape\":[2]},{\"__ndarray__\":\"rXiGReajHUGSfK5T1KMdQQ==\",\"dtype\":\"float64\",\"order\":\"little\",\"shape\":[2]},{\"__ndarray__\":\"knyuU9SjHUGtyPVMxqMdQQ==\",\"dtype\":\"float64\",\"order\":\"little\",\"shape\":[2]},{\"__ndarray__\":\"rcj1TMajHUF5x8rCzqMdQQ==\",\"dtype\":\"float64\",\"order\":\"little\",\"shape\":[2]},{\"__ndarray__\":\"ecfKws6jHUHhaF002qMdQQ==\",\"dtype\":\"float64\",\"order\":\"little\",\"shape\":[2]},{\"__ndarray__\":\"4WhdNNqjHUEraQSk4aMdQQ==\",\"dtype\":\"float64\",\"order\":\"little\",\"shape\":[2]},{\"__ndarray__\":\"K2kEpOGjHUGODTsJ66MdQQ==\",\"dtype\":\"float64\",\"order\":\"little\",\"shape\":[2]},{\"__ndarray__\":\"jg07CeujHUHPvoVX3KMdQQ==\",\"dtype\":\"float64\",\"order\":\"little\",\"shape\":[2]},{\"__ndarray__\":\"z76FV9yjHUFDpPcB0KMdQQ==\",\"dtype\":\"float64\",\"order\":\"little\",\"shape\":[2]},{\"__ndarray__\":\"Q6T3AdCjHUGBKh9z5qMdQQ==\",\"dtype\":\"float64\",\"order\":\"little\",\"shape\":[2]},{\"__ndarray__\":\"gSofc+ajHUGAgmdv9qMdQQ==\",\"dtype\":\"float64\",\"order\":\"little\",\"shape\":[2]},{\"__ndarray__\":\"gIJnb/ajHUHDMA7K6aMdQQ==\",\"dtype\":\"float64\",\"order\":\"little\",\"shape\":[2]},{\"__ndarray__\":\"wzAOyumjHUE5BSzZ2aMdQQ==\",\"dtype\":\"float64\",\"order\":\"little\",\"shape\":[2]},{\"__ndarray__\":\"OQUs2dmjHUGP6O7e5aMdQQ==\",\"dtype\":\"float64\",\"order\":\"little\",\"shape\":[2]},{\"__ndarray__\":\"j+ju3uWjHUGTyF5Q8aMdQQ==\",\"dtype\":\"float64\",\"order\":\"little\",\"shape\":[2]},{\"__ndarray__\":\"k8heUPGjHUGZqM7B/KMdQQ==\",\"dtype\":\"float64\",\"order\":\"little\",\"shape\":[2]},{\"__ndarray__\":\"majOwfyjHUHiMKE236MdQQ==\",\"dtype\":\"float64\",\"order\":\"little\",\"shape\":[2]},{\"__ndarray__\":\"4jChNt+jHUEruXOrwaMdQQ==\",\"dtype\":\"float64\",\"order\":\"little\",\"shape\":[2]},{\"__ndarray__\":\"K7lzq8GjHUGvAAlw9qMdQQ==\",\"dtype\":\"float64\",\"order\":\"little\",\"shape\":[2]},{\"__ndarray__\":\"rwAJcPajHUEySJ40K6QdQQ==\",\"dtype\":\"float64\",\"order\":\"little\",\"shape\":[2]},{\"__ndarray__\":\"MkieNCukHUGGgTbZH6QdQQ==\",\"dtype\":\"float64\",\"order\":\"little\",\"shape\":[2]},{\"__ndarray__\":\"hoE22R+kHUHaus59FKQdQQ==\",\"dtype\":\"float64\",\"order\":\"little\",\"shape\":[2]},{\"__ndarray__\":\"2rrOfRSkHUEkkfTB5KMdQQ==\",\"dtype\":\"float64\",\"order\":\"little\",\"shape\":[2]},{\"__ndarray__\":\"JJH0weSjHUEFQxy7vqMdQQ==\",\"dtype\":\"float64\",\"order\":\"little\",\"shape\":[2]},{\"__ndarray__\":\"BUMcu76jHUGcEv/V9qMdQQ==\",\"dtype\":\"float64\",\"order\":\"little\",\"shape\":[2]},{\"__ndarray__\":\"nBL/1fajHUGlCHFJWaQdQQ==\",\"dtype\":\"float64\",\"order\":\"little\",\"shape\":[2]},{\"__ndarray__\":\"pQhxSVmkHUHnMAjXY6QdQQ==\",\"dtype\":\"float64\",\"order\":\"little\",\"shape\":[2]},{\"__ndarray__\":\"5zAI12OkHUGeqlGac6QdQQ==\",\"dtype\":\"float64\",\"order\":\"little\",\"shape\":[2]},{\"__ndarray__\":\"nqpRmnOkHUE4Cb8oaKQdQQ==\",\"dtype\":\"float64\",\"order\":\"little\",\"shape\":[2]},{\"__ndarray__\":\"OAm/KGikHUGw64zfXaQdQQ==\",\"dtype\":\"float64\",\"order\":\"little\",\"shape\":[2]},{\"__ndarray__\":\"sOuM312kHUHEfDcsKKQdQQ==\",\"dtype\":\"float64\",\"order\":\"little\",\"shape\":[2]},{\"__ndarray__\":\"xHw3LCikHUHWrB7WDqQdQQ==\",\"dtype\":\"float64\",\"order\":\"little\",\"shape\":[2]},{\"__ndarray__\":\"1qwe1g6kHUG32DYCAKQdQQ==\",\"dtype\":\"float64\",\"order\":\"little\",\"shape\":[2]},{\"__ndarray__\":\"t9g2AgCkHUHgKULI/aMdQQ==\",\"dtype\":\"float64\",\"order\":\"little\",\"shape\":[2]},{\"__ndarray__\":\"4ClCyP2jHUFkfRTXEKQdQQ==\",\"dtype\":\"float64\",\"order\":\"little\",\"shape\":[2]},{\"__ndarray__\":\"ZH0U1xCkHUGREnAKHaQdQQ==\",\"dtype\":\"float64\",\"order\":\"little\",\"shape\":[2]},{\"__ndarray__\":\"kRJwCh2kHUG3qm8xJ6QdQQ==\",\"dtype\":\"float64\",\"order\":\"little\",\"shape\":[2]},{\"__ndarray__\":\"t6pvMSekHUHjP8tkM6QdQQ==\",\"dtype\":\"float64\",\"order\":\"little\",\"shape\":[2]},{\"__ndarray__\":\"4z/LZDOkHUEkfFqBP6QdQQ==\",\"dtype\":\"float64\",\"order\":\"little\",\"shape\":[2]},{\"__ndarray__\":\"JHxagT+kHUEUBX92TKQdQQ==\",\"dtype\":\"float64\",\"order\":\"little\",\"shape\":[2]},{\"__ndarray__\":\"FAV/dkykHUFeFnqBV6QdQQ==\",\"dtype\":\"float64\",\"order\":\"little\",\"shape\":[2]},{\"__ndarray__\":\"XhZ6gVekHUEbaNMmZKQdQQ==\",\"dtype\":\"float64\",\"order\":\"little\",\"shape\":[2]},{\"__ndarray__\":\"G2jTJmSkHUFrPETTxqQdQQ==\",\"dtype\":\"float64\",\"order\":\"little\",\"shape\":[2]},{\"__ndarray__\":\"azxE08akHUGDJ8gp1aQdQQ==\",\"dtype\":\"float64\",\"order\":\"little\",\"shape\":[2]},{\"__ndarray__\":\"gyfIKdWkHUFg0HR826QdQQ==\",\"dtype\":\"float64\",\"order\":\"little\",\"shape\":[2]},{\"__ndarray__\":\"YNB0fNukHUFGUTGx3qQdQQ==\",\"dtype\":\"float64\",\"order\":\"little\",\"shape\":[2]},{\"__ndarray__\":\"RlExsd6kHUF5u/jS6aQdQQ==\",\"dtype\":\"float64\",\"order\":\"little\",\"shape\":[2]},{\"__ndarray__\":\"ebv40umkHUExzKX+5aQdQQ==\",\"dtype\":\"float64\",\"order\":\"little\",\"shape\":[2]},{\"__ndarray__\":\"Mcyl/uWkHUHhFZfj6KQdQQ==\",\"dtype\":\"float64\",\"order\":\"little\",\"shape\":[2]},{\"__ndarray__\":\"4RWX4+ikHUHOWmtr56QdQQ==\",\"dtype\":\"float64\",\"order\":\"little\",\"shape\":[2]},{\"__ndarray__\":\"zlpra+ekHUGTX4jI66QdQQ==\",\"dtype\":\"float64\",\"order\":\"little\",\"shape\":[2]},{\"__ndarray__\":\"k1+IyOukHUE/0WnL8aQdQQ==\",\"dtype\":\"float64\",\"order\":\"little\",\"shape\":[2]},{\"__ndarray__\":\"P9Fpy/GkHUEQqE4j96QdQQ==\",\"dtype\":\"float64\",\"order\":\"little\",\"shape\":[2]},{\"__ndarray__\":\"EKhOI/ekHUF4SeGUAqUdQQ==\",\"dtype\":\"float64\",\"order\":\"little\",\"shape\":[2]},{\"__ndarray__\":\"eEnhlAKlHUH3fa9gDKUdQQ==\",\"dtype\":\"float64\",\"order\":\"little\",\"shape\":[2]},{\"__ndarray__\":\"932vYAylHUGlAOX+FaUdQQ==\",\"dtype\":\"float64\",\"order\":\"little\",\"shape\":[2]},{\"__ndarray__\":\"pQDl/hWlHUFtJAafI6UdQQ==\",\"dtype\":\"float64\",\"order\":\"little\",\"shape\":[2]},{\"__ndarray__\":\"bSQGnyOlHUH3YDwrN6UdQQ==\",\"dtype\":\"float64\",\"order\":\"little\",\"shape\":[2]},{\"__ndarray__\":\"92A8KzelHUHk7AQUQqUdQQ==\",\"dtype\":\"float64\",\"order\":\"little\",\"shape\":[2]},{\"__ndarray__\":\"5OwEFEKlHUEm8/NqRaUdQQ==\",\"dtype\":\"float64\",\"order\":\"little\",\"shape\":[2]},{\"__ndarray__\":\"JvPzakWlHUHvxqUDc6UdQQ==\",\"dtype\":\"float64\",\"order\":\"little\",\"shape\":[2]},{\"__ndarray__\":\"78alA3OlHUFdqeTujqUdQQ==\",\"dtype\":\"float64\",\"order\":\"little\",\"shape\":[2]},{\"__ndarray__\":\"Xank7o6lHUE2rX0xo6UdQQ==\",\"dtype\":\"float64\",\"order\":\"little\",\"shape\":[2]},{\"__ndarray__\":\"Nq19MaOlHUE+7imrs6UdQQ==\",\"dtype\":\"float64\",\"order\":\"little\",\"shape\":[2]},{\"__ndarray__\":\"Pu4pq7OlHUGyctiyw6UdQQ==\",\"dtype\":\"float64\",\"order\":\"little\",\"shape\":[2]},{\"__ndarray__\":\"snLYssOlHUEh6dYSzqUdQQ==\",\"dtype\":\"float64\",\"order\":\"little\",\"shape\":[2]},{\"__ndarray__\":\"IenWEs6lHUHu+P8j2qUdQQ==\",\"dtype\":\"float64\",\"order\":\"little\",\"shape\":[2]},{\"__ndarray__\":\"7vj/I9qlHUGPASJL4qUdQQ==\",\"dtype\":\"float64\",\"order\":\"little\",\"shape\":[2]},{\"__ndarray__\":\"jwEiS+KlHUEpXX9e6aUdQQ==\",\"dtype\":\"float64\",\"order\":\"little\",\"shape\":[2]},{\"__ndarray__\":\"KV1/XumlHUFc2z4P9qUdQQ==\",\"dtype\":\"float64\",\"order\":\"little\",\"shape\":[2]},{\"__ndarray__\":\"XNs+D/alHUGTQmI9A6YdQQ==\",\"dtype\":\"float64\",\"order\":\"little\",\"shape\":[2]},{\"__ndarray__\":\"k0JiPQOmHUG/6BEME6YdQQ==\",\"dtype\":\"float64\",\"order\":\"little\",\"shape\":[2]},{\"__ndarray__\":\"v+gRDBOmHUFyZf/CIKYdQQ==\",\"dtype\":\"float64\",\"order\":\"little\",\"shape\":[2]},{\"__ndarray__\":\"cmX/wiCmHUFNM/g/LKYdQQ==\",\"dtype\":\"float64\",\"order\":\"little\",\"shape\":[2]},{\"__ndarray__\":\"TTP4PyymHUHRZCIYOKYdQQ==\",\"dtype\":\"float64\",\"order\":\"little\",\"shape\":[2]},{\"__ndarray__\":\"0WQiGDimHUF6IJxvSKYdQQ==\",\"dtype\":\"float64\",\"order\":\"little\",\"shape\":[2]},{\"__ndarray__\":\"eiCcb0imHUG1hBuqV6YdQQ==\",\"dtype\":\"float64\",\"order\":\"little\",\"shape\":[2]},{\"__ndarray__\":\"tYQbqlemHUHNb58AZqYdQQ==\",\"dtype\":\"float64\",\"order\":\"little\",\"shape\":[2]},{\"__ndarray__\":\"zW+fAGamHUHqId+dbaYdQQ==\",\"dtype\":\"float64\",\"order\":\"little\",\"shape\":[2]},{\"__ndarray__\":\"6iHfnW2mHUHL29+Ld6YdQQ==\",\"dtype\":\"float64\",\"order\":\"little\",\"shape\":[2]},{\"__ndarray__\":\"y9vfi3emHUEHCr8AfqYdQQ==\",\"dtype\":\"float64\",\"order\":\"little\",\"shape\":[2]},{\"__ndarray__\":\"Bwq/AH6mHUFk1uWDiqYdQQ==\",\"dtype\":\"float64\",\"order\":\"little\",\"shape\":[2]},{\"__ndarray__\":\"ZNblg4qmHUGEUoVbiaYdQQ==\",\"dtype\":\"float64\",\"order\":\"little\",\"shape\":[2]},{\"__ndarray__\":\"hFKFW4mmHUFtMWE/cqYdQQ==\",\"dtype\":\"float64\",\"order\":\"little\",\"shape\":[2]},{\"__ndarray__\":\"bTFhP3KmHUHR9z/bgqYdQQ==\",\"dtype\":\"float64\",\"order\":\"little\",\"shape\":[2]},{\"__ndarray__\":\"0fc/24KmHUHbdGPNcaYdQQ==\",\"dtype\":\"float64\",\"order\":\"little\",\"shape\":[2]},{\"__ndarray__\":\"23RjzXGmHUE91UnFbKYdQQ==\",\"dtype\":\"float64\",\"order\":\"little\",\"shape\":[2]},{\"__ndarray__\":\"PdVJxWymHUEcsfLpfaYdQQ==\",\"dtype\":\"float64\",\"order\":\"little\",\"shape\":[2]},{\"__ndarray__\":\"HLHy6X2mHUF/M4EYgKYdQQ==\",\"dtype\":\"float64\",\"order\":\"little\",\"shape\":[2]},{\"__ndarray__\":\"fzOBGICmHUEc+OZKiqYdQQ==\",\"dtype\":\"float64\",\"order\":\"little\",\"shape\":[2]},{\"__ndarray__\":\"HPjmSoqmHUEu4dmTZKYdQQ==\",\"dtype\":\"float64\",\"order\":\"little\",\"shape\":[2]}],\"ys\":[{\"__ndarray__\":\"IgZ4iTImWUGAoNQSMCZZQQ==\",\"dtype\":\"float64\",\"order\":\"little\",\"shape\":[2]},{\"__ndarray__\":\"gKDUEjAmWUGsCl1fLiZZQQ==\",\"dtype\":\"float64\",\"order\":\"little\",\"shape\":[2]},{\"__ndarray__\":\"rApdXy4mWUH750YHLSZZQQ==\",\"dtype\":\"float64\",\"order\":\"little\",\"shape\":[2]},{\"__ndarray__\":\"++dGBy0mWUEE1XA1LCZZQQ==\",\"dtype\":\"float64\",\"order\":\"little\",\"shape\":[2]},{\"__ndarray__\":\"BNVwNSwmWUHfiCz2KiZZQQ==\",\"dtype\":\"float64\",\"order\":\"little\",\"shape\":[2]},{\"__ndarray__\":\"34gs9iomWUGM94ZbKSZZQQ==\",\"dtype\":\"float64\",\"order\":\"little\",\"shape\":[2]},{\"__ndarray__\":\"jPeGWykmWUEHiynMJyZZQQ==\",\"dtype\":\"float64\",\"order\":\"little\",\"shape\":[2]},{\"__ndarray__\":\"B4spzCcmWUEUZEGHJiZZQQ==\",\"dtype\":\"float64\",\"order\":\"little\",\"shape\":[2]},{\"__ndarray__\":\"FGRBhyYmWUHWsh4dJSZZQQ==\",\"dtype\":\"float64\",\"order\":\"little\",\"shape\":[2]},{\"__ndarray__\":\"1rIeHSUmWUGYigmZIyZZQQ==\",\"dtype\":\"float64\",\"order\":\"little\",\"shape\":[2]},{\"__ndarray__\":\"mIoJmSMmWUHPXqUsIiZZQQ==\",\"dtype\":\"float64\",\"order\":\"little\",\"shape\":[2]},{\"__ndarray__\":\"z16lLCImWUGxG0f1ICZZQQ==\",\"dtype\":\"float64\",\"order\":\"little\",\"shape\":[2]},{\"__ndarray__\":\"sRtH9SAmWUFU+/Z3HyZZQQ==\",\"dtype\":\"float64\",\"order\":\"little\",\"shape\":[2]},{\"__ndarray__\":\"VPv2dx8mWUHmrz7CHSZZQQ==\",\"dtype\":\"float64\",\"order\":\"little\",\"shape\":[2]},{\"__ndarray__\":\"5q8+wh0mWUGtLn6HHCZZQQ==\",\"dtype\":\"float64\",\"order\":\"little\",\"shape\":[2]},{\"__ndarray__\":\"rS5+hxwmWUHGMyctGyZZQQ==\",\"dtype\":\"float64\",\"order\":\"little\",\"shape\":[2]},{\"__ndarray__\":\"xjMnLRsmWUGLdAvMGSZZQQ==\",\"dtype\":\"float64\",\"order\":\"little\",\"shape\":[2]},{\"__ndarray__\":\"i3QLzBkmWUEq01JCGCZZQQ==\",\"dtype\":\"float64\",\"order\":\"little\",\"shape\":[2]},{\"__ndarray__\":\"KtNSQhgmWUFF6iPGFiZZQQ==\",\"dtype\":\"float64\",\"order\":\"little\",\"shape\":[2]},{\"__ndarray__\":\"ReojxhYmWUE+2KAAFSZZQQ==\",\"dtype\":\"float64\",\"order\":\"little\",\"shape\":[2]},{\"__ndarray__\":\"PtigABUmWUFpPGVyEyZZQQ==\",\"dtype\":\"float64\",\"order\":\"little\",\"shape\":[2]},{\"__ndarray__\":\"aTxlchMmWUGNDnEbEiZZQQ==\",\"dtype\":\"float64\",\"order\":\"little\",\"shape\":[2]},{\"__ndarray__\":\"jQ5xGxImWUHcMOzZECZZQQ==\",\"dtype\":\"float64\",\"order\":\"little\",\"shape\":[2]},{\"__ndarray__\":\"3DDs2RAmWUEynTKoDyZZQQ==\",\"dtype\":\"float64\",\"order\":\"little\",\"shape\":[2]},{\"__ndarray__\":\"Mp0yqA8mWUEw5vrSDiZZQQ==\",\"dtype\":\"float64\",\"order\":\"little\",\"shape\":[2]},{\"__ndarray__\":\"MOb60g4mWUEEpxESDiZZQQ==\",\"dtype\":\"float64\",\"order\":\"little\",\"shape\":[2]},{\"__ndarray__\":\"BKcREg4mWUFm2myjDCZZQQ==\",\"dtype\":\"float64\",\"order\":\"little\",\"shape\":[2]},{\"__ndarray__\":\"ZtpsowwmWUES6PfDCiZZQQ==\",\"dtype\":\"float64\",\"order\":\"little\",\"shape\":[2]},{\"__ndarray__\":\"Euj3wwomWUGJG6hyCSZZQQ==\",\"dtype\":\"float64\",\"order\":\"little\",\"shape\":[2]},{\"__ndarray__\":\"iRuocgkmWUGU343lByZZQQ==\",\"dtype\":\"float64\",\"order\":\"little\",\"shape\":[2]},{\"__ndarray__\":\"lN+N5QcmWUEQ6lJXBiZZQQ==\",\"dtype\":\"float64\",\"order\":\"little\",\"shape\":[2]},{\"__ndarray__\":\"EOpSVwYmWUEwXm6OBCZZQQ==\",\"dtype\":\"float64\",\"order\":\"little\",\"shape\":[2]},{\"__ndarray__\":\"MF5ujgQmWUG4se+BAyZZQQ==\",\"dtype\":\"float64\",\"order\":\"little\",\"shape\":[2]},{\"__ndarray__\":\"uLHvgQMmWUGlvenjASZZQQ==\",\"dtype\":\"float64\",\"order\":\"little\",\"shape\":[2]},{\"__ndarray__\":\"pb3p4wEmWUGw93fpACZZQQ==\",\"dtype\":\"float64\",\"order\":\"little\",\"shape\":[2]},{\"__ndarray__\":\"sPd36QAmWUEn1Ov2/yVZQQ==\",\"dtype\":\"float64\",\"order\":\"little\",\"shape\":[2]},{\"__ndarray__\":\"J9Tr9v8lWUGzHsIH/yVZQQ==\",\"dtype\":\"float64\",\"order\":\"little\",\"shape\":[2]},{\"__ndarray__\":\"sx7CB/8lWUGBbDDg/SVZQQ==\",\"dtype\":\"float64\",\"order\":\"little\",\"shape\":[2]},{\"__ndarray__\":\"gWww4P0lWUFzYKTt/CVZQQ==\",\"dtype\":\"float64\",\"order\":\"little\",\"shape\":[2]},{\"__ndarray__\":\"c2Ck7fwlWUE+9SXh+yVZQQ==\",\"dtype\":\"float64\",\"order\":\"little\",\"shape\":[2]},{\"__ndarray__\":\"PvUl4fslWUF7LbW6+iVZQQ==\",\"dtype\":\"float64\",\"order\":\"little\",\"shape\":[2]},{\"__ndarray__\":\"ey21uvolWUGbchB4+SVZQQ==\",\"dtype\":\"float64\",\"order\":\"little\",\"shape\":[2]},{\"__ndarray__\":\"m3IQePklWUGqoHS69yVZQQ==\",\"dtype\":\"float64\",\"order\":\"little\",\"shape\":[2]},{\"__ndarray__\":\"qqB0uvclWUHnPddU9iVZQQ==\",\"dtype\":\"float64\",\"order\":\"little\",\"shape\":[2]},{\"__ndarray__\":\"5z3XVPYlWUFZSXQU9SVZQQ==\",\"dtype\":\"float64\",\"order\":\"little\",\"shape\":[2]},{\"__ndarray__\":\"WUl0FPUlWUHQz5u18yVZQQ==\",\"dtype\":\"float64\",\"order\":\"little\",\"shape\":[2]},{\"__ndarray__\":\"0M+btfMlWUFDK3Ru8iVZQQ==\",\"dtype\":\"float64\",\"order\":\"little\",\"shape\":[2]},{\"__ndarray__\":\"Qyt0bvIlWUH/bfEA8SVZQQ==\",\"dtype\":\"float64\",\"order\":\"little\",\"shape\":[2]},{\"__ndarray__\":\"/23xAPElWUHBPQTf7yVZQQ==\",\"dtype\":\"float64\",\"order\":\"little\",\"shape\":[2]},{\"__ndarray__\":\"wT0E3+8lWUGbwziS7iVZQQ==\",\"dtype\":\"float64\",\"order\":\"little\",\"shape\":[2]},{\"__ndarray__\":\"m8M4ku4lWUGsOnmD7SVZQQ==\",\"dtype\":\"float64\",\"order\":\"little\",\"shape\":[2]},{\"__ndarray__\":\"rDp5g+0lWUFAMERW7CVZQQ==\",\"dtype\":\"float64\",\"order\":\"little\",\"shape\":[2]},{\"__ndarray__\":\"QDBEVuwlWUEhNGsj6yVZQQ==\",\"dtype\":\"float64\",\"order\":\"little\",\"shape\":[2]},{\"__ndarray__\":\"ITRrI+slWUGhJl4k6CVZQQ==\",\"dtype\":\"float64\",\"order\":\"little\",\"shape\":[2]},{\"__ndarray__\":\"oSZeJOglWUEjGVEl5SVZQQ==\",\"dtype\":\"float64\",\"order\":\"little\",\"shape\":[2]},{\"__ndarray__\":\"IxlRJeUlWUGKsfO55SVZQQ==\",\"dtype\":\"float64\",\"order\":\"little\",\"shape\":[2]},{\"__ndarray__\":\"irHzueUlWUHsSZZO5iVZQQ==\",\"dtype\":\"float64\",\"order\":\"little\",\"shape\":[2]},{\"__ndarray__\":\"7EmWTuYlWUHU+dCf5SVZQQ==\",\"dtype\":\"float64\",\"order\":\"little\",\"shape\":[2]},{\"__ndarray__\":\"1PnQn+UlWUHDqQvx5CVZQQ==\",\"dtype\":\"float64\",\"order\":\"little\",\"shape\":[2]},{\"__ndarray__\":\"w6kL8eQlWUFQE5KR5CVZQQ==\",\"dtype\":\"float64\",\"order\":\"little\",\"shape\":[2]},{\"__ndarray__\":\"UBOSkeQlWUHcfBgy5CVZQQ==\",\"dtype\":\"float64\",\"order\":\"little\",\"shape\":[2]},{\"__ndarray__\":\"3HwYMuQlWUHYU//F4yVZQQ==\",\"dtype\":\"float64\",\"order\":\"little\",\"shape\":[2]},{\"__ndarray__\":\"2FP/xeMlWUHUKuZZ4yVZQQ==\",\"dtype\":\"float64\",\"order\":\"little\",\"shape\":[2]},{\"__ndarray__\":\"1CrmWeMlWUG6Lny44yVZQQ==\",\"dtype\":\"float64\",\"order\":\"little\",\"shape\":[2]},{\"__ndarray__\":\"ui58uOMlWUGaMhIX5CVZQQ==\",\"dtype\":\"float64\",\"order\":\"little\",\"shape\":[2]},{\"__ndarray__\":\"mjISF+QlWUFJvS4b5SVZQQ==\",\"dtype\":\"float64\",\"order\":\"little\",\"shape\":[2]},{\"__ndarray__\":\"Sb0uG+UlWUH9R0sf5iVZQQ==\",\"dtype\":\"float64\",\"order\":\"little\",\"shape\":[2]},{\"__ndarray__\":\"/UdLH+YlWUEQbxlc5iVZQQ==\",\"dtype\":\"float64\",\"order\":\"little\",\"shape\":[2]},{\"__ndarray__\":\"EG8ZXOYlWUEdlueY5iVZQQ==\",\"dtype\":\"float64\",\"order\":\"little\",\"shape\":[2]},{\"__ndarray__\":\"HZbnmOYlWUHBU4aA5SVZQQ==\",\"dtype\":\"float64\",\"order\":\"little\",\"shape\":[2]},{\"__ndarray__\":\"wVOGgOUlWUFeESVo5CVZQQ==\",\"dtype\":\"float64\",\"order\":\"little\",\"shape\":[2]},{\"__ndarray__\":\"XhElaOQlWUE5QB9i5SVZQQ==\",\"dtype\":\"float64\",\"order\":\"little\",\"shape\":[2]},{\"__ndarray__\":\"OUAfYuUlWUELbxlc5iVZQQ==\",\"dtype\":\"float64\",\"order\":\"little\",\"shape\":[2]},{\"__ndarray__\":\"C28ZXOYlWUE4klE65iVZQQ==\",\"dtype\":\"float64\",\"order\":\"little\",\"shape\":[2]},{\"__ndarray__\":\"OJJROuYlWUFntYkY5iVZQQ==\",\"dtype\":\"float64\",\"order\":\"little\",\"shape\":[2]},{\"__ndarray__\":\"Z7WJGOYlWUEF8L5z5iVZQQ==\",\"dtype\":\"float64\",\"order\":\"little\",\"shape\":[2]},{\"__ndarray__\":\"BfC+c+YlWUGgKvTO5iVZQQ==\",\"dtype\":\"float64\",\"order\":\"little\",\"shape\":[2]},{\"__ndarray__\":\"oCr0zuYlWUFUNOvG5SVZQQ==\",\"dtype\":\"float64\",\"order\":\"little\",\"shape\":[2]},{\"__ndarray__\":\"VDTrxuUlWUEHPuK+5CVZQQ==\",\"dtype\":\"float64\",\"order\":\"little\",\"shape\":[2]},{\"__ndarray__\":\"Bz7ivuQlWUEplBx15CVZQQ==\",\"dtype\":\"float64\",\"order\":\"little\",\"shape\":[2]},{\"__ndarray__\":\"KZQcdeQlWUFN6lYr5CVZQQ==\",\"dtype\":\"float64\",\"order\":\"little\",\"shape\":[2]},{\"__ndarray__\":\"TepWK+QlWUF8X8Hh5CVZQQ==\",\"dtype\":\"float64\",\"order\":\"little\",\"shape\":[2]},{\"__ndarray__\":\"fF/B4eQlWUGy1CuY5SVZQQ==\",\"dtype\":\"float64\",\"order\":\"little\",\"shape\":[2]},{\"__ndarray__\":\"stQrmOUlWUHD+/nU5SVZQQ==\",\"dtype\":\"float64\",\"order\":\"little\",\"shape\":[2]},{\"__ndarray__\":\"w/v51OUlWUHZIsgR5iVZQQ==\",\"dtype\":\"float64\",\"order\":\"little\",\"shape\":[2]},{\"__ndarray__\":\"2SLIEeYlWUFljHCs5SVZQQ==\",\"dtype\":\"float64\",\"order\":\"little\",\"shape\":[2]},{\"__ndarray__\":\"ZYxwrOUlWUHz9RhH5SVZQQ==\",\"dtype\":\"float64\",\"order\":\"little\",\"shape\":[2]},{\"__ndarray__\":\"8/UYR+UlWUG0qxIs5SVZQQ==\",\"dtype\":\"float64\",\"order\":\"little\",\"shape\":[2]},{\"__ndarray__\":\"tKsSLOUlWUFvYQwR5SVZQQ==\",\"dtype\":\"float64\",\"order\":\"little\",\"shape\":[2]},{\"__ndarray__\":\"b2EMEeUlWUGygvm/5CVZQQ==\",\"dtype\":\"float64\",\"order\":\"little\",\"shape\":[2]},{\"__ndarray__\":\"soL5v+QlWUHuo+Zu5CVZQQ==\",\"dtype\":\"float64\",\"order\":\"little\",\"shape\":[2]},{\"__ndarray__\":\"7qPmbuQlWUE3RC4G5CVZQQ==\",\"dtype\":\"float64\",\"order\":\"little\",\"shape\":[2]},{\"__ndarray__\":\"N0QuBuQlWUF35HWd4yVZQQ==\",\"dtype\":\"float64\",\"order\":\"little\",\"shape\":[2]},{\"__ndarray__\":\"d+R1neMlWUEzSD2q4iVZQQ==\",\"dtype\":\"float64\",\"order\":\"little\",\"shape\":[2]},{\"__ndarray__\":\"M0g9quIlWUHqqwS34SVZQQ==\",\"dtype\":\"float64\",\"order\":\"little\",\"shape\":[2]},{\"__ndarray__\":\"6qsEt+ElWUF2KL+r5SVZQQ==\",\"dtype\":\"float64\",\"order\":\"little\",\"shape\":[2]},{\"__ndarray__\":\"dii/q+UlWUECpXmg6SVZQQ==\",\"dtype\":\"float64\",\"order\":\"little\",\"shape\":[2]},{\"__ndarray__\":\"AqV5oOklWUGyoR636iVZQQ==\",\"dtype\":\"float64\",\"order\":\"little\",\"shape\":[2]},{\"__ndarray__\":\"sqEet+olWUG9xx706yVZQQ==\",\"dtype\":\"float64\",\"order\":\"little\",\"shape\":[2]},{\"__ndarray__\":\"vcce9OslWUGICfZ+7SVZQQ==\",\"dtype\":\"float64\",\"order\":\"little\",\"shape\":[2]},{\"__ndarray__\":\"iAn2fu0lWUHw2sfU7iVZQQ==\",\"dtype\":\"float64\",\"order\":\"little\",\"shape\":[2]},{\"__ndarray__\":\"8NrH1O4lWUGKUX8y8CVZQQ==\",\"dtype\":\"float64\",\"order\":\"little\",\"shape\":[2]},{\"__ndarray__\":\"ilF/MvAlWUGL4l5u8SVZQQ==\",\"dtype\":\"float64\",\"order\":\"little\",\"shape\":[2]},{\"__ndarray__\":\"i+JebvElWUHOwP178iVZQQ==\",\"dtype\":\"float64\",\"order\":\"little\",\"shape\":[2]},{\"__ndarray__\":\"zsD9e/IlWUEp+fbb8yVZQQ==\",\"dtype\":\"float64\",\"order\":\"little\",\"shape\":[2]},{\"__ndarray__\":\"Kfn22/MlWUGfplI/9SVZQQ==\",\"dtype\":\"float64\",\"order\":\"little\",\"shape\":[2]},{\"__ndarray__\":\"n6ZSP/UlWUEb3UA19iVZQQ==\",\"dtype\":\"float64\",\"order\":\"little\",\"shape\":[2]},{\"__ndarray__\":\"G91ANfYlWUG9UtoN9yVZQQ==\",\"dtype\":\"float64\",\"order\":\"little\",\"shape\":[2]},{\"__ndarray__\":\"vVLaDfclWUHN0T/K9yVZQQ==\",\"dtype\":\"float64\",\"order\":\"little\",\"shape\":[2]},{\"__ndarray__\":\"zdE/yvclWUEJ4DIh+SVZQQ==\",\"dtype\":\"float64\",\"order\":\"little\",\"shape\":[2]},{\"__ndarray__\":\"CeAyIfklWUF9y8pR+iVZQQ==\",\"dtype\":\"float64\",\"order\":\"little\",\"shape\":[2]},{\"__ndarray__\":\"fcvKUfolWUF7XMxi+yVZQQ==\",\"dtype\":\"float64\",\"order\":\"little\",\"shape\":[2]},{\"__ndarray__\":\"e1zMYvslWUHkwnJN/CVZQQ==\",\"dtype\":\"float64\",\"order\":\"little\",\"shape\":[2]},{\"__ndarray__\":\"5MJyTfwlWUFF/d0+/SVZQQ==\",\"dtype\":\"float64\",\"order\":\"little\",\"shape\":[2]},{\"__ndarray__\":\"Rf3dPv0lWUG/Dy5k/iVZQQ==\",\"dtype\":\"float64\",\"order\":\"little\",\"shape\":[2]},{\"__ndarray__\":\"vw8uZP4lWUFac6kgACZZQQ==\",\"dtype\":\"float64\",\"order\":\"little\",\"shape\":[2]},{\"__ndarray__\":\"WnOpIAAmWUGsCoVkAiZZQQ==\",\"dtype\":\"float64\",\"order\":\"little\",\"shape\":[2]},{\"__ndarray__\":\"rAqFZAImWUHziTCwAyZZQQ==\",\"dtype\":\"float64\",\"order\":\"little\",\"shape\":[2]},{\"__ndarray__\":\"84kwsAMmWUHxoLXFBCZZQQ==\",\"dtype\":\"float64\",\"order\":\"little\",\"shape\":[2]},{\"__ndarray__\":\"8aC1xQQmWUHkIpSDCSZZQQ==\",\"dtype\":\"float64\",\"order\":\"little\",\"shape\":[2]},{\"__ndarray__\":\"5CKUgwkmWUFwMV0XCiZZQQ==\",\"dtype\":\"float64\",\"order\":\"little\",\"shape\":[2]},{\"__ndarray__\":\"cDFdFwomWUFn9a/NEiZZQQ==\",\"dtype\":\"float64\",\"order\":\"little\",\"shape\":[2]},{\"__ndarray__\":\"Z/WvzRImWUEZq95/EiZZQQ==\",\"dtype\":\"float64\",\"order\":\"little\",\"shape\":[2]},{\"__ndarray__\":\"GavefxImWUHGYA0yEiZZQQ==\",\"dtype\":\"float64\",\"order\":\"little\",\"shape\":[2]},{\"__ndarray__\":\"xmANMhImWUGAwMWaEiZZQQ==\",\"dtype\":\"float64\",\"order\":\"little\",\"shape\":[2]},{\"__ndarray__\":\"gMDFmhImWUE+IH4DEyZZQQ==\",\"dtype\":\"float64\",\"order\":\"little\",\"shape\":[2]},{\"__ndarray__\":\"PiB+AxMmWUFBdr9/EiZZQQ==\",\"dtype\":\"float64\",\"order\":\"little\",\"shape\":[2]},{\"__ndarray__\":\"QXa/fxImWUFEzAD8ESZZQQ==\",\"dtype\":\"float64\",\"order\":\"little\",\"shape\":[2]},{\"__ndarray__\":\"RMwA/BEmWUEmhj52ESZZQQ==\",\"dtype\":\"float64\",\"order\":\"little\",\"shape\":[2]},{\"__ndarray__\":\"JoY+dhEmWUEAQHzwECZZQQ==\",\"dtype\":\"float64\",\"order\":\"little\",\"shape\":[2]},{\"__ndarray__\":\"AEB88BAmWUHbM+++ESZZQQ==\",\"dtype\":\"float64\",\"order\":\"little\",\"shape\":[2]},{\"__ndarray__\":\"2zPvvhEmWUFqlDdfEyZZQQ==\",\"dtype\":\"float64\",\"order\":\"little\",\"shape\":[2]},{\"__ndarray__\":\"apQ3XxMmWUEJZ82qEyZZQQ==\",\"dtype\":\"float64\",\"order\":\"little\",\"shape\":[2]},{\"__ndarray__\":\"CWfNqhMmWUEwyF0AEiZZQQ==\",\"dtype\":\"float64\",\"order\":\"little\",\"shape\":[2]},{\"__ndarray__\":\"MMhdABImWUHvYYcbEyZZQQ==\",\"dtype\":\"float64\",\"order\":\"little\",\"shape\":[2]},{\"__ndarray__\":\"72GHGxMmWUG75gjjESZZQQ==\",\"dtype\":\"float64\",\"order\":\"little\",\"shape\":[2]},{\"__ndarray__\":\"u+YI4xEmWUFWqvisEiZZQQ==\",\"dtype\":\"float64\",\"order\":\"little\",\"shape\":[2]},{\"__ndarray__\":\"Vqr4rBImWUE/JzFWEyZZQQ==\",\"dtype\":\"float64\",\"order\":\"little\",\"shape\":[2]},{\"__ndarray__\":\"PycxVhMmWUGOhTR6EiZZQQ==\",\"dtype\":\"float64\",\"order\":\"little\",\"shape\":[2]},{\"__ndarray__\":\"joU0ehImWUG8X1bkEyZZQQ==\",\"dtype\":\"float64\",\"order\":\"little\",\"shape\":[2]},{\"__ndarray__\":\"vF9W5BMmWUFrsLEKFCZZQQ==\",\"dtype\":\"float64\",\"order\":\"little\",\"shape\":[2]},{\"__ndarray__\":\"a7CxChQmWUGNskC4EiZZQQ==\",\"dtype\":\"float64\",\"order\":\"little\",\"shape\":[2]},{\"__ndarray__\":\"jbJAuBImWUEQXcxBEiZZQQ==\",\"dtype\":\"float64\",\"order\":\"little\",\"shape\":[2]},{\"__ndarray__\":\"EF3MQRImWUGlrxCUESZZQQ==\",\"dtype\":\"float64\",\"order\":\"little\",\"shape\":[2]},{\"__ndarray__\":\"pa8QlBEmWUG0LpFIEiZZQQ==\",\"dtype\":\"float64\",\"order\":\"little\",\"shape\":[2]},{\"__ndarray__\":\"tC6RSBImWUG3chcyEyZZQQ==\",\"dtype\":\"float64\",\"order\":\"little\",\"shape\":[2]},{\"__ndarray__\":\"t3IXMhMmWUERdAKTEiZZQQ==\",\"dtype\":\"float64\",\"order\":\"little\",\"shape\":[2]},{\"__ndarray__\":\"EXQCkxImWUFude3zESZZQQ==\",\"dtype\":\"float64\",\"order\":\"little\",\"shape\":[2]},{\"__ndarray__\":\"bnXt8xEmWUGV6iHsEiZZQQ==\",\"dtype\":\"float64\",\"order\":\"little\",\"shape\":[2]},{\"__ndarray__\":\"leoh7BImWUG8X1bkEyZZQQ==\",\"dtype\":\"float64\",\"order\":\"little\",\"shape\":[2]},{\"__ndarray__\":\"vF9W5BMmWUEvEv05EyZZQQ==\",\"dtype\":\"float64\",\"order\":\"little\",\"shape\":[2]},{\"__ndarray__\":\"LxL9ORMmWUGWGl0sEiZZQQ==\",\"dtype\":\"float64\",\"order\":\"little\",\"shape\":[2]},{\"__ndarray__\":\"lhpdLBImWUHDq/dDESZZQQ==\",\"dtype\":\"float64\",\"order\":\"little\",\"shape\":[2]},{\"__ndarray__\":\"w6v3QxEmWUEd273yECZZQQ==\",\"dtype\":\"float64\",\"order\":\"little\",\"shape\":[2]},{\"__ndarray__\":\"Hdu98hAmWUFbjEmjESZZQQ==\",\"dtype\":\"float64\",\"order\":\"little\",\"shape\":[2]},{\"__ndarray__\":\"W4xJoxEmWUGaPdVTEiZZQQ==\",\"dtype\":\"float64\",\"order\":\"little\",\"shape\":[2]},{\"__ndarray__\":\"mj3VUxImWUEFVdLQEiZZQQ==\",\"dtype\":\"float64\",\"order\":\"little\",\"shape\":[2]},{\"__ndarray__\":\"BVXS0BImWUFsbM9NEyZZQQ==\",\"dtype\":\"float64\",\"order\":\"little\",\"shape\":[2]},{\"__ndarray__\":\"bGzPTRMmWUHPWpBoEyZZQQ==\",\"dtype\":\"float64\",\"order\":\"little\",\"shape\":[2]},{\"__ndarray__\":\"z1qQaBMmWUErSVGDEyZZQQ==\",\"dtype\":\"float64\",\"order\":\"little\",\"shape\":[2]},{\"__ndarray__\":\"K0lRgxMmWUEjBClE/SVZQQ==\",\"dtype\":\"float64\",\"order\":\"little\",\"shape\":[2]},{\"__ndarray__\":\"IwQpRP0lWUEgvwAF5yVZQQ==\",\"dtype\":\"float64\",\"order\":\"little\",\"shape\":[2]},{\"__ndarray__\":\"IL8ABeclWUEjl0nT5SVZQQ==\",\"dtype\":\"float64\",\"order\":\"little\",\"shape\":[2]},{\"__ndarray__\":\"I5dJ0+UlWUEnb5Kh5CVZQQ==\",\"dtype\":\"float64\",\"order\":\"little\",\"shape\":[2]},{\"__ndarray__\":\"J2+SoeQlWUFGPzZt5CVZQQ==\",\"dtype\":\"float64\",\"order\":\"little\",\"shape\":[2]},{\"__ndarray__\":\"Rj82beQlWUFoD9o45CVZQQ==\",\"dtype\":\"float64\",\"order\":\"little\",\"shape\":[2]},{\"__ndarray__\":\"aA/aOOQlWUGtryHQ4yVZQQ==\",\"dtype\":\"float64\",\"order\":\"little\",\"shape\":[2]},{\"__ndarray__\":\"ra8h0OMlWUHyT2ln4yVZQQ==\",\"dtype\":\"float64\",\"order\":\"little\",\"shape\":[2]},{\"__ndarray__\":\"8k9pZ+MlWUHt/rja3iVZQQ==\",\"dtype\":\"float64\",\"order\":\"little\",\"shape\":[2]},{\"__ndarray__\":\"7f642t4lWUHgrQhO2iVZQQ==\",\"dtype\":\"float64\",\"order\":\"little\",\"shape\":[2]},{\"__ndarray__\":\"4K0ITtolWUHJklSp2SVZQQ==\",\"dtype\":\"float64\",\"order\":\"little\",\"shape\":[2]},{\"__ndarray__\":\"yZJUqdklWUEkU3n62CVZQQ==\",\"dtype\":\"float64\",\"order\":\"little\",\"shape\":[2]},{\"__ndarray__\":\"JFN5+tglWUEG9tI72CVZQQ==\",\"dtype\":\"float64\",\"order\":\"little\",\"shape\":[2]},{\"__ndarray__\":\"BvbSO9glWUHH/49U1yVZQQ==\",\"dtype\":\"float64\",\"order\":\"little\",\"shape\":[2]},{\"__ndarray__\":\"x/+PVNclWUG6RCxs1iVZQQ==\",\"dtype\":\"float64\",\"order\":\"little\",\"shape\":[2]},{\"__ndarray__\":\"ukQsbNYlWUGs2btx1SVZQQ==\",\"dtype\":\"float64\",\"order\":\"little\",\"shape\":[2]},{\"__ndarray__\":\"rNm7cdUlWUGoFY8h1CVZQQ==\",\"dtype\":\"float64\",\"order\":\"little\",\"shape\":[2]},{\"__ndarray__\":\"qBWPIdQlWUGCBxIV0yVZQQ==\",\"dtype\":\"float64\",\"order\":\"little\",\"shape\":[2]},{\"__ndarray__\":\"ggcSFdMlWUGFIGAY0iVZQQ==\",\"dtype\":\"float64\",\"order\":\"little\",\"shape\":[2]},{\"__ndarray__\":\"hSBgGNIlWUEhp/+r0CVZQQ==\",\"dtype\":\"float64\",\"order\":\"little\",\"shape\":[2]},{\"__ndarray__\":\"Iaf/q9AlWUEQk8lX1SVZQQ==\",\"dtype\":\"float64\",\"order\":\"little\",\"shape\":[2]},{\"__ndarray__\":\"EJPJV9UlWUE17CcL1iVZQQ==\",\"dtype\":\"float64\",\"order\":\"little\",\"shape\":[2]},{\"__ndarray__\":\"NewnC9YlWUFS9dyD1iVZQQ==\",\"dtype\":\"float64\",\"order\":\"little\",\"shape\":[2]},{\"__ndarray__\":\"UvXcg9YlWUEOtTvp1CVZQQ==\",\"dtype\":\"float64\",\"order\":\"little\",\"shape\":[2]},{\"__ndarray__\":\"DrU76dQlWUFDGpD10yVZQQ==\",\"dtype\":\"float64\",\"order\":\"little\",\"shape\":[2]},{\"__ndarray__\":\"QxqQ9dMlWUHnGKn30SVZQQ==\",\"dtype\":\"float64\",\"order\":\"little\",\"shape\":[2]},{\"__ndarray__\":\"5xip99ElWUE17blZ0SVZQQ==\",\"dtype\":\"float64\",\"order\":\"little\",\"shape\":[2]},{\"__ndarray__\":\"Ne25WdElWUEUnMnWzyVZQQ==\",\"dtype\":\"float64\",\"order\":\"little\",\"shape\":[2]},{\"__ndarray__\":\"FJzJ1s8lWUGozIRHzyVZQQ==\",\"dtype\":\"float64\",\"order\":\"little\",\"shape\":[2]},{\"__ndarray__\":\"qMyER88lWUH5+OEm0CVZQQ==\",\"dtype\":\"float64\",\"order\":\"little\",\"shape\":[2]},{\"__ndarray__\":\"+fjhJtAlWUFLGj1e0SVZQQ==\",\"dtype\":\"float64\",\"order\":\"little\",\"shape\":[2]},{\"__ndarray__\":\"Sxo9XtElWUH3p47/0SVZQQ==\",\"dtype\":\"float64\",\"order\":\"little\",\"shape\":[2]},{\"__ndarray__\":\"96eO/9ElWUGv1cdQ0iVZQQ==\",\"dtype\":\"float64\",\"order\":\"little\",\"shape\":[2]},{\"__ndarray__\":\"r9XHUNIlWUFQPTS70iVZQQ==\",\"dtype\":\"float64\",\"order\":\"little\",\"shape\":[2]},{\"__ndarray__\":\"UD00u9IlWUHvpKAl0yVZQQ==\",\"dtype\":\"float64\",\"order\":\"little\",\"shape\":[2]},{\"__ndarray__\":\"76SgJdMlWUGIEA010SVZQQ==\",\"dtype\":\"float64\",\"order\":\"little\",\"shape\":[2]},{\"__ndarray__\":\"iBANNdElWUEcfHlEzyVZQQ==\",\"dtype\":\"float64\",\"order\":\"little\",\"shape\":[2]},{\"__ndarray__\":\"HHx5RM8lWUGnYrhS0CVZQQ==\",\"dtype\":\"float64\",\"order\":\"little\",\"shape\":[2]},{\"__ndarray__\":\"p2K4UtAlWUEsSfdg0SVZQQ==\",\"dtype\":\"float64\",\"order\":\"little\",\"shape\":[2]},{\"__ndarray__\":\"LEn3YNElWUHc5mmYzyVZQQ==\",\"dtype\":\"float64\",\"order\":\"little\",\"shape\":[2]},{\"__ndarray__\":\"3OZpmM8lWUGBhNzPzSVZQQ==\",\"dtype\":\"float64\",\"order\":\"little\",\"shape\":[2]},{\"__ndarray__\":\"gYTcz80lWUHJyzwrziVZQQ==\",\"dtype\":\"float64\",\"order\":\"little\",\"shape\":[2]},{\"__ndarray__\":\"ycs8K84lWUHo/y1xziVZQQ==\",\"dtype\":\"float64\",\"order\":\"little\",\"shape\":[2]},{\"__ndarray__\":\"6P8tcc4lWUEhXLl+ziVZQQ==\",\"dtype\":\"float64\",\"order\":\"little\",\"shape\":[2]},{\"__ndarray__\":\"IVy5fs4lWUFXuESMziVZQQ==\",\"dtype\":\"float64\",\"order\":\"little\",\"shape\":[2]},{\"__ndarray__\":\"V7hEjM4lWUF+uqZ/ziVZQQ==\",\"dtype\":\"float64\",\"order\":\"little\",\"shape\":[2]},{\"__ndarray__\":\"frqmf84lWUGkvAhzziVZQQ==\",\"dtype\":\"float64\",\"order\":\"little\",\"shape\":[2]},{\"__ndarray__\":\"pLwIc84lWUE6ofxRzyVZQQ==\",\"dtype\":\"float64\",\"order\":\"little\",\"shape\":[2]},{\"__ndarray__\":\"OqH8Uc8lWUHYhfAw0CVZQQ==\",\"dtype\":\"float64\",\"order\":\"little\",\"shape\":[2]},{\"__ndarray__\":\"2IXwMNAlWUEYTY2/0SVZQQ==\",\"dtype\":\"float64\",\"order\":\"little\",\"shape\":[2]},{\"__ndarray__\":\"GE2Nv9ElWUFRFCpO0yVZQQ==\",\"dtype\":\"float64\",\"order\":\"little\",\"shape\":[2]},{\"__ndarray__\":\"URQqTtMlWUFxwCWM0CVZQQ==\",\"dtype\":\"float64\",\"order\":\"little\",\"shape\":[2]},{\"__ndarray__\":\"ccAljNAlWUGQbCHKzSVZQQ==\",\"dtype\":\"float64\",\"order\":\"little\",\"shape\":[2]},{\"__ndarray__\":\"kGwhys0lWUEx0G+RziVZQQ==\",\"dtype\":\"float64\",\"order\":\"little\",\"shape\":[2]},{\"__ndarray__\":\"MdBvkc4lWUHNM75YzyVZQQ==\",\"dtype\":\"float64\",\"order\":\"little\",\"shape\":[2]},{\"__ndarray__\":\"zTO+WM8lWUG3XF5/0SVZQQ==\",\"dtype\":\"float64\",\"order\":\"little\",\"shape\":[2]},{\"__ndarray__\":\"t1xef9ElWUGchf6l0yVZQQ==\",\"dtype\":\"float64\",\"order\":\"little\",\"shape\":[2]},{\"__ndarray__\":\"nIX+pdMlWUGypgUG0SVZQQ==\",\"dtype\":\"float64\",\"order\":\"little\",\"shape\":[2]},{\"__ndarray__\":\"sqYFBtElWUHFxwxmziVZQQ==\",\"dtype\":\"float64\",\"order\":\"little\",\"shape\":[2]},{\"__ndarray__\":\"xccMZs4lWUFn9sK3ziVZQQ==\",\"dtype\":\"float64\",\"order\":\"little\",\"shape\":[2]},{\"__ndarray__\":\"Z/bCt84lWUEBJXkJzyVZQQ==\",\"dtype\":\"float64\",\"order\":\"little\",\"shape\":[2]},{\"__ndarray__\":\"ASV5Cc8lWUF7yd9tzyVZQQ==\",\"dtype\":\"float64\",\"order\":\"little\",\"shape\":[2]},{\"__ndarray__\":\"e8nfbc8lWUFsjyMp0CVZQQ==\",\"dtype\":\"float64\",\"order\":\"little\",\"shape\":[2]},{\"__ndarray__\":\"bI8jKdAlWUG6irJ80SVZQQ==\",\"dtype\":\"float64\",\"order\":\"little\",\"shape\":[2]},{\"__ndarray__\":\"uoqyfNElWUGxgh1C0iVZQQ==\",\"dtype\":\"float64\",\"order\":\"little\",\"shape\":[2]},{\"__ndarray__\":\"sYIdQtIlWUHacNAS0yVZQQ==\",\"dtype\":\"float64\",\"order\":\"little\",\"shape\":[2]},{\"__ndarray__\":\"2nDQEtMlWUECf5im0yVZQQ==\",\"dtype\":\"float64\",\"order\":\"little\",\"shape\":[2]},{\"__ndarray__\":\"An+YptMlWUGTj6vB0yVZQQ==\",\"dtype\":\"float64\",\"order\":\"little\",\"shape\":[2]},{\"__ndarray__\":\"k4+rwdMlWUHiutOf0yVZQQ==\",\"dtype\":\"float64\",\"order\":\"little\",\"shape\":[2]},{\"__ndarray__\":\"4rrTn9MlWUGlVCrT0CVZQQ==\",\"dtype\":\"float64\",\"order\":\"little\",\"shape\":[2]},{\"__ndarray__\":\"pVQq09AlWUFs7oAGziVZQQ==\",\"dtype\":\"float64\",\"order\":\"little\",\"shape\":[2]},{\"__ndarray__\":\"bO6ABs4lWUHD8N7S0CVZQQ==\",\"dtype\":\"float64\",\"order\":\"little\",\"shape\":[2]},{\"__ndarray__\":\"w/De0tAlWUEU8zyf0yVZQQ==\",\"dtype\":\"float64\",\"order\":\"little\",\"shape\":[2]},{\"__ndarray__\":\"FPM8n9MlWUFMbLb50iVZQQ==\",\"dtype\":\"float64\",\"order\":\"little\",\"shape\":[2]},{\"__ndarray__\":\"TGy2+dIlWUF35S9U0iVZQQ==\",\"dtype\":\"float64\",\"order\":\"little\",\"shape\":[2]},{\"__ndarray__\":\"d+UvVNIlWUEr87Xk0SVZQQ==\",\"dtype\":\"float64\",\"order\":\"little\",\"shape\":[2]},{\"__ndarray__\":\"K/O15NElWUHhADx10SVZQQ==\",\"dtype\":\"float64\",\"order\":\"little\",\"shape\":[2]},{\"__ndarray__\":\"4QA8ddElWUG4WE4K0CVZQQ==\",\"dtype\":\"float64\",\"order\":\"little\",\"shape\":[2]},{\"__ndarray__\":\"uFhOCtAlWUGYsGCfziVZQQ==\",\"dtype\":\"float64\",\"order\":\"little\",\"shape\":[2]},{\"__ndarray__\":\"mLBgn84lWUEndForzyVZQQ==\",\"dtype\":\"float64\",\"order\":\"little\",\"shape\":[2]},{\"__ndarray__\":\"J3RaK88lWUGxN1S3zyVZQQ==\",\"dtype\":\"float64\",\"order\":\"little\",\"shape\":[2]},{\"__ndarray__\":\"sTdUt88lWUECeMwhzyVZQQ==\",\"dtype\":\"float64\",\"order\":\"little\",\"shape\":[2]},{\"__ndarray__\":\"AnjMIc8lWUFSuESMziVZQQ==\",\"dtype\":\"float64\",\"order\":\"little\",\"shape\":[2]},{\"__ndarray__\":\"UrhEjM4lWUE2CY4kzyVZQQ==\",\"dtype\":\"float64\",\"order\":\"little\",\"shape\":[2]},{\"__ndarray__\":\"NgmOJM8lWUEaWte8zyVZQQ==\",\"dtype\":\"float64\",\"order\":\"little\",\"shape\":[2]},{\"__ndarray__\":\"GlrXvM8lWUF+N4qN0CVZQQ==\",\"dtype\":\"float64\",\"order\":\"little\",\"shape\":[2]},{\"__ndarray__\":\"fjeKjdAlWUH/pjcY0CVZQQ==\",\"dtype\":\"float64\",\"order\":\"little\",\"shape\":[2]},{\"__ndarray__\":\"/6Y3GNAlWUGmrO440CVZQQ==\",\"dtype\":\"float64\",\"order\":\"little\",\"shape\":[2]},{\"__ndarray__\":\"pqzuONAlWUGKIdQvzyVZQQ==\",\"dtype\":\"float64\",\"order\":\"little\",\"shape\":[2]},{\"__ndarray__\":\"iiHUL88lWUGpFIs/ziVZQQ==\",\"dtype\":\"float64\",\"order\":\"little\",\"shape\":[2]},{\"__ndarray__\":\"qRSLP84lWUHZdzVfzyVZQQ==\",\"dtype\":\"float64\",\"order\":\"little\",\"shape\":[2]},{\"__ndarray__\":\"2Xc1X88lWUE/1l/2zyVZQQ==\",\"dtype\":\"float64\",\"order\":\"little\",\"shape\":[2]},{\"__ndarray__\":\"P9Zf9s8lWUEHMGb/zyVZQQ==\",\"dtype\":\"float64\",\"order\":\"little\",\"shape\":[2]},{\"__ndarray__\":\"BzBm/88lWUEwFq020CVZQQ==\",\"dtype\":\"float64\",\"order\":\"little\",\"shape\":[2]},{\"__ndarray__\":\"MBatNtAlWUEhtRLH0CVZQQ==\",\"dtype\":\"float64\",\"order\":\"little\",\"shape\":[2]},{\"__ndarray__\":\"IbUSx9AlWUFDdehA0SVZQQ==\",\"dtype\":\"float64\",\"order\":\"little\",\"shape\":[2]},{\"__ndarray__\":\"Q3XoQNElWUFvNEDa0CVZQQ==\",\"dtype\":\"float64\",\"order\":\"little\",\"shape\":[2]},{\"__ndarray__\":\"bzRA2tAlWUF2Qa4b0SVZQQ==\",\"dtype\":\"float64\",\"order\":\"little\",\"shape\":[2]},{\"__ndarray__\":\"dkGuG9ElWUEVCju20SVZQQ==\",\"dtype\":\"float64\",\"order\":\"little\",\"shape\":[2]},{\"__ndarray__\":\"FQo7ttElWUHwnnyH0CVZQQ==\",\"dtype\":\"float64\",\"order\":\"little\",\"shape\":[2]},{\"__ndarray__\":\"8J58h9AlWUHNM75YzyVZQQ==\",\"dtype\":\"float64\",\"order\":\"little\",\"shape\":[2]},{\"__ndarray__\":\"zTO+WM8lWUGKKPUh0CVZQQ==\",\"dtype\":\"float64\",\"order\":\"little\",\"shape\":[2]},{\"__ndarray__\":\"iij1IdAlWUFEHSzr0CVZQQ==\",\"dtype\":\"float64\",\"order\":\"little\",\"shape\":[2]},{\"__ndarray__\":\"RB0s69AlWUH5wlsrzyVZQQ==\",\"dtype\":\"float64\",\"order\":\"little\",\"shape\":[2]},{\"__ndarray__\":\"+cJbK88lWUGvaItrzSVZQQ==\",\"dtype\":\"float64\",\"order\":\"little\",\"shape\":[2]},{\"__ndarray__\":\"r2iLa80lWUH8f4XHziVZQQ==\",\"dtype\":\"float64\",\"order\":\"little\",\"shape\":[2]},{\"__ndarray__\":\"/H+Fx84lWUFGl38j0CVZQQ==\",\"dtype\":\"float64\",\"order\":\"little\",\"shape\":[2]},{\"__ndarray__\":\"Rpd/I9AlWUE/bGmM0CVZQQ==\",\"dtype\":\"float64\",\"order\":\"little\",\"shape\":[2]},{\"__ndarray__\":\"P2xpjNAlWUE/bGmM0CVZQQ==\",\"dtype\":\"float64\",\"order\":\"little\",\"shape\":[2]},{\"__ndarray__\":\"P2xpjNAlWUH2mWpx0SVZQQ==\",\"dtype\":\"float64\",\"order\":\"little\",\"shape\":[2]},{\"__ndarray__\":\"9plqcdElWUG3Y3NE0yVZQQ==\",\"dtype\":\"float64\",\"order\":\"little\",\"shape\":[2]},{\"__ndarray__\":\"t2NzRNMlWUGernbR0yVZQQ==\",\"dtype\":\"float64\",\"order\":\"little\",\"shape\":[2]},{\"__ndarray__\":\"nq520dMlWUExwNRz0yVZQQ==\",\"dtype\":\"float64\",\"order\":\"little\",\"shape\":[2]},{\"__ndarray__\":\"McDUc9MlWUHAxg9c0iVZQQ==\",\"dtype\":\"float64\",\"order\":\"little\",\"shape\":[2]},{\"__ndarray__\":\"wMYPXNIlWUFc56cS0SVZQQ==\",\"dtype\":\"float64\",\"order\":\"little\",\"shape\":[2]},{\"__ndarray__\":\"XOenEtElWUGODeTOzyVZQQ==\",\"dtype\":\"float64\",\"order\":\"little\",\"shape\":[2]},{\"__ndarray__\":\"jg3kzs8lWUGozIRHzyVZQQ==\",\"dtype\":\"float64\",\"order\":\"little\",\"shape\":[2]},{\"__ndarray__\":\"qMyER88lWUGV18xj0CVZQQ==\",\"dtype\":\"float64\",\"order\":\"little\",\"shape\":[2]},{\"__ndarray__\":\"ldfMY9AlWUH8GE7R0SVZQQ==\",\"dtype\":\"float64\",\"order\":\"little\",\"shape\":[2]},{\"__ndarray__\":\"/BhO0dElWUGObb+f0iVZQQ==\",\"dtype\":\"float64\",\"order\":\"little\",\"shape\":[2]},{\"__ndarray__\":\"jm2/n9IlWUHd+Fkg0yVZQQ==\",\"dtype\":\"float64\",\"order\":\"little\",\"shape\":[2]},{\"__ndarray__\":\"3fhZINMlWUH2NgDf0yVZQQ==\",\"dtype\":\"float64\",\"order\":\"little\",\"shape\":[2]},{\"__ndarray__\":\"9jYA39MlWUFxIqFo1CVZQQ==\",\"dtype\":\"float64\",\"order\":\"little\",\"shape\":[2]},{\"__ndarray__\":\"cSKhaNQlWUEPw/Pd1CVZQQ==\",\"dtype\":\"float64\",\"order\":\"little\",\"shape\":[2]},{\"__ndarray__\":\"D8Pz3dQlWUHUW+mE1SVZQQ==\",\"dtype\":\"float64\",\"order\":\"little\",\"shape\":[2]},{\"__ndarray__\":\"1FvphNUlWUErOnYf1iVZQQ==\",\"dtype\":\"float64\",\"order\":\"little\",\"shape\":[2]},{\"__ndarray__\":\"Kzp2H9YlWUGoAZSk1iVZQQ==\",\"dtype\":\"float64\",\"order\":\"little\",\"shape\":[2]},{\"__ndarray__\":\"qAGUpNYlWUGvXzHv2CVZQQ==\",\"dtype\":\"float64\",\"order\":\"little\",\"shape\":[2]},{\"__ndarray__\":\"r18x79glWUF3lm6Q2CVZQQ==\",\"dtype\":\"float64\",\"order\":\"little\",\"shape\":[2]},{\"__ndarray__\":\"d5ZukNglWUGXmNWm1iVZQQ==\",\"dtype\":\"float64\",\"order\":\"little\",\"shape\":[2]},{\"__ndarray__\":\"l5jVptYlWUEQrt/u1CVZQQ==\",\"dtype\":\"float64\",\"order\":\"little\",\"shape\":[2]},{\"__ndarray__\":\"EK7f7tQlWUFcaYS30yVZQQ==\",\"dtype\":\"float64\",\"order\":\"little\",\"shape\":[2]},{\"__ndarray__\":\"XGmEt9MlWUHHzsZ80iVZQQ==\",\"dtype\":\"float64\",\"order\":\"little\",\"shape\":[2]},{\"__ndarray__\":\"x87GfNIlWUG+9l8H0SVZQQ==\",\"dtype\":\"float64\",\"order\":\"little\",\"shape\":[2]},{\"__ndarray__\":\"vvZfB9ElWUGay/G0zyVZQQ==\",\"dtype\":\"float64\",\"order\":\"little\",\"shape\":[2]},{\"__ndarray__\":\"msvxtM8lWUHkPGlqziVZQQ==\",\"dtype\":\"float64\",\"order\":\"little\",\"shape\":[2]},{\"__ndarray__\":\"5Dxpas4lWUFTl4J9zSVZQQ==\",\"dtype\":\"float64\",\"order\":\"little\",\"shape\":[2]},{\"__ndarray__\":\"U5eCfc0lWUF3nCdGzCVZQQ==\",\"dtype\":\"float64\",\"order\":\"little\",\"shape\":[2]},{\"__ndarray__\":\"d5wnRswlWUFRQ+muyiVZQQ==\",\"dtype\":\"float64\",\"order\":\"little\",\"shape\":[2]},{\"__ndarray__\":\"UUPprsolWUF9Aj3WyCVZQQ==\",\"dtype\":\"float64\",\"order\":\"little\",\"shape\":[2]},{\"__ndarray__\":\"fQI91sglWUGU5O6wxyVZQQ==\",\"dtype\":\"float64\",\"order\":\"little\",\"shape\":[2]},{\"__ndarray__\":\"lOTusMclWUG1XlDPxiVZQQ==\",\"dtype\":\"float64\",\"order\":\"little\",\"shape\":[2]},{\"__ndarray__\":\"tV5Qz8YlWUGT7SADxiVZQQ==\",\"dtype\":\"float64\",\"order\":\"little\",\"shape\":[2]},{\"__ndarray__\":\"k+0gA8YlWUHKRslYxSVZQQ==\",\"dtype\":\"float64\",\"order\":\"little\",\"shape\":[2]},{\"__ndarray__\":\"ykbJWMUlWUGeP/yPxCVZQQ==\",\"dtype\":\"float64\",\"order\":\"little\",\"shape\":[2]},{\"__ndarray__\":\"nj/8j8QlWUF+p/1SwyVZQQ==\",\"dtype\":\"float64\",\"order\":\"little\",\"shape\":[2]},{\"__ndarray__\":\"fqf9UsMlWUF/EaMbwiVZQQ==\",\"dtype\":\"float64\",\"order\":\"little\",\"shape\":[2]},{\"__ndarray__\":\"fxGjG8IlWUFw3WEIwSVZQQ==\",\"dtype\":\"float64\",\"order\":\"little\",\"shape\":[2]},{\"__ndarray__\":\"cN1hCMElWUHG6rOHvyVZQQ==\",\"dtype\":\"float64\",\"order\":\"little\",\"shape\":[2]},{\"__ndarray__\":\"xuqzh78lWUEfuOzivSVZQQ==\",\"dtype\":\"float64\",\"order\":\"little\",\"shape\":[2]},{\"__ndarray__\":\"H7js4r0lWUGr4wz/vCVZQQ==\",\"dtype\":\"float64\",\"order\":\"little\",\"shape\":[2]},{\"__ndarray__\":\"q+MM/7wlWUHaUnsvvCVZQQ==\",\"dtype\":\"float64\",\"order\":\"little\",\"shape\":[2]},{\"__ndarray__\":\"2lJ7L7wlWUHI4uaUuyVZQQ==\",\"dtype\":\"float64\",\"order\":\"little\",\"shape\":[2]},{\"__ndarray__\":\"yOLmlLslWUHnNpVCuyVZQQ==\",\"dtype\":\"float64\",\"order\":\"little\",\"shape\":[2]},{\"__ndarray__\":\"5zaVQrslWUH0A4hLuiVZQQ==\",\"dtype\":\"float64\",\"order\":\"little\",\"shape\":[2]},{\"__ndarray__\":\"9AOIS7olWUHgK4FduSVZQQ==\",\"dtype\":\"float64\",\"order\":\"little\",\"shape\":[2]},{\"__ndarray__\":\"4CuBXbklWUF5l0ZTuCVZQQ==\",\"dtype\":\"float64\",\"order\":\"little\",\"shape\":[2]},{\"__ndarray__\":\"eZdGU7glWUFj62ZvtyVZQQ==\",\"dtype\":\"float64\",\"order\":\"little\",\"shape\":[2]},{\"__ndarray__\":\"Y+tmb7clWUGj3/W7tSVZQQ==\",\"dtype\":\"float64\",\"order\":\"little\",\"shape\":[2]},{\"__ndarray__\":\"o9/1u7UlWUGohhNLtCVZQQ==\",\"dtype\":\"float64\",\"order\":\"little\",\"shape\":[2]},{\"__ndarray__\":\"qIYTS7QlWUHpQhUpsiVZQQ==\",\"dtype\":\"float64\",\"order\":\"little\",\"shape\":[2]},{\"__ndarray__\":\"6UIVKbIlWUFFFFWNsCVZQQ==\",\"dtype\":\"float64\",\"order\":\"little\",\"shape\":[2]},{\"__ndarray__\":\"RRRVjbAlWUHq7Dj3riVZQQ==\",\"dtype\":\"float64\",\"order\":\"little\",\"shape\":[2]},{\"__ndarray__\":\"6uw4964lWUHwwny8rSVZQQ==\",\"dtype\":\"float64\",\"order\":\"little\",\"shape\":[2]},{\"__ndarray__\":\"8MJ8vK0lWUG4UimOrCVZQQ==\",\"dtype\":\"float64\",\"order\":\"little\",\"shape\":[2]},{\"__ndarray__\":\"uFIpjqwlWUHLt/ZgqyVZQQ==\",\"dtype\":\"float64\",\"order\":\"little\",\"shape\":[2]},{\"__ndarray__\":\"y7f2YKslWUEPmrxWqiVZQQ==\",\"dtype\":\"float64\",\"order\":\"little\",\"shape\":[2]},{\"__ndarray__\":\"D5q8VqolWUEGIQwkqyVZQQ==\",\"dtype\":\"float64\",\"order\":\"little\",\"shape\":[2]},{\"__ndarray__\":\"BiEMJKslWUFQ4zrwqyVZQQ==\",\"dtype\":\"float64\",\"order\":\"little\",\"shape\":[2]},{\"__ndarray__\":\"UOM68KslWUFs33llqyVZQQ==\",\"dtype\":\"float64\",\"order\":\"little\",\"shape\":[2]},{\"__ndarray__\":\"bN95ZaslWUEY9SfVqyVZQQ==\",\"dtype\":\"float64\",\"order\":\"little\",\"shape\":[2]},{\"__ndarray__\":\"GPUn1aslWUEqOYnprCVZQQ==\",\"dtype\":\"float64\",\"order\":\"little\",\"shape\":[2]},{\"__ndarray__\":\"KjmJ6awlWUGQVUHerCVZQQ==\",\"dtype\":\"float64\",\"order\":\"little\",\"shape\":[2]},{\"__ndarray__\":\"kFVB3qwlWUHU9srQrSVZQQ==\",\"dtype\":\"float64\",\"order\":\"little\",\"shape\":[2]},{\"__ndarray__\":\"1PbK0K0lWUEddj/lryVZQQ==\",\"dtype\":\"float64\",\"order\":\"little\",\"shape\":[2]},{\"__ndarray__\":\"HXY/5a8lWUHDXlyFryVZQQ==\",\"dtype\":\"float64\",\"order\":\"little\",\"shape\":[2]}]},\"selected\":{\"id\":\"7391\"},\"selection_policy\":{\"id\":\"7435\"}},\"id\":\"7390\",\"type\":\"ColumnDataSource\"},{\"attributes\":{},\"id\":\"7365\",\"type\":\"AllLabels\"},{\"attributes\":{\"source\":{\"id\":\"7390\"}},\"id\":\"7397\",\"type\":\"CDSView\"},{\"attributes\":{},\"id\":\"7344\",\"type\":\"SaveTool\"},{\"attributes\":{\"angle\":{\"value\":-4.554806454321435},\"fill_color\":{\"value\":\"#1f77b4\"},\"hatch_color\":{\"value\":\"#1f77b4\"},\"line_color\":{\"value\":\"#1f77b4\"},\"marker\":{\"value\":\"triangle\"},\"size\":{\"value\":14.142135623730951},\"tags\":[\"apply_ranges\"],\"x\":{\"field\":\"Longitude\"},\"y\":{\"field\":\"Latitude\"}},\"id\":\"7402\",\"type\":\"Scatter\"},{\"attributes\":{\"active_scroll\":{\"id\":\"7346\"},\"tools\":[{\"id\":\"7317\"},{\"id\":\"7320\"},{\"id\":\"7326\"},{\"id\":\"7344\"},{\"id\":\"7345\"},{\"id\":\"7346\"},{\"id\":\"7347\"},{\"id\":\"7348\"}]},\"id\":\"7350\",\"type\":\"Toolbar\"},{\"attributes\":{\"fill_color\":\"rgba(245, 40, 145, 0.3)\",\"hatch_color\":\"rgba(245, 40, 145, 0.3)\",\"xs\":{\"field\":\"xs\"},\"ys\":{\"field\":\"ys\"}},\"id\":\"7413\",\"type\":\"MultiPolygons\"},{\"attributes\":{\"dimension\":\"lon\"},\"id\":\"7359\",\"type\":\"MercatorTicker\"},{\"attributes\":{\"fill_alpha\":{\"value\":0.1},\"fill_color\":\"rgba(245, 40, 145, 0.3)\",\"hatch_alpha\":{\"value\":0.1},\"hatch_color\":\"rgba(245, 40, 145, 0.3)\",\"line_alpha\":{\"value\":0.1},\"xs\":{\"field\":\"xs\"},\"ys\":{\"field\":\"ys\"}},\"id\":\"7414\",\"type\":\"MultiPolygons\"},{\"attributes\":{\"dimension\":\"lon\"},\"id\":\"7360\",\"type\":\"MercatorTickFormatter\"},{\"attributes\":{\"code\":\"\\n        var projections = Bokeh.require(\\\"core/util/projections\\\");\\n        var x = special_vars.data_x\\n        var y = special_vars.data_y\\n        var coords = projections.wgs84_mercator.invert(x, y)\\n        return \\\"\\\" + (coords[0]).toFixed(4)\\n    \"},\"id\":\"7407\",\"type\":\"CustomJSHover\"},{\"attributes\":{\"below\":[{\"id\":\"7336\"}],\"center\":[{\"id\":\"7339\"},{\"id\":\"7343\"}],\"frame_height\":700,\"frame_width\":900,\"height\":700,\"left\":[{\"id\":\"7340\"}],\"margin\":[5,5,5,5],\"match_aspect\":true,\"min_border_bottom\":10,\"min_border_left\":10,\"min_border_right\":10,\"min_border_top\":10,\"output_backend\":\"webgl\",\"renderers\":[{\"id\":\"7388\"},{\"id\":\"7396\"},{\"id\":\"7405\"},{\"id\":\"7416\"},{\"id\":\"7425\"}],\"sizing_mode\":\"fixed\",\"title\":{\"id\":\"7328\"},\"toolbar\":{\"id\":\"7350\"},\"width\":900,\"x_range\":{\"id\":\"7311\"},\"x_scale\":{\"id\":\"7334\"},\"y_range\":{\"id\":\"7312\"},\"y_scale\":{\"id\":\"7335\"}},\"id\":\"7327\",\"subtype\":\"Figure\",\"type\":\"Plot\"},{\"attributes\":{\"dimension\":\"lat\"},\"id\":\"7362\",\"type\":\"MercatorTickFormatter\"},{\"attributes\":{},\"id\":\"7334\",\"type\":\"LinearScale\"},{\"attributes\":{\"source\":{\"id\":\"7399\"}},\"id\":\"7406\",\"type\":\"CDSView\"},{\"attributes\":{},\"id\":\"7437\",\"type\":\"UnionRenderers\"},{\"attributes\":{\"source\":{\"id\":\"7419\"}},\"id\":\"7426\",\"type\":\"CDSView\"},{\"attributes\":{\"callback\":null,\"formatters\":{\"$x\":{\"id\":\"7407\"},\"$y\":{\"id\":\"7408\"}},\"renderers\":[{\"id\":\"7405\"}],\"tags\":[\"hv_created\"],\"tooltips\":[[\"Longitude\",\"$x{custom}\"],[\"Latitude\",\"$y{custom}\"],[\"triangle_angle\",\"@{triangle_angle}\"]]},\"id\":\"7320\",\"type\":\"HoverTool\"},{\"attributes\":{},\"id\":\"7435\",\"type\":\"UnionRenderers\"},{\"attributes\":{\"children\":[{\"id\":\"7327\"}],\"height\":700,\"margin\":[0,0,0,0],\"name\":\"Row23182\",\"sizing_mode\":\"fixed\",\"tags\":[\"embedded\"],\"width\":900},\"id\":\"7300\",\"type\":\"Row\"},{\"attributes\":{\"coordinates\":null,\"data_source\":{\"id\":\"7419\"},\"glyph\":{\"id\":\"7422\"},\"group\":null,\"hover_glyph\":null,\"muted_glyph\":{\"id\":\"7424\"},\"nonselection_glyph\":{\"id\":\"7423\"},\"selection_glyph\":{\"id\":\"7429\"},\"view\":{\"id\":\"7426\"}},\"id\":\"7425\",\"type\":\"GlyphRenderer\"},{\"attributes\":{},\"id\":\"7372\",\"type\":\"AllLabels\"},{\"attributes\":{\"dimension\":\"lat\"},\"id\":\"7361\",\"type\":\"MercatorTicker\"},{\"attributes\":{\"angle\":{\"value\":0.0},\"fill_alpha\":{\"value\":1.0},\"fill_color\":{\"value\":\"deeppink\"},\"hatch_alpha\":{\"value\":1.0},\"hatch_color\":{\"value\":\"deeppink\"},\"hatch_scale\":{\"value\":12.0},\"hatch_weight\":{\"value\":1.0},\"line_alpha\":{\"value\":1.0},\"line_cap\":{\"value\":\"butt\"},\"line_color\":{\"value\":\"deeppink\"},\"line_dash\":{\"value\":[]},\"line_dash_offset\":{\"value\":0},\"line_join\":{\"value\":\"bevel\"},\"line_width\":{\"value\":1},\"marker\":{\"value\":\"circle\"},\"size\":{\"field\":\"size\"},\"tags\":[\"apply_ranges\"],\"x\":{\"field\":\"Longitude\"},\"y\":{\"field\":\"Latitude\"}},\"id\":\"7429\",\"type\":\"Scatter\"},{\"attributes\":{},\"id\":\"7411\",\"type\":\"Selection\"},{\"attributes\":{\"attribution\":\"&copy; <a href=\\\"https://www.openstreetmap.org/copyright\\\">OpenStreetMap</a> contributors\",\"url\":\"https://c.tile.openstreetmap.org/{Z}/{X}/{Y}.png\"},\"id\":\"7385\",\"type\":\"WMTSTileSource\"},{\"attributes\":{},\"id\":\"7439\",\"type\":\"UnionRenderers\"},{\"attributes\":{\"coordinates\":null,\"group\":null,\"level\":\"glyph\",\"tile_source\":{\"id\":\"7385\"}},\"id\":\"7388\",\"type\":\"TileRenderer\"},{\"attributes\":{\"fill_alpha\":{\"value\":0.2},\"fill_color\":{\"value\":\"deeppink\"},\"hatch_alpha\":{\"value\":0.2},\"hatch_color\":{\"value\":\"deeppink\"},\"line_alpha\":{\"value\":0.2},\"line_color\":{\"value\":\"deeppink\"},\"size\":{\"field\":\"size\"},\"tags\":[\"apply_ranges\"],\"x\":{\"field\":\"Longitude\"},\"y\":{\"field\":\"Latitude\"}},\"id\":\"7424\",\"type\":\"Scatter\"},{\"attributes\":{\"angle\":{\"value\":-4.554806454321435},\"fill_alpha\":{\"value\":0.1},\"fill_color\":{\"value\":\"#1f77b4\"},\"hatch_alpha\":{\"value\":0.1},\"hatch_color\":{\"value\":\"#1f77b4\"},\"line_alpha\":{\"value\":0.1},\"line_color\":{\"value\":\"#1f77b4\"},\"marker\":{\"value\":\"triangle\"},\"size\":{\"value\":14.142135623730951},\"tags\":[\"apply_ranges\"],\"x\":{\"field\":\"Longitude\"},\"y\":{\"field\":\"Latitude\"}},\"id\":\"7403\",\"type\":\"Scatter\"},{\"attributes\":{\"data\":{\"Latitude\":{\"__ndarray__\":\"8/UYR+UlWUERdAKTEiZZQbOiBNPQJVlB\",\"dtype\":\"float64\",\"order\":\"little\",\"shape\":[3]},\"Longitude\":{\"__ndarray__\":\"i544Iu+kHUHYl+pAkKIdQR+ccaoSpB1B\",\"dtype\":\"float64\",\"order\":\"little\",\"shape\":[3]},\"duration_s\":{\"__ndarray__\":\"AAAAAAAAhEAAAAAAAACDQAAAAAAAQJxA\",\"dtype\":\"float64\",\"order\":\"little\",\"shape\":[3]},\"size\":{\"__ndarray__\":\"U1vaOlhMOUBZBvckXKg4QDbQ0niiQkVA\",\"dtype\":\"float64\",\"order\":\"little\",\"shape\":[3]}},\"selected\":{\"id\":\"7420\"},\"selection_policy\":{\"id\":\"7441\"}},\"id\":\"7419\",\"type\":\"ColumnDataSource\"},{\"attributes\":{\"data\":{\"Latitude\":{\"__ndarray__\":\"w15cha8lWUE=\",\"dtype\":\"float64\",\"order\":\"little\",\"shape\":[1]},\"Longitude\":{\"__ndarray__\":\"LuHZk2SmHUE=\",\"dtype\":\"float64\",\"order\":\"little\",\"shape\":[1]},\"triangle_angle\":{\"__ndarray__\":\"Ucat+olPcMA=\",\"dtype\":\"float64\",\"order\":\"little\",\"shape\":[1]}},\"selected\":{\"id\":\"7400\"},\"selection_policy\":{\"id\":\"7437\"}},\"id\":\"7399\",\"type\":\"ColumnDataSource\"},{\"attributes\":{\"line_alpha\":{\"value\":0.2},\"line_color\":{\"value\":\"#1f77b4\"},\"line_width\":{\"value\":7.0},\"tags\":[\"apply_ranges\"],\"xs\":{\"field\":\"xs\"},\"ys\":{\"field\":\"ys\"}},\"id\":\"7395\",\"type\":\"MultiLine\"},{\"attributes\":{\"coordinates\":null,\"data_source\":{\"id\":\"7390\"},\"glyph\":{\"id\":\"7393\"},\"group\":null,\"hover_glyph\":null,\"muted_glyph\":{\"id\":\"7395\"},\"nonselection_glyph\":{\"id\":\"7394\"},\"selection_glyph\":{\"id\":\"7398\"},\"view\":{\"id\":\"7397\"}},\"id\":\"7396\",\"type\":\"GlyphRenderer\"},{\"attributes\":{\"code\":\"\\n        var projections = Bokeh.require(\\\"core/util/projections\\\");\\n        var x = special_vars.data_x\\n        var y = special_vars.data_y\\n        var coords = projections.wgs84_mercator.invert(x, y)\\n        return \\\"\\\" + (coords[0]).toFixed(4)\\n    \"},\"id\":\"7427\",\"type\":\"CustomJSHover\"},{\"attributes\":{\"line_color\":{\"value\":\"#1f77b4\"},\"line_width\":{\"value\":7.0},\"tags\":[\"apply_ranges\"],\"xs\":{\"field\":\"xs\"},\"ys\":{\"field\":\"ys\"}},\"id\":\"7393\",\"type\":\"MultiLine\"},{\"attributes\":{},\"id\":\"7400\",\"type\":\"Selection\"},{\"attributes\":{\"data\":{\"xs\":[[[{\"__ndarray__\":\"BrWaxq+iHUEMkBUTkKIdQf8T+ERzoh1BgeEWj/yhHUGdwpib4KEdQcuTMSlhoh1Bo9UFkC2jHUEnZeqpBKMdQQ==\",\"dtype\":\"float64\",\"order\":\"little\",\"shape\":[8]}]],[[{\"__ndarray__\":\"0bobya2kHUEQ7rf+76MdQQQBGI3Xox1BU1hjpdOiHUE+mvfsXqMdQYUdcfqepB1BEiIjCIakHUGNEg4+7aQdQQ==\",\"dtype\":\"float64\",\"order\":\"little\",\"shape\":[8]}]],[[{\"__ndarray__\":\"lbH779GkHUG3viQwbqUdQV+YZbZWpR1BeRr9cLekHUE=\",\"dtype\":\"float64\",\"order\":\"little\",\"shape\":[4]}]]],\"ys\":[[[{\"__ndarray__\":\"+IprahgmWUGZwJaiGSZZQS99YrUVJllBLJoxnBkmWUEHVf92FCZZQXvKXRMLJllBrU+W7BImWUHwKgUAGSZZQQ==\",\"dtype\":\"float64\",\"order\":\"little\",\"shape\":[8]}]],[[{\"__ndarray__\":\"I0eHctslWUFxCmg50iVZQUbgIQjUJVlBJISeFsYlWUF87vvGvCVZQZKmODrOJVlB22jj6s8lWUFSPml+1SVZQQ==\",\"dtype\":\"float64\",\"order\":\"little\",\"shape\":[8]}]],[[{\"__ndarray__\":\"ImYCH+ElWUEPfqNm5SVZQVsViYLpJVlB6LCl+uQlWUE=\",\"dtype\":\"float64\",\"order\":\"little\",\"shape\":[4]}]]]},\"selected\":{\"id\":\"7411\"},\"selection_policy\":{\"id\":\"7439\"}},\"id\":\"7410\",\"type\":\"ColumnDataSource\"},{\"attributes\":{},\"id\":\"7441\",\"type\":\"UnionRenderers\"},{\"attributes\":{\"line_alpha\":{\"value\":0.1},\"line_color\":{\"value\":\"#1f77b4\"},\"line_width\":{\"value\":7.0},\"tags\":[\"apply_ranges\"],\"xs\":{\"field\":\"xs\"},\"ys\":{\"field\":\"ys\"}},\"id\":\"7394\",\"type\":\"MultiLine\"},{\"attributes\":{},\"id\":\"7391\",\"type\":\"Selection\"},{\"attributes\":{\"end\":6592768.41569172,\"min_interval\":5,\"reset_end\":6592768.41569172,\"reset_start\":6592115.087508628,\"start\":6592115.087508628,\"tags\":[[[\"Latitude\",\"Latitude\",null]],{\"autorange\":false,\"invert_yaxis\":false}]},\"id\":\"7312\",\"type\":\"Range1d\"},{\"attributes\":{},\"id\":\"7420\",\"type\":\"Selection\"},{\"attributes\":{\"end\":486065.3870673156,\"min_interval\":5,\"reset_end\":486065.3870673156,\"reset_start\":485225.39368905424,\"start\":485225.39368905424,\"tags\":[[[\"Longitude\",\"Longitude\",null]],[]]},\"id\":\"7311\",\"type\":\"Range1d\"},{\"attributes\":{\"fill_color\":{\"value\":\"deeppink\"},\"hatch_color\":{\"value\":\"deeppink\"},\"line_color\":{\"value\":\"deeppink\"},\"size\":{\"field\":\"size\"},\"tags\":[\"apply_ranges\"],\"x\":{\"field\":\"Longitude\"},\"y\":{\"field\":\"Latitude\"}},\"id\":\"7422\",\"type\":\"Scatter\"},{\"attributes\":{\"callback\":null,\"formatters\":{\"$x\":{\"id\":\"7427\"},\"$y\":{\"id\":\"7428\"}},\"renderers\":[{\"id\":\"7425\"}],\"tags\":[\"hv_created\"],\"tooltips\":[[\"Longitude\",\"$x{custom}\"],[\"Latitude\",\"$y{custom}\"],[\"duration_s\",\"@{duration_s}\"]]},\"id\":\"7326\",\"type\":\"HoverTool\"},{\"attributes\":{\"source\":{\"id\":\"7410\"}},\"id\":\"7417\",\"type\":\"CDSView\"},{\"attributes\":{\"code\":\"\\n        var projections = Bokeh.require(\\\"core/util/projections\\\");\\n        var x = special_vars.data_x\\n        var y = special_vars.data_y\\n        var coords = projections.wgs84_mercator.invert(x, y)\\n        return \\\"\\\" + (coords[1]).toFixed(4)\\n    \"},\"id\":\"7408\",\"type\":\"CustomJSHover\"},{\"attributes\":{},\"id\":\"7335\",\"type\":\"LinearScale\"},{\"attributes\":{\"coordinates\":null,\"data_source\":{\"id\":\"7410\"},\"glyph\":{\"id\":\"7413\"},\"group\":null,\"hover_glyph\":null,\"muted_glyph\":{\"id\":\"7415\"},\"nonselection_glyph\":{\"id\":\"7414\"},\"selection_glyph\":{\"id\":\"7418\"},\"view\":{\"id\":\"7417\"}},\"id\":\"7416\",\"type\":\"GlyphRenderer\"},{\"attributes\":{\"line_alpha\":{\"value\":1.0},\"line_cap\":{\"value\":\"butt\"},\"line_color\":{\"value\":\"#1f77b4\"},\"line_dash\":{\"value\":[]},\"line_dash_offset\":{\"value\":0},\"line_join\":{\"value\":\"bevel\"},\"line_width\":{\"value\":7.0},\"tags\":[\"apply_ranges\"],\"xs\":{\"field\":\"xs\"},\"ys\":{\"field\":\"ys\"}},\"id\":\"7398\",\"type\":\"MultiLine\"},{\"attributes\":{\"axis\":{\"id\":\"7336\"},\"coordinates\":null,\"grid_line_color\":null,\"group\":null,\"ticker\":null},\"id\":\"7339\",\"type\":\"Grid\"},{\"attributes\":{\"callback\":null,\"renderers\":[{\"id\":\"7396\"},{\"id\":\"7416\"}],\"tags\":[\"hv_created\"],\"tooltips\":null},\"id\":\"7317\",\"type\":\"HoverTool\"},{\"attributes\":{\"coordinates\":null,\"group\":null,\"text\":\"Trajectory 0\",\"text_color\":\"black\",\"text_font_size\":\"12pt\"},\"id\":\"7328\",\"type\":\"Title\"},{\"attributes\":{\"fill_alpha\":{\"value\":0.2},\"fill_color\":\"rgba(245, 40, 145, 0.3)\",\"hatch_alpha\":{\"value\":0.2},\"hatch_color\":\"rgba(245, 40, 145, 0.3)\",\"line_alpha\":{\"value\":0.2},\"xs\":{\"field\":\"xs\"},\"ys\":{\"field\":\"ys\"}},\"id\":\"7415\",\"type\":\"MultiPolygons\"},{\"attributes\":{\"fill_alpha\":{\"value\":1.0},\"fill_color\":\"rgba(245, 40, 145, 0.3)\",\"hatch_alpha\":{\"value\":1.0},\"hatch_color\":\"rgba(245, 40, 145, 0.3)\",\"hatch_scale\":{\"value\":12.0},\"hatch_weight\":{\"value\":1.0},\"line_alpha\":{\"value\":1.0},\"line_cap\":{\"value\":\"butt\"},\"line_color\":{\"value\":\"black\"},\"line_dash\":{\"value\":[]},\"line_dash_offset\":{\"value\":0},\"line_join\":{\"value\":\"bevel\"},\"line_width\":{\"value\":1},\"xs\":{\"field\":\"xs\"},\"ys\":{\"field\":\"ys\"}},\"id\":\"7418\",\"type\":\"MultiPolygons\"},{\"attributes\":{\"axis_label\":\"y\",\"coordinates\":null,\"formatter\":{\"id\":\"7362\"},\"group\":null,\"major_label_policy\":{\"id\":\"7372\"},\"ticker\":{\"id\":\"7361\"}},\"id\":\"7340\",\"type\":\"LinearAxis\"},{\"attributes\":{\"axis\":{\"id\":\"7340\"},\"coordinates\":null,\"dimension\":1,\"grid_line_color\":null,\"group\":null,\"ticker\":null},\"id\":\"7343\",\"type\":\"Grid\"},{\"attributes\":{\"zoom_on_axis\":false},\"id\":\"7346\",\"type\":\"WheelZoomTool\"},{\"attributes\":{},\"id\":\"7345\",\"type\":\"PanTool\"},{\"attributes\":{\"angle\":{\"value\":-4.554806454321435},\"fill_alpha\":{\"value\":1.0},\"fill_color\":{\"value\":\"#1f77b4\"},\"hatch_alpha\":{\"value\":1.0},\"hatch_color\":{\"value\":\"#1f77b4\"},\"hatch_scale\":{\"value\":12.0},\"hatch_weight\":{\"value\":1.0},\"line_alpha\":{\"value\":1.0},\"line_cap\":{\"value\":\"butt\"},\"line_color\":{\"value\":\"#1f77b4\"},\"line_dash\":{\"value\":[]},\"line_dash_offset\":{\"value\":0},\"line_join\":{\"value\":\"bevel\"},\"line_width\":{\"value\":1},\"marker\":{\"value\":\"triangle\"},\"size\":{\"value\":14.142135623730951},\"tags\":[\"apply_ranges\"],\"x\":{\"field\":\"Longitude\"},\"y\":{\"field\":\"Latitude\"}},\"id\":\"7409\",\"type\":\"Scatter\"}],\"root_ids\":[\"7300\"]},\"title\":\"Bokeh Application\",\"version\":\"2.4.3\"}};\n",
       "    var render_items = [{\"docid\":\"ba984be9-6e42-451a-819e-e4496cacc3fb\",\"root_ids\":[\"7300\"],\"roots\":{\"7300\":\"05b5af32-b0ba-44e8-a128-32e401ab4ebb\"}}];\n",
       "    root.Bokeh.embed.embed_items_notebook(docs_json, render_items);\n",
       "    for (const render_item of render_items) {\n",
       "      for (const root_id of render_item.root_ids) {\n",
       "\tconst id_el = document.getElementById(root_id)\n",
       "\tif (id_el.children.length && (id_el.children[0].className === 'bk-root')) {\n",
       "\t  const root_el = id_el.children[0]\n",
       "\t  root_el.id = root_el.id + '-rendered'\n",
       "\t}\n",
       "      }\n",
       "    }\n",
       "  }\n",
       "  if (root.Bokeh !== undefined && root.Bokeh.Panel !== undefined) {\n",
       "    embed_document(root);\n",
       "  } else {\n",
       "    var attempts = 0;\n",
       "    var timer = setInterval(function(root) {\n",
       "      if (root.Bokeh !== undefined && root.Bokeh.Panel !== undefined) {\n",
       "        clearInterval(timer);\n",
       "        embed_document(root);\n",
       "      } else if (document.readyState == \"complete\") {\n",
       "        attempts++;\n",
       "        if (attempts > 200) {\n",
       "          clearInterval(timer);\n",
       "          console.log(\"Bokeh: ERROR: Unable to run BokehJS code because BokehJS library is missing\");\n",
       "        }\n",
       "      }\n",
       "    }, 25, root)\n",
       "  }\n",
       "})(window);</script>"
      ],
      "text/plain": [
       ":Overlay\n",
       "   .Tiles.I    :Tiles   [x,y]\n",
       "   .Path.I     :Path   [Longitude,Latitude]\n",
       "   .Points.I   :Points   [Longitude,Latitude]   (triangle_angle)\n",
       "   .Polygons.I :Polygons   [Longitude,Latitude]\n",
       "   .Points.II  :Points   [Longitude,Latitude]   (duration_s)"
      ]
     },
     "execution_count": 141,
     "metadata": {
      "application/vnd.holoviews_exec.v0+json": {
       "id": "7300"
      }
     },
     "output_type": "execute_result"
    }
   ],
   "source": [
    "traj.trajectories[0].hvplot(title='Trajectory {}'.format(traj.trajectories[0].id), line_width=7.0) * places *stop_points.hvplot(geo=True, size='duration_s', color='deeppink')"
   ]
  },
  {
   "cell_type": "code",
   "execution_count": 101,
   "id": "16c93213-cf51-4c93-9b17-0578111ef869",
   "metadata": {},
   "outputs": [
    {
     "data": {
      "text/plain": [
       "<Projected CRS: EPSG:31370>\n",
       "Name: BD72 / Belgian Lambert 72\n",
       "Axis Info [cartesian]:\n",
       "- X[east]: Easting (metre)\n",
       "- Y[north]: Northing (metre)\n",
       "Area of Use:\n",
       "- name: Belgium - onshore.\n",
       "- bounds: (2.5, 49.5, 6.4, 51.51)\n",
       "Coordinate Operation:\n",
       "- name: Belgian Lambert 72\n",
       "- method: Lambert Conic Conformal (2SP)\n",
       "Datum: Reseau National Belge 1972\n",
       "- Ellipsoid: International 1924\n",
       "- Prime Meridian: Greenwich"
      ]
     },
     "execution_count": 101,
     "metadata": {},
     "output_type": "execute_result"
    }
   ],
   "source": [
    "gdf.crs"
   ]
  },
  {
   "cell_type": "code",
   "execution_count": null,
   "id": "a34bace5-7039-4f84-a83b-4aba4217de7a",
   "metadata": {},
   "outputs": [],
   "source": []
  }
 ],
 "metadata": {
  "kernelspec": {
   "display_name": "Python 3 (ipykernel)",
   "language": "python",
   "name": "python3"
  },
  "language_info": {
   "codemirror_mode": {
    "name": "ipython",
    "version": 3
   },
   "file_extension": ".py",
   "mimetype": "text/x-python",
   "name": "python",
   "nbconvert_exporter": "python",
   "pygments_lexer": "ipython3",
   "version": "3.10.12"
  }
 },
 "nbformat": 4,
 "nbformat_minor": 5
}

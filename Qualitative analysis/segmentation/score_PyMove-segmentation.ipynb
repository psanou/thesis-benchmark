{
 "cells": [
  {
   "cell_type": "code",
   "execution_count": 2,
   "id": "6cf12847-e649-479e-b2a4-58730db8a2c7",
   "metadata": {
    "tags": []
   },
   "outputs": [],
   "source": [
    "import pandas as pd\n",
    "import pymove as pm\n",
    "from pymove import MoveDataFrame\n",
    "from pymove import filters\n",
    "import pymove as pm\n",
    "from pymove.visualization import folium as f, matplotlib as mpl\n",
    "from pymove.utils import visual\n",
    "from pymove.preprocessing import stay_point_detection, compression, segmentation\n",
    "from geopy.distance import geodesic "
   ]
  },
  {
   "cell_type": "code",
   "execution_count": 3,
   "id": "8900cc31-206a-4fe8-99bc-4e40a2a57c49",
   "metadata": {
    "tags": []
   },
   "outputs": [],
   "source": [
    "SIZE = \"medium\""
   ]
  },
  {
   "cell_type": "markdown",
   "id": "f1a25e09-470a-4b6a-b046-767ac71a4c20",
   "metadata": {},
   "source": [
    "# cars trajectories"
   ]
  },
  {
   "cell_type": "code",
   "execution_count": 17,
   "id": "6b6aefcb-36e3-427e-9374-1b701788c361",
   "metadata": {
    "tags": []
   },
   "outputs": [],
   "source": [
    "PATH=\"datasets/berlinMOD_sample.csv\"\n",
    "df = pd.read_csv(PATH)\n",
    "df = df.sort_values(\"Timestamp\")\n",
    "move_df = MoveDataFrame(data=df, latitude=\"Latitude\", longitude=\"Longitude\", datetime=\"Timestamp\", traj_id=\"id\")\n"
   ]
  },
  {
   "cell_type": "code",
   "execution_count": 18,
   "id": "8ffa2fdc-45bd-4c83-b495-0b7cf710029c",
   "metadata": {
    "tags": []
   },
   "outputs": [
    {
     "data": {
      "application/vnd.jupyter.widget-view+json": {
       "model_id": "4791a53883814daba0f3c60d2733e122",
       "version_major": 2,
       "version_minor": 0
      },
      "text/plain": [
       "VBox(children=(HTML(value=''), IntProgress(value=0, max=1)))"
      ]
     },
     "metadata": {},
     "output_type": "display_data"
    },
    {
     "data": {
      "application/vnd.jupyter.widget-view+json": {
       "model_id": "47461e1136654f2abdcf2a73933e4e74",
       "version_major": 2,
       "version_minor": 0
      },
      "text/plain": [
       "VBox(children=(HTML(value=''), IntProgress(value=0, max=1)))"
      ]
     },
     "metadata": {},
     "output_type": "display_data"
    },
    {
     "data": {
      "application/vnd.jupyter.widget-view+json": {
       "model_id": "acad8e4bd9f64c69a17cab7c262d03fd",
       "version_major": 2,
       "version_minor": 0
      },
      "text/plain": [
       "VBox(children=(HTML(value=''), IntProgress(value=0, max=1)))"
      ]
     },
     "metadata": {},
     "output_type": "display_data"
    },
    {
     "data": {
      "text/plain": [
       "4942"
      ]
     },
     "execution_count": 18,
     "metadata": {},
     "output_type": "execute_result"
    }
   ],
   "source": [
    "segmented = segmentation.by_max_time(move_data=move_df,max_time_between_adj_points=1800)\n",
    "len(segmented)"
   ]
  },
  {
   "cell_type": "code",
   "execution_count": 19,
   "id": "321ae91b",
   "metadata": {
    "tags": []
   },
   "outputs": [],
   "source": [
    "len(segmented[\"tid_time\"].unique())\n",
    "ids = segmented[\"tid_time\"].unique()"
   ]
  },
  {
   "cell_type": "code",
   "execution_count": 20,
   "id": "27912888-bd08-4719-8bb1-8f5ccc231611",
   "metadata": {
    "tags": []
   },
   "outputs": [
    {
     "data": {
      "text/html": [
       "<div>\n",
       "<style scoped>\n",
       "    .dataframe tbody tr th:only-of-type {\n",
       "        vertical-align: middle;\n",
       "    }\n",
       "\n",
       "    .dataframe tbody tr th {\n",
       "        vertical-align: top;\n",
       "    }\n",
       "\n",
       "    .dataframe thead th {\n",
       "        text-align: right;\n",
       "    }\n",
       "</style>\n",
       "<table border=\"1\" class=\"dataframe\">\n",
       "  <thead>\n",
       "    <tr style=\"text-align: right;\">\n",
       "      <th></th>\n",
       "      <th>id</th>\n",
       "      <th>datetime</th>\n",
       "      <th>lat</th>\n",
       "      <th>lon</th>\n",
       "      <th>dist_to_prev</th>\n",
       "      <th>time_to_prev</th>\n",
       "      <th>speed_to_prev</th>\n",
       "      <th>tid_time</th>\n",
       "    </tr>\n",
       "  </thead>\n",
       "  <tbody>\n",
       "    <tr>\n",
       "      <th>0</th>\n",
       "      <td>8</td>\n",
       "      <td>2020-06-01 08:56:08.148000</td>\n",
       "      <td>50.861073</td>\n",
       "      <td>4.465373</td>\n",
       "      <td>NaN</td>\n",
       "      <td>NaN</td>\n",
       "      <td>NaN</td>\n",
       "      <td>1</td>\n",
       "    </tr>\n",
       "    <tr>\n",
       "      <th>1</th>\n",
       "      <td>8</td>\n",
       "      <td>2020-06-01 08:56:09.648000</td>\n",
       "      <td>50.861100</td>\n",
       "      <td>4.465386</td>\n",
       "      <td>3.152482</td>\n",
       "      <td>1.500000</td>\n",
       "      <td>2.101655</td>\n",
       "      <td>1</td>\n",
       "    </tr>\n",
       "    <tr>\n",
       "      <th>2</th>\n",
       "      <td>8</td>\n",
       "      <td>2020-06-01 08:56:10.398000</td>\n",
       "      <td>50.861127</td>\n",
       "      <td>4.465398</td>\n",
       "      <td>3.152480</td>\n",
       "      <td>0.750000</td>\n",
       "      <td>4.203306</td>\n",
       "      <td>1</td>\n",
       "    </tr>\n",
       "    <tr>\n",
       "      <th>3</th>\n",
       "      <td>8</td>\n",
       "      <td>2020-06-01 08:56:10.797745</td>\n",
       "      <td>50.861146</td>\n",
       "      <td>4.465406</td>\n",
       "      <td>2.100317</td>\n",
       "      <td>0.399745</td>\n",
       "      <td>5.254144</td>\n",
       "      <td>1</td>\n",
       "    </tr>\n",
       "    <tr>\n",
       "      <th>4</th>\n",
       "      <td>8</td>\n",
       "      <td>2020-06-01 08:56:24.229685</td>\n",
       "      <td>50.861756</td>\n",
       "      <td>4.465684</td>\n",
       "      <td>70.572705</td>\n",
       "      <td>13.431940</td>\n",
       "      <td>5.254096</td>\n",
       "      <td>1</td>\n",
       "    </tr>\n",
       "    <tr>\n",
       "      <th>...</th>\n",
       "      <td>...</td>\n",
       "      <td>...</td>\n",
       "      <td>...</td>\n",
       "      <td>...</td>\n",
       "      <td>...</td>\n",
       "      <td>...</td>\n",
       "      <td>...</td>\n",
       "      <td>...</td>\n",
       "    </tr>\n",
       "    <tr>\n",
       "      <th>567</th>\n",
       "      <td>8</td>\n",
       "      <td>2020-06-01 09:06:06.941053</td>\n",
       "      <td>50.872372</td>\n",
       "      <td>4.480123</td>\n",
       "      <td>3.151719</td>\n",
       "      <td>0.718193</td>\n",
       "      <td>4.388402</td>\n",
       "      <td>1</td>\n",
       "    </tr>\n",
       "    <tr>\n",
       "      <th>568</th>\n",
       "      <td>8</td>\n",
       "      <td>2020-06-01 09:06:07.426714</td>\n",
       "      <td>50.872380</td>\n",
       "      <td>4.480166</td>\n",
       "      <td>3.151719</td>\n",
       "      <td>0.485661</td>\n",
       "      <td>6.489542</td>\n",
       "      <td>1</td>\n",
       "    </tr>\n",
       "    <tr>\n",
       "      <th>569</th>\n",
       "      <td>8</td>\n",
       "      <td>2020-06-01 09:06:07.793590</td>\n",
       "      <td>50.872388</td>\n",
       "      <td>4.480209</td>\n",
       "      <td>3.151718</td>\n",
       "      <td>0.366876</td>\n",
       "      <td>8.590693</td>\n",
       "      <td>1</td>\n",
       "    </tr>\n",
       "    <tr>\n",
       "      <th>570</th>\n",
       "      <td>8</td>\n",
       "      <td>2020-06-01 09:06:08.088368</td>\n",
       "      <td>50.872397</td>\n",
       "      <td>4.480252</td>\n",
       "      <td>3.151718</td>\n",
       "      <td>0.294778</td>\n",
       "      <td>10.691831</td>\n",
       "      <td>1</td>\n",
       "    </tr>\n",
       "    <tr>\n",
       "      <th>571</th>\n",
       "      <td>8</td>\n",
       "      <td>2020-06-01 09:06:08.502019</td>\n",
       "      <td>50.872410</td>\n",
       "      <td>4.480321</td>\n",
       "      <td>5.070009</td>\n",
       "      <td>0.413651</td>\n",
       "      <td>12.256733</td>\n",
       "      <td>1</td>\n",
       "    </tr>\n",
       "  </tbody>\n",
       "</table>\n",
       "<p>572 rows × 8 columns</p>\n",
       "</div>"
      ],
      "text/plain": [
       "     id                   datetime        lat       lon  dist_to_prev  \\\n",
       "0     8 2020-06-01 08:56:08.148000  50.861073  4.465373           NaN   \n",
       "1     8 2020-06-01 08:56:09.648000  50.861100  4.465386      3.152482   \n",
       "2     8 2020-06-01 08:56:10.398000  50.861127  4.465398      3.152480   \n",
       "3     8 2020-06-01 08:56:10.797745  50.861146  4.465406      2.100317   \n",
       "4     8 2020-06-01 08:56:24.229685  50.861756  4.465684     70.572705   \n",
       "..   ..                        ...        ...       ...           ...   \n",
       "567   8 2020-06-01 09:06:06.941053  50.872372  4.480123      3.151719   \n",
       "568   8 2020-06-01 09:06:07.426714  50.872380  4.480166      3.151719   \n",
       "569   8 2020-06-01 09:06:07.793590  50.872388  4.480209      3.151718   \n",
       "570   8 2020-06-01 09:06:08.088368  50.872397  4.480252      3.151718   \n",
       "571   8 2020-06-01 09:06:08.502019  50.872410  4.480321      5.070009   \n",
       "\n",
       "     time_to_prev  speed_to_prev  tid_time  \n",
       "0             NaN            NaN         1  \n",
       "1        1.500000       2.101655         1  \n",
       "2        0.750000       4.203306         1  \n",
       "3        0.399745       5.254144         1  \n",
       "4       13.431940       5.254096         1  \n",
       "..            ...            ...       ...  \n",
       "567      0.718193       4.388402         1  \n",
       "568      0.485661       6.489542         1  \n",
       "569      0.366876       8.590693         1  \n",
       "570      0.294778      10.691831         1  \n",
       "571      0.413651      12.256733         1  \n",
       "\n",
       "[572 rows x 8 columns]"
      ]
     },
     "execution_count": 20,
     "metadata": {},
     "output_type": "execute_result"
    }
   ],
   "source": [
    "segmented[segmented[\"tid_time\"]==1]"
   ]
  },
  {
   "cell_type": "code",
   "execution_count": 21,
   "id": "2a2db03c-b9e4-40f1-9157-de8215617258",
   "metadata": {
    "tags": []
   },
   "outputs": [
    {
     "name": "stdout",
     "output_type": "stream",
     "text": [
      "2020-06-01T08:56:08.148000000 2020-06-01T09:06:08.502019000\n",
      "2020-06-01T17:21:58.917000000 2020-06-01T17:32:59.884166000\n",
      "2020-06-02T08:42:16.224000000 2020-06-02T08:52:13.969812000\n",
      "2020-06-02T17:57:39.646000000 2020-06-02T18:08:33.722622000\n",
      "2020-06-03T09:44:32.047000000 2020-06-03T09:54:16.925711000\n",
      "2020-06-03T16:37:19.364000000 2020-06-03T16:48:01.333017000\n",
      "2020-06-04T08:03:17.744000000 2020-06-04T08:13:17.203116000\n",
      "2020-06-04T16:37:58.327000000 2020-06-04T16:48:54.113143000\n",
      "2020-06-04T20:48:10.522000000 2020-06-04T20:51:06.759962000\n",
      "2020-06-04T21:54:40.677962000 2020-06-04T21:57:16.446880000\n"
     ]
    }
   ],
   "source": [
    "for i in ids:\n",
    "    seg = segmented[segmented[\"tid_time\"]==i]\n",
    "    time = seg[\"datetime\"].values\n",
    "    a = time[0]\n",
    "    b = time[-1]\n",
    "    print(a,b)"
   ]
  },
  {
   "cell_type": "code",
   "execution_count": 22,
   "id": "102a2240-b94d-4b11-a8bd-18406d7d266a",
   "metadata": {
    "tags": []
   },
   "outputs": [
    {
     "data": {
      "text/plain": [
       "array([ 1,  2,  3,  4,  5,  6,  7,  8,  9, 10])"
      ]
     },
     "execution_count": 22,
     "metadata": {},
     "output_type": "execute_result"
    }
   ],
   "source": [
    "ids"
   ]
  }
 ],
 "metadata": {
  "kernelspec": {
   "display_name": "Python 3 (ipykernel)",
   "language": "python",
   "name": "python3"
  },
  "language_info": {
   "codemirror_mode": {
    "name": "ipython",
    "version": 3
   },
   "file_extension": ".py",
   "mimetype": "text/x-python",
   "name": "python",
   "nbconvert_exporter": "python",
   "pygments_lexer": "ipython3",
   "version": "3.7.16"
  }
 },
 "nbformat": 4,
 "nbformat_minor": 5
}

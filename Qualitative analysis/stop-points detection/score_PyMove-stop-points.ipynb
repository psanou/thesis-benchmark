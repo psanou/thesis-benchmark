{
 "cells": [
  {
   "cell_type": "code",
   "execution_count": 1,
   "id": "c243f8f3-15b9-4b51-ab46-f9a0dd94130c",
   "metadata": {
    "tags": []
   },
   "outputs": [],
   "source": [
    "\"\"\"\n",
    "Function to compute the execution time.\n",
    "\"\"\"\n",
    "from datetime import timedelta\n",
    "import time\n",
    "def get_time(f, kwargs={}):\n",
    "    times = []\n",
    "    result = None\n",
    "    for i in range(5):\n",
    "        print(\"\\nmeasure\",i+1)\n",
    "        t = time.time()\n",
    "        result = f(**kwargs)\n",
    "        res = time.time()-t\n",
    "        times.append(res)\n",
    "        print( timedelta(seconds=res))\n",
    "        if res > 3600:\n",
    "            print(\"trop de temps\")\n",
    "            return result\n",
    "        \n",
    "    print(\"\\nall times:\", times)\n",
    "    a = min(times)\n",
    "    b = max(times)\n",
    "    print(\"times' outliers:\",a,\"&\",b)\n",
    "    t = (sum(times)-a-b)/3\n",
    "    print(\"benchmark time\",str(t)+\"s\",\"or\", timedelta(seconds=t))\n",
    "    return result"
   ]
  },
  {
   "cell_type": "code",
   "execution_count": 10,
   "id": "6cf12847-e649-479e-b2a4-58730db8a2c7",
   "metadata": {
    "tags": []
   },
   "outputs": [],
   "source": [
    "import pandas as pd\n",
    "import pymove as pm\n",
    "from pymove import MoveDataFrame\n",
    "from pymove import filters\n",
    "import pymove as pm\n",
    "from pymove.visualization import folium as f, matplotlib as mpl\n",
    "from pymove.utils import visual\n",
    "from pymove.preprocessing import stay_point_detection, compression, segmentation\n",
    "from geopy.distance import geodesic "
   ]
  },
  {
   "cell_type": "markdown",
   "id": "f1a25e09-470a-4b6a-b046-767ac71a4c20",
   "metadata": {},
   "source": [
    "# cars trajectories"
   ]
  },
  {
   "cell_type": "code",
   "execution_count": 14,
   "id": "6b6aefcb-36e3-427e-9374-1b701788c361",
   "metadata": {
    "tags": []
   },
   "outputs": [],
   "source": [
    "PATH='../datasets/walking_journey (copy).csv'\n",
    "df = pd.read_csv(PATH)\n",
    "move_df = MoveDataFrame(data=df, latitude=\"latitude\", longitude=\"longitude\", datetime=\"time\", traj_id=\"id\")"
   ]
  },
  {
   "cell_type": "code",
   "execution_count": 18,
   "id": "8ffa2fdc-45bd-4c83-b495-0b7cf710029c",
   "metadata": {
    "tags": []
   },
   "outputs": [
    {
     "data": {
      "application/vnd.jupyter.widget-view+json": {
       "model_id": "3ed3abc1ebe549ea901b4e80c4f7ef95",
       "version_major": 2,
       "version_minor": 0
      },
      "text/plain": [
       "VBox(children=(HTML(value=''), IntProgress(value=0, max=1)))"
      ]
     },
     "metadata": {},
     "output_type": "display_data"
    },
    {
     "data": {
      "application/vnd.jupyter.widget-view+json": {
       "model_id": "a2df46cc7f414f318d923d41f4c6a19f",
       "version_major": 2,
       "version_minor": 0
      },
      "text/plain": [
       "VBox(children=(HTML(value=''), IntProgress(value=0, max=1)))"
      ]
     },
     "metadata": {},
     "output_type": "display_data"
    },
    {
     "data": {
      "application/vnd.jupyter.widget-view+json": {
       "model_id": "8dffe3f9fca14913a921a3ee5c408fb9",
       "version_major": 2,
       "version_minor": 0
      },
      "text/plain": [
       "VBox(children=(HTML(value=''), IntProgress(value=0, max=1)))"
      ]
     },
     "metadata": {},
     "output_type": "display_data"
    },
    {
     "data": {
      "application/vnd.jupyter.widget-view+json": {
       "model_id": "68bd0065a34844c1b19bc18683cbaad8",
       "version_major": 2,
       "version_minor": 0
      },
      "text/plain": [
       "VBox(children=(HTML(value=''), IntProgress(value=0, max=3)))"
      ]
     },
     "metadata": {},
     "output_type": "display_data"
    },
    {
     "data": {
      "text/html": [
       "<div>\n",
       "<style scoped>\n",
       "    .dataframe tbody tr th:only-of-type {\n",
       "        vertical-align: middle;\n",
       "    }\n",
       "\n",
       "    .dataframe tbody tr th {\n",
       "        vertical-align: top;\n",
       "    }\n",
       "\n",
       "    .dataframe thead th {\n",
       "        text-align: right;\n",
       "    }\n",
       "</style>\n",
       "<table border=\"1\" class=\"dataframe\">\n",
       "  <thead>\n",
       "    <tr style=\"text-align: right;\">\n",
       "      <th></th>\n",
       "      <th>segment_stop</th>\n",
       "      <th>id</th>\n",
       "      <th>datetime</th>\n",
       "      <th>lat</th>\n",
       "      <th>lon</th>\n",
       "      <th>dist_to_prev</th>\n",
       "      <th>time_to_prev</th>\n",
       "      <th>speed_to_prev</th>\n",
       "      <th>stop</th>\n",
       "    </tr>\n",
       "  </thead>\n",
       "  <tbody>\n",
       "    <tr>\n",
       "      <th>0</th>\n",
       "      <td>1</td>\n",
       "      <td>0</td>\n",
       "      <td>2023-12-23 14:14:47</td>\n",
       "      <td>50.838150</td>\n",
       "      <td>4.361905</td>\n",
       "      <td>NaN</td>\n",
       "      <td>NaN</td>\n",
       "      <td>NaN</td>\n",
       "      <td>True</td>\n",
       "    </tr>\n",
       "    <tr>\n",
       "      <th>1</th>\n",
       "      <td>1</td>\n",
       "      <td>0</td>\n",
       "      <td>2023-12-23 14:15:03</td>\n",
       "      <td>50.838094</td>\n",
       "      <td>4.361968</td>\n",
       "      <td>7.653877</td>\n",
       "      <td>16.0</td>\n",
       "      <td>0.478367</td>\n",
       "      <td>True</td>\n",
       "    </tr>\n",
       "    <tr>\n",
       "      <th>2</th>\n",
       "      <td>1</td>\n",
       "      <td>0</td>\n",
       "      <td>2023-12-23 14:15:19</td>\n",
       "      <td>50.838056</td>\n",
       "      <td>4.362014</td>\n",
       "      <td>5.371811</td>\n",
       "      <td>16.0</td>\n",
       "      <td>0.335738</td>\n",
       "      <td>True</td>\n",
       "    </tr>\n",
       "    <tr>\n",
       "      <th>3</th>\n",
       "      <td>1</td>\n",
       "      <td>0</td>\n",
       "      <td>2023-12-23 14:15:35</td>\n",
       "      <td>50.838025</td>\n",
       "      <td>4.362023</td>\n",
       "      <td>3.441162</td>\n",
       "      <td>16.0</td>\n",
       "      <td>0.215073</td>\n",
       "      <td>True</td>\n",
       "    </tr>\n",
       "    <tr>\n",
       "      <th>4</th>\n",
       "      <td>1</td>\n",
       "      <td>0</td>\n",
       "      <td>2023-12-23 14:15:51</td>\n",
       "      <td>50.838007</td>\n",
       "      <td>4.362006</td>\n",
       "      <td>2.367236</td>\n",
       "      <td>16.0</td>\n",
       "      <td>0.147952</td>\n",
       "      <td>True</td>\n",
       "    </tr>\n",
       "    <tr>\n",
       "      <th>...</th>\n",
       "      <td>...</td>\n",
       "      <td>...</td>\n",
       "      <td>...</td>\n",
       "      <td>...</td>\n",
       "      <td>...</td>\n",
       "      <td>...</td>\n",
       "      <td>...</td>\n",
       "      <td>...</td>\n",
       "      <td>...</td>\n",
       "    </tr>\n",
       "    <tr>\n",
       "      <th>332</th>\n",
       "      <td>3</td>\n",
       "      <td>0</td>\n",
       "      <td>2023-12-23 15:43:19</td>\n",
       "      <td>50.835118</td>\n",
       "      <td>4.363901</td>\n",
       "      <td>2.837499</td>\n",
       "      <td>16.0</td>\n",
       "      <td>0.177344</td>\n",
       "      <td>True</td>\n",
       "    </tr>\n",
       "    <tr>\n",
       "      <th>333</th>\n",
       "      <td>3</td>\n",
       "      <td>0</td>\n",
       "      <td>2023-12-23 15:43:35</td>\n",
       "      <td>50.835117</td>\n",
       "      <td>4.363939</td>\n",
       "      <td>2.705972</td>\n",
       "      <td>16.0</td>\n",
       "      <td>0.169123</td>\n",
       "      <td>True</td>\n",
       "    </tr>\n",
       "    <tr>\n",
       "      <th>334</th>\n",
       "      <td>3</td>\n",
       "      <td>0</td>\n",
       "      <td>2023-12-23 15:43:51</td>\n",
       "      <td>50.835138</td>\n",
       "      <td>4.363944</td>\n",
       "      <td>2.415328</td>\n",
       "      <td>16.0</td>\n",
       "      <td>0.150958</td>\n",
       "      <td>True</td>\n",
       "    </tr>\n",
       "    <tr>\n",
       "      <th>335</th>\n",
       "      <td>3</td>\n",
       "      <td>0</td>\n",
       "      <td>2023-12-23 15:44:07</td>\n",
       "      <td>50.835186</td>\n",
       "      <td>4.363967</td>\n",
       "      <td>5.489253</td>\n",
       "      <td>16.0</td>\n",
       "      <td>0.343078</td>\n",
       "      <td>True</td>\n",
       "    </tr>\n",
       "    <tr>\n",
       "      <th>336</th>\n",
       "      <td>3</td>\n",
       "      <td>0</td>\n",
       "      <td>2023-12-23 15:44:23</td>\n",
       "      <td>50.835177</td>\n",
       "      <td>4.363882</td>\n",
       "      <td>6.022727</td>\n",
       "      <td>16.0</td>\n",
       "      <td>0.376420</td>\n",
       "      <td>True</td>\n",
       "    </tr>\n",
       "  </tbody>\n",
       "</table>\n",
       "<p>337 rows × 9 columns</p>\n",
       "</div>"
      ],
      "text/plain": [
       "     segment_stop  id            datetime        lat       lon  dist_to_prev  \\\n",
       "0               1   0 2023-12-23 14:14:47  50.838150  4.361905           NaN   \n",
       "1               1   0 2023-12-23 14:15:03  50.838094  4.361968      7.653877   \n",
       "2               1   0 2023-12-23 14:15:19  50.838056  4.362014      5.371811   \n",
       "3               1   0 2023-12-23 14:15:35  50.838025  4.362023      3.441162   \n",
       "4               1   0 2023-12-23 14:15:51  50.838007  4.362006      2.367236   \n",
       "..            ...  ..                 ...        ...       ...           ...   \n",
       "332             3   0 2023-12-23 15:43:19  50.835118  4.363901      2.837499   \n",
       "333             3   0 2023-12-23 15:43:35  50.835117  4.363939      2.705972   \n",
       "334             3   0 2023-12-23 15:43:51  50.835138  4.363944      2.415328   \n",
       "335             3   0 2023-12-23 15:44:07  50.835186  4.363967      5.489253   \n",
       "336             3   0 2023-12-23 15:44:23  50.835177  4.363882      6.022727   \n",
       "\n",
       "     time_to_prev  speed_to_prev  stop  \n",
       "0             NaN            NaN  True  \n",
       "1            16.0       0.478367  True  \n",
       "2            16.0       0.335738  True  \n",
       "3            16.0       0.215073  True  \n",
       "4            16.0       0.147952  True  \n",
       "..            ...            ...   ...  \n",
       "332          16.0       0.177344  True  \n",
       "333          16.0       0.169123  True  \n",
       "334          16.0       0.150958  True  \n",
       "335          16.0       0.343078  True  \n",
       "336          16.0       0.376420  True  \n",
       "\n",
       "[337 rows x 9 columns]"
      ]
     },
     "execution_count": 18,
     "metadata": {},
     "output_type": "execute_result"
    }
   ],
   "source": [
    "stops = stay_point_detection.create_or_update_move_stop_by_dist_time(move_data=move_df,dist_radius=40,time_radius=10*60)\n",
    "stops"
   ]
  },
  {
   "cell_type": "code",
   "execution_count": 20,
   "id": "321ae91b",
   "metadata": {
    "tags": []
   },
   "outputs": [
    {
     "data": {
      "text/plain": [
       "336"
      ]
     },
     "execution_count": 20,
     "metadata": {},
     "output_type": "execute_result"
    }
   ],
   "source": [
    "len(stops[stops[\"stop\"] == True])"
   ]
  },
  {
   "cell_type": "code",
   "execution_count": 17,
   "id": "d46ef256-8813-41c7-a38d-7b25d17aa455",
   "metadata": {
    "tags": []
   },
   "outputs": [
    {
     "data": {
      "text/plain": [
       "2"
      ]
     },
     "execution_count": 17,
     "metadata": {},
     "output_type": "execute_result"
    }
   ],
   "source": [
    "len(stops[stops[\"stop\"] == True]['segment_stop'].unique())"
   ]
  },
  {
   "cell_type": "markdown",
   "id": "68055187",
   "metadata": {},
   "source": [
    "# Accuracy"
   ]
  },
  {
   "cell_type": "code",
   "execution_count": null,
   "id": "bd034e4c-ce39-4b25-8291-64774cd44d00",
   "metadata": {},
   "outputs": [],
   "source": [
    "HM = (50.83749695938153, 4.361910678357021)\n",
    "ICI_PARIS = (50.83639483000942, 4.36310730085289)\n",
    "PRIMARK = (50.83609678331181, 4.362912067372084)\n",
    "\n",
    "hm = (stops[\"lat\"].values[0], stops[\"lng\"].values[0])\n",
    "ici_paris = ((stops[\"lat\"].values[1], stops[\"lng\"].values[1]))\n",
    "primark = ((stops[\"lat\"].values[2], stops[\"lng\"].values[2]))\n",
    "print(hm, ici_paris, primark)\n",
    "\n",
    "def dist(coord1, coord2):\n",
    "    return geodesic(coord1, coord2).m\n",
    "\n",
    "dist(hm, HM), dist(ici_paris, ICI_PARIS), dist(primark, PRIMARK)"
   ]
  }
 ],
 "metadata": {
  "kernelspec": {
   "display_name": "Python 3 (ipykernel)",
   "language": "python",
   "name": "python3"
  },
  "language_info": {
   "codemirror_mode": {
    "name": "ipython",
    "version": 3
   },
   "file_extension": ".py",
   "mimetype": "text/x-python",
   "name": "python",
   "nbconvert_exporter": "python",
   "pygments_lexer": "ipython3",
   "version": "3.7.16"
  }
 },
 "nbformat": 4,
 "nbformat_minor": 5
}

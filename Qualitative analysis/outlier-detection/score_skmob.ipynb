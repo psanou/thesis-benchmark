{
 "cells": [
  {
   "cell_type": "markdown",
   "id": "6a3fb162-6b56-49f1-9b8d-a5abdf6baf0d",
   "metadata": {},
   "source": [
    "# Qualitative analysis of outlier detection "
   ]
  },
  {
   "cell_type": "code",
   "execution_count": 1,
   "id": "3a984bad",
   "metadata": {},
   "outputs": [
    {
     "ename": "ModuleNotFoundError",
     "evalue": "No module named 'skmob'",
     "output_type": "error",
     "traceback": [
      "\u001b[0;31m---------------------------------------------------------------------------\u001b[0m",
      "\u001b[0;31mModuleNotFoundError\u001b[0m                       Traceback (most recent call last)",
      "\u001b[0;32m/tmp/ipykernel_69107/950149560.py\u001b[0m in \u001b[0;36m<module>\u001b[0;34m\u001b[0m\n\u001b[0;32m----> 1\u001b[0;31m \u001b[0;32mimport\u001b[0m \u001b[0mskmob\u001b[0m\u001b[0;34m\u001b[0m\u001b[0;34m\u001b[0m\u001b[0m\n\u001b[0m\u001b[1;32m      2\u001b[0m \u001b[0;32mimport\u001b[0m \u001b[0mpandas\u001b[0m \u001b[0;32mas\u001b[0m \u001b[0mpd\u001b[0m\u001b[0;34m\u001b[0m\u001b[0;34m\u001b[0m\u001b[0m\n\u001b[1;32m      3\u001b[0m \u001b[0;32mimport\u001b[0m \u001b[0mjson\u001b[0m\u001b[0;34m\u001b[0m\u001b[0;34m\u001b[0m\u001b[0m\n\u001b[1;32m      4\u001b[0m \u001b[0;32mimport\u001b[0m \u001b[0mnumpy\u001b[0m \u001b[0;32mas\u001b[0m \u001b[0mnp\u001b[0m\u001b[0;34m\u001b[0m\u001b[0;34m\u001b[0m\u001b[0m\n\u001b[1;32m      5\u001b[0m \u001b[0;32mimport\u001b[0m \u001b[0mfolium\u001b[0m\u001b[0;34m\u001b[0m\u001b[0;34m\u001b[0m\u001b[0m\n",
      "\u001b[0;31mModuleNotFoundError\u001b[0m: No module named 'skmob'"
     ]
    }
   ],
   "source": [
    "import skmob\n",
    "import pandas as pd\n",
    "import json\n",
    "import numpy as np\n",
    "import folium\n",
    "from shapely.geometry import Point, LineString, Polygon\n",
    "from skmob.preprocessing import compression, filtering, detection\n",
    "from shapely.ops import nearest_points"
   ]
  },
  {
   "cell_type": "markdown",
   "id": "7f14e388-6fd7-40eb-9686-4b12a68dd683",
   "metadata": {},
   "source": [
    "## Qualititative analysis based on the shapefile"
   ]
  },
  {
   "cell_type": "markdown",
   "id": "6c58aa91-50a6-44d8-a7e3-0e8ea08ef757",
   "metadata": {},
   "source": [
    "### Trajectory loading"
   ]
  },
  {
   "cell_type": "code",
   "execution_count": null,
   "id": "f65aefcc-43ba-48aa-a42c-facd982ce28c",
   "metadata": {},
   "outputs": [],
   "source": [
    "df= pd.read_csv(\"datasets/my_traj.csv\")\n",
    "#df[\"time\"] = pd.to_datetime(df[\"time\"],format=\"mixed\")\n",
    "skmob.TrajDataFrame(data=df, latitude='latitude', longitude='longitude', trajectory_id='id', datetime='time').plot_trajectory(tiles=\"OpenStreetMap\")"
   ]
  },
  {
   "cell_type": "markdown",
   "id": "54766591-d903-4541-9d3e-fa66131cd0ca",
   "metadata": {},
   "source": [
    "### Shapefile loading & Ground truth computation"
   ]
  },
  {
   "cell_type": "code",
   "execution_count": null,
   "id": "8234445a-6d96-46a7-aeef-ae2e5db654b9",
   "metadata": {},
   "outputs": [],
   "source": [
    "from pyproj import CRS, Geod\n",
    "line = \"034b\"\n",
    "variante = 1\n",
    "shapefile= pd.read_csv(\"datasets/shapefiles.csv\", delimiter=\";\")\n",
    "shapefile = shapefile[(shapefile[\"LIGNE\"]==line) & (shapefile[\"VARIANTE\"]==variante )][\"Geo Shape\"].values[0]\n",
    "shapefile = json.loads(shapefile)\n",
    "\n",
    "crs_utm = CRS.from_user_input(31370)\n",
    "geod = crs_utm.get_geod()  # Your data may be from a different Geod.\n",
    "distance = np.zeros(len(df))\n",
    "nearest_points_list = []\n",
    "df = df.reset_index(drop=True)\n",
    "line_shape = LineString(shapefile[\"coordinates\"]) \n",
    "for index, row in df.iterrows():\n",
    "    point = Point(row[\"longitude\"], row[\"latitude\"])\n",
    "    closest_points = nearest_points(line_shape, point)\n",
    "    nearest_points_list.append(closest_points[0])\n",
    "    distance[index] = geod.geometry_length(LineString(closest_points))\n",
    "    \n",
    "df[\"distance\"] = distance \n",
    "#df[\"nearest_point\"] = nearest_points_list\n",
    "mean = df[\"distance\"].mean()\n",
    "median = df[\"distance\"].median()\n",
    "std = df[\"distance\"].std()\n",
    "k=1.5\n",
    "threshold = median + k * std\n",
    "#df[\"nearest_point\"] = nearest_points_list\n",
    "print(mean, std)\n",
    "outliers = df[df[\"distance\"] > threshold]\n",
    "is_normal = np.zeros(len(df))\n",
    "for i in range(len(df['time'].values)):\n",
    "    if df['time'].values[i] not in outliers['time'].values:\n",
    "        is_normal[i] = 1\n",
    "df[\"is normal\"] = is_normal > 0\n",
    "df"
   ]
  },
  {
   "cell_type": "code",
   "execution_count": null,
   "id": "e638612a-8357-4dcf-aa57-3ea3934dc0c7",
   "metadata": {},
   "outputs": [],
   "source": [
    "trajectory_df = skmob.TrajDataFrame(data=df, latitude='latitude', longitude='longitude', trajectory_id='id', datetime='time')"
   ]
  },
  {
   "cell_type": "markdown",
   "id": "0779610a-a291-4ff9-b608-8de583fbd1f7",
   "metadata": {},
   "source": [
    "#### Speed based method"
   ]
  },
  {
   "cell_type": "code",
   "execution_count": null,
   "id": "b869ecd2-9eb7-4353-b38a-601751a75ec1",
   "metadata": {},
   "outputs": [],
   "source": [
    "cleaned_df = filtering.filter(tdf=trajectory_df,max_speed_kmh=9*3.6)\n",
    "cleaned_df.to_csv('csv_results/cleaned_df_skmob_trip.csv', index=False)\n",
    "cleaned_df.plot_trajectory(weight=4,tiles=\"OpenStreetMap\",zoom=16,hex_color=\"#0000FF\")"
   ]
  },
  {
   "cell_type": "code",
   "execution_count": null,
   "id": "5b1f039a-4726-44b2-a07a-4fd85465c803",
   "metadata": {},
   "outputs": [],
   "source": [
    "outlier_df = trajectory_df.merge(cleaned_df.drop_duplicates(), on=['datetime'], how='left', indicator=True)\n",
    "outlier_df = outlier_df[outlier_df[\"_merge\"] == \"left_only\"]\n",
    "outlier_df\n"
   ]
  },
  {
   "cell_type": "code",
   "execution_count": null,
   "id": "5a1372c5-7a18-4419-9cc4-9f443701cf43",
   "metadata": {},
   "outputs": [],
   "source": [
    "TP = len(cleaned_df[cleaned_df[\"is normal\"] == True])\n",
    "FP = len(cleaned_df[cleaned_df[\"is normal\"] == False])\n",
    "TN = len(outlier_df[outlier_df[\"is normal_x\"] == False])\n",
    "FN = len(outlier_df[outlier_df[\"is normal_x\"] == True])\n",
    "P = TP / (TP + FP)\n",
    "A = (TP + TN) / (TP + TN + FP + FN)\n",
    "R = TP / (TP + FN)\n",
    "F1 = 2 * (P * R) / (P + R)\n",
    "print(\"TP:{}\\nFP:{}\\nTN:{}\\nFN:{}\".format(TP,FP,TN,FN))\n",
    "print(\"Precision:\", round(P,3))\n",
    "print(\"Accuracy::\",round(A,3))\n",
    "print(\"Recall:\", round(R,3))\n",
    "print(\"F1:\", round(F1,3))"
   ]
  },
  {
   "cell_type": "markdown",
   "id": "aea9142f-a467-4d0f-9255-30a7b26b45dd",
   "metadata": {},
   "source": [
    "## Qualititative analysis based on the introduction of outliers"
   ]
  },
  {
   "cell_type": "code",
   "execution_count": null,
   "id": "9d2d068a-6a8a-42ae-842d-0bfc24475b9d",
   "metadata": {},
   "outputs": [],
   "source": [
    "df= pd.read_csv(\"datasets/berlinMOD_with_outliers.csv\")\n",
    "trajectory_df = skmob.TrajDataFrame(data=df, latitude='latitude', longitude='longitude', trajectory_id='id', datetime='time')\n",
    "trajectory_df"
   ]
  },
  {
   "cell_type": "markdown",
   "id": "ad0304b7-89ad-49d7-b90d-049b66d647c7",
   "metadata": {},
   "source": [
    "#### speed based method"
   ]
  },
  {
   "cell_type": "code",
   "execution_count": null,
   "id": "94a8331f-57c2-41f6-85e1-f4332a81c00c",
   "metadata": {},
   "outputs": [],
   "source": [
    "cleaned_df = filtering.filter(tdf=trajectory_df,max_speed_kmh=25*3.6)\n",
    "cleaned_df.to_csv('csv_results/cleaned_df_skmob_MOD.csv', index=False)"
   ]
  },
  {
   "cell_type": "code",
   "execution_count": null,
   "id": "e0a173ce",
   "metadata": {},
   "outputs": [],
   "source": [
    "outlier_df = trajectory_df.merge(cleaned_df.drop_duplicates(), on=['datetime'], how='left', indicator=True)\n",
    "outlier_df = outlier_df[outlier_df[\"_merge\"] == \"left_only\"]\n",
    "len(outlier_df)"
   ]
  },
  {
   "cell_type": "code",
   "execution_count": null,
   "id": "81a368df-6607-468a-952d-e7faac6e8a79",
   "metadata": {},
   "outputs": [],
   "source": [
    "TP = len(cleaned_df[cleaned_df[\"is normal\"] == True])\n",
    "FP = len(cleaned_df[cleaned_df[\"is normal\"] == False])\n",
    "TN = len(outlier_df[outlier_df[\"is normal_x\"] == False])\n",
    "FN = len(outlier_df[outlier_df[\"is normal_x\"] == True])\n",
    "P = TP / (TP + FP)\n",
    "A = (TP + TN) / (TP + TN + FP + FN)\n",
    "R = TP / (TP + FN)\n",
    "F1 = 2 * (P * R) / (P + R)\n",
    "print(\"TP:{}\\nFP:{}\\nTN:{}\\nFN:{}\".format(TP,FP,TN,FN))\n",
    "print(\"Precision:\", round(P,3))\n",
    "print(\"Accuracy::\",round(A,3))\n",
    "print(\"Recall:\", round(R,3))\n",
    "print(\"F1:\", round(F1,3))"
   ]
  },
  {
   "cell_type": "code",
   "execution_count": null,
   "id": "e4a982bf-7bcc-4587-acdd-ed5442694bd4",
   "metadata": {},
   "outputs": [],
   "source": [
    "df.to_csv(\"test.csv\",index=False)"
   ]
  },
  {
   "cell_type": "code",
   "execution_count": null,
   "id": "6ad84227-a26e-4cfb-a839-b38ea4c73348",
   "metadata": {},
   "outputs": [],
   "source": []
  }
 ],
 "metadata": {
  "kernelspec": {
   "display_name": "Python 3 (ipykernel)",
   "language": "python",
   "name": "python3"
  },
  "language_info": {
   "codemirror_mode": {
    "name": "ipython",
    "version": 3
   },
   "file_extension": ".py",
   "mimetype": "text/x-python",
   "name": "python",
   "nbconvert_exporter": "python",
   "pygments_lexer": "ipython3",
   "version": "3.10.12"
  }
 },
 "nbformat": 4,
 "nbformat_minor": 5
}

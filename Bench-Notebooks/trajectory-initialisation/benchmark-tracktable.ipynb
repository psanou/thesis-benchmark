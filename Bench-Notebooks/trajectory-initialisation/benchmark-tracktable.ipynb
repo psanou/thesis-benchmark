{
 "cells": [
  {
   "cell_type": "code",
   "execution_count": 1,
   "id": "7e1108b3-103f-4614-b93a-65f236a0ac3e",
   "metadata": {},
   "outputs": [],
   "source": [
    "\"\"\"\n",
    "Function to compute the execution time.\n",
    "\"\"\"\n",
    "from datetime import timedelta\n",
    "import time\n",
    "def get_time(f, kwargs={}):\n",
    "    times = []\n",
    "    result = None\n",
    "    for i in range(1):\n",
    "        print(\"\\nmeasure\",i+1)\n",
    "        t = time.time()\n",
    "        result = f(**kwargs)\n",
    "        res = time.time()-t\n",
    "        times.append(res)\n",
    "        print( timedelta(seconds=res))\n",
    "        if res > 3600*2:\n",
    "            print(\"trop de temps\")\n",
    "            return result\n",
    "        \n",
    "    print(\"\\nall times:\", times)\n",
    "    a = min(times)\n",
    "    b = max(times)\n",
    "    print(\"times' outliers:\",a,\"&\",b)\n",
    "    t = abs(sum(times)-a-b)/1\n",
    "    print(\"benchmark time\",str(t)+\"s\",\"or\", timedelta(seconds=t))\n",
    "    return result"
   ]
  },
  {
   "cell_type": "code",
   "execution_count": 2,
   "id": "579b9916-4f11-4d4b-a464-56669f84439d",
   "metadata": {},
   "outputs": [
    {
     "name": "stderr",
     "output_type": "stream",
     "text": [
      "INFO:numexpr.utils:NumExpr defaulting to 8 threads.\n"
     ]
    }
   ],
   "source": [
    "from tracktable.domain.terrestrial import TrajectoryPointReader\n",
    "from tracktable.render.render_trajectories import render_trajectories, render_trajectories_separate\n",
    "from tracktable.applications.assemble_trajectories import AssembleTrajectoryFromPoints\n",
    "from tracktable.core.geomath import length, recompute_speed, simplify\n",
    "import pandas as pd"
   ]
  },
  {
   "cell_type": "code",
   "execution_count": 3,
   "id": "9c00e773-6b4b-4717-83ac-a6a31a9c0340",
   "metadata": {},
   "outputs": [],
   "source": [
    "SIZE = \"small\""
   ]
  },
  {
   "cell_type": "markdown",
   "id": "402e5924-cb25-4408-acbb-228918a556cc",
   "metadata": {},
   "source": [
    "### Trajectories loading"
   ]
  },
  {
   "cell_type": "markdown",
   "id": "41d85992-a40b-4d63-bdca-5f46cdbbb9c2",
   "metadata": {},
   "source": [
    "# Cars Trajectories"
   ]
  },
  {
   "cell_type": "markdown",
   "id": "417d7cc6-2b76-44eb-9692-8abce531018a",
   "metadata": {},
   "source": [
    "### Trajectories loading"
   ]
  },
  {
   "cell_type": "code",
   "execution_count": 4,
   "id": "5870abe3-8ecf-4398-b379-b40d693597ae",
   "metadata": {},
   "outputs": [
    {
     "name": "stderr",
     "output_type": "stream",
     "text": [
      "INFO:tracktable.applications.assemble_trajectoriesAssembleTrajectoryFromPoints:New trajectories will be declared after a separation of None distance units between two points or a time lapse of at least None (hours, minutes, seconds).\n",
      "INFO:tracktable.applications.assemble_trajectoriesAssembleTrajectoryFromPoints:Trajectories with fewer than 2 points will be discarded.\n"
     ]
    },
    {
     "name": "stdout",
     "output_type": "stream",
     "text": [
      "[2024-01-15 21:10:39.629826] [0x00007f7f9347b740] [info]    Done reading points. Generated 1374871 points correctly and discarded 1 due to parse errors.\n",
      "\n"
     ]
    },
    {
     "name": "stderr",
     "output_type": "stream",
     "text": [
      "INFO:tracktable.applications.assemble_trajectoriesAssembleTrajectoryFromPoints:Done assembling trajectories. 56 trajectories produced and 0 discarded for having fewer than 2 points.\n"
     ]
    },
    {
     "name": "stdout",
     "output_type": "stream",
     "text": [
      "56\n"
     ]
    }
   ],
   "source": [
    "PATH = \"../../datasets/berlinMOD_\"+SIZE+\".csv\"\n",
    "def load_cars_trajectories(PATH):\n",
    "    ## Set up the point reader\n",
    "    reader = TrajectoryPointReader()\n",
    "    reader.input = open(PATH, 'r')\n",
    "    reader.comment_character = '#'\n",
    "    reader.field_delimiter = ','\n",
    "    reader.null_value = 'NaN'\n",
    "    reader.object_id_column = 0\n",
    "    reader.timestamp_column = 3\n",
    "    reader.coordinates[0] = 1     # longitude\n",
    "    reader.coordinates[1] = 2     # latitude\n",
    "    \n",
    "    ## Put the point reader into the trajectoriesBuilder\n",
    "    builder = AssembleTrajectoryFromPoints()\n",
    "    builder.input = reader\n",
    "    builder.separation_time = None\n",
    "    return list(builder)\n",
    "\n",
    "trajectories = load_cars_trajectories(PATH)\n",
    "print(len(trajectories))"
   ]
  },
  {
   "cell_type": "code",
   "execution_count": 5,
   "id": "aedbfa99-011c-44bf-bfd0-6f8d637198c6",
   "metadata": {},
   "outputs": [
    {
     "ename": "KeyboardInterrupt",
     "evalue": "",
     "output_type": "error",
     "traceback": [
      "\u001b[0;31m---------------------------------------------------------------------------\u001b[0m",
      "\u001b[0;31mKeyboardInterrupt\u001b[0m                         Traceback (most recent call last)",
      "Cell \u001b[0;32mIn[5], line 1\u001b[0m\n\u001b[0;32m----> 1\u001b[0m \u001b[43mrender_trajectories\u001b[49m\u001b[43m(\u001b[49m\u001b[43mtrajectories\u001b[49m\u001b[43m)\u001b[49m\n",
      "File \u001b[0;32m~/miniconda3/envs/tracktable/lib/python3.8/site-packages/tracktable/render/render_trajectories.py:265\u001b[0m, in \u001b[0;36mrender_trajectories\u001b[0;34m(trajectories, backend, simplify_traj, simplify_tol, **kwargs)\u001b[0m\n\u001b[1;32m    262\u001b[0m         \u001b[38;5;28;01mfor\u001b[39;00m index, traj \u001b[38;5;129;01min\u001b[39;00m \u001b[38;5;28menumerate\u001b[39m(trajectories):\n\u001b[1;32m    263\u001b[0m             trajectories[index] \u001b[38;5;241m=\u001b[39m simplify(traj, simplify_tol)\n\u001b[0;32m--> 265\u001b[0m \u001b[38;5;28;01mreturn\u001b[39;00m \u001b[43mrender_function\u001b[49m\u001b[43m(\u001b[49m\u001b[43mtrajectories\u001b[49m\u001b[43m,\u001b[49m\u001b[43m \u001b[49m\u001b[38;5;241;43m*\u001b[39;49m\u001b[38;5;241;43m*\u001b[39;49m\u001b[43mkwargs\u001b[49m\u001b[43m)\u001b[49m\n",
      "File \u001b[0;32m~/miniconda3/envs/tracktable/lib/python3.8/site-packages/tracktable/render/backends/folium_backend.py:301\u001b[0m, in \u001b[0;36mrender_trajectories\u001b[0;34m(trajectories, map_canvas, obj_ids, map_bbox, show_lines, gradient_hue, color_map, line_color, linewidth, show_points, point_size, point_color, show_dot, dot_size, dot_color, trajectory_scalar_generator, trajectory_linewidth_generator, color_scale, show, save, filename, tiles, attr, crs, point_popup_properties, show_distance_geometry, distance_geometry_depth, zoom_frac, show_scale, max_zoom, fast, animate, anim_display_update_interval, anim_timestamp_update_step, anim_trail_duration, draw_airports, draw_ports, airport_color, port_color, airport_dot_size, port_dot_size, use_shapefile, use_markers, popup_width, airport_list, port_list, airport_bounding_box, port_country, port_water_body, port_wpi_region, port_bounding_box, port_and_country_seperate, prefer_canvas, draw_shorelines, draw_rivers, draw_borders, shoreline_color, river_color, border_color, shoreline_fill_polygon, shoreline_fill_color, shoreline_list, river_list, border_list, shoreline_bounding_box, river_bounding_box, border_bounding_box, shoreline_resolution, shoreline_level, river_resolution, river_level, border_resolution, border_level, **kwargs)\u001b[0m\n\u001b[1;32m    295\u001b[0m                 segments\u001b[38;5;241m.\u001b[39mappend({\u001b[38;5;124m'\u001b[39m\u001b[38;5;124mcoordinates\u001b[39m\u001b[38;5;124m'\u001b[39m: [[last_pos[\u001b[38;5;241m1\u001b[39m], last_pos[\u001b[38;5;241m0\u001b[39m]], [pos[\u001b[38;5;241m1\u001b[39m], pos[\u001b[38;5;241m0\u001b[39m]]],\n\u001b[1;32m    296\u001b[0m                                  \u001b[38;5;124m'\u001b[39m\u001b[38;5;124mtimes\u001b[39m\u001b[38;5;124m'\u001b[39m: [times[i], times[i\u001b[38;5;241m+\u001b[39m\u001b[38;5;241m1\u001b[39m]], \u001b[38;5;66;03m#i is off by one, so in first iter times[0] is the previous time\u001b[39;00m\n\u001b[1;32m    297\u001b[0m                                  \u001b[38;5;124m'\u001b[39m\u001b[38;5;124mcolor\u001b[39m\u001b[38;5;124m'\u001b[39m: segment_color,\n\u001b[1;32m    298\u001b[0m                                  \u001b[38;5;124m'\u001b[39m\u001b[38;5;124mweight\u001b[39m\u001b[38;5;124m'\u001b[39m: weight\n\u001b[1;32m    299\u001b[0m                              })\n\u001b[1;32m    300\u001b[0m             \u001b[38;5;28;01melse\u001b[39;00m:\n\u001b[0;32m--> 301\u001b[0m                 \u001b[43mfol\u001b[49m\u001b[38;5;241;43m.\u001b[39;49m\u001b[43mPolyLine\u001b[49m\u001b[43m(\u001b[49m\u001b[43m[\u001b[49m\u001b[43mlast_pos\u001b[49m\u001b[43m,\u001b[49m\u001b[43mpos\u001b[49m\u001b[43m]\u001b[49m\u001b[43m,\u001b[49m\n\u001b[1;32m    302\u001b[0m \u001b[43m                             \u001b[49m\u001b[43mcolor\u001b[49m\u001b[38;5;241;43m=\u001b[39;49m\u001b[43msegment_color\u001b[49m\u001b[43m,\u001b[49m\u001b[43m \u001b[49m\u001b[43mweight\u001b[49m\u001b[38;5;241;43m=\u001b[39;49m\u001b[43mweight\u001b[49m\u001b[43m,\u001b[49m\n\u001b[1;32m    303\u001b[0m \u001b[43m                             \u001b[49m\u001b[43mopacity\u001b[49m\u001b[38;5;241;43m=\u001b[39;49m\u001b[38;5;241;43m1\u001b[39;49m\u001b[43m,\u001b[49m\u001b[43m \u001b[49m\u001b[43mtooltip\u001b[49m\u001b[38;5;241;43m=\u001b[39;49m\u001b[43mtooltip_str\u001b[49m\u001b[43m,\u001b[49m\n\u001b[1;32m    304\u001b[0m \u001b[43m                             \u001b[49m\u001b[43mpopup\u001b[49m\u001b[38;5;241;43m=\u001b[39;49m\u001b[43mpopup_str\u001b[49m\u001b[43m)\u001b[49m\u001b[38;5;241m.\u001b[39madd_to(map_canvas)\n\u001b[1;32m    305\u001b[0m             last_pos \u001b[38;5;241m=\u001b[39m pos\n\u001b[1;32m    306\u001b[0m \u001b[38;5;28;01mif\u001b[39;00m show_points:\n",
      "File \u001b[0;32m~/miniconda3/envs/tracktable/lib/python3.8/site-packages/folium/vector_layers.py:169\u001b[0m, in \u001b[0;36mPolyLine.__init__\u001b[0;34m(self, locations, popup, tooltip, **kwargs)\u001b[0m\n\u001b[1;32m    168\u001b[0m \u001b[38;5;28;01mdef\u001b[39;00m \u001b[38;5;21m__init__\u001b[39m(\u001b[38;5;28mself\u001b[39m, locations, popup\u001b[38;5;241m=\u001b[39m\u001b[38;5;28;01mNone\u001b[39;00m, tooltip\u001b[38;5;241m=\u001b[39m\u001b[38;5;28;01mNone\u001b[39;00m, \u001b[38;5;241m*\u001b[39m\u001b[38;5;241m*\u001b[39mkwargs):\n\u001b[0;32m--> 169\u001b[0m     \u001b[38;5;28;43msuper\u001b[39;49m\u001b[43m(\u001b[49m\u001b[43m)\u001b[49m\u001b[38;5;241;43m.\u001b[39;49m\u001b[38;5;21;43m__init__\u001b[39;49m\u001b[43m(\u001b[49m\u001b[43mlocations\u001b[49m\u001b[43m,\u001b[49m\u001b[43m \u001b[49m\u001b[43mpopup\u001b[49m\u001b[38;5;241;43m=\u001b[39;49m\u001b[43mpopup\u001b[49m\u001b[43m,\u001b[49m\u001b[43m \u001b[49m\u001b[43mtooltip\u001b[49m\u001b[38;5;241;43m=\u001b[39;49m\u001b[43mtooltip\u001b[49m\u001b[43m)\u001b[49m\n\u001b[1;32m    170\u001b[0m     \u001b[38;5;28mself\u001b[39m\u001b[38;5;241m.\u001b[39m_name \u001b[38;5;241m=\u001b[39m \u001b[38;5;124m\"\u001b[39m\u001b[38;5;124mPolyLine\u001b[39m\u001b[38;5;124m\"\u001b[39m\n\u001b[1;32m    171\u001b[0m     \u001b[38;5;28mself\u001b[39m\u001b[38;5;241m.\u001b[39moptions \u001b[38;5;241m=\u001b[39m path_options(line\u001b[38;5;241m=\u001b[39m\u001b[38;5;28;01mTrue\u001b[39;00m, \u001b[38;5;241m*\u001b[39m\u001b[38;5;241m*\u001b[39mkwargs)\n",
      "File \u001b[0;32m~/miniconda3/envs/tracktable/lib/python3.8/site-packages/folium/vector_layers.py:121\u001b[0m, in \u001b[0;36mBaseMultiLocation.__init__\u001b[0;34m(self, locations, popup, tooltip)\u001b[0m\n\u001b[1;32m    119\u001b[0m \u001b[38;5;28mself\u001b[39m\u001b[38;5;241m.\u001b[39mlocations \u001b[38;5;241m=\u001b[39m validate_locations(locations)\n\u001b[1;32m    120\u001b[0m \u001b[38;5;28;01mif\u001b[39;00m popup \u001b[38;5;129;01mis\u001b[39;00m \u001b[38;5;129;01mnot\u001b[39;00m \u001b[38;5;28;01mNone\u001b[39;00m:\n\u001b[0;32m--> 121\u001b[0m     \u001b[38;5;28mself\u001b[39m\u001b[38;5;241m.\u001b[39madd_child(popup \u001b[38;5;28;01mif\u001b[39;00m \u001b[38;5;28misinstance\u001b[39m(popup, Popup) \u001b[38;5;28;01melse\u001b[39;00m \u001b[43mPopup\u001b[49m\u001b[43m(\u001b[49m\u001b[38;5;28;43mstr\u001b[39;49m\u001b[43m(\u001b[49m\u001b[43mpopup\u001b[49m\u001b[43m)\u001b[49m\u001b[43m)\u001b[49m)\n\u001b[1;32m    122\u001b[0m \u001b[38;5;28;01mif\u001b[39;00m tooltip \u001b[38;5;129;01mis\u001b[39;00m \u001b[38;5;129;01mnot\u001b[39;00m \u001b[38;5;28;01mNone\u001b[39;00m:\n\u001b[1;32m    123\u001b[0m     \u001b[38;5;28mself\u001b[39m\u001b[38;5;241m.\u001b[39madd_child(\n\u001b[1;32m    124\u001b[0m         tooltip \u001b[38;5;28;01mif\u001b[39;00m \u001b[38;5;28misinstance\u001b[39m(tooltip, Tooltip) \u001b[38;5;28;01melse\u001b[39;00m Tooltip(\u001b[38;5;28mstr\u001b[39m(tooltip))\n\u001b[1;32m    125\u001b[0m     )\n",
      "File \u001b[0;32m~/miniconda3/envs/tracktable/lib/python3.8/site-packages/folium/map.py:426\u001b[0m, in \u001b[0;36mPopup.__init__\u001b[0;34m(self, html, parse_html, max_width, show, sticky, lazy, **kwargs)\u001b[0m\n\u001b[1;32m    424\u001b[0m \u001b[38;5;28;01melif\u001b[39;00m \u001b[38;5;28misinstance\u001b[39m(html, \u001b[38;5;28mstr\u001b[39m):\n\u001b[1;32m    425\u001b[0m     html \u001b[38;5;241m=\u001b[39m escape_backticks(html)\n\u001b[0;32m--> 426\u001b[0m     \u001b[38;5;28;43mself\u001b[39;49m\u001b[38;5;241;43m.\u001b[39;49m\u001b[43mhtml\u001b[49m\u001b[38;5;241;43m.\u001b[39;49m\u001b[43madd_child\u001b[49m\u001b[43m(\u001b[49m\u001b[43mHtml\u001b[49m\u001b[43m(\u001b[49m\u001b[43mhtml\u001b[49m\u001b[43m,\u001b[49m\u001b[43m \u001b[49m\u001b[43mscript\u001b[49m\u001b[38;5;241;43m=\u001b[39;49m\u001b[43mscript\u001b[49m\u001b[43m)\u001b[49m\u001b[43m)\u001b[49m\n\u001b[1;32m    428\u001b[0m \u001b[38;5;28mself\u001b[39m\u001b[38;5;241m.\u001b[39mshow \u001b[38;5;241m=\u001b[39m show\n\u001b[1;32m    429\u001b[0m \u001b[38;5;28mself\u001b[39m\u001b[38;5;241m.\u001b[39mlazy \u001b[38;5;241m=\u001b[39m lazy\n",
      "File \u001b[0;32m~/miniconda3/envs/tracktable/lib/python3.8/site-packages/branca/element.py:123\u001b[0m, in \u001b[0;36mElement.add_child\u001b[0;34m(self, child, name, index)\u001b[0m\n\u001b[1;32m    121\u001b[0m \u001b[38;5;124;03m\"\"\"Add a child.\"\"\"\u001b[39;00m\n\u001b[1;32m    122\u001b[0m \u001b[38;5;28;01mif\u001b[39;00m name \u001b[38;5;129;01mis\u001b[39;00m \u001b[38;5;28;01mNone\u001b[39;00m:\n\u001b[0;32m--> 123\u001b[0m     name \u001b[38;5;241m=\u001b[39m \u001b[43mchild\u001b[49m\u001b[38;5;241;43m.\u001b[39;49m\u001b[43mget_name\u001b[49m\u001b[43m(\u001b[49m\u001b[43m)\u001b[49m\n\u001b[1;32m    124\u001b[0m \u001b[38;5;28;01mif\u001b[39;00m index \u001b[38;5;129;01mis\u001b[39;00m \u001b[38;5;28;01mNone\u001b[39;00m:\n\u001b[1;32m    125\u001b[0m     \u001b[38;5;28mself\u001b[39m\u001b[38;5;241m.\u001b[39m_children[name] \u001b[38;5;241m=\u001b[39m child\n",
      "File \u001b[0;32m~/miniconda3/envs/tracktable/lib/python3.8/site-packages/branca/element.py:86\u001b[0m, in \u001b[0;36mElement.get_name\u001b[0;34m(self)\u001b[0m\n\u001b[1;32m     80\u001b[0m \u001b[38;5;28;01mdef\u001b[39;00m \u001b[38;5;21mget_name\u001b[39m(\u001b[38;5;28mself\u001b[39m):\n\u001b[1;32m     81\u001b[0m     \u001b[38;5;124;03m\"\"\"Returns a string representation of the object.\u001b[39;00m\n\u001b[1;32m     82\u001b[0m \u001b[38;5;124;03m    This string has to be unique and to be a python and\u001b[39;00m\n\u001b[1;32m     83\u001b[0m \u001b[38;5;124;03m    javascript-compatible\u001b[39;00m\n\u001b[1;32m     84\u001b[0m \u001b[38;5;124;03m    variable name.\u001b[39;00m\n\u001b[1;32m     85\u001b[0m \u001b[38;5;124;03m    \"\"\"\u001b[39;00m\n\u001b[0;32m---> 86\u001b[0m     \u001b[38;5;28;01mreturn\u001b[39;00m \u001b[43m_camelify\u001b[49m\u001b[43m(\u001b[49m\u001b[38;5;28;43mself\u001b[39;49m\u001b[38;5;241;43m.\u001b[39;49m\u001b[43m_name\u001b[49m\u001b[43m)\u001b[49m \u001b[38;5;241m+\u001b[39m \u001b[38;5;124m'\u001b[39m\u001b[38;5;124m_\u001b[39m\u001b[38;5;124m'\u001b[39m \u001b[38;5;241m+\u001b[39m \u001b[38;5;28mself\u001b[39m\u001b[38;5;241m.\u001b[39m_id\n",
      "File \u001b[0;32m~/miniconda3/envs/tracktable/lib/python3.8/site-packages/branca/utilities.py:356\u001b[0m, in \u001b[0;36m_camelify\u001b[0;34m(out)\u001b[0m\n\u001b[1;32m    353\u001b[0m \u001b[38;5;28;01mdef\u001b[39;00m \u001b[38;5;21m_camelify\u001b[39m(out):\n\u001b[1;32m    354\u001b[0m     \u001b[38;5;28;01mreturn\u001b[39;00m (\u001b[38;5;124m'\u001b[39m\u001b[38;5;124m'\u001b[39m\u001b[38;5;241m.\u001b[39mjoin([\u001b[38;5;124m'\u001b[39m\u001b[38;5;124m_\u001b[39m\u001b[38;5;124m'\u001b[39m \u001b[38;5;241m+\u001b[39m x\u001b[38;5;241m.\u001b[39mlower() \u001b[38;5;28;01mif\u001b[39;00m i \u001b[38;5;241m<\u001b[39m \u001b[38;5;28mlen\u001b[39m(out)\u001b[38;5;241m-\u001b[39m\u001b[38;5;241m1\u001b[39m \u001b[38;5;129;01mand\u001b[39;00m x\u001b[38;5;241m.\u001b[39misupper() \u001b[38;5;129;01mand\u001b[39;00m out[i\u001b[38;5;241m+\u001b[39m\u001b[38;5;241m1\u001b[39m]\u001b[38;5;241m.\u001b[39mislower()  \u001b[38;5;66;03m# noqa\u001b[39;00m\n\u001b[1;32m    355\u001b[0m          \u001b[38;5;28;01melse\u001b[39;00m x\u001b[38;5;241m.\u001b[39mlower() \u001b[38;5;241m+\u001b[39m \u001b[38;5;124m'\u001b[39m\u001b[38;5;124m_\u001b[39m\u001b[38;5;124m'\u001b[39m \u001b[38;5;28;01mif\u001b[39;00m i \u001b[38;5;241m<\u001b[39m \u001b[38;5;28mlen\u001b[39m(out)\u001b[38;5;241m-\u001b[39m\u001b[38;5;241m1\u001b[39m \u001b[38;5;129;01mand\u001b[39;00m x\u001b[38;5;241m.\u001b[39mislower() \u001b[38;5;129;01mand\u001b[39;00m out[i\u001b[38;5;241m+\u001b[39m\u001b[38;5;241m1\u001b[39m]\u001b[38;5;241m.\u001b[39misupper()  \u001b[38;5;66;03m# noqa\u001b[39;00m\n\u001b[0;32m--> 356\u001b[0m          \u001b[38;5;28;01melse\u001b[39;00m x\u001b[38;5;241m.\u001b[39mlower() \u001b[38;5;28;01mfor\u001b[39;00m i, x \u001b[38;5;129;01min\u001b[39;00m \u001b[38;5;28;43menumerate\u001b[39;49m\u001b[43m(\u001b[49m\u001b[38;5;28;43mlist\u001b[39;49m\u001b[43m(\u001b[49m\u001b[43mout\u001b[49m\u001b[43m)\u001b[49m\u001b[43m)\u001b[49m]))\u001b[38;5;241m.\u001b[39mlstrip(\u001b[38;5;124m'\u001b[39m\u001b[38;5;124m_\u001b[39m\u001b[38;5;124m'\u001b[39m)\u001b[38;5;241m.\u001b[39mreplace(\u001b[38;5;124m'\u001b[39m\u001b[38;5;124m__\u001b[39m\u001b[38;5;124m'\u001b[39m, \u001b[38;5;124m'\u001b[39m\u001b[38;5;124m_\u001b[39m\u001b[38;5;124m'\u001b[39m)\n",
      "\u001b[0;31mKeyboardInterrupt\u001b[0m: "
     ]
    }
   ],
   "source": [
    "render_trajectories(trajectories)"
   ]
  },
  {
   "cell_type": "code",
   "execution_count": null,
   "id": "7759160d-6a3e-494c-8f78-3939fa925633",
   "metadata": {},
   "outputs": [],
   "source": []
  }
 ],
 "metadata": {
  "kernelspec": {
   "display_name": "Python 3 (ipykernel)",
   "language": "python",
   "name": "python3"
  },
  "language_info": {
   "codemirror_mode": {
    "name": "ipython",
    "version": 3
   },
   "file_extension": ".py",
   "mimetype": "text/x-python",
   "name": "python",
   "nbconvert_exporter": "python",
   "pygments_lexer": "ipython3",
   "version": "3.8.16"
  }
 },
 "nbformat": 4,
 "nbformat_minor": 5
}

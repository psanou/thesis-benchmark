{
 "cells": [
  {
   "attachments": {},
   "cell_type": "markdown",
   "id": "7fcc125d-ed88-4fb0-93f5-0f3e590edc4d",
   "metadata": {},
   "source": [
    "# Study of a more simple trajectory\n",
    "We will study a collection of 3 trajectories in order to compare the visualisation of each library"
   ]
  },
  {
   "cell_type": "code",
   "execution_count": null,
   "id": "bbee8683-9870-41da-8093-db20bec59e3c",
   "metadata": {},
   "outputs": [],
   "source": [
    "\"\"\"\n",
    "Function to compute the execution time.\n",
    "\"\"\"\n",
    "from datetime import timedelta\n",
    "import time\n",
    "def get_time(f, kwargs={}):\n",
    "    times = []\n",
    "    result = None\n",
    "    for i in range(5):\n",
    "        print(\"\\nmeasure\",i+1)\n",
    "        t = time.time()\n",
    "        result = f(**kwargs)\n",
    "        res = time.time()-t\n",
    "        times.append(res)\n",
    "        print( timedelta(seconds=res))\n",
    "        if res > 3600*2:\n",
    "            print(\"trop de temps\")\n",
    "            return result\n",
    "        \n",
    "    print(\"\\nall times:\", times)\n",
    "    a = min(times)\n",
    "    b = max(times)\n",
    "    print(\"times' outliers:\",a,\"&\",b)\n",
    "    t = (sum(times)-a-b)/3\n",
    "    print(\"benchmark time\",str(t)+\"s\",\"or\", timedelta(seconds=t))\n",
    "    return result"
   ]
  },
  {
   "cell_type": "code",
   "execution_count": 1,
   "id": "efff0ea2-6100-44ee-89f8-cf36e98c6b9f",
   "metadata": {},
   "outputs": [],
   "source": [
    "import numpy as np\n",
    "import pandas as pd\n",
    "from geopandas import GeoDataFrame, read_file\n",
    "\n",
    "from shapely.geometry import Point, LineString, Polygon\n",
    "from datetime import datetime, timedelta\n",
    "import matplotlib.pyplot as plt\n",
    "import movingpandas as mpd\n",
    "#from holoviews import opts, dim\n",
    "import hvplot\n",
    "import warnings\n",
    "warnings.simplefilter(\"ignore\")"
   ]
  },
  {
   "cell_type": "code",
   "execution_count": 2,
   "id": "7924b182-280c-4ceb-8d20-62f45a4b87f6",
   "metadata": {},
   "outputs": [],
   "source": [
    "SIZE = \"sample\""
   ]
  },
  {
   "attachments": {},
   "cell_type": "markdown",
   "id": "e3f31f57-7c1c-4b63-b7ba-90b8cbda26a8",
   "metadata": {},
   "source": [
    "# Ships Trajectories"
   ]
  },
  {
   "cell_type": "code",
   "execution_count": null,
   "id": "bdf10610-e5e9-4f6b-8613-62f4c4072d46",
   "metadata": {},
   "outputs": [],
   "source": [
    "PATH='../../datasets/ships_'+SIZE+'.csv'\n",
    "df = pd.read_csv(PATH)\n",
    "traj = get_time(mpd.TrajectoryCollection,{\"data\":df, \"traj_id_col\":'id', \"t\":'Timestamp', \"x\":'Longitude', \"y\":'Latitude'})"
   ]
  },
  {
   "attachments": {},
   "cell_type": "markdown",
   "id": "8db8320c",
   "metadata": {},
   "source": [
    "# Cars Trajectories"
   ]
  },
  {
   "cell_type": "code",
   "execution_count": 3,
   "id": "6634030d",
   "metadata": {},
   "outputs": [
    {
     "name": "stdout",
     "output_type": "stream",
     "text": [
      "time for conversion 0.035671234130859375\n",
      "time for 8 0.04348111152648926\n",
      "time for conversion 0.2323603630065918\n",
      "time for 141 0.25907039642333984\n"
     ]
    }
   ],
   "source": [
    "PATH='../../datasets/cars_'+SIZE+'.csv'\n",
    "df = pd.read_csv(PATH)\n",
    "traj = mpd.TrajectoryCollection(data=df, traj_id_col='id', t='Timestamp', x='Longitude', y='Latitude')"
   ]
  }
 ],
 "metadata": {
  "kernelspec": {
   "display_name": "Python 3 (ipykernel)",
   "language": "python",
   "name": "python3"
  },
  "language_info": {
   "codemirror_mode": {
    "name": "ipython",
    "version": 3
   },
   "file_extension": ".py",
   "mimetype": "text/x-python",
   "name": "python",
   "nbconvert_exporter": "python",
   "pygments_lexer": "ipython3",
   "version": "3.8.16"
  }
 },
 "nbformat": 4,
 "nbformat_minor": 5
}

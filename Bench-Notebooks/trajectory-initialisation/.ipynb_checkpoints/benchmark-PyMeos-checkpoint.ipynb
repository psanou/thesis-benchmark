{
 "cells": [
  {
   "cell_type": "code",
   "execution_count": 7,
   "id": "c243f8f3-15b9-4b51-ab46-f9a0dd94130c",
   "metadata": {},
   "outputs": [],
   "source": [
    "\"\"\"\n",
    "Function to compute the execution time.\n",
    "\n",
    "\"\"\"\n",
    "from datetime import timedelta\n",
    "import time\n",
    "def get_time(f, kwargs={}):\n",
    "    times = []\n",
    "    result = None\n",
    "    for i in range(5):\n",
    "        print(\"\\nmeasure\",i+1)\n",
    "        t = time.time()\n",
    "        result = f(**kwargs)\n",
    "        times.append(time.time()-t)\n",
    "        \n",
    "    print(\"\\nall times:\", times)\n",
    "    a = min(times)\n",
    "    b = max(times)\n",
    "    print(\"times' outliers:\",a,\"&\",b)\n",
    "    t = (sum(times)-a-b)/3\n",
    "    print(\"benchmark time\",str(t)+\"s\",\"or\", timedelta(seconds=t))\n",
    "    return result"
   ]
  },
  {
   "cell_type": "code",
   "execution_count": 1,
   "id": "50465cec-ea22-44c3-bf68-75986a4c1d0f",
   "metadata": {},
   "outputs": [],
   "source": [
    "import matplotlib.pyplot as plt\n",
    "import pandas as pd\n",
    "from pymeos import *\n",
    "import numpy as np\n",
    "\n",
    "pymeos_initialize()"
   ]
  },
  {
   "cell_type": "code",
   "execution_count": 3,
   "id": "ee6d60d1",
   "metadata": {},
   "outputs": [],
   "source": [
    "def load_ships_trajectories(df_):\n",
    "    df = df_.copy()\n",
    "    df = df.dropna()\n",
    "    df[\"Timestamp\"] = pd.to_datetime(df[\"Timestamp\"],format=\"mixed\")\n",
    "    df = df.sort_values(by=\"Timestamp\")\n",
    "    df = df.drop_duplicates([\"Timestamp\"])\n",
    "    df['point'] = df.apply(lambda row: TGeogPointInst(point=(row['Latitude'], row['Longitude']), timestamp=row['Timestamp']),axis=1)\n",
    "    df['SOG'] = df.apply(lambda row: TFloatInst(value=row['SOG'] or 0 , timestamp=row['Timestamp']), axis=1)\n",
    "    df['ROT'] = df.apply(lambda row: TFloatInst(value=row['ROT']or 0, timestamp=row['Timestamp']), axis=1)\n",
    "    df['Heading'] = df.apply(lambda row: TFloatInst(value=row['Heading'] or 0, timestamp=row['Timestamp']), axis=1)\n",
    "    df.drop(['Latitude', 'Longitude'], axis=1, inplace=True)\n",
    "    trajectories = df.groupby('id').aggregate(\n",
    "        {\n",
    "            'point': lambda x: TGeogPointSeq.from_instants(x, lower_inc=True,upper_inc=True),\n",
    "            'SOG':  lambda x: TFloatSeq.from_instants(x, lower_inc=True,upper_inc=True),\n",
    "            'ROT': lambda x: TFloatSeq.from_instants(x, lower_inc=True,upper_inc=True),\n",
    "            'Heading': lambda x: TFloatSeq.from_instants(x, lower_inc=True,upper_inc=True)\n",
    "        }\n",
    "    ).rename({'point': 'trajectory'}, axis=1)\n",
    "    return trajectories\n",
    "\n",
    "def load_cars_trajectories(df_):\n",
    "    df = df_.copy()\n",
    "    df[\"Timestamp\"] = pd.to_datetime(df[\"Timestamp\"], format=\"mixed\")\n",
    "    print(\"done 1!\")\n",
    "    df = df.sort_values(by=\"Timestamp\")\n",
    "    df = df.drop_duplicates([\"Timestamp\"])\n",
    "    df['point'] = df.apply(lambda row: TGeogPointInst(point=(row['Latitude'], row['Longitude']), timestamp=row['Timestamp']),axis=1)\n",
    "    df.drop(['Latitude', 'Longitude'], axis=1, inplace=True)\n",
    "    trajectories = df.groupby('id').aggregate(\n",
    "    {\n",
    "        'point': TGeogPointSeq.from_instants,\n",
    "    }\n",
    "    ).rename({'point': 'trajectory'}, axis=1)\n",
    "    return trajectories"
   ]
  },
  {
   "attachments": {},
   "cell_type": "markdown",
   "id": "0c4709f6-c948-410f-b738-5e931423c7dd",
   "metadata": {},
   "source": [
    "# Ships Trajectories"
   ]
  },
  {
   "cell_type": "code",
   "execution_count": 12,
   "id": "8900cc31-206a-4fe8-99bc-4e40a2a57c49",
   "metadata": {},
   "outputs": [],
   "source": [
    "SIZE = \"large\""
   ]
  },
  {
   "cell_type": "code",
   "execution_count": 13,
   "id": "93c2cbec-37d0-4e63-9eb7-19c7feb1fec9",
   "metadata": {},
   "outputs": [],
   "source": [
    "PATH='../../datasets/ships_'+SIZE+'.csv'\n",
    "df = pd.read_csv(PATH)\n"
   ]
  },
  {
   "cell_type": "code",
   "execution_count": 14,
   "id": "3ff2fb96",
   "metadata": {},
   "outputs": [
    {
     "name": "stdout",
     "output_type": "stream",
     "text": [
      "\n",
      "measure 1\n",
      "\n",
      "measure 2\n",
      "\n",
      "measure 3\n",
      "\n",
      "measure 4\n",
      "\n",
      "measure 5\n",
      "\n",
      "all times: [9.177948236465454, 9.13922119140625, 8.99619746208191, 8.988740921020508, 8.875936269760132]\n",
      "times' outliers: 8.875936269760132 & 9.177948236465454\n",
      "benchmark time 9.041386524836222s or 0:00:09.041387\n"
     ]
    }
   ],
   "source": [
    "trajectories = get_time(load_ships_trajectories,{'df_':df})"
   ]
  },
  {
   "attachments": {},
   "cell_type": "markdown",
   "id": "f1a25e09-470a-4b6a-b046-767ac71a4c20",
   "metadata": {},
   "source": [
    "# cars trajectories"
   ]
  },
  {
   "cell_type": "code",
   "execution_count": 21,
   "id": "6970adc6",
   "metadata": {},
   "outputs": [
    {
     "name": "stdout",
     "output_type": "stream",
     "text": [
      "done 0!\n",
      "done 1!\n"
     ]
    },
    {
     "ename": "KeyboardInterrupt",
     "evalue": "",
     "output_type": "error",
     "traceback": [
      "\u001b[0;31m---------------------------------------------------------------------------\u001b[0m",
      "\u001b[0;31mKeyboardInterrupt\u001b[0m                         Traceback (most recent call last)",
      "Cell \u001b[0;32mIn[21], line 5\u001b[0m\n\u001b[1;32m      2\u001b[0m df \u001b[39m=\u001b[39m pd\u001b[39m.\u001b[39mread_csv(PATH)\n\u001b[1;32m      3\u001b[0m \u001b[39mprint\u001b[39m(\u001b[39m\"\u001b[39m\u001b[39mdone 0!\u001b[39m\u001b[39m\"\u001b[39m)\n\u001b[0;32m----> 5\u001b[0m trajectories \u001b[39m=\u001b[39m load_cars_trajectories(df)\n",
      "Cell \u001b[0;32mIn[17], line 28\u001b[0m, in \u001b[0;36mload_cars_trajectories\u001b[0;34m(df_)\u001b[0m\n\u001b[1;32m     26\u001b[0m df \u001b[39m=\u001b[39m df\u001b[39m.\u001b[39msort_values(by\u001b[39m=\u001b[39m\u001b[39m\"\u001b[39m\u001b[39mTimestamp\u001b[39m\u001b[39m\"\u001b[39m)\n\u001b[1;32m     27\u001b[0m df \u001b[39m=\u001b[39m df\u001b[39m.\u001b[39mdrop_duplicates([\u001b[39m\"\u001b[39m\u001b[39mTimestamp\u001b[39m\u001b[39m\"\u001b[39m])\n\u001b[0;32m---> 28\u001b[0m df[\u001b[39m'\u001b[39m\u001b[39mpoint\u001b[39m\u001b[39m'\u001b[39m] \u001b[39m=\u001b[39m df\u001b[39m.\u001b[39;49mapply(\u001b[39mlambda\u001b[39;49;00m row: TGeogPointInst(point\u001b[39m=\u001b[39;49m(row[\u001b[39m'\u001b[39;49m\u001b[39mLatitude\u001b[39;49m\u001b[39m'\u001b[39;49m], row[\u001b[39m'\u001b[39;49m\u001b[39mLongitude\u001b[39;49m\u001b[39m'\u001b[39;49m]), timestamp\u001b[39m=\u001b[39;49mrow[\u001b[39m'\u001b[39;49m\u001b[39mTimestamp\u001b[39;49m\u001b[39m'\u001b[39;49m]),axis\u001b[39m=\u001b[39;49m\u001b[39m1\u001b[39;49m)\n\u001b[1;32m     29\u001b[0m df\u001b[39m.\u001b[39mdrop([\u001b[39m'\u001b[39m\u001b[39mLatitude\u001b[39m\u001b[39m'\u001b[39m, \u001b[39m'\u001b[39m\u001b[39mLongitude\u001b[39m\u001b[39m'\u001b[39m], axis\u001b[39m=\u001b[39m\u001b[39m1\u001b[39m, inplace\u001b[39m=\u001b[39m\u001b[39mTrue\u001b[39;00m)\n\u001b[1;32m     30\u001b[0m trajectories \u001b[39m=\u001b[39m df\u001b[39m.\u001b[39mgroupby(\u001b[39m'\u001b[39m\u001b[39mid\u001b[39m\u001b[39m'\u001b[39m)\u001b[39m.\u001b[39maggregate(\n\u001b[1;32m     31\u001b[0m {\n\u001b[1;32m     32\u001b[0m     \u001b[39m'\u001b[39m\u001b[39mpoint\u001b[39m\u001b[39m'\u001b[39m: TGeogPointSeq\u001b[39m.\u001b[39mfrom_instants,\n\u001b[1;32m     33\u001b[0m }\n\u001b[1;32m     34\u001b[0m )\u001b[39m.\u001b[39mrename({\u001b[39m'\u001b[39m\u001b[39mpoint\u001b[39m\u001b[39m'\u001b[39m: \u001b[39m'\u001b[39m\u001b[39mtrajectory\u001b[39m\u001b[39m'\u001b[39m}, axis\u001b[39m=\u001b[39m\u001b[39m1\u001b[39m)\n",
      "File \u001b[0;32m~/miniconda3/envs/pymeos/lib/python3.11/site-packages/pandas/core/frame.py:9423\u001b[0m, in \u001b[0;36mDataFrame.apply\u001b[0;34m(self, func, axis, raw, result_type, args, **kwargs)\u001b[0m\n\u001b[1;32m   9412\u001b[0m \u001b[39mfrom\u001b[39;00m \u001b[39mpandas\u001b[39;00m\u001b[39m.\u001b[39;00m\u001b[39mcore\u001b[39;00m\u001b[39m.\u001b[39;00m\u001b[39mapply\u001b[39;00m \u001b[39mimport\u001b[39;00m frame_apply\n\u001b[1;32m   9414\u001b[0m op \u001b[39m=\u001b[39m frame_apply(\n\u001b[1;32m   9415\u001b[0m     \u001b[39mself\u001b[39m,\n\u001b[1;32m   9416\u001b[0m     func\u001b[39m=\u001b[39mfunc,\n\u001b[0;32m   (...)\u001b[0m\n\u001b[1;32m   9421\u001b[0m     kwargs\u001b[39m=\u001b[39mkwargs,\n\u001b[1;32m   9422\u001b[0m )\n\u001b[0;32m-> 9423\u001b[0m \u001b[39mreturn\u001b[39;00m op\u001b[39m.\u001b[39;49mapply()\u001b[39m.\u001b[39m__finalize__(\u001b[39mself\u001b[39m, method\u001b[39m=\u001b[39m\u001b[39m\"\u001b[39m\u001b[39mapply\u001b[39m\u001b[39m\"\u001b[39m)\n",
      "File \u001b[0;32m~/miniconda3/envs/pymeos/lib/python3.11/site-packages/pandas/core/apply.py:678\u001b[0m, in \u001b[0;36mFrameApply.apply\u001b[0;34m(self)\u001b[0m\n\u001b[1;32m    675\u001b[0m \u001b[39melif\u001b[39;00m \u001b[39mself\u001b[39m\u001b[39m.\u001b[39mraw:\n\u001b[1;32m    676\u001b[0m     \u001b[39mreturn\u001b[39;00m \u001b[39mself\u001b[39m\u001b[39m.\u001b[39mapply_raw()\n\u001b[0;32m--> 678\u001b[0m \u001b[39mreturn\u001b[39;00m \u001b[39mself\u001b[39;49m\u001b[39m.\u001b[39;49mapply_standard()\n",
      "File \u001b[0;32m~/miniconda3/envs/pymeos/lib/python3.11/site-packages/pandas/core/apply.py:798\u001b[0m, in \u001b[0;36mFrameApply.apply_standard\u001b[0;34m(self)\u001b[0m\n\u001b[1;32m    797\u001b[0m \u001b[39mdef\u001b[39;00m \u001b[39mapply_standard\u001b[39m(\u001b[39mself\u001b[39m):\n\u001b[0;32m--> 798\u001b[0m     results, res_index \u001b[39m=\u001b[39m \u001b[39mself\u001b[39;49m\u001b[39m.\u001b[39;49mapply_series_generator()\n\u001b[1;32m    800\u001b[0m     \u001b[39m# wrap results\u001b[39;00m\n\u001b[1;32m    801\u001b[0m     \u001b[39mreturn\u001b[39;00m \u001b[39mself\u001b[39m\u001b[39m.\u001b[39mwrap_results(results, res_index)\n",
      "File \u001b[0;32m~/miniconda3/envs/pymeos/lib/python3.11/site-packages/pandas/core/apply.py:814\u001b[0m, in \u001b[0;36mFrameApply.apply_series_generator\u001b[0;34m(self)\u001b[0m\n\u001b[1;32m    811\u001b[0m \u001b[39mwith\u001b[39;00m option_context(\u001b[39m\"\u001b[39m\u001b[39mmode.chained_assignment\u001b[39m\u001b[39m\"\u001b[39m, \u001b[39mNone\u001b[39;00m):\n\u001b[1;32m    812\u001b[0m     \u001b[39mfor\u001b[39;00m i, v \u001b[39min\u001b[39;00m \u001b[39menumerate\u001b[39m(series_gen):\n\u001b[1;32m    813\u001b[0m         \u001b[39m# ignore SettingWithCopy here in case the user mutates\u001b[39;00m\n\u001b[0;32m--> 814\u001b[0m         results[i] \u001b[39m=\u001b[39m \u001b[39mself\u001b[39;49m\u001b[39m.\u001b[39;49mf(v)\n\u001b[1;32m    815\u001b[0m         \u001b[39mif\u001b[39;00m \u001b[39misinstance\u001b[39m(results[i], ABCSeries):\n\u001b[1;32m    816\u001b[0m             \u001b[39m# If we have a view on v, we need to make a copy because\u001b[39;00m\n\u001b[1;32m    817\u001b[0m             \u001b[39m#  series_generator will swap out the underlying data\u001b[39;00m\n\u001b[1;32m    818\u001b[0m             results[i] \u001b[39m=\u001b[39m results[i]\u001b[39m.\u001b[39mcopy(deep\u001b[39m=\u001b[39m\u001b[39mFalse\u001b[39;00m)\n",
      "Cell \u001b[0;32mIn[17], line 28\u001b[0m, in \u001b[0;36mload_cars_trajectories.<locals>.<lambda>\u001b[0;34m(row)\u001b[0m\n\u001b[1;32m     26\u001b[0m df \u001b[39m=\u001b[39m df\u001b[39m.\u001b[39msort_values(by\u001b[39m=\u001b[39m\u001b[39m\"\u001b[39m\u001b[39mTimestamp\u001b[39m\u001b[39m\"\u001b[39m)\n\u001b[1;32m     27\u001b[0m df \u001b[39m=\u001b[39m df\u001b[39m.\u001b[39mdrop_duplicates([\u001b[39m\"\u001b[39m\u001b[39mTimestamp\u001b[39m\u001b[39m\"\u001b[39m])\n\u001b[0;32m---> 28\u001b[0m df[\u001b[39m'\u001b[39m\u001b[39mpoint\u001b[39m\u001b[39m'\u001b[39m] \u001b[39m=\u001b[39m df\u001b[39m.\u001b[39mapply(\u001b[39mlambda\u001b[39;00m row: TGeogPointInst(point\u001b[39m=\u001b[39;49m(row[\u001b[39m'\u001b[39;49m\u001b[39mLatitude\u001b[39;49m\u001b[39m'\u001b[39;49m], row[\u001b[39m'\u001b[39;49m\u001b[39mLongitude\u001b[39;49m\u001b[39m'\u001b[39;49m]), timestamp\u001b[39m=\u001b[39;49mrow[\u001b[39m'\u001b[39;49m\u001b[39mTimestamp\u001b[39;49m\u001b[39m'\u001b[39;49m]),axis\u001b[39m=\u001b[39m\u001b[39m1\u001b[39m)\n\u001b[1;32m     29\u001b[0m df\u001b[39m.\u001b[39mdrop([\u001b[39m'\u001b[39m\u001b[39mLatitude\u001b[39m\u001b[39m'\u001b[39m, \u001b[39m'\u001b[39m\u001b[39mLongitude\u001b[39m\u001b[39m'\u001b[39m], axis\u001b[39m=\u001b[39m\u001b[39m1\u001b[39m, inplace\u001b[39m=\u001b[39m\u001b[39mTrue\u001b[39;00m)\n\u001b[1;32m     30\u001b[0m trajectories \u001b[39m=\u001b[39m df\u001b[39m.\u001b[39mgroupby(\u001b[39m'\u001b[39m\u001b[39mid\u001b[39m\u001b[39m'\u001b[39m)\u001b[39m.\u001b[39maggregate(\n\u001b[1;32m     31\u001b[0m {\n\u001b[1;32m     32\u001b[0m     \u001b[39m'\u001b[39m\u001b[39mpoint\u001b[39m\u001b[39m'\u001b[39m: TGeogPointSeq\u001b[39m.\u001b[39mfrom_instants,\n\u001b[1;32m     33\u001b[0m }\n\u001b[1;32m     34\u001b[0m )\u001b[39m.\u001b[39mrename({\u001b[39m'\u001b[39m\u001b[39mpoint\u001b[39m\u001b[39m'\u001b[39m: \u001b[39m'\u001b[39m\u001b[39mtrajectory\u001b[39m\u001b[39m'\u001b[39m}, axis\u001b[39m=\u001b[39m\u001b[39m1\u001b[39m)\n",
      "File \u001b[0;32m~/miniconda3/envs/pymeos/lib/python3.11/site-packages/pymeos/main/tpoint.py:824\u001b[0m, in \u001b[0;36mTGeogPointInst.__init__\u001b[0;34m(self, string, point, timestamp, srid, _inner)\u001b[0m\n\u001b[1;32m    822\u001b[0m \u001b[39mif\u001b[39;00m \u001b[39mself\u001b[39m\u001b[39m.\u001b[39m_inner \u001b[39mis\u001b[39;00m \u001b[39mNone\u001b[39;00m:\n\u001b[1;32m    823\u001b[0m     p \u001b[39m=\u001b[39m \u001b[39mf\u001b[39m\u001b[39m'\u001b[39m\u001b[39mPOINT(\u001b[39m\u001b[39m{\u001b[39;00mpoint[\u001b[39m0\u001b[39m]\u001b[39m}\u001b[39;00m\u001b[39m \u001b[39m\u001b[39m{\u001b[39;00mpoint[\u001b[39m1\u001b[39m]\u001b[39m}\u001b[39;00m\u001b[39m)\u001b[39m\u001b[39m'\u001b[39m \u001b[39mif\u001b[39;00m \u001b[39misinstance\u001b[39m(point, \u001b[39mtuple\u001b[39m) \u001b[39melse\u001b[39;00m \u001b[39mf\u001b[39m\u001b[39m'\u001b[39m\u001b[39m{\u001b[39;00mpoint\u001b[39m}\u001b[39;00m\u001b[39m'\u001b[39m\n\u001b[0;32m--> 824\u001b[0m     \u001b[39mself\u001b[39m\u001b[39m.\u001b[39m_inner \u001b[39m=\u001b[39m tgeogpoint_in(\u001b[39mf\u001b[39;49m\u001b[39m\"\u001b[39;49m\u001b[39mSRID=\u001b[39;49m\u001b[39m{\u001b[39;49;00msrid\u001b[39m}\u001b[39;49;00m\u001b[39m;\u001b[39;49m\u001b[39m{\u001b[39;49;00mp\u001b[39m}\u001b[39;49;00m\u001b[39m@\u001b[39;49m\u001b[39m{\u001b[39;49;00mtimestamp\u001b[39m}\u001b[39;49;00m\u001b[39m\"\u001b[39;49m)\n",
      "File \u001b[0;32m~/miniconda3/envs/pymeos/lib/python3.11/site-packages/pymeos_cffi/functions.py:3451\u001b[0m, in \u001b[0;36mtgeogpoint_in\u001b[0;34m(string)\u001b[0m\n\u001b[1;32m   3447\u001b[0m     result \u001b[39m=\u001b[39m _ffi\u001b[39m.\u001b[39mstring(result)\u001b[39m.\u001b[39mdecode(\u001b[39m'\u001b[39m\u001b[39mutf-8\u001b[39m\u001b[39m'\u001b[39m)\n\u001b[1;32m   3448\u001b[0m     \u001b[39mreturn\u001b[39;00m result \u001b[39mif\u001b[39;00m result \u001b[39m!=\u001b[39m _ffi\u001b[39m.\u001b[39mNULL \u001b[39melse\u001b[39;00m \u001b[39mNone\u001b[39;00m\n\u001b[0;32m-> 3451\u001b[0m \u001b[39mdef\u001b[39;00m \u001b[39mtgeogpoint_in\u001b[39m(string: \u001b[39mstr\u001b[39m) \u001b[39m-\u001b[39m\u001b[39m>\u001b[39m \u001b[39m'\u001b[39m\u001b[39mTemporal *\u001b[39m\u001b[39m'\u001b[39m:\n\u001b[1;32m   3452\u001b[0m     string_converted \u001b[39m=\u001b[39m string\u001b[39m.\u001b[39mencode(\u001b[39m'\u001b[39m\u001b[39mutf-8\u001b[39m\u001b[39m'\u001b[39m)\n\u001b[1;32m   3453\u001b[0m     result \u001b[39m=\u001b[39m _lib\u001b[39m.\u001b[39mtgeogpoint_in(string_converted)\n",
      "\u001b[0;31mKeyboardInterrupt\u001b[0m: "
     ]
    }
   ],
   "source": [
    "PATH='../datasets/cars_'+SIZE+'.csv'\n",
    "df = pd.read_csv(PATH)\n",
    "print(\"done 0!\")\n",
    "\n",
    "trajectories = load_cars_trajectories(df)"
   ]
  },
  {
   "cell_type": "code",
   "execution_count": null,
   "id": "11f49160",
   "metadata": {},
   "outputs": [],
   "source": [
    "trajectories"
   ]
  }
 ],
 "metadata": {
  "kernelspec": {
   "display_name": "Python 3 (ipykernel)",
   "language": "python",
   "name": "python3"
  },
  "language_info": {
   "codemirror_mode": {
    "name": "ipython",
    "version": 3
   },
   "file_extension": ".py",
   "mimetype": "text/x-python",
   "name": "python",
   "nbconvert_exporter": "python",
   "pygments_lexer": "ipython3",
   "version": "3.11.4"
  }
 },
 "nbformat": 4,
 "nbformat_minor": 5
}

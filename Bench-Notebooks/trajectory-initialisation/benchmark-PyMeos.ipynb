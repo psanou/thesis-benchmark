{
 "cells": [
  {
   "cell_type": "code",
   "execution_count": 1,
   "id": "c243f8f3-15b9-4b51-ab46-f9a0dd94130c",
   "metadata": {},
   "outputs": [],
   "source": [
    "\"\"\"\n",
    "Function to compute the execution time.\n",
    "\n",
    "\"\"\"\n",
    "from datetime import timedelta\n",
    "import time\n",
    "def get_time(f, kwargs={}):\n",
    "    times = []\n",
    "    result = None\n",
    "    for i in range(1):\n",
    "        print(\"\\nmeasure\",i+1)\n",
    "        t = time.time()\n",
    "        result = f(**kwargs)\n",
    "        times.append(time.time()-t)\n",
    "        \n",
    "    print(\"\\nall times:\", times)\n",
    "    a = min(times)\n",
    "    b = max(times)\n",
    "    print(\"times' outliers:\",a,\"&\",b)\n",
    "    t = abs(sum(times)-a-b)\n",
    "    print(\"benchmark time\",str(t)+\"s\",\"or\", timedelta(seconds=t))\n",
    "    return result"
   ]
  },
  {
   "cell_type": "code",
   "execution_count": 2,
   "id": "50465cec-ea22-44c3-bf68-75986a4c1d0f",
   "metadata": {},
   "outputs": [],
   "source": [
    "import matplotlib.pyplot as plt\n",
    "import pandas as pd\n",
    "from pymeos import *\n",
    "import numpy as np\n",
    "from pymeos.temporal import interpolation\n",
    "pymeos_initialize()"
   ]
  },
  {
   "cell_type": "code",
   "execution_count": 3,
   "id": "ee6d60d1",
   "metadata": {},
   "outputs": [],
   "source": [
    "\n",
    "\n",
    "\n",
    "def load_ships_trajectories(df_):\n",
    "    df = df_.copy()\n",
    "    df = df.dropna()\n",
    "    df[\"Timestamp\"] = pd.to_datetime(df[\"Timestamp\"],format=\"mixed\")\n",
    "    df = df.sort_values(by=\"Timestamp\")\n",
    "    df = df.drop_duplicates([\"Timestamp\"])\n",
    "    print('point number',len(df))\n",
    "    df['point'] = df.apply(lambda row: TGeogPointInst(point=(row['Latitude'], row['Longitude']), timestamp=row['Timestamp']),axis=1)\n",
    "    df['SOG'] = df.apply(lambda row: TFloatInst(value=row['SOG'] or 0 , timestamp=row['Timestamp']), axis=1)\n",
    "    df['ROT'] = df.apply(lambda row: TFloatInst(value=row['ROT']or 0, timestamp=row['Timestamp']), axis=1)\n",
    "    df['Heading'] = df.apply(lambda row: TFloatInst(value=row['Heading'] or 0, timestamp=row['Timestamp']), axis=1)\n",
    "    df.drop(['Latitude', 'Longitude'], axis=1, inplace=True)\n",
    "    trajectories = df.groupby('id').aggregate(\n",
    "        {\n",
    "            'point': lambda x: TGeogPointSeq.from_instants(x, lower_inc=True,upper_inc=True,interpolation=interpolation.TInterpolation.DISCRETE),\n",
    "            # 'SOG':  lambda x: TFloatSeq.from_instants(x, lower_inc=True,upper_inc=True),\n",
    "            # 'ROT': lambda x: TFloatSeq.from_instants(x, lower_inc=True,upper_inc=True),\n",
    "            # 'Heading': lambda x: TFloatSeq.from_instants(x, lower_inc=True,upper_inc=True)\n",
    "        }\n",
    "    ).rename({'point': 'trajectory'}, axis=1)\n",
    "    return trajectories\n",
    "\n",
    "def load_cars_trajectories(df_):\n",
    "    df = df_.copy()\n",
    "    df[\"Timestamp\"] = pd.to_datetime(df[\"Timestamp\"], format=\"mixed\")\n",
    "    print(\"done 1!\")\n",
    "    df = df.sort_values(by=\"Timestamp\")\n",
    "    df = df.drop_duplicates([\"Timestamp\"])\n",
    "    df['point'] = df.apply(lambda row: TGeogPointInst(point=(row['Latitude'], row['Longitude']), timestamp=row['Timestamp']),axis=1)\n",
    "    df.drop(['Latitude', 'Longitude'], axis=1, inplace=True)\n",
    "    trajectories = df.groupby('id').aggregate(\n",
    "    {\n",
    "        'point': TGeogPointSeq.from_instants,\n",
    "    }\n",
    "    ).rename({'point': 'trajectory'}, axis=1)\n",
    "    return trajectories"
   ]
  },
  {
   "attachments": {},
   "cell_type": "markdown",
   "id": "0c4709f6-c948-410f-b738-5e931423c7dd",
   "metadata": {},
   "source": [
    "# Ships Trajectories"
   ]
  },
  {
   "cell_type": "code",
   "execution_count": 4,
   "id": "8900cc31-206a-4fe8-99bc-4e40a2a57c49",
   "metadata": {},
   "outputs": [
    {
     "name": "stdout",
     "output_type": "stream",
     "text": [
      "\n",
      "measure 1\n",
      "point number 18139\n",
      "\n",
      "all times: [4.800894021987915]\n",
      "times' outliers: 4.800894021987915 & 4.800894021987915\n",
      "benchmark time 4.800894021987915s or 0:00:04.800894\n"
     ]
    }
   ],
   "source": [
    "SIZE = \"sample\"\n",
    "PATH='../../datasets/ships_'+SIZE+'.csv'\n",
    "\n",
    "df = pd.read_csv(PATH)\n",
    "trajectories = get_time(load_ships_trajectories,{'df_':df})"
   ]
  },
  {
   "cell_type": "code",
   "execution_count": 48,
   "metadata": {},
   "outputs": [
    {
     "name": "stdout",
     "output_type": "stream",
     "text": [
      "0101000020E610000000000000000044400000000000005140@2000-03-25 00:00:00+01\n"
     ]
    },
    {
     "name": "stderr",
     "output_type": "stream",
     "text": [
      "/tmp/ipykernel_6413/2169413057.py:1: UserWarning: Parsing dates in %d-%m-%Y format when dayfirst=False (the default) was specified. Pass `dayfirst=True` or specify a format to silence this warning.\n",
      "  print(TGeogPointInst(point=(40,68), timestamp=pd.to_datetime(\"25-03-2000\")))\n"
     ]
    }
   ],
   "source": [
    "print(TGeogPointInst(point=(40,68), timestamp=pd.to_datetime(\"25-03-2000\")))"
   ]
  },
  {
   "cell_type": "code",
   "execution_count": 5,
   "id": "9e738e5b-612b-4877-aff8-ab0f9bd49428",
   "metadata": {},
   "outputs": [
    {
     "data": {
      "text/html": [
       "<div>\n",
       "<style scoped>\n",
       "    .dataframe tbody tr th:only-of-type {\n",
       "        vertical-align: middle;\n",
       "    }\n",
       "\n",
       "    .dataframe tbody tr th {\n",
       "        vertical-align: top;\n",
       "    }\n",
       "\n",
       "    .dataframe thead th {\n",
       "        text-align: right;\n",
       "    }\n",
       "</style>\n",
       "<table border=\"1\" class=\"dataframe\">\n",
       "  <thead>\n",
       "    <tr style=\"text-align: right;\">\n",
       "      <th></th>\n",
       "      <th>trajectory</th>\n",
       "    </tr>\n",
       "    <tr>\n",
       "      <th>id</th>\n",
       "      <th></th>\n",
       "    </tr>\n",
       "  </thead>\n",
       "  <tbody>\n",
       "    <tr>\n",
       "      <th>218768000</th>\n",
       "      <td>{0101000020E610000091F2936A9F2E4B40545227A0890...</td>\n",
       "    </tr>\n",
       "    <tr>\n",
       "      <th>219015579</th>\n",
       "      <td>{0101000020E6100000C02154A9D9FB4B40A305685BCD0...</td>\n",
       "    </tr>\n",
       "  </tbody>\n",
       "</table>\n",
       "</div>"
      ],
      "text/plain": [
       "                                                  trajectory\n",
       "id                                                          \n",
       "218768000  {0101000020E610000091F2936A9F2E4B40545227A0890...\n",
       "219015579  {0101000020E6100000C02154A9D9FB4B40A305685BCD0..."
      ]
     },
     "execution_count": 5,
     "metadata": {},
     "output_type": "execute_result"
    }
   ],
   "source": [
    "trajectories"
   ]
  },
  {
   "cell_type": "code",
   "execution_count": 6,
   "metadata": {},
   "outputs": [
    {
     "data": {
      "text/plain": [
       "18139"
      ]
     },
     "execution_count": 6,
     "metadata": {},
     "output_type": "execute_result"
    }
   ],
   "source": [
    "size = len(trajectories)\n",
    "tt_size = 0\n",
    "for i in range(size):\n",
    "    tt_size+=trajectories[\"trajectory\"].values[i].num_instants()\n",
    "tt_size"
   ]
  },
  {
   "cell_type": "code",
   "execution_count": 7,
   "metadata": {},
   "outputs": [
    {
     "data": {
      "text/plain": [
       "18139"
      ]
     },
     "execution_count": 7,
     "metadata": {},
     "output_type": "execute_result"
    }
   ],
   "source": [
    "tolerance = 1/111139\n",
    "compressed = trajectories.copy()\n",
    "compressed[\"trajectory\"] = compressed[\"trajectory\"].apply(lambda x:x.simplify(tolerance))\n",
    "tt_size = 0\n",
    "for i in range(size):\n",
    "    tt_size+=compressed[\"trajectory\"].values[i].num_instants()\n",
    "tt_size"
   ]
  },
  {
   "cell_type": "code",
   "execution_count": 54,
   "metadata": {},
   "outputs": [
    {
     "data": {
      "text/html": [
       "<div>\n",
       "<style scoped>\n",
       "    .dataframe tbody tr th:only-of-type {\n",
       "        vertical-align: middle;\n",
       "    }\n",
       "\n",
       "    .dataframe tbody tr th {\n",
       "        vertical-align: top;\n",
       "    }\n",
       "\n",
       "    .dataframe thead th {\n",
       "        text-align: right;\n",
       "    }\n",
       "</style>\n",
       "<table border=\"1\" class=\"dataframe\">\n",
       "  <thead>\n",
       "    <tr style=\"text-align: right;\">\n",
       "      <th></th>\n",
       "      <th>trajectory</th>\n",
       "    </tr>\n",
       "    <tr>\n",
       "      <th>id</th>\n",
       "      <th></th>\n",
       "    </tr>\n",
       "  </thead>\n",
       "  <tbody>\n",
       "    <tr>\n",
       "      <th>218768000</th>\n",
       "      <td>[0101000020E610000091F2936A9F2E4B40545227A0890...</td>\n",
       "    </tr>\n",
       "    <tr>\n",
       "      <th>219015579</th>\n",
       "      <td>[0101000020E6100000C02154A9D9FB4B40A305685BCD0...</td>\n",
       "    </tr>\n",
       "  </tbody>\n",
       "</table>\n",
       "</div>"
      ],
      "text/plain": [
       "                                                  trajectory\n",
       "id                                                          \n",
       "218768000  [0101000020E610000091F2936A9F2E4B40545227A0890...\n",
       "219015579  [0101000020E6100000C02154A9D9FB4B40A305685BCD0..."
      ]
     },
     "execution_count": 54,
     "metadata": {},
     "output_type": "execute_result"
    }
   ],
   "source": [
    "compressed"
   ]
  },
  {
   "attachments": {},
   "cell_type": "markdown",
   "id": "f1a25e09-470a-4b6a-b046-767ac71a4c20",
   "metadata": {},
   "source": [
    "# cars trajectories"
   ]
  },
  {
   "cell_type": "code",
   "execution_count": 10,
   "id": "6970adc6",
   "metadata": {},
   "outputs": [
    {
     "name": "stdout",
     "output_type": "stream",
     "text": [
      "done 0!\n",
      "done 1!\n"
     ]
    }
   ],
   "source": [
    "PATH='../datasets/cars_'+SIZE+'.csv'\n",
    "df = pd.read_csv(PATH)\n",
    "print(\"done 0!\")\n",
    "\n",
    "trajectories = load_cars_trajectories(df)"
   ]
  },
  {
   "cell_type": "code",
   "execution_count": null,
   "id": "11f49160",
   "metadata": {},
   "outputs": [],
   "source": [
    "trajectories"
   ]
  }
 ],
 "metadata": {
  "kernelspec": {
   "display_name": "Python 3 (ipykernel)",
   "language": "python",
   "name": "python3"
  },
  "language_info": {
   "codemirror_mode": {
    "name": "ipython",
    "version": 3
   },
   "file_extension": ".py",
   "mimetype": "text/x-python",
   "name": "python",
   "nbconvert_exporter": "python",
   "pygments_lexer": "ipython3",
   "version": "3.11.4"
  }
 },
 "nbformat": 4,
 "nbformat_minor": 5
}

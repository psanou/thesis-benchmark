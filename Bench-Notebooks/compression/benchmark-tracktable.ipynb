{
 "cells": [
  {
   "cell_type": "code",
   "execution_count": 9,
   "id": "7e1108b3-103f-4614-b93a-65f236a0ac3e",
   "metadata": {},
   "outputs": [],
   "source": [
    "\"\"\"\n",
    "Function to compute the execution time.\n",
    "\"\"\"\n",
    "from datetime import timedelta\n",
    "import time\n",
    "def get_time(f, kwargs={}):\n",
    "    times = []\n",
    "    result = None\n",
    "    for i in range(1):\n",
    "        print(\"\\nmeasure\",i+1)\n",
    "        t = time.time()\n",
    "        result = f(**kwargs)\n",
    "        res = time.time()-t\n",
    "        times.append(res)\n",
    "        print( timedelta(seconds=res))\n",
    "        if res > 3600*2:\n",
    "            print(\"trop de temps\")\n",
    "            return result\n",
    "        \n",
    "    print(\"\\nall times:\", times)\n",
    "    a = min(times)\n",
    "    b = max(times)\n",
    "    print(\"times' outliers:\",a,\"&\",b)\n",
    "    t = abs(sum(times)-a-b)/1\n",
    "    print(\"benchmark time\",str(t)+\"s\",\"or\", timedelta(seconds=t))\n",
    "    return result"
   ]
  },
  {
   "cell_type": "code",
   "execution_count": 1,
   "id": "579b9916-4f11-4d4b-a464-56669f84439d",
   "metadata": {},
   "outputs": [
    {
     "name": "stderr",
     "output_type": "stream",
     "text": [
      "INFO:numexpr.utils:NumExpr defaulting to 8 threads.\n"
     ]
    }
   ],
   "source": [
    "from tracktable.domain.terrestrial import TrajectoryPointReader\n",
    "from tracktable.render.render_trajectories import render_trajectories, render_trajectories_separate\n",
    "from tracktable.applications.assemble_trajectories import AssembleTrajectoryFromPoints\n",
    "from tracktable.core.geomath import length, recompute_speed, simplify\n",
    "import pandas as pd"
   ]
  },
  {
   "cell_type": "code",
   "execution_count": 3,
   "id": "9c00e773-6b4b-4717-83ac-a6a31a9c0340",
   "metadata": {},
   "outputs": [],
   "source": [
    "SIZE = \"sample_\""
   ]
  },
  {
   "cell_type": "markdown",
   "id": "1c07be55-60cb-488b-9a21-2a96576987f9",
   "metadata": {},
   "source": [
    "# Ships Trajectories"
   ]
  },
  {
   "cell_type": "markdown",
   "id": "402e5924-cb25-4408-acbb-228918a556cc",
   "metadata": {},
   "source": [
    "### Trajectories loading"
   ]
  },
  {
   "cell_type": "code",
   "execution_count": 6,
   "id": "b43c824a",
   "metadata": {},
   "outputs": [],
   "source": [
    "PATH = \"/home/pierre-cedric/Documents/MEMO-F524/datasets/cars_medium.csv\""
   ]
  },
  {
   "cell_type": "code",
   "execution_count": 7,
   "id": "3ea2a2f8-f451-4a3c-ba9c-9d80a93266a1",
   "metadata": {},
   "outputs": [
    {
     "name": "stderr",
     "output_type": "stream",
     "text": [
      "INFO:tracktable.applications.assemble_trajectoriesAssembleTrajectoryFromPoints:New trajectories will be declared after a separation of None distance units between two points or a time lapse of at least None (hours, minutes, seconds).\n",
      "INFO:tracktable.applications.assemble_trajectoriesAssembleTrajectoryFromPoints:Trajectories with fewer than 2 points will be discarded.\n"
     ]
    },
    {
     "name": "stdout",
     "output_type": "stream",
     "text": [
      "888\n",
      "ok!\n",
      "ouvert!\n",
      "time to build\n"
     ]
    },
    {
     "ename": "KeyboardInterrupt",
     "evalue": "",
     "output_type": "error",
     "traceback": [
      "\u001b[0;31m---------------------------------------------------------------------------\u001b[0m",
      "\u001b[0;31mKeyboardInterrupt\u001b[0m                         Traceback (most recent call last)",
      "Cell \u001b[0;32mIn[7], line 23\u001b[0m\n\u001b[1;32m     20\u001b[0m     \u001b[38;5;28mprint\u001b[39m(\u001b[38;5;124m\"\u001b[39m\u001b[38;5;124mtime to build\u001b[39m\u001b[38;5;124m\"\u001b[39m)\n\u001b[1;32m     21\u001b[0m     \u001b[38;5;28;01mreturn\u001b[39;00m \u001b[38;5;28mlist\u001b[39m(builder)\n\u001b[0;32m---> 23\u001b[0m trajectories \u001b[38;5;241m=\u001b[39m \u001b[43mload_cars_trajectories\u001b[49m\u001b[43m(\u001b[49m\u001b[43mPATH\u001b[49m\u001b[43m)\u001b[49m\n",
      "Cell \u001b[0;32mIn[7], line 21\u001b[0m, in \u001b[0;36mload_cars_trajectories\u001b[0;34m(PATH)\u001b[0m\n\u001b[1;32m     19\u001b[0m builder\u001b[38;5;241m.\u001b[39mseparation_time \u001b[38;5;241m=\u001b[39m \u001b[38;5;28;01mNone\u001b[39;00m\n\u001b[1;32m     20\u001b[0m \u001b[38;5;28mprint\u001b[39m(\u001b[38;5;124m\"\u001b[39m\u001b[38;5;124mtime to build\u001b[39m\u001b[38;5;124m\"\u001b[39m)\n\u001b[0;32m---> 21\u001b[0m \u001b[38;5;28;01mreturn\u001b[39;00m \u001b[38;5;28;43mlist\u001b[39;49m\u001b[43m(\u001b[49m\u001b[43mbuilder\u001b[49m\u001b[43m)\u001b[49m\n",
      "File \u001b[0;32m~/miniconda3/envs/tracktable/lib/python3.8/site-packages/tracktable/applications/assemble_trajectories.py:133\u001b[0m, in \u001b[0;36mAssembleTrajectoryFromPoints.trajectories\u001b[0;34m(self)\u001b[0m\n\u001b[1;32m    125\u001b[0m logger\u001b[38;5;241m.\u001b[39minfo((\u001b[38;5;124m\"\u001b[39m\u001b[38;5;124mNew trajectories will be declared after a separation \u001b[39m\u001b[38;5;124m\"\u001b[39m\n\u001b[1;32m    126\u001b[0m              \u001b[38;5;124m\"\u001b[39m\u001b[38;5;124mof \u001b[39m\u001b[38;5;132;01m{}\u001b[39;00m\u001b[38;5;124m distance units between two points or a time lapse \u001b[39m\u001b[38;5;124m\"\u001b[39m\n\u001b[1;32m    127\u001b[0m              \u001b[38;5;124m\"\u001b[39m\u001b[38;5;124mof at least \u001b[39m\u001b[38;5;132;01m{}\u001b[39;00m\u001b[38;5;124m (hours, minutes, seconds).\u001b[39m\u001b[38;5;124m\"\u001b[39m)\u001b[38;5;241m.\u001b[39mformat(\n\u001b[1;32m    128\u001b[0m                           \u001b[38;5;28mself\u001b[39m\u001b[38;5;241m.\u001b[39mseparation_distance,\n\u001b[1;32m    129\u001b[0m                           \u001b[38;5;28mself\u001b[39m\u001b[38;5;241m.\u001b[39mseparation_time))\n\u001b[1;32m    130\u001b[0m logger\u001b[38;5;241m.\u001b[39minfo((\u001b[38;5;124m\"\u001b[39m\u001b[38;5;124mTrajectories with fewer than \u001b[39m\u001b[38;5;132;01m{}\u001b[39;00m\u001b[38;5;124m points will \u001b[39m\u001b[38;5;124m\"\u001b[39m\n\u001b[1;32m    131\u001b[0m              \u001b[38;5;124m\"\u001b[39m\u001b[38;5;124mbe discarded.\u001b[39m\u001b[38;5;124m\"\u001b[39m)\u001b[38;5;241m.\u001b[39mformat(\u001b[38;5;28mself\u001b[39m\u001b[38;5;241m.\u001b[39mminimum_length))\n\u001b[0;32m--> 133\u001b[0m \u001b[38;5;28;01mfor\u001b[39;00m point \u001b[38;5;129;01min\u001b[39;00m \u001b[38;5;28mself\u001b[39m\u001b[38;5;241m.\u001b[39minput:\n\u001b[1;32m    134\u001b[0m     \u001b[38;5;28mself\u001b[39m\u001b[38;5;241m.\u001b[39mpoints_processed_count \u001b[38;5;241m+\u001b[39m\u001b[38;5;241m=\u001b[39m \u001b[38;5;241m1\u001b[39m\n\u001b[1;32m    136\u001b[0m     \u001b[38;5;28;01mif\u001b[39;00m trajectory_class \u001b[38;5;129;01mis\u001b[39;00m \u001b[38;5;28;01mNone\u001b[39;00m:\n",
      "\u001b[0;31mKeyboardInterrupt\u001b[0m: "
     ]
    }
   ],
   "source": [
    "def load_cars_trajectories(PATH):\n",
    "    ## Set up the point reader\n",
    "    print(888)\n",
    "    reader = TrajectoryPointReader()\n",
    "    print(\"ok!\")\n",
    "    reader.input = open(PATH, 'r')\n",
    "    print(\"ouvert!\")\n",
    "    reader.comment_character = '#'\n",
    "    reader.field_delimiter = ','\n",
    "    reader.null_value = 'NaN'\n",
    "    reader.object_id_column = 0\n",
    "    reader.timestamp_column = 3\n",
    "    reader.coordinates[0] = 1     # longitude\n",
    "    reader.coordinates[1] = 2     # latitude\n",
    "    \n",
    "    ## Put the point reader into the trajectoriesBuilder\n",
    "    builder = AssembleTrajectoryFromPoints()\n",
    "    builder.input = reader\n",
    "    builder.separation_time = None\n",
    "    print(\"time to build\")\n",
    "    return list(builder)\n",
    "\n",
    "trajectories = load_cars_trajectories(PATH)"
   ]
  },
  {
   "cell_type": "code",
   "execution_count": 6,
   "id": "d619cd7e-4b01-40dd-9136-0eca9b8181c4",
   "metadata": {},
   "outputs": [
    {
     "name": "stdout",
     "output_type": "stream",
     "text": [
      "56\n"
     ]
    }
   ],
   "source": [
    "print(len(trajectories))"
   ]
  },
  {
   "cell_type": "code",
   "execution_count": 7,
   "id": "fcca29eb",
   "metadata": {},
   "outputs": [],
   "source": [
    "#render_trajectories(trajectories[0])\n",
    "#render_trajectories(trajectories)\n"
   ]
  },
  {
   "cell_type": "markdown",
   "id": "b3abe02c-95d0-48ae-8ac1-80e31618a0c7",
   "metadata": {},
   "source": [
    "### Compression"
   ]
  },
  {
   "cell_type": "code",
   "execution_count": 7,
   "id": "073f63fe-4e0f-4f76-8486-35b862d4c287",
   "metadata": {},
   "outputs": [],
   "source": [
    "tolerance = 1/111139 # 1 meter"
   ]
  },
  {
   "cell_type": "code",
   "execution_count": 13,
   "id": "0be8e95e-dc68-42bd-a7c4-ea11d09189ef",
   "metadata": {},
   "outputs": [
    {
     "name": "stdout",
     "output_type": "stream",
     "text": [
      "\n",
      "measure 1\n",
      "size after compress 67655\n",
      "0:00:24.677266\n",
      "\n",
      "all times: [24.677265644073486]\n",
      "times' outliers: 24.677265644073486 & 24.677265644073486\n",
      "benchmark time 24.677265644073486s or 0:00:24.677266\n"
     ]
    }
   ],
   "source": [
    "def compress_all(trajectories,tolerance):\n",
    "    n = 0\n",
    "    compressed_trajectories = []\n",
    "    for trajectory in trajectories:\n",
    "        compressed_traj = simplify(trajectory=trajectory, tolerance=tolerance)\n",
    "        n += len(compressed_traj)\n",
    "        compressed_trajectories.append(compressed_traj)\n",
    "    print(\"size after compress\", n)      \n",
    "    return compressed_trajectories\n",
    "compressed_trajectories = get_time(compress_all,{\"trajectories\":trajectories,\"tolerance\":tolerance})\n"
   ]
  },
  {
   "cell_type": "code",
   "execution_count": 10,
   "id": "dd6c754d",
   "metadata": {},
   "outputs": [],
   "source": [
    "#render_trajectories(compressed_trajectories[0])"
   ]
  }
 ],
 "metadata": {
  "kernelspec": {
   "display_name": "Python 3 (ipykernel)",
   "language": "python",
   "name": "python3"
  },
  "language_info": {
   "codemirror_mode": {
    "name": "ipython",
    "version": 3
   },
   "file_extension": ".py",
   "mimetype": "text/x-python",
   "name": "python",
   "nbconvert_exporter": "python",
   "pygments_lexer": "ipython3",
   "version": "3.10.12"
  }
 },
 "nbformat": 4,
 "nbformat_minor": 5
}

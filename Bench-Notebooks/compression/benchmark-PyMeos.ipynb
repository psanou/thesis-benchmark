{
 "cells": [
  {
   "cell_type": "code",
   "execution_count": 2,
   "id": "c243f8f3-15b9-4b51-ab46-f9a0dd94130c",
   "metadata": {},
   "outputs": [],
   "source": [
    "\"\"\"\n",
    "Function to compute the execution time.\n",
    "\"\"\"\n",
    "from datetime import timedelta\n",
    "import time\n",
    "def get_time(f, kwargs={}):\n",
    "    times = []\n",
    "    result = None\n",
    "    for i in range(1):\n",
    "        print(\"\\nmeasure\",i+1)\n",
    "        t = time.time()\n",
    "        result = f(**kwargs)\n",
    "        res = time.time()-t\n",
    "        times.append(res)\n",
    "        print( timedelta(seconds=res))\n",
    "        if res > 3600*2:\n",
    "            print(\"trop de temps\")\n",
    "            return result\n",
    "        \n",
    "    print(\"\\nall times:\", times)\n",
    "    a = min(times)\n",
    "    b = max(times)\n",
    "    print(\"times' outliers:\",a,\"&\",b)\n",
    "    t = abs(sum(times)-a-b)/1\n",
    "    print(\"benchmark time\",str(t)+\"s\",\"or\", timedelta(seconds=t))\n",
    "    return result"
   ]
  },
  {
   "cell_type": "code",
   "execution_count": 3,
   "id": "50465cec-ea22-44c3-bf68-75986a4c1d0f",
   "metadata": {},
   "outputs": [],
   "source": [
    "import matplotlib.pyplot as plt\n",
    "import pandas as pd\n",
    "from pymeos import *\n",
    "\n",
    "pymeos_initialize()"
   ]
  },
  {
   "cell_type": "code",
   "execution_count": 17,
   "id": "8900cc31-206a-4fe8-99bc-4e40a2a57c49",
   "metadata": {},
   "outputs": [],
   "source": [
    "SIZE = \"large\""
   ]
  },
  {
   "cell_type": "markdown",
   "id": "0c4709f6-c948-410f-b738-5e931423c7dd",
   "metadata": {},
   "source": [
    "# Cars Trajectories"
   ]
  },
  {
   "cell_type": "code",
   "execution_count": 18,
   "id": "8970cd75-3937-4f07-9c73-48db0f2553c7",
   "metadata": {},
   "outputs": [
    {
     "data": {
      "text/plain": [
       "447"
      ]
     },
     "execution_count": 18,
     "metadata": {},
     "output_type": "execute_result"
    }
   ],
   "source": [
    "PATH='../../datasets/cars_'+SIZE+'.csv'\n",
    "df = pd.read_csv(PATH)\n",
    "df = df.dropna()\n",
    "df[\"Timestamp\"] = pd.to_datetime(df[\"Timestamp\"],format='mixed')\n",
    "df = df.drop_duplicates([\"Timestamp\"])\n",
    "df = df.sort_values(by= \"Timestamp\")\n",
    "df['point'] = df.apply(lambda row: TGeogPointInst(point=(row['Latitude'], row['Longitude']), timestamp=row['Timestamp']),axis=1)\n",
    "df.drop(['Latitude', 'Longitude'], axis=1, inplace=True)\n",
    "trajectories = df.groupby('id').aggregate(\n",
    "    {\n",
    "        'point': TGeogPointSeq.from_instants,\n",
    "    }\n",
    ").rename({'point': 'trajectory'}, axis=1)\n",
    "size = len(trajectories)\n",
    "size"
   ]
  },
  {
   "cell_type": "code",
   "execution_count": null,
   "id": "cb498dd0",
   "metadata": {},
   "outputs": [],
   "source": [
    "tt_size = 0\n",
    "for i in range(size):\n",
    "    tt_size+=trajectories[\"trajectory\"].values[i].num_instants()\n",
    "tt_size"
   ]
  },
  {
   "cell_type": "code",
   "execution_count": null,
   "id": "88aec851",
   "metadata": {},
   "outputs": [],
   "source": [
    "# trajectories[\"trajectory\"].iloc[0].simplify(0.00001,True)"
   ]
  },
  {
   "cell_type": "code",
   "execution_count": 19,
   "id": "d69c6ef3-fe5c-4fcc-b217-d4c8c22bd20b",
   "metadata": {},
   "outputs": [],
   "source": [
    "tolerance = 1/111139\n",
    "compressed = trajectories.copy()\n",
    "compressed[\"trajectory\"] = compressed[\"trajectory\"].apply(lambda x:x.simplify(tolerance,True))\n",
    "#compressed\n",
    "#compressed[\"trajectory\"].values[1].plot()\n"
   ]
  },
  {
   "cell_type": "code",
   "execution_count": null,
   "id": "62657e7b",
   "metadata": {},
   "outputs": [],
   "source": [
    "tt_size = 0\n",
    "for i in range(size):\n",
    "    tt_size+=len(compressed[\"trajectory\"].values[i].to_dataframe())\n",
    "tt_size\n"
   ]
  },
  {
   "cell_type": "code",
   "execution_count": 20,
   "id": "88a41a39",
   "metadata": {},
   "outputs": [
    {
     "data": {
      "text/plain": [
       "5210424"
      ]
     },
     "execution_count": 20,
     "metadata": {},
     "output_type": "execute_result"
    }
   ],
   "source": [
    "tt_size = 0\n",
    "for i in range(size):\n",
    "    tt_size+=compressed[\"trajectory\"].values[i].num_instants()\n",
    "tt_size"
   ]
  },
  {
   "cell_type": "code",
   "execution_count": null,
   "id": "35260f7b-710e-4f42-ab79-96ee0d54f8af",
   "metadata": {},
   "outputs": [],
   "source": [
    "pymeos_finalize()"
   ]
  }
 ],
 "metadata": {
  "kernelspec": {
   "display_name": "Python 3 (ipykernel)",
   "language": "python",
   "name": "python3"
  },
  "language_info": {
   "codemirror_mode": {
    "name": "ipython",
    "version": 3
   },
   "file_extension": ".py",
   "mimetype": "text/x-python",
   "name": "python",
   "nbconvert_exporter": "python",
   "pygments_lexer": "ipython3",
   "version": "3.10.12"
  }
 },
 "nbformat": 4,
 "nbformat_minor": 5
}

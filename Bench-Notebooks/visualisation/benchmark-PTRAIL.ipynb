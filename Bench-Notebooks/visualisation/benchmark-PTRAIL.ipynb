{
 "cells": [
  {
   "cell_type": "code",
   "execution_count": 1,
   "id": "ab6e0388-ada5-4956-afeb-0fc31502627d",
   "metadata": {},
   "outputs": [],
   "source": [
    "\"\"\"\n",
    "Function to compute the execution time.\n",
    "\"\"\"\n",
    "from datetime import timedelta\n",
    "import time\n",
    "def get_time(f, kwargs={}):\n",
    "    times = []\n",
    "    result = None\n",
    "    for i in range(5):\n",
    "        print(\"measure\",i+1)\n",
    "        t = time.time()\n",
    "        result = f(**kwargs)\n",
    "        times.append(time.time()-t)\n",
    "        \n",
    "    print(\"all times:\", times)\n",
    "    a = min(times)\n",
    "    b = max(times)\n",
    "    print(\"times' outliers:\",a,\"&\",b)\n",
    "    t = (sum(times)-a-b)/3\n",
    "    print(\"benchmark time\",str(t)+\"s\",\"or\", timedelta(seconds=t))\n",
    "    return result"
   ]
  },
  {
   "cell_type": "code",
   "execution_count": 2,
   "id": "e4b6ae8a-4c23-4674-8b82-4dfa34931529",
   "metadata": {},
   "outputs": [],
   "source": [
    "import pandas as pd\n",
    "from ptrail.core.TrajectoryDF import PTRAILDataFrame\n",
    "from ptrail.features.temporal_features import TemporalFeatures as temporal\n",
    "from ptrail.features.kinematic_features import KinematicFeatures as kinematic\n",
    "from ptrail.preprocessing.filters import Filters as filt\n",
    "from ptrail.visualization import TrajPlotter\n",
    "import ptrail.utilities.constants as const\n",
    "import numpy as np\n",
    "import folium"
   ]
  },
  {
   "cell_type": "code",
   "execution_count": 3,
   "id": "17166d9e-45e9-4538-86b2-734fc3b6c4e6",
   "metadata": {},
   "outputs": [],
   "source": [
    "SIZE = \"sample\""
   ]
  },
  {
   "attachments": {},
   "cell_type": "markdown",
   "id": "b5d1b93e-a939-4f07-9685-0c88caa34de1",
   "metadata": {},
   "source": [
    "# Ships Trajectories"
   ]
  },
  {
   "cell_type": "code",
   "execution_count": 6,
   "id": "57eb480a-2705-42ee-8a90-b7c7a61536bb",
   "metadata": {},
   "outputs": [],
   "source": [
    "PATH=\"../datasets/ships_\"+SIZE+\".csv\"\n",
    "df = pd.read_csv(PATH)\n",
    "trajectory_df = get_time(PTRAILDataFrame,{\"data_set\":df,\n",
    "                            \"latitude\":'Latitude',\n",
    "                            \"longitude\":'Longitude',\n",
    "                            \"datetime\":'Timestamp',\n",
    "                            \"traj_id\":'id'})\n",
    "trajectory_df"
   ]
  },
  {
   "attachments": {},
   "cell_type": "markdown",
   "id": "ed21cee5-ef58-4735-aa92-4a69c63c4623",
   "metadata": {},
   "source": [
    "# Cars Trajectories"
   ]
  },
  {
   "cell_type": "code",
   "execution_count": 5,
   "id": "51b51dbc-c4ac-4d81-8999-1eb0464f04be",
   "metadata": {},
   "outputs": [],
   "source": [
    "PATH=\"datasets/cars_\"+SIZE+\".csv\"\n",
    "df = pd.read_csv(PATH)\n",
    "trajectory_df = PTRAILDataFrame(data_set = df, latitude='Latitude', longitude='Longitude', datetime='Timestamp', traj_id='id')\n"
   ]
  }
 ],
 "metadata": {
  "kernelspec": {
   "display_name": "Python 3 (ipykernel)",
   "language": "python",
   "name": "python3"
  },
  "language_info": {
   "codemirror_mode": {
    "name": "ipython",
    "version": 3
   },
   "file_extension": ".py",
   "mimetype": "text/x-python",
   "name": "python",
   "nbconvert_exporter": "python",
   "pygments_lexer": "ipython3",
   "version": "3.9.13"
  }
 },
 "nbformat": 4,
 "nbformat_minor": 5
}

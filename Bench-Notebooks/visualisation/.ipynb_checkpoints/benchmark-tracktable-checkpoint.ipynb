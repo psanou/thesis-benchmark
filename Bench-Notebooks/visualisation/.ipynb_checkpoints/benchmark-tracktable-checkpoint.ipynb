{
 "cells": [
  {
   "cell_type": "code",
   "execution_count": 1,
   "id": "7e1108b3-103f-4614-b93a-65f236a0ac3e",
   "metadata": {},
   "outputs": [],
   "source": [
    "\"\"\"\n",
    "Function to compute the execution time.\n",
    "\"\"\"\n",
    "from datetime import timedelta\n",
    "import time\n",
    "def get_time(f, kwargs={}):\n",
    "    times = []\n",
    "    result = None\n",
    "    for i in range(1):\n",
    "        print(\"\\nmeasure\",i+1)\n",
    "        t = time.time()\n",
    "        result = f(**kwargs)\n",
    "        res = time.time()-t\n",
    "        times.append(res)\n",
    "        print( timedelta(seconds=res))\n",
    "        if res > 3600*2:\n",
    "            print(\"trop de temps\")\n",
    "            return result\n",
    "        \n",
    "    print(\"\\nall times:\", times)\n",
    "    a = min(times)\n",
    "    b = max(times)\n",
    "    print(\"times' outliers:\",a,\"&\",b)\n",
    "    t = abs(sum(times)-a-b)/1\n",
    "    print(\"benchmark time\",str(t)+\"s\",\"or\", timedelta(seconds=t))\n",
    "    return result"
   ]
  },
  {
   "cell_type": "code",
   "execution_count": 2,
   "id": "579b9916-4f11-4d4b-a464-56669f84439d",
   "metadata": {},
   "outputs": [
    {
     "name": "stderr",
     "output_type": "stream",
     "text": [
      "INFO:numexpr.utils:NumExpr defaulting to 4 threads.\n"
     ]
    }
   ],
   "source": [
    "from tracktable.domain.terrestrial import TrajectoryPointReader\n",
    "from tracktable.render.render_trajectories import render_trajectories, render_trajectories_separate\n",
    "from tracktable.applications.assemble_trajectories import AssembleTrajectoryFromPoints\n",
    "from tracktable.core.geomath import length, recompute_speed, simplify\n",
    "import pandas as pd"
   ]
  },
  {
   "cell_type": "code",
   "execution_count": 3,
   "id": "9c00e773-6b4b-4717-83ac-a6a31a9c0340",
   "metadata": {},
   "outputs": [],
   "source": [
    "SIZE = \"small\""
   ]
  },
  {
   "attachments": {},
   "cell_type": "markdown",
   "id": "1c07be55-60cb-488b-9a21-2a96576987f9",
   "metadata": {},
   "source": [
    "# Ships Trajectories"
   ]
  },
  {
   "attachments": {},
   "cell_type": "markdown",
   "id": "402e5924-cb25-4408-acbb-228918a556cc",
   "metadata": {},
   "source": [
    "### Trajectories loading"
   ]
  },
  {
   "cell_type": "code",
   "execution_count": 4,
   "id": "0af73fc2-3bba-461e-9034-c3c67b5ebf13",
   "metadata": {},
   "outputs": [
    {
     "name": "stderr",
     "output_type": "stream",
     "text": [
      "INFO:tracktable.applications.assemble_trajectoriesAssembleTrajectoryFromPoints:New trajectories will be declared after a separation of None distance units between two points or a time lapse of at least None (hours, minutes, seconds).\n",
      "INFO:tracktable.applications.assemble_trajectoriesAssembleTrajectoryFromPoints:Trajectories with fewer than 2 points will be discarded.\n"
     ]
    },
    {
     "name": "stdout",
     "output_type": "stream",
     "text": [
      "\n",
      "measure 1\n",
      "building list\n",
      "[2023-07-31 17:16:41.840687] [0x00007f4fedc3c440] [info]    Done reading points. Generated 1246349 points correctly and discarded 1 due to parse errors.\n",
      "\n"
     ]
    },
    {
     "name": "stderr",
     "output_type": "stream",
     "text": [
      "INFO:tracktable.applications.assemble_trajectoriesAssembleTrajectoryFromPoints:Done assembling trajectories. 178 trajectories produced and 0 discarded for having fewer than 2 points.\n"
     ]
    },
    {
     "name": "stdout",
     "output_type": "stream",
     "text": [
      "0:00:40.992568\n",
      "\n",
      "all times: [40.99256777763367]\n",
      "times' outliers: 40.99256777763367 & 40.99256777763367\n",
      "benchmark time 40.99256777763367s or 0:00:40.992568\n",
      "178\n"
     ]
    }
   ],
   "source": [
    "PATH = \"../../datasets/ships_\"+SIZE+\".csv\"\n",
    "def load_ships_trajectories(PATH):\n",
    "    ## Set up the point reader\n",
    "    reader = TrajectoryPointReader()\n",
    "    reader.input = open(PATH, 'r')\n",
    "    reader.comment_character = '#'\n",
    "    reader.field_delimiter = ','\n",
    "    reader.null_value = 'NaN'\n",
    "    reader.object_id_column = 3\n",
    "    reader.timestamp_column = 2\n",
    "    reader.coordinates[0] = 0     # longitude\n",
    "    reader.coordinates[1] = 1     # latitude\n",
    "    # reader.set_real_field_column('heading', 6)\n",
    "    # reader.set_real_field_column('SOG', 4)\n",
    "    # reader.set_string_field_column('vessel-name', 8)\n",
    "    # reader.set_string_field_column('navigational status', 7)\n",
    "    ## Put the point reader into the trajectoriesBuilder\n",
    "    builder = AssembleTrajectoryFromPoints()\n",
    "    builder.input = reader\n",
    "    builder.separation_time = None\n",
    "    print(\"building list\")\n",
    "    return list(builder)\n",
    "\n",
    "trajectories = get_time(load_ships_trajectories,{'PATH':PATH})\n",
    "print(len(trajectories))"
   ]
  },
  {
   "cell_type": "code",
   "execution_count": 5,
   "id": "20242b80-cb2c-425c-b2a1-70ea95047b31",
   "metadata": {},
   "outputs": [
    {
     "data": {
      "text/plain": [
       "3.2015180447009715"
      ]
     },
     "execution_count": 5,
     "metadata": {},
     "output_type": "execute_result"
    }
   ],
   "source": [
    "traj = trajectories[1]\n",
    "length(traj)"
   ]
  },
  {
   "attachments": {},
   "cell_type": "markdown",
   "id": "41d85992-a40b-4d63-bdca-5f46cdbbb9c2",
   "metadata": {},
   "source": [
    "# Cars Trajectories"
   ]
  },
  {
   "attachments": {},
   "cell_type": "markdown",
   "id": "417d7cc6-2b76-44eb-9692-8abce531018a",
   "metadata": {},
   "source": [
    "### Trajectories loading"
   ]
  },
  {
   "cell_type": "code",
   "execution_count": 6,
   "id": "5870abe3-8ecf-4398-b379-b40d693597ae",
   "metadata": {},
   "outputs": [
    {
     "ename": "FileNotFoundError",
     "evalue": "[Errno 2] No such file or directory: 'datasets/cars_small.csv'",
     "output_type": "error",
     "traceback": [
      "\u001b[0;31m---------------------------------------------------------------------------\u001b[0m",
      "\u001b[0;31mFileNotFoundError\u001b[0m                         Traceback (most recent call last)",
      "Cell \u001b[0;32mIn[6], line 20\u001b[0m\n\u001b[1;32m     17\u001b[0m     builder\u001b[39m.\u001b[39mseparation_time \u001b[39m=\u001b[39m \u001b[39mNone\u001b[39;00m\n\u001b[1;32m     18\u001b[0m     \u001b[39mreturn\u001b[39;00m \u001b[39mlist\u001b[39m(builder)\n\u001b[0;32m---> 20\u001b[0m trajectories \u001b[39m=\u001b[39m load_cars_trajectories(PATH)\n\u001b[1;32m     21\u001b[0m \u001b[39mprint\u001b[39m(\u001b[39mlen\u001b[39m(trajectories))\n",
      "Cell \u001b[0;32mIn[6], line 5\u001b[0m, in \u001b[0;36mload_cars_trajectories\u001b[0;34m(PATH)\u001b[0m\n\u001b[1;32m      2\u001b[0m \u001b[39mdef\u001b[39;00m \u001b[39mload_cars_trajectories\u001b[39m(PATH):\n\u001b[1;32m      3\u001b[0m     \u001b[39m## Set up the point reader\u001b[39;00m\n\u001b[1;32m      4\u001b[0m     reader \u001b[39m=\u001b[39m TrajectoryPointReader()\n\u001b[0;32m----> 5\u001b[0m     reader\u001b[39m.\u001b[39minput \u001b[39m=\u001b[39m \u001b[39mopen\u001b[39;49m(PATH, \u001b[39m'\u001b[39;49m\u001b[39mr\u001b[39;49m\u001b[39m'\u001b[39;49m)\n\u001b[1;32m      6\u001b[0m     reader\u001b[39m.\u001b[39mcomment_character \u001b[39m=\u001b[39m \u001b[39m'\u001b[39m\u001b[39m#\u001b[39m\u001b[39m'\u001b[39m\n\u001b[1;32m      7\u001b[0m     reader\u001b[39m.\u001b[39mfield_delimiter \u001b[39m=\u001b[39m \u001b[39m'\u001b[39m\u001b[39m,\u001b[39m\u001b[39m'\u001b[39m\n",
      "File \u001b[0;32m~/miniconda3/envs/tracktable/lib/python3.8/site-packages/IPython/core/interactiveshell.py:282\u001b[0m, in \u001b[0;36m_modified_open\u001b[0;34m(file, *args, **kwargs)\u001b[0m\n\u001b[1;32m    275\u001b[0m \u001b[39mif\u001b[39;00m file \u001b[39min\u001b[39;00m {\u001b[39m0\u001b[39m, \u001b[39m1\u001b[39m, \u001b[39m2\u001b[39m}:\n\u001b[1;32m    276\u001b[0m     \u001b[39mraise\u001b[39;00m \u001b[39mValueError\u001b[39;00m(\n\u001b[1;32m    277\u001b[0m         \u001b[39mf\u001b[39m\u001b[39m\"\u001b[39m\u001b[39mIPython won\u001b[39m\u001b[39m'\u001b[39m\u001b[39mt let you open fd=\u001b[39m\u001b[39m{\u001b[39;00mfile\u001b[39m}\u001b[39;00m\u001b[39m by default \u001b[39m\u001b[39m\"\u001b[39m\n\u001b[1;32m    278\u001b[0m         \u001b[39m\"\u001b[39m\u001b[39mas it is likely to crash IPython. If you know what you are doing, \u001b[39m\u001b[39m\"\u001b[39m\n\u001b[1;32m    279\u001b[0m         \u001b[39m\"\u001b[39m\u001b[39myou can use builtins\u001b[39m\u001b[39m'\u001b[39m\u001b[39m open.\u001b[39m\u001b[39m\"\u001b[39m\n\u001b[1;32m    280\u001b[0m     )\n\u001b[0;32m--> 282\u001b[0m \u001b[39mreturn\u001b[39;00m io_open(file, \u001b[39m*\u001b[39;49margs, \u001b[39m*\u001b[39;49m\u001b[39m*\u001b[39;49mkwargs)\n",
      "\u001b[0;31mFileNotFoundError\u001b[0m: [Errno 2] No such file or directory: 'datasets/cars_small.csv'"
     ]
    }
   ],
   "source": [
    "PATH = \"datasets/cars_\"+SIZE+\".csv\"\n",
    "def load_cars_trajectories(PATH):\n",
    "    ## Set up the point reader\n",
    "    reader = TrajectoryPointReader()\n",
    "    reader.input = open(PATH, 'r')\n",
    "    reader.comment_character = '#'\n",
    "    reader.field_delimiter = ','\n",
    "    reader.null_value = 'NaN'\n",
    "    reader.object_id_column = 0\n",
    "    reader.timestamp_column = 3\n",
    "    reader.coordinates[0] = 1     # longitude\n",
    "    reader.coordinates[1] = 2     # latitude\n",
    "    \n",
    "    ## Put the point reader into the trajectoriesBuilder\n",
    "    builder = AssembleTrajectoryFromPoints()\n",
    "    builder.input = reader\n",
    "    builder.separation_time = None\n",
    "    return list(builder)\n",
    "\n",
    "trajectories = load_cars_trajectories(PATH)\n",
    "print(len(trajectories))"
   ]
  }
 ],
 "metadata": {
  "kernelspec": {
   "display_name": "Python 3 (ipykernel)",
   "language": "python",
   "name": "python3"
  },
  "language_info": {
   "codemirror_mode": {
    "name": "ipython",
    "version": 3
   },
   "file_extension": ".py",
   "mimetype": "text/x-python",
   "name": "python",
   "nbconvert_exporter": "python",
   "pygments_lexer": "ipython3",
   "version": "3.8.16"
  }
 },
 "nbformat": 4,
 "nbformat_minor": 5
}

{
 "cells": [
  {
   "cell_type": "code",
   "execution_count": 1,
   "id": "7e1108b3-103f-4614-b93a-65f236a0ac3e",
   "metadata": {},
   "outputs": [],
   "source": [
    "\"\"\"\n",
    "Function to compute the execution time.\n",
    "\"\"\"\n",
    "from datetime import timedelta\n",
    "import time\n",
    "def get_time(f, kwargs={}):\n",
    "    times = []\n",
    "    result = None\n",
    "    for i in range(5):\n",
    "        print(\"\\nmeasure\",i+1)\n",
    "        t = time.time()\n",
    "        result = f(**kwargs)\n",
    "        res = time.time()-t\n",
    "        times.append(res)\n",
    "        print( timedelta(seconds=res))\n",
    "        if res > 3600*2:\n",
    "            print(\"trop de temps\")\n",
    "            return result\n",
    "        \n",
    "    print(\"\\nall times:\", times)\n",
    "    a = min(times)\n",
    "    b = max(times)\n",
    "    print(\"times' outliers:\",a,\"&\",b)\n",
    "    t = (sum(times)-a-b)/3\n",
    "    print(\"benchmark time\",str(t)+\"s\",\"or\", timedelta(seconds=t))\n",
    "    return result"
   ]
  },
  {
   "cell_type": "code",
   "execution_count": 2,
   "id": "579b9916-4f11-4d4b-a464-56669f84439d",
   "metadata": {},
   "outputs": [
    {
     "name": "stderr",
     "output_type": "stream",
     "text": [
      "INFO:numexpr.utils:NumExpr defaulting to 4 threads.\n"
     ]
    }
   ],
   "source": [
    "from tracktable.domain.terrestrial import TrajectoryPointReader\n",
    "from tracktable.render.render_trajectories import render_trajectories, render_trajectories_separate\n",
    "from tracktable.applications.assemble_trajectories import AssembleTrajectoryFromPoints\n",
    "from tracktable.core.geomath import length, recompute_speed, simplify\n",
    "import pandas as pd"
   ]
  },
  {
   "cell_type": "code",
   "execution_count": 11,
   "id": "9c00e773-6b4b-4717-83ac-a6a31a9c0340",
   "metadata": {},
   "outputs": [],
   "source": [
    "SIZE = \"large\""
   ]
  },
  {
   "cell_type": "code",
   "execution_count": 4,
   "id": "9129aaf0-dfdd-4374-9faf-1053db55d3b4",
   "metadata": {},
   "outputs": [],
   "source": [
    "PATH = \"datasets/ships_\"+SIZE+\".csv\""
   ]
  },
  {
   "cell_type": "markdown",
   "id": "1c07be55-60cb-488b-9a21-2a96576987f9",
   "metadata": {},
   "source": [
    "# Ships Trajectories"
   ]
  },
  {
   "cell_type": "markdown",
   "id": "402e5924-cb25-4408-acbb-228918a556cc",
   "metadata": {},
   "source": [
    "### Trajectories loading"
   ]
  },
  {
   "cell_type": "code",
   "execution_count": null,
   "id": "0af73fc2-3bba-461e-9034-c3c67b5ebf13",
   "metadata": {},
   "outputs": [
    {
     "name": "stderr",
     "output_type": "stream",
     "text": [
      "INFO:tracktable.applications.assemble_trajectoriesAssembleTrajectoryFromPoints:New trajectories will be declared after a separation of None distance units between two points or a time lapse of at least None (hours, minutes, seconds).\n",
      "INFO:tracktable.applications.assemble_trajectoriesAssembleTrajectoryFromPoints:Trajectories with fewer than 2 points will be discarded.\n"
     ]
    },
    {
     "name": "stdout",
     "output_type": "stream",
     "text": [
      "\n",
      "measure 1\n",
      "building list\n"
     ]
    }
   ],
   "source": [
    "def load_ships_trajectories(PATH):\n",
    "    ## Set up the point reader\n",
    "    reader = TrajectoryPointReader()\n",
    "    reader.input = open(PATH, 'r')\n",
    "    reader.comment_character = '#'\n",
    "    reader.field_delimiter = ','\n",
    "    reader.null_value = 'NaN'\n",
    "    reader.object_id_column = 3\n",
    "    reader.timestamp_column = 2\n",
    "    reader.coordinates[0] = 0     # longitude\n",
    "    reader.coordinates[1] = 1     # latitude\n",
    "    #reader.set_real_field_column('heading', 6)\n",
    "    #reader.set_real_field_column('SOG', 4)\n",
    "    #reader.set_string_field_column('vessel-name', 8)\n",
    "    #reader.set_string_field_column('navigational status', 7)\n",
    "    ## Put the point reader into the trajectoriesBuilder\n",
    "    builder = AssembleTrajectoryFromPoints()\n",
    "    builder.input = reader\n",
    "    builder.separation_time = None\n",
    "    print(\"building list\")\n",
    "    return list(builder)\n",
    "\n",
    "trajectories = get_time(load_ships_trajectories,{'PATH':PATH})\n",
    "print(len(trajectories))"
   ]
  },
  {
   "cell_type": "code",
   "execution_count": null,
   "id": "20242b80-cb2c-425c-b2a1-70ea95047b31",
   "metadata": {},
   "outputs": [],
   "source": [
    "traj = trajectories[1]\n",
    "length(traj)"
   ]
  },
  {
   "cell_type": "markdown",
   "id": "41d85992-a40b-4d63-bdca-5f46cdbbb9c2",
   "metadata": {},
   "source": [
    "# Cars Trajectories"
   ]
  },
  {
   "cell_type": "markdown",
   "id": "417d7cc6-2b76-44eb-9692-8abce531018a",
   "metadata": {},
   "source": [
    "### Trajectories loading"
   ]
  },
  {
   "cell_type": "code",
   "execution_count": 12,
   "id": "5870abe3-8ecf-4398-b379-b40d693597ae",
   "metadata": {},
   "outputs": [],
   "source": [
    "PATH = \"datasets/cars_\"+SIZE+\".csv\""
   ]
  },
  {
   "cell_type": "code",
   "execution_count": 13,
   "id": "e7c66c30-f3ed-49c1-adbb-5c4371222f6d",
   "metadata": {},
   "outputs": [
    {
     "name": "stderr",
     "output_type": "stream",
     "text": [
      "INFO:tracktable.applications.assemble_trajectoriesAssembleTrajectoryFromPoints:New trajectories will be declared after a separation of None distance units between two points or a time lapse of at least None (hours, minutes, seconds).\n",
      "INFO:tracktable.applications.assemble_trajectoriesAssembleTrajectoryFromPoints:Trajectories with fewer than 2 points will be discarded.\n"
     ]
    },
    {
     "name": "stdout",
     "output_type": "stream",
     "text": [
      "[2023-04-25 05:04:28.476436] [0x00007f60425e8440] [info]    Done reading points. Generated 10988601 points correctly and discarded 1 due to parse errors.\n",
      "\n"
     ]
    },
    {
     "name": "stderr",
     "output_type": "stream",
     "text": [
      "INFO:tracktable.applications.assemble_trajectoriesAssembleTrajectoryFromPoints:Done assembling trajectories. 447 trajectories produced and 0 discarded for having fewer than 2 points.\n"
     ]
    },
    {
     "name": "stdout",
     "output_type": "stream",
     "text": [
      "447\n"
     ]
    }
   ],
   "source": [
    "def load_cars_trajectories(PATH):\n",
    "    ## Set up the point reader\n",
    "    reader = TrajectoryPointReader()\n",
    "    reader.input = open(PATH, 'r')\n",
    "    reader.comment_character = '#'\n",
    "    reader.field_delimiter = ','\n",
    "    reader.null_value = 'NaN'\n",
    "    reader.object_id_column = 0\n",
    "    reader.timestamp_column = 3\n",
    "    reader.coordinates[0] = 1     # longitude\n",
    "    reader.coordinates[1] = 2     # latitude\n",
    "    \n",
    "    ## Put the point reader into the trajectoriesBuilder\n",
    "    builder = AssembleTrajectoryFromPoints()\n",
    "    builder.input = reader\n",
    "    builder.separation_time = None\n",
    "    return list(builder)\n",
    "\n",
    "trajectories = load_cars_trajectories(PATH)\n",
    "print(len(trajectories))"
   ]
  },
  {
   "cell_type": "markdown",
   "id": "0e17b00a-19e7-4761-9551-de5e9d39458e",
   "metadata": {},
   "source": [
    "### Speed Computation"
   ]
  },
  {
   "cell_type": "code",
   "execution_count": 14,
   "id": "8c33eca5-0992-4f65-a26f-d0429db4a456",
   "metadata": {},
   "outputs": [
    {
     "name": "stdout",
     "output_type": "stream",
     "text": [
      "\n",
      "measure 1\n",
      "0:00:26.181232\n",
      "\n",
      "measure 2\n",
      "0:00:26.008467\n",
      "\n",
      "measure 3\n",
      "0:00:26.224088\n",
      "\n",
      "measure 4\n",
      "0:00:26.210342\n",
      "\n",
      "measure 5\n",
      "0:00:26.096067\n",
      "\n",
      "all times: [26.18123197555542, 26.008466720581055, 26.224088430404663, 26.210341691970825, 26.096067190170288]\n",
      "times' outliers: 26.008466720581055 & 26.224088430404663\n",
      "benchmark time 26.16254695256551s or 0:00:26.162547\n"
     ]
    },
    {
     "data": {
      "text/plain": [
       "'\\nfor traj in trajectories:\\n    for trajectory_point in traj:\\n        object_id.append(trajectory_point.object_id)\\n        timestamp.append(trajectory_point.timestamp)\\n        longitude.append(trajectory_point[0])\\n        latitude.append(trajectory_point[1])\\n        speed.append(trajectory_point.properties[\"speed\"])\\n        if PATH == \"datasets/ships_sample.csv\":\\n            SOG.append(trajectory_point.properties[\"SOG\"])\\n            nav_stat.append(trajectory_point.properties[\"navigational status\"])     \\n            df = pandas.DataFrame({\"id\":object_id,\"timestamp\":timestamp,\"longitude\":longitude,\"latitude\":latitude,\"speed\":speed,\"SOG\":SOG,\"navigational status\":nav_stat})\\n        else:\\n            df = pandas.DataFrame({\"id\":object_id,\"timestamp\":timestamp,\"longitude\":longitude,\"latitude\":latitude,\"speed\":speed})\\ndf\\nprint(time.time()-tt)'"
      ]
     },
     "execution_count": 14,
     "metadata": {},
     "output_type": "execute_result"
    }
   ],
   "source": [
    "def speed_computation():\n",
    "    for traj in trajectories:\n",
    "        recompute_speed(traj)\n",
    "get_time(speed_computation)\n",
    "\n",
    "## There is not a good way to show the data, so we will put them into a pandas dataframe\n",
    "import pandas\n",
    "object_id    = []\n",
    "timestamp    = []\n",
    "longitude    = []\n",
    "latitude     = []\n",
    "speed        = []\n",
    "SOG          = []\n",
    "nav_stat     = []\n",
    "df = pandas.DataFrame()\n",
    "tt = time.time()\n",
    "\"\"\"\n",
    "for traj in trajectories:\n",
    "    for trajectory_point in traj:\n",
    "        object_id.append(trajectory_point.object_id)\n",
    "        timestamp.append(trajectory_point.timestamp)\n",
    "        longitude.append(trajectory_point[0])\n",
    "        latitude.append(trajectory_point[1])\n",
    "        speed.append(trajectory_point.properties[\"speed\"])\n",
    "        if PATH == \"datasets/ships_sample.csv\":\n",
    "            SOG.append(trajectory_point.properties[\"SOG\"])\n",
    "            nav_stat.append(trajectory_point.properties[\"navigational status\"])     \n",
    "            df = pandas.DataFrame({\"id\":object_id,\"timestamp\":timestamp,\"longitude\":longitude,\"latitude\":latitude,\"speed\":speed,\"SOG\":SOG,\"navigational status\":nav_stat})\n",
    "        else:\n",
    "            df = pandas.DataFrame({\"id\":object_id,\"timestamp\":timestamp,\"longitude\":longitude,\"latitude\":latitude,\"speed\":speed})\n",
    "df\n",
    "print(time.time()-tt)\"\"\""
   ]
  },
  {
   "cell_type": "code",
   "execution_count": 15,
   "id": "ffc1833f-5a0a-4d3d-9aae-c1af1a953f14",
   "metadata": {},
   "outputs": [
    {
     "data": {
      "text/html": [
       "<div>\n",
       "<style scoped>\n",
       "    .dataframe tbody tr th:only-of-type {\n",
       "        vertical-align: middle;\n",
       "    }\n",
       "\n",
       "    .dataframe tbody tr th {\n",
       "        vertical-align: top;\n",
       "    }\n",
       "\n",
       "    .dataframe thead th {\n",
       "        text-align: right;\n",
       "    }\n",
       "</style>\n",
       "<table border=\"1\" class=\"dataframe\">\n",
       "  <thead>\n",
       "    <tr style=\"text-align: right;\">\n",
       "      <th></th>\n",
       "    </tr>\n",
       "  </thead>\n",
       "  <tbody>\n",
       "  </tbody>\n",
       "</table>\n",
       "</div>"
      ],
      "text/plain": [
       "Empty DataFrame\n",
       "Columns: []\n",
       "Index: []"
      ]
     },
     "execution_count": 15,
     "metadata": {},
     "output_type": "execute_result"
    }
   ],
   "source": [
    "df"
   ]
  },
  {
   "cell_type": "markdown",
   "id": "b3abe02c-95d0-48ae-8ac1-80e31618a0c7",
   "metadata": {},
   "source": [
    "### Compression"
   ]
  },
  {
   "cell_type": "code",
   "execution_count": 16,
   "id": "073f63fe-4e0f-4f76-8486-35b862d4c287",
   "metadata": {},
   "outputs": [],
   "source": [
    "tolerance = 1.0 # meters"
   ]
  },
  {
   "cell_type": "code",
   "execution_count": 17,
   "id": "0be8e95e-dc68-42bd-a7c4-ea11d09189ef",
   "metadata": {},
   "outputs": [
    {
     "name": "stdout",
     "output_type": "stream",
     "text": [
      "\n",
      "measure 1\n",
      "0:00:48.048225\n",
      "\n",
      "measure 2\n",
      "0:00:48.024837\n",
      "\n",
      "measure 3\n",
      "0:00:48.033678\n",
      "\n",
      "measure 4\n",
      "0:00:47.997424\n",
      "\n",
      "measure 5\n",
      "0:00:48.004804\n",
      "\n",
      "all times: [48.04822516441345, 48.024837017059326, 48.03367805480957, 47.99742364883423, 48.004804372787476]\n",
      "times' outliers: 47.99742364883423 & 48.04822516441345\n",
      "benchmark time 48.021106481552124s or 0:00:48.021106\n"
     ]
    }
   ],
   "source": [
    "def compress_all(trajectories,tolerance):\n",
    "    for trajectory in trajectories:\n",
    "        compressed_traj = simplify(trajectory=trajectory, tolerance=tolerance / 111139)\n",
    "get_time(compress_all,{\"trajectories\":trajectories,\"tolerance\":tolerance})"
   ]
  },
  {
   "cell_type": "markdown",
   "id": "71c2e614-9171-4a78-9df5-0f2edf73ad67",
   "metadata": {},
   "source": [
    "### Visualisation"
   ]
  },
  {
   "cell_type": "code",
   "execution_count": null,
   "id": "46a699c8-f77d-4bf9-9b17-3f5e00b778ee",
   "metadata": {},
   "outputs": [
    {
     "name": "stdout",
     "output_type": "stream",
     "text": [
      "\n",
      "measure 1\n"
     ]
    }
   ],
   "source": [
    "get_time(render_trajectories,{\"trajectories\":trajectories})\n",
    "#render_trajectories(trajectories)"
   ]
  },
  {
   "cell_type": "code",
   "execution_count": null,
   "id": "f40e2855-2c59-4e40-9a45-addd4ee6d1be",
   "metadata": {},
   "outputs": [],
   "source": [
    "\n",
    "#render_trajectories(compressed_traj)"
   ]
  },
  {
   "cell_type": "code",
   "execution_count": null,
   "id": "0b0eddb6-de2b-4700-a01c-c6e926af2107",
   "metadata": {},
   "outputs": [],
   "source": []
  }
 ],
 "metadata": {
  "kernelspec": {
   "display_name": "Python 3 (ipykernel)",
   "language": "python",
   "name": "python3"
  },
  "language_info": {
   "codemirror_mode": {
    "name": "ipython",
    "version": 3
   },
   "file_extension": ".py",
   "mimetype": "text/x-python",
   "name": "python",
   "nbconvert_exporter": "python",
   "pygments_lexer": "ipython3",
   "version": "3.10.6"
  }
 },
 "nbformat": 4,
 "nbformat_minor": 5
}

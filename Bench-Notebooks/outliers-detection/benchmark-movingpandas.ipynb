{
 "cells": [
  {
   "attachments": {},
   "cell_type": "markdown",
   "id": "7fcc125d-ed88-4fb0-93f5-0f3e590edc4d",
   "metadata": {},
   "source": [
    "# Study of a more simple trajectory\n",
    "We will study a collection of 3 trajectories in order to compare the visualisation of each library"
   ]
  },
  {
   "cell_type": "code",
   "execution_count": 1,
   "id": "bbee8683-9870-41da-8093-db20bec59e3c",
   "metadata": {},
   "outputs": [],
   "source": [
    "\"\"\"\n",
    "Function to compute the execution time.\n",
    "\"\"\"\n",
    "from datetime import timedelta\n",
    "import time\n",
    "def get_time(f, kwargs={}):\n",
    "    times = []\n",
    "    result = None\n",
    "    for i in range(1):\n",
    "        print(\"\\nmeasure\",i+1)\n",
    "        t = time.time()\n",
    "        result = f(**kwargs)\n",
    "        res = time.time()-t\n",
    "        times.append(res)\n",
    "        print( timedelta(seconds=res))\n",
    "        if res > 3600*2:\n",
    "            print(\"trop de temps\")\n",
    "            return result\n",
    "        \n",
    "    print(\"\\nall times:\", times)\n",
    "    a = min(times)\n",
    "    b = max(times)\n",
    "    print(\"times' outliers:\",a,\"&\",b)\n",
    "    t = abs(sum(times)-a-b)/1\n",
    "    print(\"benchmark time\",str(t)+\"s\",\"or\", timedelta(seconds=t))\n",
    "    return result"
   ]
  },
  {
   "cell_type": "code",
   "execution_count": 2,
   "id": "efff0ea2-6100-44ee-89f8-cf36e98c6b9f",
   "metadata": {},
   "outputs": [],
   "source": [
    "import numpy as np\n",
    "import pandas as pd\n",
    "from geopandas import GeoDataFrame, read_file\n",
    "from shapely.geometry import Point, LineString, Polygon\n",
    "from datetime import datetime, timedelta\n",
    "import matplotlib.pyplot as plt\n",
    "import movingpandas as mpd\n",
    "#from holoviews import opts, dim\n",
    "# import hvplot\n",
    "import warnings\n",
    "warnings.simplefilter(\"ignore\")"
   ]
  },
  {
   "cell_type": "code",
   "execution_count": 3,
   "id": "7924b182-280c-4ceb-8d20-62f45a4b87f6",
   "metadata": {},
   "outputs": [],
   "source": [
    "SIZE = \"small\""
   ]
  },
  {
   "attachments": {},
   "cell_type": "markdown",
   "id": "e3f31f57-7c1c-4b63-b7ba-90b8cbda26a8",
   "metadata": {},
   "source": [
    "# Ships Trajectories"
   ]
  },
  {
   "cell_type": "code",
   "execution_count": 4,
   "id": "bdf10610-e5e9-4f6b-8613-62f4c4072d46",
   "metadata": {},
   "outputs": [],
   "source": [
    "PATH='../../datasets/ships_'+SIZE+'.csv'\n",
    "# PATH = \"result_ptrail.csv\"\n",
    "df = pd.read_csv(PATH)\n",
    "traj = mpd.TrajectoryCollection(data=df, traj_id_col='id', t='Timestamp', x='Longitude', y='Latitude')"
   ]
  },
  {
   "cell_type": "code",
   "execution_count": null,
   "id": "3a26ae85",
   "metadata": {},
   "outputs": [],
   "source": [
    "traj.to_point_gdf()"
   ]
  },
  {
   "attachments": {},
   "cell_type": "markdown",
   "id": "397d9243-5f18-4498-aee9-1dcfbef3a68c",
   "metadata": {
    "tags": []
   },
   "source": [
    "### Outlier Detection IQR"
   ]
  },
  {
   "cell_type": "code",
   "execution_count": null,
   "id": "0f0d1a5f-cb8d-4ff5-863a-af5ae126987e",
   "metadata": {},
   "outputs": [],
   "source": [
    "traj.add_speed(True)"
   ]
  },
  {
   "cell_type": "code",
   "execution_count": null,
   "id": "2d94da49",
   "metadata": {},
   "outputs": [],
   "source": [
    "cleaned_traj = get_time(mpd.IqrCleaner(traj).clean,{\"columns\":{'speed': 3}})"
   ]
  },
  {
   "cell_type": "code",
   "execution_count": null,
   "id": "df046c74-97bf-448f-ba6f-91f6d0c081a2",
   "metadata": {},
   "outputs": [],
   "source": [
    "print(\"nombre precedent de points:\", len(traj.to_point_gdf()))\n",
    "print(\"nombre de points retirés:\", len(traj.to_point_gdf())-len(cleaned_traj.to_point_gdf()), \"or\", len(df) - len(cleaned_traj.to_point_gdf()))\n",
    "print(\"nombre actuel de points:\", len(cleaned_traj.to_point_gdf()), cleaned_traj.to_point_gdf().shape)"
   ]
  },
  {
   "cell_type": "markdown",
   "id": "f482618d",
   "metadata": {},
   "source": [
    "### Outlier Detection speed Threshold"
   ]
  },
  {
   "cell_type": "code",
   "execution_count": 5,
   "id": "fa86ad65",
   "metadata": {},
   "outputs": [
    {
     "name": "stdout",
     "output_type": "stream",
     "text": [
      "\n",
      "measure 1\n",
      "211.2284290790558 and 137.58285641670227\n",
      "copy time 1.6927719116210938e-05\n",
      "0:03:32.256513\n",
      "\n",
      "all times: [212.25651264190674]\n",
      "times' outliers: 212.25651264190674 & 212.25651264190674\n",
      "benchmark time 212.25651264190674s or 0:03:32.256513\n"
     ]
    }
   ],
   "source": [
    "cleaned_traj = get_time(mpd.OutlierCleaner(traj).clean,{\"v_max\":73, \"units\":(\"m\", \"s\")})"
   ]
  },
  {
   "cell_type": "code",
   "execution_count": 6,
   "id": "7e1352ba",
   "metadata": {},
   "outputs": [
    {
     "name": "stdout",
     "output_type": "stream",
     "text": [
      "nombre precedent de points: 1208642\n",
      "nombre de points retirés: 249 or 37956\n",
      "nombre actuel de points: 1208393 (1208393, 7)\n"
     ]
    }
   ],
   "source": [
    "print(\"nombre precedent de points:\", len(traj.to_point_gdf()))\n",
    "print(\"nombre de points retirés:\", len(traj.to_point_gdf())-len(cleaned_traj.to_point_gdf()), \"or\", len(df) - len(cleaned_traj.to_point_gdf()))\n",
    "print(\"nombre actuel de points:\", len(cleaned_traj.to_point_gdf()), cleaned_traj.to_point_gdf().shape)"
   ]
  },
  {
   "cell_type": "code",
   "execution_count": null,
   "id": "42f1a544",
   "metadata": {},
   "outputs": [],
   "source": []
  },
  {
   "attachments": {},
   "cell_type": "markdown",
   "id": "e07ebd06-5a05-4124-a923-dad9d4e750d8",
   "metadata": {},
   "source": [
    "# cars trajectories"
   ]
  },
  {
   "cell_type": "code",
   "execution_count": null,
   "id": "139b329d-58b0-4368-98fb-685b089f6bee",
   "metadata": {},
   "outputs": [],
   "source": [
    "PATH='../datasets/cars_'+SIZE+'.csv'\n",
    "df = pd.read_csv(PATH)\n",
    "traj = mpd.TrajectoryCollection(data=df, traj_id_col='id', t='Timestamp', x='Longitude', y='Latitude')"
   ]
  },
  {
   "cell_type": "code",
   "execution_count": null,
   "id": "d25c451a",
   "metadata": {},
   "outputs": [],
   "source": [
    "traj.add_speed(True)\n",
    "cleaned_traj = mpd.OutlierCleaner(traj).clean({'speed': 1.5})"
   ]
  },
  {
   "cell_type": "code",
   "execution_count": null,
   "id": "aad21ae1",
   "metadata": {},
   "outputs": [],
   "source": [
    "print(\"nombre precedent de points:\", len(traj.to_point_gdf()))\n",
    "print(\"nombre de points retirés:\", len(traj.to_point_gdf())-len(cleaned_traj.to_point_gdf()))\n",
    "print(\"nombre actuel de points:\", len(cleaned_traj.to_point_gdf()), cleaned_traj.to_point_gdf().shape)"
   ]
  },
  {
   "attachments": {},
   "cell_type": "markdown",
   "id": "f11cf3fc",
   "metadata": {},
   "source": [
    "# Accuracy"
   ]
  },
  {
   "cell_type": "code",
   "execution_count": null,
   "id": "39aed379",
   "metadata": {},
   "outputs": [],
   "source": [
    "PATH=\"../Dataset/ground_truth_medium.csv\"\n",
    "df = pd.read_csv(PATH)\n",
    "df"
   ]
  }
 ],
 "metadata": {
  "kernelspec": {
   "display_name": "Python 3 (ipykernel)",
   "language": "python",
   "name": "python3"
  },
  "language_info": {
   "codemirror_mode": {
    "name": "ipython",
    "version": 3
   },
   "file_extension": ".py",
   "mimetype": "text/x-python",
   "name": "python",
   "nbconvert_exporter": "python",
   "pygments_lexer": "ipython3",
   "version": "3.10.12"
  }
 },
 "nbformat": 4,
 "nbformat_minor": 5
}

{
 "cells": [
  {
   "cell_type": "code",
   "execution_count": 1,
   "id": "c243f8f3-15b9-4b51-ab46-f9a0dd94130c",
   "metadata": {},
   "outputs": [],
   "source": [
    "\"\"\"\n",
    "Function to compute the execution time.\n",
    "\"\"\"\n",
    "from datetime import timedelta\n",
    "import time\n",
    "def get_time(f, kwargs={}):\n",
    "    times = []\n",
    "    result = None\n",
    "    for i in range(5):\n",
    "        print(\"\\nmeasure\",i+1)\n",
    "        t = time.time()\n",
    "        result = f(**kwargs)\n",
    "        times.append(time.time()-t)\n",
    "        \n",
    "    print(\"\\nall times:\", times)\n",
    "    a = min(times)\n",
    "    b = max(times)\n",
    "    print(\"times' outliers:\",a,\"&\",b)\n",
    "    t = (sum(times)-a-b)/3\n",
    "    print(\"benchmark time\",str(t)+\"s\",\"or\", timedelta(seconds=t))\n",
    "    return result"
   ]
  },
  {
   "cell_type": "code",
   "execution_count": 3,
   "id": "50465cec-ea22-44c3-bf68-75986a4c1d0f",
   "metadata": {},
   "outputs": [],
   "source": [
    "import matplotlib.pyplot as plt\n",
    "import pandas as pd\n",
    "from pymeos import *\n",
    "\n",
    "pymeos_initialize()"
   ]
  },
  {
   "cell_type": "code",
   "execution_count": 4,
   "id": "8900cc31-206a-4fe8-99bc-4e40a2a57c49",
   "metadata": {},
   "outputs": [],
   "source": [
    "SIZE = \"small\""
   ]
  },
  {
   "cell_type": "markdown",
   "id": "0c4709f6-c948-410f-b738-5e931423c7dd",
   "metadata": {},
   "source": [
    "# Ships Trajectories"
   ]
  },
  {
   "cell_type": "code",
   "execution_count": 5,
   "id": "8970cd75-3937-4f07-9c73-48db0f2553c7",
   "metadata": {},
   "outputs": [],
   "source": [
    "PATH='datasets/ships_'+SIZE+'.csv'"
   ]
  },
  {
   "cell_type": "code",
   "execution_count": 6,
   "id": "599665c9-f4a1-47e5-b58c-83724fb9abdd",
   "metadata": {},
   "outputs": [],
   "source": [
    "df = pd.read_csv(PATH)"
   ]
  },
  {
   "cell_type": "code",
   "execution_count": 8,
   "id": "a1273795-18ea-4413-9fee-eda15a2a2401",
   "metadata": {},
   "outputs": [
    {
     "data": {
      "text/html": [
       "<div>\n",
       "<style scoped>\n",
       "    .dataframe tbody tr th:only-of-type {\n",
       "        vertical-align: middle;\n",
       "    }\n",
       "\n",
       "    .dataframe tbody tr th {\n",
       "        vertical-align: top;\n",
       "    }\n",
       "\n",
       "    .dataframe thead th {\n",
       "        text-align: right;\n",
       "    }\n",
       "</style>\n",
       "<table border=\"1\" class=\"dataframe\">\n",
       "  <thead>\n",
       "    <tr style=\"text-align: right;\">\n",
       "      <th></th>\n",
       "      <th>Timestamp</th>\n",
       "      <th>id</th>\n",
       "      <th>SOG</th>\n",
       "      <th>ROT</th>\n",
       "      <th>Heading</th>\n",
       "      <th>Navigational status</th>\n",
       "      <th>Name</th>\n",
       "      <th>point</th>\n",
       "    </tr>\n",
       "  </thead>\n",
       "  <tbody>\n",
       "    <tr>\n",
       "      <th>0</th>\n",
       "      <td>2022-10-20 00:00:00</td>\n",
       "      <td>2190064</td>\n",
       "      <td>NaN</td>\n",
       "      <td>NaN</td>\n",
       "      <td>NaN</td>\n",
       "      <td>Unknown value</td>\n",
       "      <td>NaN</td>\n",
       "      <td>0101000020E6100000B9A5D590B85B4C4008C89750C109...</td>\n",
       "    </tr>\n",
       "    <tr>\n",
       "      <th>1</th>\n",
       "      <td>2022-10-20 00:00:10</td>\n",
       "      <td>2190064</td>\n",
       "      <td>NaN</td>\n",
       "      <td>NaN</td>\n",
       "      <td>NaN</td>\n",
       "      <td>Unknown value</td>\n",
       "      <td>NaN</td>\n",
       "      <td>0101000020E6100000B9A5D590B85B4C4008C89750C109...</td>\n",
       "    </tr>\n",
       "    <tr>\n",
       "      <th>3</th>\n",
       "      <td>2022-10-20 00:00:20</td>\n",
       "      <td>2190064</td>\n",
       "      <td>NaN</td>\n",
       "      <td>NaN</td>\n",
       "      <td>NaN</td>\n",
       "      <td>Unknown value</td>\n",
       "      <td>NaN</td>\n",
       "      <td>0101000020E6100000B9A5D590B85B4C4008C89750C109...</td>\n",
       "    </tr>\n",
       "    <tr>\n",
       "      <th>4</th>\n",
       "      <td>2022-10-20 00:00:30</td>\n",
       "      <td>2190064</td>\n",
       "      <td>NaN</td>\n",
       "      <td>NaN</td>\n",
       "      <td>NaN</td>\n",
       "      <td>Unknown value</td>\n",
       "      <td>NaN</td>\n",
       "      <td>0101000020E6100000B9A5D590B85B4C4008C89750C109...</td>\n",
       "    </tr>\n",
       "    <tr>\n",
       "      <th>6</th>\n",
       "      <td>2022-10-20 00:00:40</td>\n",
       "      <td>2190064</td>\n",
       "      <td>NaN</td>\n",
       "      <td>NaN</td>\n",
       "      <td>NaN</td>\n",
       "      <td>Unknown value</td>\n",
       "      <td>NaN</td>\n",
       "      <td>0101000020E6100000B9A5D590B85B4C4008C89750C109...</td>\n",
       "    </tr>\n",
       "  </tbody>\n",
       "</table>\n",
       "</div>"
      ],
      "text/plain": [
       "             Timestamp       id  SOG  ROT  Heading Navigational status Name  \\\n",
       "0  2022-10-20 00:00:00  2190064  NaN  NaN      NaN       Unknown value  NaN   \n",
       "1  2022-10-20 00:00:10  2190064  NaN  NaN      NaN       Unknown value  NaN   \n",
       "3  2022-10-20 00:00:20  2190064  NaN  NaN      NaN       Unknown value  NaN   \n",
       "4  2022-10-20 00:00:30  2190064  NaN  NaN      NaN       Unknown value  NaN   \n",
       "6  2022-10-20 00:00:40  2190064  NaN  NaN      NaN       Unknown value  NaN   \n",
       "\n",
       "                                               point  \n",
       "0  0101000020E6100000B9A5D590B85B4C4008C89750C109...  \n",
       "1  0101000020E6100000B9A5D590B85B4C4008C89750C109...  \n",
       "3  0101000020E6100000B9A5D590B85B4C4008C89750C109...  \n",
       "4  0101000020E6100000B9A5D590B85B4C4008C89750C109...  \n",
       "6  0101000020E6100000B9A5D590B85B4C4008C89750C109...  "
      ]
     },
     "execution_count": 8,
     "metadata": {},
     "output_type": "execute_result"
    }
   ],
   "source": [
    "df['point'] = df.apply(lambda row: TGeogPointInst(point=(row['Latitude'], row['Longitude']), timestamp=row['Timestamp']),axis=1)\n",
    "#df['SOG'] = df.apply(lambda row: TFloatInst(value=row['SOG']or -1, timestamp=row['Timestamp']), axis=1)\n",
    "df.drop(['Latitude', 'Longitude'], axis=1, inplace=True)\n",
    "df.drop_duplicates(subset=['Timestamp'],inplace=True)\n",
    "df.head()"
   ]
  },
  {
   "cell_type": "code",
   "execution_count": null,
   "id": "d69c6ef3-fe5c-4fcc-b217-d4c8c22bd20b",
   "metadata": {},
   "outputs": [],
   "source": [
    "trajectories = df.groupby('id').aggregate(\n",
    "    {\n",
    "        'point': TGeogPointSeq.from_instants,\n",
    "        #'sog': TFloatSeq.from_instants\n",
    "    }\n",
    ").rename({'point': 'trajectory'}, axis=1)\n",
    "trajectories['distance'] = trajectories['trajectory'].apply(lambda t: t.length())\n",
    "trajectories.head()\n",
    "\n"
   ]
  },
  {
   "cell_type": "markdown",
   "id": "e7aa5cd8-4925-4fea-9c94-b5424cea7575",
   "metadata": {},
   "source": [
    "### Speed computation"
   ]
  },
  {
   "cell_type": "markdown",
   "id": "eb4c2d4a-21e1-4304-9f27-dbb1cdf0f6b9",
   "metadata": {},
   "source": [
    "### Outlier detection"
   ]
  },
  {
   "cell_type": "markdown",
   "id": "f1a25e09-470a-4b6a-b046-767ac71a4c20",
   "metadata": {},
   "source": [
    "# cars trajectories"
   ]
  },
  {
   "cell_type": "markdown",
   "id": "bced01cc-6542-4ece-a0a4-da8952ad6c12",
   "metadata": {},
   "source": [
    "### Stop detection"
   ]
  },
  {
   "cell_type": "markdown",
   "id": "70e28bf5-e5a1-40f5-bf16-a97f6238015f",
   "metadata": {},
   "source": [
    "### Compression"
   ]
  },
  {
   "cell_type": "markdown",
   "id": "dbf54647-5aee-4d06-a6e6-eb4beaad0e38",
   "metadata": {},
   "source": [
    "### Visualisation"
   ]
  },
  {
   "cell_type": "code",
   "execution_count": null,
   "id": "f97c61dd-2e8d-4ba0-aeb9-e022b404fb0d",
   "metadata": {},
   "outputs": [],
   "source": [
    "trajectory = TGeomPointSeq(instant_list=[\n",
    "    TGeomPointInst(point=pg.Point(0, 0), timestamp=datetime_utc(2012, 1, 1, 8, 0)),\n",
    "    TGeomPointInst(point=pg.Point(2, 0), timestamp=datetime_utc(2012, 1, 1, 8, 10)),\n",
    "    TGeomPointInst(point=pg.Point(4, 0), timestamp=datetime_utc(2012, 1, 1, 8, 15)),\n",
    "    #TGeomPointInst(point=pg.Point(4, 0), timestamp=datetime_utc(2012, 1, 1, 8, 15)),\n",
    "    TGeomPointInst(point=pg.Point(6, 0), timestamp=datetime_utc(2012, 1, 1, 8, 17)),\n",
    "])\n",
    ",\n",
    "print(trajectory)\n",
    "print(trajectory.length())"
   ]
  },
  {
   "cell_type": "code",
   "execution_count": null,
   "id": "35260f7b-710e-4f42-ab79-96ee0d54f8af",
   "metadata": {},
   "outputs": [],
   "source": [
    "pymeos_finalize()"
   ]
  }
 ],
 "metadata": {
  "kernelspec": {
   "display_name": "Python 3 (ipykernel)",
   "language": "python",
   "name": "python3"
  },
  "language_info": {
   "codemirror_mode": {
    "name": "ipython",
    "version": 3
   },
   "file_extension": ".py",
   "mimetype": "text/x-python",
   "name": "python",
   "nbconvert_exporter": "python",
   "pygments_lexer": "ipython3",
   "version": "3.7.16"
  }
 },
 "nbformat": 4,
 "nbformat_minor": 5
}

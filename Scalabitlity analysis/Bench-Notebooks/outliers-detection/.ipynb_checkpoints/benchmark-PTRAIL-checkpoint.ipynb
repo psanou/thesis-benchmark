{
 "cells": [
  {
   "cell_type": "code",
   "execution_count": 1,
   "id": "ab6e0388-ada5-4956-afeb-0fc31502627d",
   "metadata": {},
   "outputs": [],
   "source": [
    "\"\"\"\n",
    "Function to compute the execution time.\n",
    "\"\"\"\n",
    "from datetime import timedelta\n",
    "import time\n",
    "def get_time(f, kwargs={}):\n",
    "    times = []\n",
    "    result = None\n",
    "    for i in range(1):\n",
    "        print(\"measure\",i+1)\n",
    "        t = time.time()\n",
    "        result = f(**kwargs)\n",
    "        times.append(time.time()-t)\n",
    "        \n",
    "    print(\"all times:\", times)\n",
    "    a = min(times)\n",
    "    b = max(times)\n",
    "    print(\"times' outliers:\",a,\"&\",b)\n",
    "    t = (sum(times)-a-b)/1\n",
    "    print(\"benchmark time\",str(t)+\"s\",\"or\", timedelta(seconds=t))\n",
    "    return result"
   ]
  },
  {
   "cell_type": "code",
   "execution_count": 2,
   "id": "e4b6ae8a-4c23-4674-8b82-4dfa34931529",
   "metadata": {},
   "outputs": [],
   "source": [
    "import pandas as pd\n",
    "from ptrail.core.TrajectoryDF import PTRAILDataFrame\n",
    "from ptrail.features.temporal_features import TemporalFeatures as temporal\n",
    "from ptrail.features.kinematic_features import KinematicFeatures as kinematic\n",
    "from ptrail.preprocessing.filters import Filters as filt\n",
    "from ptrail.visualization import TrajPlotter\n",
    "import ptrail.utilities.constants as const\n",
    "import numpy as np\n",
    "import folium"
   ]
  },
  {
   "cell_type": "code",
   "execution_count": null,
   "id": "17166d9e-45e9-4538-86b2-734fc3b6c4e6",
   "metadata": {},
   "outputs": [],
   "source": [
    "SIZE = \"small\""
   ]
  },
  {
   "cell_type": "code",
   "execution_count": 7,
   "id": "aa10229c",
   "metadata": {},
   "outputs": [
    {
     "name": "stdout",
     "output_type": "stream",
     "text": [
      "_validate_data_types time 0.48413586616516113\n"
     ]
    },
    {
     "data": {
      "text/html": [
       "<div>\n",
       "<style scoped>\n",
       "    .dataframe tbody tr th:only-of-type {\n",
       "        vertical-align: middle;\n",
       "    }\n",
       "\n",
       "    .dataframe tbody tr th {\n",
       "        vertical-align: top;\n",
       "    }\n",
       "\n",
       "    .dataframe thead th {\n",
       "        text-align: right;\n",
       "    }\n",
       "</style>\n",
       "<table border=\"1\" class=\"dataframe\">\n",
       "  <thead>\n",
       "    <tr style=\"text-align: right;\">\n",
       "      <th></th>\n",
       "      <th></th>\n",
       "      <th>Unnamed: 0</th>\n",
       "      <th>lat</th>\n",
       "      <th>lon</th>\n",
       "      <th>Speed</th>\n",
       "    </tr>\n",
       "    <tr>\n",
       "      <th>traj_id</th>\n",
       "      <th>DateTime</th>\n",
       "      <th></th>\n",
       "      <th></th>\n",
       "      <th></th>\n",
       "      <th></th>\n",
       "    </tr>\n",
       "  </thead>\n",
       "  <tbody>\n",
       "    <tr>\n",
       "      <th rowspan=\"5\" valign=\"top\">209276000</th>\n",
       "      <th>2022-10-20 00:00:00</th>\n",
       "      <td>111252</td>\n",
       "      <td>4.064668</td>\n",
       "      <td>54.010993</td>\n",
       "      <td>NaN</td>\n",
       "    </tr>\n",
       "    <tr>\n",
       "      <th>2022-10-20 00:00:10</th>\n",
       "      <td>111253</td>\n",
       "      <td>4.063667</td>\n",
       "      <td>54.010938</td>\n",
       "      <td>11.147317</td>\n",
       "    </tr>\n",
       "    <tr>\n",
       "      <th>2022-10-20 00:00:30</th>\n",
       "      <td>111254</td>\n",
       "      <td>4.061553</td>\n",
       "      <td>54.010822</td>\n",
       "      <td>11.770896</td>\n",
       "    </tr>\n",
       "    <tr>\n",
       "      <th>2022-10-20 00:00:40</th>\n",
       "      <td>111255</td>\n",
       "      <td>4.060653</td>\n",
       "      <td>54.010757</td>\n",
       "      <td>10.033479</td>\n",
       "    </tr>\n",
       "    <tr>\n",
       "      <th>2022-10-20 00:00:51</th>\n",
       "      <td>111256</td>\n",
       "      <td>4.059533</td>\n",
       "      <td>54.010690</td>\n",
       "      <td>11.341804</td>\n",
       "    </tr>\n",
       "    <tr>\n",
       "      <th>...</th>\n",
       "      <th>...</th>\n",
       "      <td>...</td>\n",
       "      <td>...</td>\n",
       "      <td>...</td>\n",
       "      <td>...</td>\n",
       "    </tr>\n",
       "    <tr>\n",
       "      <th rowspan=\"5\" valign=\"top\">992701002</th>\n",
       "      <th>2022-10-20 19:19:17</th>\n",
       "      <td>1208637</td>\n",
       "      <td>14.045087</td>\n",
       "      <td>50.658153</td>\n",
       "      <td>0.000000</td>\n",
       "    </tr>\n",
       "    <tr>\n",
       "      <th>2022-10-20 19:19:18</th>\n",
       "      <td>1208638</td>\n",
       "      <td>14.045087</td>\n",
       "      <td>50.658153</td>\n",
       "      <td>0.000000</td>\n",
       "    </tr>\n",
       "    <tr>\n",
       "      <th>2022-10-20 19:19:49</th>\n",
       "      <td>1208639</td>\n",
       "      <td>14.045087</td>\n",
       "      <td>50.658153</td>\n",
       "      <td>0.000000</td>\n",
       "    </tr>\n",
       "    <tr>\n",
       "      <th>2022-10-20 19:21:57</th>\n",
       "      <td>1208640</td>\n",
       "      <td>14.045087</td>\n",
       "      <td>50.658153</td>\n",
       "      <td>0.000000</td>\n",
       "    </tr>\n",
       "    <tr>\n",
       "      <th>2022-10-20 19:22:18</th>\n",
       "      <td>1208641</td>\n",
       "      <td>14.045087</td>\n",
       "      <td>50.658153</td>\n",
       "      <td>0.000000</td>\n",
       "    </tr>\n",
       "  </tbody>\n",
       "</table>\n",
       "<p>1208642 rows × 4 columns</p>\n",
       "</div>"
      ],
      "text/plain": [
       "                               Unnamed: 0        lat        lon      Speed\n",
       "traj_id   DateTime                                                        \n",
       "209276000 2022-10-20 00:00:00      111252   4.064668  54.010993        NaN\n",
       "          2022-10-20 00:00:10      111253   4.063667  54.010938  11.147317\n",
       "          2022-10-20 00:00:30      111254   4.061553  54.010822  11.770896\n",
       "          2022-10-20 00:00:40      111255   4.060653  54.010757  10.033479\n",
       "          2022-10-20 00:00:51      111256   4.059533  54.010690  11.341804\n",
       "...                                   ...        ...        ...        ...\n",
       "992701002 2022-10-20 19:19:17     1208637  14.045087  50.658153   0.000000\n",
       "          2022-10-20 19:19:18     1208638  14.045087  50.658153   0.000000\n",
       "          2022-10-20 19:19:49     1208639  14.045087  50.658153   0.000000\n",
       "          2022-10-20 19:21:57     1208640  14.045087  50.658153   0.000000\n",
       "          2022-10-20 19:22:18     1208641  14.045087  50.658153   0.000000\n",
       "\n",
       "[1208642 rows x 4 columns]"
      ]
     },
     "execution_count": 7,
     "metadata": {},
     "output_type": "execute_result"
    }
   ],
   "source": [
    "# PATH=\"../../datasets/ships_\"+SIZE+\".csv\"\n",
    "PATH = \"result_ptrail.csv\"\n",
    "df = pd.read_csv(PATH)\n",
    "#df\n",
    "# load trajectory in PTRAIL dataframe\n",
    "trajectory_df = PTRAILDataFrame(data_set = df, latitude='Latitude', longitude='Longitude', datetime='Timestamp', traj_id='id')\n",
    "trajectory_df"
   ]
  },
  {
   "cell_type": "markdown",
   "id": "f1a930c6-3581-42dd-923d-89ad4ca63f7b",
   "metadata": {},
   "source": [
    "### Outlier Detection on Ship dataset"
   ]
  },
  {
   "cell_type": "code",
   "execution_count": null,
   "id": "8ae68d30-2860-4912-8363-22a7f04e3f19",
   "metadata": {},
   "outputs": [],
   "source": [
    "# Outlier detection  with hampel\n",
    "cleaned_hampel = get_time(filt.hampel_outlier_detection,{\"dataframe\":trajectory_df, \"column_name\":'lon'})\n",
    "cleaned_hampel = get_time(filt.hampel_outlier_detection,{\"dataframe\":cleaned_hampel, \"column_name\":'lat'})"
   ]
  },
  {
   "cell_type": "code",
   "execution_count": null,
   "id": "9f0a2a60-a59b-4ac0-b37f-22b37d8d6215",
   "metadata": {},
   "outputs": [],
   "source": [
    "print(f\"Length of original: {len(trajectory_df)}\")\n",
    "print(f\"Length after outlier removal: {len(cleaned_hampel)}\")\n",
    "print(f\"Number of points removed: {len(trajectory_df) - len(cleaned_hampel)}\")"
   ]
  },
  {
   "cell_type": "code",
   "execution_count": 8,
   "id": "57f1d4b7-b2b6-471c-905e-4d2dd2196d91",
   "metadata": {},
   "outputs": [
    {
     "name": "stdout",
     "output_type": "stream",
     "text": [
      "measure 1\n",
      "all times: [0.13019466400146484]\n",
      "times' outliers: 0.13019466400146484 & 0.13019466400146484\n",
      "benchmark time -0.13019466400146484s or -1 day, 23:59:59.869805\n"
     ]
    }
   ],
   "source": [
    "# outlier detection with interquatile\n",
    "#trajectory_df = kinematic.create_speed_column(trajectory_df)\n",
    "cleaned_iqr = get_time(filt.filter_outliers_by_consecutive_speed,{\"dataframe\":trajectory_df})"
   ]
  },
  {
   "cell_type": "code",
   "execution_count": 9,
   "id": "bf54936b-368b-48e8-844d-0f8a63907fb4",
   "metadata": {},
   "outputs": [
    {
     "name": "stdout",
     "output_type": "stream",
     "text": [
      "Length of original: 1208642\n",
      "Length after outlier removal: 1171945\n",
      "Number of points removed: 36697\n"
     ]
    }
   ],
   "source": [
    "print(f\"Length of original: {len(trajectory_df)}\")\n",
    "print(f\"Length after outlier removal: {len(cleaned_iqr)}\")\n",
    "print(f\"Number of points removed: {len(trajectory_df) - len(cleaned_iqr)}\")"
   ]
  },
  {
   "cell_type": "code",
   "execution_count": 6,
   "id": "c50bc60d",
   "metadata": {},
   "outputs": [],
   "source": [
    "trajectory_df.to_csv(\"result_ptrail.csv\")"
   ]
  },
  {
   "cell_type": "markdown",
   "id": "39fe5506-dd17-420d-bbe1-40cad3c9bd9e",
   "metadata": {},
   "source": [
    "### Outlier Detection on Car dataset"
   ]
  },
  {
   "cell_type": "code",
   "execution_count": null,
   "id": "51b51dbc-c4ac-4d81-8999-1eb0464f04be",
   "metadata": {},
   "outputs": [],
   "source": [
    "PATH=\"datasets/cars_\"+SIZE+\".csv\"\n",
    "df = pd.read_csv(PATH)\n",
    "trajectory_df = PTRAILDataFrame(data_set = df, latitude='Latitude', longitude='Longitude', datetime='Timestamp', traj_id='id')"
   ]
  },
  {
   "cell_type": "code",
   "execution_count": null,
   "id": "03e75cd2",
   "metadata": {},
   "outputs": [],
   "source": [
    "# Outlier detection with hampel\n",
    "cleaned_hampel = filt.hampel_outlier_detection(trajectory_df, 'lon')\n",
    "cleaned_hampel = filt.hampel_outlier_detection(cleaned_hampel, 'lat')"
   ]
  },
  {
   "cell_type": "code",
   "execution_count": null,
   "id": "6202e74f",
   "metadata": {},
   "outputs": [],
   "source": [
    "print(f\"Length of original: {len(trajectory_df)}\")\n",
    "print(f\"Length after outlier removal: {len(cleaned_hampel)}\")\n",
    "print(f\"Number of points removed: {len(trajectory_df) - len(cleaned_hampel)}\")"
   ]
  },
  {
   "cell_type": "code",
   "execution_count": null,
   "id": "9af42632",
   "metadata": {},
   "outputs": [],
   "source": [
    "# outlier detection with interquatile\n",
    "cleaned_iqr = filt.filter_outliers_by_consecutive_speed(trajectory_df)"
   ]
  },
  {
   "cell_type": "code",
   "execution_count": null,
   "id": "f0c73173",
   "metadata": {},
   "outputs": [],
   "source": [
    "print(f\"Length of original: {len(trajectory_df)}\")\n",
    "print(f\"Length after outlier removal: {len(cleaned_iqr)}\")\n",
    "print(f\"Number of points removed: {len(trajectory_df) - len(cleaned_iqr)}\")"
   ]
  },
  {
   "cell_type": "code",
   "execution_count": null,
   "id": "4e436484",
   "metadata": {},
   "outputs": [],
   "source": []
  },
  {
   "cell_type": "markdown",
   "id": "2ab805ca-df70-4a7b-be60-b2fc0981fcc0",
   "metadata": {
    "tags": []
   },
   "source": [
    "# Accuracy"
   ]
  },
  {
   "cell_type": "code",
   "execution_count": null,
   "id": "afce1192-895b-488e-9fe5-b978686b4a55",
   "metadata": {},
   "outputs": [],
   "source": [
    "PATH=\"../Dataset/ground_truth_medium.csv\"\n",
    "df = pd.read_csv(PATH)\n",
    "df"
   ]
  },
  {
   "cell_type": "code",
   "execution_count": null,
   "id": "1f73fecb-7a0e-4712-845e-59044b536e91",
   "metadata": {},
   "outputs": [],
   "source": [
    "df[df[\"diff\"] < 15]"
   ]
  },
  {
   "cell_type": "code",
   "execution_count": null,
   "id": "8c7b1c39-eaf2-4f94-bce0-0a7f6840d9e7",
   "metadata": {},
   "outputs": [],
   "source": []
  }
 ],
 "metadata": {
  "kernelspec": {
   "display_name": "Python 3 (ipykernel)",
   "language": "python",
   "name": "python3"
  },
  "language_info": {
   "codemirror_mode": {
    "name": "ipython",
    "version": 3
   },
   "file_extension": ".py",
   "mimetype": "text/x-python",
   "name": "python",
   "nbconvert_exporter": "python",
   "pygments_lexer": "ipython3",
   "version": "3.10.12"
  }
 },
 "nbformat": 4,
 "nbformat_minor": 5
}

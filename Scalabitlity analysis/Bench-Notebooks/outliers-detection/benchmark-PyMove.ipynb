{
 "cells": [
  {
   "cell_type": "code",
   "execution_count": 1,
   "id": "c243f8f3-15b9-4b51-ab46-f9a0dd94130c",
   "metadata": {},
   "outputs": [],
   "source": [
    "\"\"\"\n",
    "Function to compute the execution time.\n",
    "\"\"\"\n",
    "from datetime import timedelta\n",
    "import time\n",
    "def get_time(f, kwargs={}):\n",
    "    times = []\n",
    "    result = None\n",
    "    for i in range(1):\n",
    "        print(\"\\nmeasure\",i+1)\n",
    "        t = time.time()\n",
    "        result = f(**kwargs)\n",
    "        res = time.time()-t\n",
    "        times.append(res)\n",
    "        print( timedelta(seconds=res))\n",
    "        if res > 3600:\n",
    "            print(\"trop de temps\")\n",
    "            return result\n",
    "        \n",
    "    print(\"\\nall times:\", times)\n",
    "    a = min(times)\n",
    "    b = max(times)\n",
    "    print(\"times' outliers:\",a,\"&\",b)\n",
    "    t = abs(sum(times)-a-b)/1\n",
    "    print(\"benchmark time\",str(t)+\"s\",\"or\", timedelta(seconds=t))\n",
    "    return result"
   ]
  },
  {
   "cell_type": "code",
   "execution_count": 2,
   "id": "6cf12847-e649-479e-b2a4-58730db8a2c7",
   "metadata": {},
   "outputs": [],
   "source": [
    "import pandas as pd\n",
    "import pymove as pm\n",
    "from pymove import MoveDataFrame\n",
    "from pymove import filters\n",
    "import pymove as pm\n",
    "from pymove.visualization import folium as f, matplotlib as mpl\n",
    "from pymove.utils import visual\n",
    "from pymove.preprocessing import stay_point_detection, compression, segmentation"
   ]
  },
  {
   "cell_type": "code",
   "execution_count": 9,
   "id": "8900cc31-206a-4fe8-99bc-4e40a2a57c49",
   "metadata": {},
   "outputs": [],
   "source": [
    "SIZE = \"large\""
   ]
  },
  {
   "cell_type": "markdown",
   "id": "0c4709f6-c948-410f-b738-5e931423c7dd",
   "metadata": {},
   "source": [
    "# Ships Trajectories"
   ]
  },
  {
   "cell_type": "code",
   "execution_count": 10,
   "id": "fb48cb02-b626-42fd-aae8-270615324066",
   "metadata": {},
   "outputs": [],
   "source": [
    "PATH = '../../datasets/ships_'+SIZE+'.csv'\n",
    "tdf = pd.read_csv(PATH)\n",
    "move_df = MoveDataFrame(data=tdf, latitude=\"Latitude\", longitude=\"Longitude\", datetime=\"Timestamp\", traj_id=\"id\")"
   ]
  },
  {
   "cell_type": "code",
   "execution_count": 11,
   "id": "8735a67a-6d75-4a95-b7c5-7fa8749bf407",
   "metadata": {},
   "outputs": [
    {
     "name": "stdout",
     "output_type": "stream",
     "text": [
      "\n",
      "measure 1\n",
      "is sorted True\n"
     ]
    },
    {
     "data": {
      "application/vnd.jupyter.widget-view+json": {
       "model_id": "2bbef321b8f84f9683b3c447ef8d9529",
       "version_major": 2,
       "version_minor": 0
      },
      "text/plain": [
       "VBox(children=(HTML(value=''), IntProgress(value=0, max=4294)))"
      ]
     },
     "metadata": {},
     "output_type": "display_data"
    },
    {
     "name": "stdout",
     "output_type": "stream",
     "text": [
      "generate_dist_time_speed_feature time: 481.62845611572266 with 150.31397414207458 151.5313413143158 154.7847945690155\n",
      "0:08:10.996157\n",
      "\n",
      "all times: [490.99615716934204]\n",
      "times' outliers: 490.99615716934204 & 490.99615716934204\n",
      "benchmark time 490.99615716934204s or 0:08:10.996157\n"
     ]
    }
   ],
   "source": [
    "clean_traj = get_time(filters.clean_gps_speed_max_radius,{\"move_data\":move_df,\"speed_max\":73})"
   ]
  },
  {
   "cell_type": "code",
   "execution_count": 6,
   "id": "253b6f7c-6ea4-4648-8585-d09ceb002fe6",
   "metadata": {
    "tags": []
   },
   "outputs": [
    {
     "name": "stdout",
     "output_type": "stream",
     "text": [
      "nombre precedent de points: 9924819\n",
      "nombre de points retirés: 62581\n",
      "nombre actuel de points: 9862238 (9862238, 12)\n"
     ]
    }
   ],
   "source": [
    "print(\"nombre precedent de points:\", len(move_df))\n",
    "print(\"nombre de points retirés:\", len(move_df)-len(clean_traj))\n",
    "print(\"nombre actuel de points:\", len(clean_traj), clean_traj.shape)"
   ]
  },
  {
   "cell_type": "markdown",
   "id": "f1a25e09-470a-4b6a-b046-767ac71a4c20",
   "metadata": {},
   "source": [
    "# cars trajectories"
   ]
  },
  {
   "cell_type": "code",
   "execution_count": null,
   "id": "6b6aefcb-36e3-427e-9374-1b701788c361",
   "metadata": {},
   "outputs": [],
   "source": [
    "PATH = '../datasets/ships_'+SIZE+'.csv'\n",
    "tdf = pd.read_csv(PATH)\n",
    "move_df = MoveDataFrame(data=tdf, latitude=\"Latitude\", longitude=\"Longitude\", datetime=\"Timestamp\", traj_id=\"id\")"
   ]
  },
  {
   "cell_type": "code",
   "execution_count": null,
   "id": "8ffa2fdc-45bd-4c83-b495-0b7cf710029c",
   "metadata": {},
   "outputs": [],
   "source": [
    "clean_traj = filters.clean_gps_speed_max_radius(move_df,speed_max=73)"
   ]
  },
  {
   "cell_type": "code",
   "execution_count": null,
   "id": "d46ef256-8813-41c7-a38d-7b25d17aa455",
   "metadata": {},
   "outputs": [],
   "source": [
    "print(\"nombre precedent de points:\", len(move_df))\n",
    "print(\"nombre de points retirés:\", len(move_df)-len(clean_traj))\n",
    "print(\"nombre actuel de points:\", len(clean_traj), clean_traj.shape)"
   ]
  },
  {
   "cell_type": "markdown",
   "id": "68055187",
   "metadata": {},
   "source": [
    "# Accuracy"
   ]
  },
  {
   "cell_type": "code",
   "execution_count": null,
   "id": "e762d237",
   "metadata": {},
   "outputs": [],
   "source": [
    "PATH=\"../Dataset/ground_truth_medium.csv\"\n",
    "df = pd.read_csv(PATH)\n",
    "df"
   ]
  },
  {
   "cell_type": "code",
   "execution_count": null,
   "id": "9b684fed",
   "metadata": {},
   "outputs": [],
   "source": []
  },
  {
   "cell_type": "code",
   "execution_count": 14,
   "id": "6b7f67c6",
   "metadata": {},
   "outputs": [
    {
     "data": {
      "text/html": [
       "<div>\n",
       "<style scoped>\n",
       "    .dataframe tbody tr th:only-of-type {\n",
       "        vertical-align: middle;\n",
       "    }\n",
       "\n",
       "    .dataframe tbody tr th {\n",
       "        vertical-align: top;\n",
       "    }\n",
       "\n",
       "    .dataframe thead th {\n",
       "        text-align: right;\n",
       "    }\n",
       "</style>\n",
       "<table border=\"1\" class=\"dataframe\">\n",
       "  <thead>\n",
       "    <tr style=\"text-align: right;\">\n",
       "      <th></th>\n",
       "      <th>a</th>\n",
       "      <th>b</th>\n",
       "      <th>c</th>\n",
       "      <th>d</th>\n",
       "      <th>e</th>\n",
       "      <th>f</th>\n",
       "    </tr>\n",
       "  </thead>\n",
       "  <tbody>\n",
       "    <tr>\n",
       "      <th>8785</th>\n",
       "      <td>0.429453</td>\n",
       "      <td>0.866585</td>\n",
       "      <td>0.062803</td>\n",
       "      <td>0.878495</td>\n",
       "      <td>0.728496</td>\n",
       "      <td>0.662191</td>\n",
       "    </tr>\n",
       "    <tr>\n",
       "      <th>8182</th>\n",
       "      <td>0.676019</td>\n",
       "      <td>0.920502</td>\n",
       "      <td>0.772182</td>\n",
       "      <td>0.152728</td>\n",
       "      <td>0.244645</td>\n",
       "      <td>0.954447</td>\n",
       "    </tr>\n",
       "    <tr>\n",
       "      <th>5233</th>\n",
       "      <td>0.717075</td>\n",
       "      <td>0.819740</td>\n",
       "      <td>0.033159</td>\n",
       "      <td>0.485639</td>\n",
       "      <td>0.555839</td>\n",
       "      <td>0.333132</td>\n",
       "    </tr>\n",
       "    <tr>\n",
       "      <th>3257</th>\n",
       "      <td>0.151640</td>\n",
       "      <td>0.902343</td>\n",
       "      <td>0.910556</td>\n",
       "      <td>0.424293</td>\n",
       "      <td>0.738306</td>\n",
       "      <td>0.012611</td>\n",
       "    </tr>\n",
       "    <tr>\n",
       "      <th>7070</th>\n",
       "      <td>0.421645</td>\n",
       "      <td>0.319648</td>\n",
       "      <td>0.501187</td>\n",
       "      <td>0.179064</td>\n",
       "      <td>0.786244</td>\n",
       "      <td>0.398754</td>\n",
       "    </tr>\n",
       "    <tr>\n",
       "      <th>...</th>\n",
       "      <td>...</td>\n",
       "      <td>...</td>\n",
       "      <td>...</td>\n",
       "      <td>...</td>\n",
       "      <td>...</td>\n",
       "      <td>...</td>\n",
       "    </tr>\n",
       "    <tr>\n",
       "      <th>2245</th>\n",
       "      <td>0.547284</td>\n",
       "      <td>0.990424</td>\n",
       "      <td>0.682839</td>\n",
       "      <td>0.665906</td>\n",
       "      <td>0.734206</td>\n",
       "      <td>0.863924</td>\n",
       "    </tr>\n",
       "    <tr>\n",
       "      <th>636</th>\n",
       "      <td>0.914626</td>\n",
       "      <td>0.170566</td>\n",
       "      <td>0.349838</td>\n",
       "      <td>0.589520</td>\n",
       "      <td>0.681354</td>\n",
       "      <td>0.885922</td>\n",
       "    </tr>\n",
       "    <tr>\n",
       "      <th>4239</th>\n",
       "      <td>0.803029</td>\n",
       "      <td>0.749004</td>\n",
       "      <td>0.858363</td>\n",
       "      <td>0.949479</td>\n",
       "      <td>0.011558</td>\n",
       "      <td>0.663391</td>\n",
       "    </tr>\n",
       "    <tr>\n",
       "      <th>9341</th>\n",
       "      <td>0.581181</td>\n",
       "      <td>0.428777</td>\n",
       "      <td>0.846920</td>\n",
       "      <td>0.155501</td>\n",
       "      <td>0.316032</td>\n",
       "      <td>0.441735</td>\n",
       "    </tr>\n",
       "    <tr>\n",
       "      <th>7015</th>\n",
       "      <td>0.051870</td>\n",
       "      <td>0.682649</td>\n",
       "      <td>0.413417</td>\n",
       "      <td>0.301283</td>\n",
       "      <td>0.235949</td>\n",
       "      <td>0.638535</td>\n",
       "    </tr>\n",
       "  </tbody>\n",
       "</table>\n",
       "<p>1000000 rows × 6 columns</p>\n",
       "</div>"
      ],
      "text/plain": [
       "             a         b         c         d         e         f\n",
       "8785  0.429453  0.866585  0.062803  0.878495  0.728496  0.662191\n",
       "8182  0.676019  0.920502  0.772182  0.152728  0.244645  0.954447\n",
       "5233  0.717075  0.819740  0.033159  0.485639  0.555839  0.333132\n",
       "3257  0.151640  0.902343  0.910556  0.424293  0.738306  0.012611\n",
       "7070  0.421645  0.319648  0.501187  0.179064  0.786244  0.398754\n",
       "...        ...       ...       ...       ...       ...       ...\n",
       "2245  0.547284  0.990424  0.682839  0.665906  0.734206  0.863924\n",
       "636   0.914626  0.170566  0.349838  0.589520  0.681354  0.885922\n",
       "4239  0.803029  0.749004  0.858363  0.949479  0.011558  0.663391\n",
       "9341  0.581181  0.428777  0.846920  0.155501  0.316032  0.441735\n",
       "7015  0.051870  0.682649  0.413417  0.301283  0.235949  0.638535\n",
       "\n",
       "[1000000 rows x 6 columns]"
      ]
     },
     "execution_count": 14,
     "metadata": {},
     "output_type": "execute_result"
    }
   ],
   "source": [
    "import numpy as np\n",
    "df = pd.DataFrame(np.random.rand(10**6,6), columns=list('abcdef'), index=np.random.randint(0, 10000, 10**6))\n",
    "df"
   ]
  },
  {
   "cell_type": "code",
   "execution_count": 21,
   "id": "8f6e26aa",
   "metadata": {},
   "outputs": [
    {
     "name": "stdout",
     "output_type": "stream",
     "text": [
      "CPU times: user 1min 25s, sys: 112 ms, total: 1min 26s\n",
      "Wall time: 1min 26s\n"
     ]
    }
   ],
   "source": [
    "%%time \n",
    "for i in range(4294*5):\n",
    "    df.loc[np.random.randint(0, 10**4),\"b\"] = 5"
   ]
  },
  {
   "cell_type": "code",
   "execution_count": null,
   "id": "615c6aef",
   "metadata": {},
   "outputs": [],
   "source": []
  }
 ],
 "metadata": {
  "kernelspec": {
   "display_name": "Python 3 (ipykernel)",
   "language": "python",
   "name": "python3"
  },
  "language_info": {
   "codemirror_mode": {
    "name": "ipython",
    "version": 3
   },
   "file_extension": ".py",
   "mimetype": "text/x-python",
   "name": "python",
   "nbconvert_exporter": "python",
   "pygments_lexer": "ipython3",
   "version": "3.7.16"
  }
 },
 "nbformat": 4,
 "nbformat_minor": 5
}

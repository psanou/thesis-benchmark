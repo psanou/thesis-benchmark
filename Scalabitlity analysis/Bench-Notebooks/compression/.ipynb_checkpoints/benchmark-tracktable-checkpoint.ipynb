{
 "cells": [
  {
   "cell_type": "code",
   "execution_count": 1,
   "id": "7e1108b3-103f-4614-b93a-65f236a0ac3e",
   "metadata": {},
   "outputs": [],
   "source": [
    "\"\"\"\n",
    "Function to compute the execution time.\n",
    "\"\"\"\n",
    "from datetime import timedelta\n",
    "import time\n",
    "def get_time(f, kwargs={}):\n",
    "    times = []\n",
    "    result = None\n",
    "    for i in range(1):\n",
    "        print(\"\\nmeasure\",i+1)\n",
    "        t = time.time()\n",
    "        result = f(**kwargs)\n",
    "        res = time.time()-t\n",
    "        times.append(res)\n",
    "        print( timedelta(seconds=res))\n",
    "        if res > 3600*2:\n",
    "            print(\"trop de temps\")\n",
    "            return result\n",
    "        \n",
    "    print(\"\\nall times:\", times)\n",
    "    a = min(times)\n",
    "    b = max(times)\n",
    "    print(\"times' outliers:\",a,\"&\",b)\n",
    "    t = abs(sum(times)-a-b)/1\n",
    "    print(\"benchmark time\",str(t)+\"s\",\"or\", timedelta(seconds=t))\n",
    "    return result"
   ]
  },
  {
   "cell_type": "code",
   "execution_count": 2,
   "id": "579b9916-4f11-4d4b-a464-56669f84439d",
   "metadata": {},
   "outputs": [
    {
     "name": "stderr",
     "output_type": "stream",
     "text": [
      "INFO:numexpr.utils:NumExpr defaulting to 4 threads.\n"
     ]
    }
   ],
   "source": [
    "from tracktable.domain.terrestrial import TrajectoryPointReader\n",
    "from tracktable.render.render_trajectories import render_trajectories, render_trajectories_separate\n",
    "from tracktable.applications.assemble_trajectories import AssembleTrajectoryFromPoints\n",
    "from tracktable.core.geomath import length, recompute_speed, simplify\n",
    "import pandas as pd"
   ]
  },
  {
   "cell_type": "code",
   "execution_count": 3,
   "id": "9c00e773-6b4b-4717-83ac-a6a31a9c0340",
   "metadata": {},
   "outputs": [],
   "source": [
    "SIZE = \"sample_\""
   ]
  },
  {
   "cell_type": "markdown",
   "id": "1c07be55-60cb-488b-9a21-2a96576987f9",
   "metadata": {},
   "source": [
    "# Ships Trajectories"
   ]
  },
  {
   "cell_type": "markdown",
   "id": "402e5924-cb25-4408-acbb-228918a556cc",
   "metadata": {},
   "source": [
    "### Trajectories loading"
   ]
  },
  {
   "cell_type": "code",
   "execution_count": 4,
   "id": "b43c824a",
   "metadata": {},
   "outputs": [
    {
     "name": "stdout",
     "output_type": "stream",
     "text": [
      "ok0\n"
     ]
    }
   ],
   "source": [
    "PATH = \"/home/pierre-cedric/Bureau/MEMO-F524/datasets/cars_small.csv\"\n",
    "f= open(PATH, 'r')\n",
    "print(\"ok0\")"
   ]
  },
  {
   "cell_type": "code",
   "execution_count": 5,
   "id": "3ea2a2f8-f451-4a3c-ba9c-9d80a93266a1",
   "metadata": {},
   "outputs": [],
   "source": [
    "def load_cars_trajectories(PATH,f):\n",
    "    ## Set up the point reader\n",
    "    print(888)\n",
    "    reader = TrajectoryPointReader()\n",
    "    print(\"ok!\")\n",
    "    reader.input = f\n",
    "    print(\"ouvert!\")\n",
    "    reader.comment_character = '#'\n",
    "    reader.field_delimiter = ','\n",
    "    reader.null_value = 'NaN'\n",
    "    reader.object_id_column = 1\n",
    "    reader.timestamp_column = 2\n",
    "    reader.coordinates[0] = 3     # longitude\n",
    "    reader.coordinates[1] = 4     # latitude\n",
    "    \n",
    "    ## Put the point reader into the trajectoriesBuilder\n",
    "    builder = AssembleTrajectoryFromPoints()\n",
    "    builder.input = reader\n",
    "    builder.separation_time = None\n",
    "    print(\"time to build\")\n",
    "    return list(reader)\n",
    "\n",
    "trajectories = load_cars_trajectories(PATH,f)"
   ]
  },
  {
   "cell_type": "code",
   "execution_count": 10,
   "id": "d619cd7e-4b01-40dd-9136-0eca9b8181c4",
   "metadata": {},
   "outputs": [
    {
     "ename": "TypeError",
     "evalue": "object of type 'NoneType' has no len()",
     "output_type": "error",
     "traceback": [
      "\u001b[0;31m---------------------------------------------------------------------------\u001b[0m",
      "\u001b[0;31mTypeError\u001b[0m                                 Traceback (most recent call last)",
      "Cell \u001b[0;32mIn[10], line 1\u001b[0m\n\u001b[0;32m----> 1\u001b[0m \u001b[38;5;28mprint\u001b[39m(\u001b[38;5;28;43mlen\u001b[39;49m\u001b[43m(\u001b[49m\u001b[43mtrajectories\u001b[49m\u001b[43m)\u001b[49m)\n",
      "\u001b[0;31mTypeError\u001b[0m: object of type 'NoneType' has no len()"
     ]
    }
   ],
   "source": [
    "print(len(trajectories))"
   ]
  },
  {
   "cell_type": "code",
   "execution_count": null,
   "id": "fcca29eb",
   "metadata": {},
   "outputs": [
    {
     "name": "stdout",
     "output_type": "stream",
     "text": [
      "ok\n"
     ]
    }
   ],
   "source": [
    "print(\"ok\")"
   ]
  },
  {
   "cell_type": "code",
   "execution_count": null,
   "id": "38e2bf29",
   "metadata": {},
   "outputs": [
    {
     "data": {
      "text/plain": [
       "9960"
      ]
     },
     "execution_count": 16,
     "metadata": {},
     "output_type": "execute_result"
    }
   ],
   "source": [
    "len(trajectories[7])"
   ]
  },
  {
   "cell_type": "markdown",
   "id": "b3abe02c-95d0-48ae-8ac1-80e31618a0c7",
   "metadata": {},
   "source": [
    "### Compression"
   ]
  },
  {
   "cell_type": "code",
   "execution_count": null,
   "id": "073f63fe-4e0f-4f76-8486-35b862d4c287",
   "metadata": {},
   "outputs": [],
   "source": [
    "tolerance = 1.0 # meters"
   ]
  },
  {
   "cell_type": "code",
   "execution_count": null,
   "id": "0be8e95e-dc68-42bd-a7c4-ea11d09189ef",
   "metadata": {},
   "outputs": [
    {
     "name": "stdout",
     "output_type": "stream",
     "text": [
      "\n",
      "measure 1\n",
      "size after compress 17154\n",
      "0:00:06.156758\n",
      "\n",
      "all times: [6.1567583084106445]\n",
      "times' outliers: 6.1567583084106445 & 6.1567583084106445\n",
      "benchmark time 6.1567583084106445s or 0:00:06.156758\n"
     ]
    }
   ],
   "source": [
    "def compress_all(trajectories,tolerance):\n",
    "    n = 0\n",
    "    for trajectory in trajectories:\n",
    "        compressed_traj = simplify(trajectory=trajectory, tolerance=tolerance / 111139)\n",
    "        n += len(compressed_traj)\n",
    "    print(\"size after compress\", n)\n",
    "get_time(compress_all,{\"trajectories\":trajectories,\"tolerance\":tolerance})"
   ]
  }
 ],
 "metadata": {
  "kernelspec": {
   "display_name": "Python 3 (ipykernel)",
   "language": "python",
   "name": "python3"
  },
  "language_info": {
   "codemirror_mode": {
    "name": "ipython",
    "version": 3
   },
   "file_extension": ".py",
   "mimetype": "text/x-python",
   "name": "python",
   "nbconvert_exporter": "python",
   "pygments_lexer": "ipython3",
   "version": "3.8.16"
  }
 },
 "nbformat": 4,
 "nbformat_minor": 5
}

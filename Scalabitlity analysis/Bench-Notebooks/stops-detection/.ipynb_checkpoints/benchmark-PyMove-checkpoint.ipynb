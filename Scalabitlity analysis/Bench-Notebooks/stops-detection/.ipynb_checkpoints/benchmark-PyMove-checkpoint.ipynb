{
 "cells": [
  {
   "cell_type": "code",
   "execution_count": null,
   "id": "c243f8f3-15b9-4b51-ab46-f9a0dd94130c",
   "metadata": {},
   "outputs": [],
   "source": [
    "\"\"\"\n",
    "Function to compute the execution time.\n",
    "\"\"\"\n",
    "from datetime import timedelta\n",
    "import time\n",
    "def get_time(f, kwargs={}):\n",
    "    times = []\n",
    "    result = None\n",
    "    for i in range(5):\n",
    "        print(\"\\nmeasure\",i+1)\n",
    "        t = time.time()\n",
    "        result = f(**kwargs)\n",
    "        res = time.time()-t\n",
    "        times.append(res)\n",
    "        print( timedelta(seconds=res))\n",
    "        if res > 3600:\n",
    "            print(\"trop de temps\")\n",
    "            return result\n",
    "        \n",
    "    print(\"\\nall times:\", times)\n",
    "    a = min(times)\n",
    "    b = max(times)\n",
    "    print(\"times' outliers:\",a,\"&\",b)\n",
    "    t = (sum(times)-a-b)/3\n",
    "    print(\"benchmark time\",str(t)+\"s\",\"or\", timedelta(seconds=t))\n",
    "    return result"
   ]
  },
  {
   "cell_type": "code",
   "execution_count": 1,
   "id": "6cf12847-e649-479e-b2a4-58730db8a2c7",
   "metadata": {},
   "outputs": [
    {
     "ename": "AttributeError",
     "evalue": "module 'pandas.core.strings' has no attribute 'StringMethods'",
     "output_type": "error",
     "traceback": [
      "\u001b[0;31m---------------------------------------------------------------------------\u001b[0m",
      "\u001b[0;31mAttributeError\u001b[0m                            Traceback (most recent call last)",
      "Cell \u001b[0;32mIn[1], line 2\u001b[0m\n\u001b[1;32m      1\u001b[0m \u001b[39mimport\u001b[39;00m \u001b[39mpandas\u001b[39;00m \u001b[39mas\u001b[39;00m \u001b[39mpd\u001b[39;00m\n\u001b[0;32m----> 2\u001b[0m \u001b[39mimport\u001b[39;00m \u001b[39mpymove\u001b[39;00m \u001b[39mas\u001b[39;00m \u001b[39mpm\u001b[39;00m\n\u001b[1;32m      3\u001b[0m \u001b[39mfrom\u001b[39;00m \u001b[39mpymove\u001b[39;00m \u001b[39mimport\u001b[39;00m MoveDataFrame\n\u001b[1;32m      4\u001b[0m \u001b[39mfrom\u001b[39;00m \u001b[39mpymove\u001b[39;00m \u001b[39mimport\u001b[39;00m filters\n",
      "File \u001b[0;32m~/miniconda3/envs/pymove/lib/python3.10/site-packages/pymove/__init__.py:10\u001b[0m\n\u001b[1;32m      1\u001b[0m \u001b[39m\"\"\"\u001b[39;00m\n\u001b[1;32m      2\u001b[0m \u001b[39mPyMove.\u001b[39;00m\n\u001b[1;32m      3\u001b[0m \n\u001b[0;32m   (...)\u001b[0m\n\u001b[1;32m      6\u001b[0m \n\u001b[1;32m      7\u001b[0m \u001b[39m\"\"\"\u001b[39;00m\n\u001b[1;32m      9\u001b[0m \u001b[39mfrom\u001b[39;00m \u001b[39m.\u001b[39;00m\u001b[39mcore\u001b[39;00m \u001b[39mimport\u001b[39;00m grid\n\u001b[0;32m---> 10\u001b[0m \u001b[39mfrom\u001b[39;00m \u001b[39m.\u001b[39;00m\u001b[39mcore\u001b[39;00m\u001b[39m.\u001b[39;00m\u001b[39mdask\u001b[39;00m \u001b[39mimport\u001b[39;00m DaskMoveDataFrame\n\u001b[1;32m     11\u001b[0m \u001b[39mfrom\u001b[39;00m \u001b[39m.\u001b[39;00m\u001b[39mcore\u001b[39;00m\u001b[39m.\u001b[39;00m\u001b[39mdataframe\u001b[39;00m \u001b[39mimport\u001b[39;00m MoveDataFrame\n\u001b[1;32m     12\u001b[0m \u001b[39mfrom\u001b[39;00m \u001b[39m.\u001b[39;00m\u001b[39mcore\u001b[39;00m\u001b[39m.\u001b[39;00m\u001b[39mgrid\u001b[39;00m \u001b[39mimport\u001b[39;00m Grid\n",
      "File \u001b[0;32m~/miniconda3/envs/pymove/lib/python3.10/site-packages/pymove/core/dask.py:10\u001b[0m\n\u001b[1;32m      8\u001b[0m \u001b[39mimport\u001b[39;00m \u001b[39mnumpy\u001b[39;00m \u001b[39mas\u001b[39;00m \u001b[39mnp\u001b[39;00m\n\u001b[1;32m      9\u001b[0m \u001b[39mimport\u001b[39;00m \u001b[39mpandas\u001b[39;00m \u001b[39mas\u001b[39;00m \u001b[39mpd\u001b[39;00m\n\u001b[0;32m---> 10\u001b[0m \u001b[39mfrom\u001b[39;00m \u001b[39mdask\u001b[39;00m\u001b[39m.\u001b[39;00m\u001b[39mdataframe\u001b[39;00m \u001b[39mimport\u001b[39;00m DataFrame\n\u001b[1;32m     12\u001b[0m \u001b[39mfrom\u001b[39;00m \u001b[39mpymove\u001b[39;00m\u001b[39m.\u001b[39;00m\u001b[39mcore\u001b[39;00m \u001b[39mimport\u001b[39;00m MoveDataFrameAbstractModel\n\u001b[1;32m     13\u001b[0m \u001b[39mfrom\u001b[39;00m \u001b[39mpymove\u001b[39;00m\u001b[39m.\u001b[39;00m\u001b[39mcore\u001b[39;00m\u001b[39m.\u001b[39;00m\u001b[39mdataframe\u001b[39;00m \u001b[39mimport\u001b[39;00m MoveDataFrame\n",
      "File \u001b[0;32m~/miniconda3/envs/pymove/lib/python3.10/site-packages/dask/dataframe/__init__.py:4\u001b[0m\n\u001b[1;32m      2\u001b[0m \u001b[39mimport\u001b[39;00m \u001b[39mdask\u001b[39;00m\u001b[39m.\u001b[39;00m\u001b[39mdataframe\u001b[39;00m\u001b[39m.\u001b[39;00m\u001b[39m_pyarrow_compat\u001b[39;00m\n\u001b[1;32m      3\u001b[0m \u001b[39mfrom\u001b[39;00m \u001b[39mdask\u001b[39;00m\u001b[39m.\u001b[39;00m\u001b[39mbase\u001b[39;00m \u001b[39mimport\u001b[39;00m compute\n\u001b[0;32m----> 4\u001b[0m \u001b[39mfrom\u001b[39;00m \u001b[39mdask\u001b[39;00m\u001b[39m.\u001b[39;00m\u001b[39mdataframe\u001b[39;00m \u001b[39mimport\u001b[39;00m backends, dispatch, rolling\n\u001b[1;32m      5\u001b[0m \u001b[39mfrom\u001b[39;00m \u001b[39mdask\u001b[39;00m\u001b[39m.\u001b[39;00m\u001b[39mdataframe\u001b[39;00m\u001b[39m.\u001b[39;00m\u001b[39mcore\u001b[39;00m \u001b[39mimport\u001b[39;00m (\n\u001b[1;32m      6\u001b[0m     DataFrame,\n\u001b[1;32m      7\u001b[0m     Index,\n\u001b[0;32m   (...)\u001b[0m\n\u001b[1;32m     13\u001b[0m     to_timedelta,\n\u001b[1;32m     14\u001b[0m )\n\u001b[1;32m     15\u001b[0m \u001b[39mfrom\u001b[39;00m \u001b[39mdask\u001b[39;00m\u001b[39m.\u001b[39;00m\u001b[39mdataframe\u001b[39;00m\u001b[39m.\u001b[39;00m\u001b[39mgroupby\u001b[39;00m \u001b[39mimport\u001b[39;00m Aggregation\n",
      "File \u001b[0;32m~/miniconda3/envs/pymove/lib/python3.10/site-packages/dask/dataframe/backends.py:21\u001b[0m\n\u001b[1;32m     19\u001b[0m \u001b[39mfrom\u001b[39;00m \u001b[39mdask\u001b[39;00m\u001b[39m.\u001b[39;00m\u001b[39marray\u001b[39;00m\u001b[39m.\u001b[39;00m\u001b[39mpercentile\u001b[39;00m \u001b[39mimport\u001b[39;00m _percentile\n\u001b[1;32m     20\u001b[0m \u001b[39mfrom\u001b[39;00m \u001b[39mdask\u001b[39;00m\u001b[39m.\u001b[39;00m\u001b[39mbackends\u001b[39;00m \u001b[39mimport\u001b[39;00m CreationDispatch, DaskBackendEntrypoint\n\u001b[0;32m---> 21\u001b[0m \u001b[39mfrom\u001b[39;00m \u001b[39mdask\u001b[39;00m\u001b[39m.\u001b[39;00m\u001b[39mdataframe\u001b[39;00m\u001b[39m.\u001b[39;00m\u001b[39mcore\u001b[39;00m \u001b[39mimport\u001b[39;00m DataFrame, Index, Scalar, Series, _Frame\n\u001b[1;32m     22\u001b[0m \u001b[39mfrom\u001b[39;00m \u001b[39mdask\u001b[39;00m\u001b[39m.\u001b[39;00m\u001b[39mdataframe\u001b[39;00m\u001b[39m.\u001b[39;00m\u001b[39mdispatch\u001b[39;00m \u001b[39mimport\u001b[39;00m (\n\u001b[1;32m     23\u001b[0m     categorical_dtype_dispatch,\n\u001b[1;32m     24\u001b[0m     concat,\n\u001b[0;32m   (...)\u001b[0m\n\u001b[1;32m     36\u001b[0m     union_categoricals_dispatch,\n\u001b[1;32m     37\u001b[0m )\n\u001b[1;32m     38\u001b[0m \u001b[39mfrom\u001b[39;00m \u001b[39mdask\u001b[39;00m\u001b[39m.\u001b[39;00m\u001b[39mdataframe\u001b[39;00m\u001b[39m.\u001b[39;00m\u001b[39mextensions\u001b[39;00m \u001b[39mimport\u001b[39;00m make_array_nonempty, make_scalar\n",
      "File \u001b[0;32m~/miniconda3/envs/pymove/lib/python3.10/site-packages/dask/dataframe/core.py:35\u001b[0m\n\u001b[1;32m     33\u001b[0m \u001b[39mfrom\u001b[39;00m \u001b[39mdask\u001b[39;00m\u001b[39m.\u001b[39;00m\u001b[39mblockwise\u001b[39;00m \u001b[39mimport\u001b[39;00m Blockwise, BlockwiseDep, BlockwiseDepDict, blockwise\n\u001b[1;32m     34\u001b[0m \u001b[39mfrom\u001b[39;00m \u001b[39mdask\u001b[39;00m\u001b[39m.\u001b[39;00m\u001b[39mcontext\u001b[39;00m \u001b[39mimport\u001b[39;00m globalmethod\n\u001b[0;32m---> 35\u001b[0m \u001b[39mfrom\u001b[39;00m \u001b[39mdask\u001b[39;00m\u001b[39m.\u001b[39;00m\u001b[39mdataframe\u001b[39;00m \u001b[39mimport\u001b[39;00m methods\n\u001b[1;32m     36\u001b[0m \u001b[39mfrom\u001b[39;00m \u001b[39mdask\u001b[39;00m\u001b[39m.\u001b[39;00m\u001b[39mdataframe\u001b[39;00m\u001b[39m.\u001b[39;00m\u001b[39m_compat\u001b[39;00m \u001b[39mimport\u001b[39;00m (\n\u001b[1;32m     37\u001b[0m     PANDAS_GT_140,\n\u001b[1;32m     38\u001b[0m     PANDAS_GT_150,\n\u001b[1;32m     39\u001b[0m     check_numeric_only_deprecation,\n\u001b[1;32m     40\u001b[0m )\n\u001b[1;32m     41\u001b[0m \u001b[39mfrom\u001b[39;00m \u001b[39mdask\u001b[39;00m\u001b[39m.\u001b[39;00m\u001b[39mdataframe\u001b[39;00m\u001b[39m.\u001b[39;00m\u001b[39maccessor\u001b[39;00m \u001b[39mimport\u001b[39;00m CachedAccessor, DatetimeAccessor, StringAccessor\n",
      "File \u001b[0;32m~/miniconda3/envs/pymove/lib/python3.10/site-packages/dask/dataframe/methods.py:22\u001b[0m\n\u001b[1;32m     10\u001b[0m \u001b[39m#  preserve compatibility while moving dispatch objects\u001b[39;00m\n\u001b[1;32m     11\u001b[0m \u001b[39mfrom\u001b[39;00m \u001b[39mdask\u001b[39;00m\u001b[39m.\u001b[39;00m\u001b[39mdataframe\u001b[39;00m\u001b[39m.\u001b[39;00m\u001b[39mdispatch\u001b[39;00m \u001b[39mimport\u001b[39;00m (  \u001b[39m# noqa: F401\u001b[39;00m\n\u001b[1;32m     12\u001b[0m     concat,\n\u001b[1;32m     13\u001b[0m     concat_dispatch,\n\u001b[0;32m   (...)\u001b[0m\n\u001b[1;32m     20\u001b[0m     union_categoricals,\n\u001b[1;32m     21\u001b[0m )\n\u001b[0;32m---> 22\u001b[0m \u001b[39mfrom\u001b[39;00m \u001b[39mdask\u001b[39;00m\u001b[39m.\u001b[39;00m\u001b[39mdataframe\u001b[39;00m\u001b[39m.\u001b[39;00m\u001b[39mutils\u001b[39;00m \u001b[39mimport\u001b[39;00m is_dataframe_like, is_index_like, is_series_like\n\u001b[1;32m     24\u001b[0m \u001b[39m# cuDF may try to import old dispatch functions\u001b[39;00m\n\u001b[1;32m     25\u001b[0m hash_df \u001b[39m=\u001b[39m hash_object_dispatch\n",
      "File \u001b[0;32m~/miniconda3/envs/pymove/lib/python3.10/site-packages/dask/dataframe/utils.py:19\u001b[0m\n\u001b[1;32m     17\u001b[0m \u001b[39mfrom\u001b[39;00m \u001b[39mdask\u001b[39;00m\u001b[39m.\u001b[39;00m\u001b[39mbase\u001b[39;00m \u001b[39mimport\u001b[39;00m get_scheduler, is_dask_collection\n\u001b[1;32m     18\u001b[0m \u001b[39mfrom\u001b[39;00m \u001b[39mdask\u001b[39;00m\u001b[39m.\u001b[39;00m\u001b[39mcore\u001b[39;00m \u001b[39mimport\u001b[39;00m get_deps\n\u001b[0;32m---> 19\u001b[0m \u001b[39mfrom\u001b[39;00m \u001b[39mdask\u001b[39;00m\u001b[39m.\u001b[39;00m\u001b[39mdataframe\u001b[39;00m \u001b[39mimport\u001b[39;00m (  \u001b[39m# noqa: F401 register pandas extension types\u001b[39;00m\n\u001b[1;32m     20\u001b[0m     _dtypes,\n\u001b[1;32m     21\u001b[0m     methods,\n\u001b[1;32m     22\u001b[0m )\n\u001b[1;32m     23\u001b[0m \u001b[39mfrom\u001b[39;00m \u001b[39mdask\u001b[39;00m\u001b[39m.\u001b[39;00m\u001b[39mdataframe\u001b[39;00m\u001b[39m.\u001b[39;00m\u001b[39m_compat\u001b[39;00m \u001b[39mimport\u001b[39;00m PANDAS_GT_110, PANDAS_GT_120, tm  \u001b[39m# noqa: F401\u001b[39;00m\n\u001b[1;32m     24\u001b[0m \u001b[39mfrom\u001b[39;00m \u001b[39mdask\u001b[39;00m\u001b[39m.\u001b[39;00m\u001b[39mdataframe\u001b[39;00m\u001b[39m.\u001b[39;00m\u001b[39mdispatch\u001b[39;00m \u001b[39mimport\u001b[39;00m (  \u001b[39m# noqa : F401\u001b[39;00m\n\u001b[1;32m     25\u001b[0m     make_meta,\n\u001b[1;32m     26\u001b[0m     make_meta_obj,\n\u001b[1;32m     27\u001b[0m     meta_nonempty,\n\u001b[1;32m     28\u001b[0m )\n",
      "File \u001b[0;32m~/miniconda3/envs/pymove/lib/python3.10/site-packages/dask/dataframe/_dtypes.py:3\u001b[0m\n\u001b[1;32m      1\u001b[0m \u001b[39mimport\u001b[39;00m \u001b[39mpandas\u001b[39;00m \u001b[39mas\u001b[39;00m \u001b[39mpd\u001b[39;00m\n\u001b[0;32m----> 3\u001b[0m \u001b[39mfrom\u001b[39;00m \u001b[39mdask\u001b[39;00m\u001b[39m.\u001b[39;00m\u001b[39mdataframe\u001b[39;00m\u001b[39m.\u001b[39;00m\u001b[39mextensions\u001b[39;00m \u001b[39mimport\u001b[39;00m make_array_nonempty, make_scalar\n\u001b[1;32m      6\u001b[0m \u001b[39m@make_array_nonempty\u001b[39m\u001b[39m.\u001b[39mregister(pd\u001b[39m.\u001b[39mDatetimeTZDtype)\n\u001b[1;32m      7\u001b[0m \u001b[39mdef\u001b[39;00m \u001b[39m_\u001b[39m(dtype):\n\u001b[1;32m      8\u001b[0m     \u001b[39mreturn\u001b[39;00m pd\u001b[39m.\u001b[39marray([pd\u001b[39m.\u001b[39mTimestamp(\u001b[39m1\u001b[39m), pd\u001b[39m.\u001b[39mNaT], dtype\u001b[39m=\u001b[39mdtype)\n",
      "File \u001b[0;32m~/miniconda3/envs/pymove/lib/python3.10/site-packages/dask/dataframe/extensions.py:6\u001b[0m\n\u001b[1;32m      1\u001b[0m \u001b[39m\"\"\"\u001b[39;00m\n\u001b[1;32m      2\u001b[0m \u001b[39mSupport for pandas ExtensionArray in dask.dataframe.\u001b[39;00m\n\u001b[1;32m      3\u001b[0m \n\u001b[1;32m      4\u001b[0m \u001b[39mSee :ref:`extensionarrays` for more.\u001b[39;00m\n\u001b[1;32m      5\u001b[0m \u001b[39m\"\"\"\u001b[39;00m\n\u001b[0;32m----> 6\u001b[0m \u001b[39mfrom\u001b[39;00m \u001b[39mdask\u001b[39;00m\u001b[39m.\u001b[39;00m\u001b[39mdataframe\u001b[39;00m\u001b[39m.\u001b[39;00m\u001b[39maccessor\u001b[39;00m \u001b[39mimport\u001b[39;00m (\n\u001b[1;32m      7\u001b[0m     register_dataframe_accessor,\n\u001b[1;32m      8\u001b[0m     register_index_accessor,\n\u001b[1;32m      9\u001b[0m     register_series_accessor,\n\u001b[1;32m     10\u001b[0m )\n\u001b[1;32m     11\u001b[0m \u001b[39mfrom\u001b[39;00m \u001b[39mdask\u001b[39;00m\u001b[39m.\u001b[39;00m\u001b[39mutils\u001b[39;00m \u001b[39mimport\u001b[39;00m Dispatch\n\u001b[1;32m     13\u001b[0m make_array_nonempty \u001b[39m=\u001b[39m Dispatch(\u001b[39m\"\u001b[39m\u001b[39mmake_array_nonempty\u001b[39m\u001b[39m\"\u001b[39m)\n",
      "File \u001b[0;32m~/miniconda3/envs/pymove/lib/python3.10/site-packages/dask/dataframe/accessor.py:190\u001b[0m\n\u001b[1;32m    129\u001b[0m     _accessor_methods \u001b[39m=\u001b[39m (\n\u001b[1;32m    130\u001b[0m         \u001b[39m\"\u001b[39m\u001b[39masfreq\u001b[39m\u001b[39m\"\u001b[39m,\n\u001b[1;32m    131\u001b[0m         \u001b[39m\"\u001b[39m\u001b[39mceil\u001b[39m\u001b[39m\"\u001b[39m,\n\u001b[0;32m   (...)\u001b[0m\n\u001b[1;32m    145\u001b[0m         \u001b[39m\"\u001b[39m\u001b[39mtz_localize\u001b[39m\u001b[39m\"\u001b[39m,\n\u001b[1;32m    146\u001b[0m     )\n\u001b[1;32m    148\u001b[0m     _accessor_properties \u001b[39m=\u001b[39m (\n\u001b[1;32m    149\u001b[0m         \u001b[39m\"\u001b[39m\u001b[39mcomponents\u001b[39m\u001b[39m\"\u001b[39m,\n\u001b[1;32m    150\u001b[0m         \u001b[39m\"\u001b[39m\u001b[39mdate\u001b[39m\u001b[39m\"\u001b[39m,\n\u001b[0;32m   (...)\u001b[0m\n\u001b[1;32m    186\u001b[0m         \u001b[39m\"\u001b[39m\u001b[39myear\u001b[39m\u001b[39m\"\u001b[39m,\n\u001b[1;32m    187\u001b[0m     )\n\u001b[0;32m--> 190\u001b[0m \u001b[39mclass\u001b[39;00m \u001b[39mStringAccessor\u001b[39;00m(Accessor):\n\u001b[1;32m    191\u001b[0m     \u001b[39m\"\"\"Accessor object for string properties of the Series values.\u001b[39;00m\n\u001b[1;32m    192\u001b[0m \n\u001b[1;32m    193\u001b[0m \u001b[39m    Examples\u001b[39;00m\n\u001b[0;32m   (...)\u001b[0m\n\u001b[1;32m    196\u001b[0m \u001b[39m    >>> s.str.lower()  # doctest: +SKIP\u001b[39;00m\n\u001b[1;32m    197\u001b[0m \u001b[39m    \"\"\"\u001b[39;00m\n\u001b[1;32m    199\u001b[0m     _accessor_name \u001b[39m=\u001b[39m \u001b[39m\"\u001b[39m\u001b[39mstr\u001b[39m\u001b[39m\"\u001b[39m\n",
      "File \u001b[0;32m~/miniconda3/envs/pymove/lib/python3.10/site-packages/dask/dataframe/accessor.py:276\u001b[0m, in \u001b[0;36mStringAccessor\u001b[0;34m()\u001b[0m\n\u001b[1;32m    272\u001b[0m         meta \u001b[39m=\u001b[39m (\u001b[39mself\u001b[39m\u001b[39m.\u001b[39m_series\u001b[39m.\u001b[39mname, \u001b[39mobject\u001b[39m)\n\u001b[1;32m    273\u001b[0m     \u001b[39mreturn\u001b[39;00m \u001b[39mself\u001b[39m\u001b[39m.\u001b[39m_function_map(method, pat\u001b[39m=\u001b[39mpat, n\u001b[39m=\u001b[39mn, expand\u001b[39m=\u001b[39mexpand, meta\u001b[39m=\u001b[39mmeta)\n\u001b[1;32m    275\u001b[0m \u001b[39m@derived_from\u001b[39m(\n\u001b[0;32m--> 276\u001b[0m     pd\u001b[39m.\u001b[39;49mcore\u001b[39m.\u001b[39;49mstrings\u001b[39m.\u001b[39;49mStringMethods,\n\u001b[1;32m    277\u001b[0m     inconsistencies\u001b[39m=\u001b[39m\u001b[39m\"\u001b[39m\u001b[39m``expand=True`` with unknown ``n`` will raise a ``NotImplementedError``\u001b[39m\u001b[39m\"\u001b[39m,\n\u001b[1;32m    278\u001b[0m )\n\u001b[1;32m    279\u001b[0m \u001b[39mdef\u001b[39;00m \u001b[39msplit\u001b[39m(\u001b[39mself\u001b[39m, pat\u001b[39m=\u001b[39m\u001b[39mNone\u001b[39;00m, n\u001b[39m=\u001b[39m\u001b[39m-\u001b[39m\u001b[39m1\u001b[39m, expand\u001b[39m=\u001b[39m\u001b[39mFalse\u001b[39;00m):\n\u001b[1;32m    280\u001b[0m     \u001b[39m\"\"\"Known inconsistencies: ``expand=True`` with unknown ``n`` will raise a ``NotImplementedError``.\"\"\"\u001b[39;00m\n\u001b[1;32m    281\u001b[0m     \u001b[39mreturn\u001b[39;00m \u001b[39mself\u001b[39m\u001b[39m.\u001b[39m_split(\u001b[39m\"\u001b[39m\u001b[39msplit\u001b[39m\u001b[39m\"\u001b[39m, pat\u001b[39m=\u001b[39mpat, n\u001b[39m=\u001b[39mn, expand\u001b[39m=\u001b[39mexpand)\n",
      "\u001b[0;31mAttributeError\u001b[0m: module 'pandas.core.strings' has no attribute 'StringMethods'"
     ]
    }
   ],
   "source": [
    "import pandas as pd\n",
    "import pymove as pm\n",
    "from pymove import MoveDataFrame\n",
    "from pymove import filters\n",
    "import pymove as pm\n",
    "from pymove.visualization import folium as f, matplotlib as mpl\n",
    "from pymove.utils import visual\n",
    "from pymove.preprocessing import stay_point_detection, compression, segmentation"
   ]
  },
  {
   "cell_type": "code",
   "execution_count": null,
   "id": "8900cc31-206a-4fe8-99bc-4e40a2a57c49",
   "metadata": {},
   "outputs": [],
   "source": [
    "SIZE = \"sample\""
   ]
  },
  {
   "attachments": {},
   "cell_type": "markdown",
   "id": "f1a25e09-470a-4b6a-b046-767ac71a4c20",
   "metadata": {},
   "source": [
    "# cars trajectories"
   ]
  },
  {
   "cell_type": "code",
   "execution_count": null,
   "id": "6b6aefcb-36e3-427e-9374-1b701788c361",
   "metadata": {},
   "outputs": [],
   "source": [
    "PATH = '../datasets/ships_'+SIZE+'.csv'\n",
    "tdf = pd.read_csv(PATH)\n",
    "move_df = MoveDataFrame(data=tdf, latitude=\"Latitude\", longitude=\"Longitude\", datetime=\"Timestamp\", traj_id=\"id\")"
   ]
  },
  {
   "cell_type": "code",
   "execution_count": null,
   "id": "8ffa2fdc-45bd-4c83-b495-0b7cf710029c",
   "metadata": {},
   "outputs": [],
   "source": [
    "stops = stay_point_detection.create_or_update_move_stop_by_dist_time(move_data=move_df,dist_radius=20,time_radius=30*60)\n",
    "stops"
   ]
  },
  {
   "cell_type": "code",
   "execution_count": null,
   "id": "d46ef256-8813-41c7-a38d-7b25d17aa455",
   "metadata": {},
   "outputs": [],
   "source": []
  },
  {
   "attachments": {},
   "cell_type": "markdown",
   "id": "68055187",
   "metadata": {},
   "source": [
    "# Accuracy"
   ]
  },
  {
   "cell_type": "code",
   "execution_count": null,
   "id": "e762d237",
   "metadata": {},
   "outputs": [],
   "source": [
    "PATH=\"../Dataset/ground_truth_medium.csv\"\n",
    "df = pd.read_csv(PATH)\n",
    "df"
   ]
  }
 ],
 "metadata": {
  "kernelspec": {
   "display_name": "Python 3 (ipykernel)",
   "language": "python",
   "name": "python3"
  },
  "language_info": {
   "codemirror_mode": {
    "name": "ipython",
    "version": 3
   },
   "file_extension": ".py",
   "mimetype": "text/x-python",
   "name": "python",
   "nbconvert_exporter": "python",
   "pygments_lexer": "ipython3",
   "version": "3.10.6"
  }
 },
 "nbformat": 4,
 "nbformat_minor": 5
}

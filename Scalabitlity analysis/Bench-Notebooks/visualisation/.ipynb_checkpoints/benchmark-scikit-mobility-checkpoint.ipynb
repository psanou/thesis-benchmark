{
 "cells": [
  {
   "cell_type": "code",
   "execution_count": 1,
   "id": "be72c5c1-e689-4b25-a712-61ff06421aa4",
   "metadata": {},
   "outputs": [],
   "source": [
    "\"\"\"\n",
    "Function to compute the execution time.\n",
    "\"\"\"\n",
    "from datetime import timedelta\n",
    "import time\n",
    "def get_time(f, kwargs={}):\n",
    "    times = []\n",
    "    result = None\n",
    "    for i in range(5):\n",
    "        print(\"measure\",i+1)\n",
    "        t = time.time()\n",
    "        result = f(**kwargs)\n",
    "        times.append(time.time()-t)\n",
    "        \n",
    "    print(\"all times:\", times)\n",
    "    a = min(times)\n",
    "    b = max(times)\n",
    "    print(\"times' outliers:\",a,\"&\",b)\n",
    "    t = (sum(times)-a-b)/3\n",
    "    print(\"benchmark time\",str(t)+\"s\",\"or\", timedelta(seconds=t))\n",
    "    return result"
   ]
  },
  {
   "cell_type": "code",
   "execution_count": 2,
   "id": "26ae64d0-6e84-40de-9ead-ab2ab0ffc167",
   "metadata": {},
   "outputs": [],
   "source": [
    "import skmob\n",
    "import pandas as pd\n",
    "import folium\n",
    "from skmob.preprocessing import compression, filtering, detection"
   ]
  },
  {
   "cell_type": "code",
   "execution_count": 3,
   "id": "7c206ec1-b854-430d-bdf4-4e3bd803b5a8",
   "metadata": {},
   "outputs": [],
   "source": [
    "DATASET_SIZE = \"sample\""
   ]
  },
  {
   "attachments": {},
   "cell_type": "markdown",
   "id": "402056eb-d3ed-4ee7-a8da-cafe5ab83e0e",
   "metadata": {},
   "source": [
    "# Ships trajectories"
   ]
  },
  {
   "cell_type": "code",
   "execution_count": 4,
   "id": "cd011d00-e32e-4099-bb07-6153780e9b3b",
   "metadata": {},
   "outputs": [],
   "source": [
    "df = pd.read_csv('datasets/ships_'+DATASET_SIZE+'.csv')\n",
    "# load trajectory in TrajDataframe\n",
    "trajectory_df = get_time(skmob.TrajDataFrame,{\"data\":df, \"latitude\":'Latitude', \"longitude\":'Longitude', \"trajectory_id\":'id', \"datetime\":'Timestamp'})\n",
    "trajectory_df"
   ]
  },
  {
   "attachments": {},
   "cell_type": "markdown",
   "id": "17d6fa36-bc2a-4662-a8d2-27ae34e9e2d7",
   "metadata": {},
   "source": [
    "# Cars trajectories"
   ]
  },
  {
   "cell_type": "code",
   "execution_count": 43,
   "id": "a53a0359-e488-4c8b-89bf-bd2f526594a7",
   "metadata": {},
   "outputs": [],
   "source": [
    "df = pd.read_csv('datasets/cars_'+DATASET_SIZE+'.csv')\n",
    "# load trajectory in TrajDataframe\n",
    "trajectory_df = skmob.TrajDataFrame(data=df, latitude='Latitude', longitude='Longitude', trajectory_id='id', datetime='Timestamp')"
   ]
  }
 ],
 "metadata": {
  "kernelspec": {
   "display_name": "Python 3 (ipykernel)",
   "language": "python",
   "name": "python3"
  },
  "language_info": {
   "codemirror_mode": {
    "name": "ipython",
    "version": 3
   },
   "file_extension": ".py",
   "mimetype": "text/x-python",
   "name": "python",
   "nbconvert_exporter": "python",
   "pygments_lexer": "ipython3",
   "version": "3.8.16"
  }
 },
 "nbformat": 4,
 "nbformat_minor": 5
}

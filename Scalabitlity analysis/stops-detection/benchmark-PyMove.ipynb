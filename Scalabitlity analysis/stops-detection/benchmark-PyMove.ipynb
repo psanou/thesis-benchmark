{
 "cells": [
  {
   "cell_type": "code",
   "execution_count": 8,
   "id": "c243f8f3-15b9-4b51-ab46-f9a0dd94130c",
   "metadata": {},
   "outputs": [],
   "source": [
    "\"\"\"\n",
    "Function to compute the execution time.\n",
    "\"\"\"\n",
    "from datetime import timedelta\n",
    "import time\n",
    "def get_time(f, kwargs={}):\n",
    "    times = []\n",
    "    result = None\n",
    "    for i in range(5):\n",
    "        print(\"\\nmeasure\",i+1)\n",
    "        t = time.time()\n",
    "        result = f(**kwargs)\n",
    "        res = time.time()-t\n",
    "        times.append(res)\n",
    "        print( timedelta(seconds=res))\n",
    "        if res > 3600:\n",
    "            print(\"trop de temps\")\n",
    "            return result\n",
    "        \n",
    "    print(\"\\nall times:\", times)\n",
    "    a = min(times)\n",
    "    b = max(times)\n",
    "    print(\"times' outliers:\",a,\"&\",b)\n",
    "    t = (sum(times)-a-b)/3\n",
    "    print(\"benchmark time\",str(t)+\"s\",\"or\", timedelta(seconds=t))\n",
    "    return result"
   ]
  },
  {
   "cell_type": "code",
   "execution_count": 9,
   "id": "6cf12847-e649-479e-b2a4-58730db8a2c7",
   "metadata": {},
   "outputs": [],
   "source": [
    "import pandas as pd\n",
    "import pymove as pm\n",
    "from pymove import MoveDataFrame\n",
    "from pymove import filters\n",
    "import pymove as pm\n",
    "from pymove.visualization import folium as f, matplotlib as mpl\n",
    "from pymove.utils import visual\n",
    "from pymove.preprocessing import stay_point_detection, compression, segmentation"
   ]
  },
  {
   "cell_type": "code",
   "execution_count": 10,
   "id": "8900cc31-206a-4fe8-99bc-4e40a2a57c49",
   "metadata": {},
   "outputs": [],
   "source": [
    "SIZE = \"medium\""
   ]
  },
  {
   "attachments": {},
   "cell_type": "markdown",
   "id": "f1a25e09-470a-4b6a-b046-767ac71a4c20",
   "metadata": {},
   "source": [
    "# cars trajectories"
   ]
  },
  {
   "cell_type": "code",
   "execution_count": 11,
   "id": "6b6aefcb-36e3-427e-9374-1b701788c361",
   "metadata": {},
   "outputs": [],
   "source": [
    "PATH = '../datasets/cars_'+SIZE+'.csv'\n",
    "tdf = pd.read_csv(PATH)\n",
    "move_df = MoveDataFrame(data=tdf, latitude=\"Latitude\", longitude=\"Longitude\", datetime=\"Timestamp\", traj_id=\"id\")"
   ]
  },
  {
   "cell_type": "code",
   "execution_count": 12,
   "id": "8ffa2fdc-45bd-4c83-b495-0b7cf710029c",
   "metadata": {},
   "outputs": [
    {
     "data": {
      "application/vnd.jupyter.widget-view+json": {
       "model_id": "70cdccd1163b440fbf39d929d60665bd",
       "version_major": 2,
       "version_minor": 0
      },
      "text/plain": [
       "VBox(children=(HTML(value=''), IntProgress(value=0, max=223)))"
      ]
     },
     "metadata": {},
     "output_type": "display_data"
    },
    {
     "data": {
      "application/vnd.jupyter.widget-view+json": {
       "model_id": "92ef87392bfe48a59846047643eb410a",
       "version_major": 2,
       "version_minor": 0
      },
      "text/plain": [
       "VBox(children=(HTML(value=''), IntProgress(value=0, max=223)))"
      ]
     },
     "metadata": {},
     "output_type": "display_data"
    },
    {
     "data": {
      "application/vnd.jupyter.widget-view+json": {
       "model_id": "7f7c535ce7f24deb9638daee8e62991b",
       "version_major": 2,
       "version_minor": 0
      },
      "text/plain": [
       "VBox(children=(HTML(value=''), IntProgress(value=0, max=223)))"
      ]
     },
     "metadata": {},
     "output_type": "display_data"
    },
    {
     "data": {
      "application/vnd.jupyter.widget-view+json": {
       "model_id": "3b7a2a56d7064e7aa239b6f5a51844bd",
       "version_major": 2,
       "version_minor": 0
      },
      "text/plain": [
       "VBox(children=(HTML(value=''), IntProgress(value=0, max=416135)))"
      ]
     },
     "metadata": {},
     "output_type": "display_data"
    },
    {
     "data": {
      "text/html": [
       "<div>\n",
       "<style scoped>\n",
       "    .dataframe tbody tr th:only-of-type {\n",
       "        vertical-align: middle;\n",
       "    }\n",
       "\n",
       "    .dataframe tbody tr th {\n",
       "        vertical-align: top;\n",
       "    }\n",
       "\n",
       "    .dataframe thead th {\n",
       "        text-align: right;\n",
       "    }\n",
       "</style>\n",
       "<table border=\"1\" class=\"dataframe\">\n",
       "  <thead>\n",
       "    <tr style=\"text-align: right;\">\n",
       "      <th></th>\n",
       "      <th>segment_stop</th>\n",
       "      <th>id</th>\n",
       "      <th>lon</th>\n",
       "      <th>lat</th>\n",
       "      <th>datetime</th>\n",
       "      <th>dist_to_prev</th>\n",
       "      <th>time_to_prev</th>\n",
       "      <th>speed_to_prev</th>\n",
       "      <th>stop</th>\n",
       "    </tr>\n",
       "  </thead>\n",
       "  <tbody>\n",
       "    <tr>\n",
       "      <th>0</th>\n",
       "      <td>1</td>\n",
       "      <td>1</td>\n",
       "      <td>4.434883</td>\n",
       "      <td>50.767837</td>\n",
       "      <td>2020-06-01 09:54:52.511000</td>\n",
       "      <td>NaN</td>\n",
       "      <td>NaN</td>\n",
       "      <td>NaN</td>\n",
       "      <td>False</td>\n",
       "    </tr>\n",
       "    <tr>\n",
       "      <th>1</th>\n",
       "      <td>1</td>\n",
       "      <td>1</td>\n",
       "      <td>4.434839</td>\n",
       "      <td>50.767831</td>\n",
       "      <td>2020-06-01 09:54:54.011000</td>\n",
       "      <td>3.158783</td>\n",
       "      <td>1.500000</td>\n",
       "      <td>2.105855</td>\n",
       "      <td>False</td>\n",
       "    </tr>\n",
       "    <tr>\n",
       "      <th>2</th>\n",
       "      <td>1</td>\n",
       "      <td>1</td>\n",
       "      <td>4.434795</td>\n",
       "      <td>50.767826</td>\n",
       "      <td>2020-06-01 09:54:54.911000</td>\n",
       "      <td>3.158783</td>\n",
       "      <td>0.900000</td>\n",
       "      <td>3.509759</td>\n",
       "      <td>False</td>\n",
       "    </tr>\n",
       "    <tr>\n",
       "      <th>3</th>\n",
       "      <td>1</td>\n",
       "      <td>1</td>\n",
       "      <td>4.434768</td>\n",
       "      <td>50.767823</td>\n",
       "      <td>2020-06-01 09:55:02.842104</td>\n",
       "      <td>1.906306</td>\n",
       "      <td>7.931104</td>\n",
       "      <td>0.240358</td>\n",
       "      <td>False</td>\n",
       "    </tr>\n",
       "    <tr>\n",
       "      <th>4</th>\n",
       "      <td>1</td>\n",
       "      <td>1</td>\n",
       "      <td>4.434727</td>\n",
       "      <td>50.767811</td>\n",
       "      <td>2020-06-01 09:55:04.188436</td>\n",
       "      <td>3.158784</td>\n",
       "      <td>1.346332</td>\n",
       "      <td>2.346215</td>\n",
       "      <td>False</td>\n",
       "    </tr>\n",
       "    <tr>\n",
       "      <th>...</th>\n",
       "      <td>...</td>\n",
       "      <td>...</td>\n",
       "      <td>...</td>\n",
       "      <td>...</td>\n",
       "      <td>...</td>\n",
       "      <td>...</td>\n",
       "      <td>...</td>\n",
       "      <td>...</td>\n",
       "      <td>...</td>\n",
       "    </tr>\n",
       "    <tr>\n",
       "      <th>5512665</th>\n",
       "      <td>416135</td>\n",
       "      <td>223</td>\n",
       "      <td>4.321388</td>\n",
       "      <td>50.880816</td>\n",
       "      <td>2020-06-07 18:39:22.092492</td>\n",
       "      <td>3.151148</td>\n",
       "      <td>1.714285</td>\n",
       "      <td>1.838170</td>\n",
       "      <td>False</td>\n",
       "    </tr>\n",
       "    <tr>\n",
       "      <th>5512666</th>\n",
       "      <td>416135</td>\n",
       "      <td>223</td>\n",
       "      <td>4.321388</td>\n",
       "      <td>50.880816</td>\n",
       "      <td>2020-06-07 18:39:22.291818</td>\n",
       "      <td>0.000000</td>\n",
       "      <td>0.199326</td>\n",
       "      <td>0.000000</td>\n",
       "      <td>False</td>\n",
       "    </tr>\n",
       "    <tr>\n",
       "      <th>5512667</th>\n",
       "      <td>416135</td>\n",
       "      <td>223</td>\n",
       "      <td>4.321344</td>\n",
       "      <td>50.880813</td>\n",
       "      <td>2020-06-07 18:39:23.791818</td>\n",
       "      <td>3.151148</td>\n",
       "      <td>1.500000</td>\n",
       "      <td>2.100765</td>\n",
       "      <td>False</td>\n",
       "    </tr>\n",
       "    <tr>\n",
       "      <th>5512668</th>\n",
       "      <td>416135</td>\n",
       "      <td>223</td>\n",
       "      <td>4.321299</td>\n",
       "      <td>50.880810</td>\n",
       "      <td>2020-06-07 18:39:24.541818</td>\n",
       "      <td>3.151148</td>\n",
       "      <td>0.750000</td>\n",
       "      <td>4.201530</td>\n",
       "      <td>False</td>\n",
       "    </tr>\n",
       "    <tr>\n",
       "      <th>5512669</th>\n",
       "      <td>416135</td>\n",
       "      <td>223</td>\n",
       "      <td>4.321162</td>\n",
       "      <td>50.880800</td>\n",
       "      <td>2020-06-07 18:39:26.380139</td>\n",
       "      <td>9.654710</td>\n",
       "      <td>1.838321</td>\n",
       "      <td>5.251918</td>\n",
       "      <td>False</td>\n",
       "    </tr>\n",
       "  </tbody>\n",
       "</table>\n",
       "<p>5512670 rows × 9 columns</p>\n",
       "</div>"
      ],
      "text/plain": [
       "         segment_stop   id       lon        lat                   datetime  \\\n",
       "0                   1    1  4.434883  50.767837 2020-06-01 09:54:52.511000   \n",
       "1                   1    1  4.434839  50.767831 2020-06-01 09:54:54.011000   \n",
       "2                   1    1  4.434795  50.767826 2020-06-01 09:54:54.911000   \n",
       "3                   1    1  4.434768  50.767823 2020-06-01 09:55:02.842104   \n",
       "4                   1    1  4.434727  50.767811 2020-06-01 09:55:04.188436   \n",
       "...               ...  ...       ...        ...                        ...   \n",
       "5512665        416135  223  4.321388  50.880816 2020-06-07 18:39:22.092492   \n",
       "5512666        416135  223  4.321388  50.880816 2020-06-07 18:39:22.291818   \n",
       "5512667        416135  223  4.321344  50.880813 2020-06-07 18:39:23.791818   \n",
       "5512668        416135  223  4.321299  50.880810 2020-06-07 18:39:24.541818   \n",
       "5512669        416135  223  4.321162  50.880800 2020-06-07 18:39:26.380139   \n",
       "\n",
       "         dist_to_prev  time_to_prev  speed_to_prev   stop  \n",
       "0                 NaN           NaN            NaN  False  \n",
       "1            3.158783      1.500000       2.105855  False  \n",
       "2            3.158783      0.900000       3.509759  False  \n",
       "3            1.906306      7.931104       0.240358  False  \n",
       "4            3.158784      1.346332       2.346215  False  \n",
       "...               ...           ...            ...    ...  \n",
       "5512665      3.151148      1.714285       1.838170  False  \n",
       "5512666      0.000000      0.199326       0.000000  False  \n",
       "5512667      3.151148      1.500000       2.100765  False  \n",
       "5512668      3.151148      0.750000       4.201530  False  \n",
       "5512669      9.654710      1.838321       5.251918  False  \n",
       "\n",
       "[5512670 rows x 9 columns]"
      ]
     },
     "execution_count": 12,
     "metadata": {},
     "output_type": "execute_result"
    }
   ],
   "source": [
    "stops = stay_point_detection.create_or_update_move_stop_by_dist_time(move_data=move_df,dist_radius=20,time_radius=30*60)\n",
    "stops"
   ]
  },
  {
   "cell_type": "code",
   "execution_count": 13,
   "id": "321ae91b",
   "metadata": {},
   "outputs": [
    {
     "data": {
      "text/plain": [
       "13319"
      ]
     },
     "execution_count": 13,
     "metadata": {},
     "output_type": "execute_result"
    }
   ],
   "source": [
    "len(stops[stops[\"stop\"] == True])"
   ]
  },
  {
   "cell_type": "code",
   "execution_count": 14,
   "id": "d46ef256-8813-41c7-a38d-7b25d17aa455",
   "metadata": {},
   "outputs": [
    {
     "data": {
      "text/plain": [
       "551"
      ]
     },
     "execution_count": 14,
     "metadata": {},
     "output_type": "execute_result"
    }
   ],
   "source": [
    "len(stops[stops[\"stop\"] == True]['segment_stop'].unique())"
   ]
  },
  {
   "attachments": {},
   "cell_type": "markdown",
   "id": "68055187",
   "metadata": {},
   "source": [
    "# Accuracy"
   ]
  }
 ],
 "metadata": {
  "kernelspec": {
   "display_name": "Python 3 (ipykernel)",
   "language": "python",
   "name": "python3"
  },
  "language_info": {
   "codemirror_mode": {
    "name": "ipython",
    "version": 3
   },
   "file_extension": ".py",
   "mimetype": "text/x-python",
   "name": "python",
   "nbconvert_exporter": "python",
   "pygments_lexer": "ipython3",
   "version": "3.7.16"
  }
 },
 "nbformat": 4,
 "nbformat_minor": 5
}

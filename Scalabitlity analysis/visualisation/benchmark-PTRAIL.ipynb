{
 "cells": [
  {
   "cell_type": "code",
   "execution_count": null,
   "id": "ab6e0388-ada5-4956-afeb-0fc31502627d",
   "metadata": {},
   "outputs": [],
   "source": [
    "\"\"\"\n",
    "Function to compute the execution time.\n",
    "\"\"\"\n",
    "from datetime import timedelta\n",
    "import time\n",
    "def get_time(f, kwargs={}):\n",
    "    times = []\n",
    "    result = None\n",
    "    for i in range(5):\n",
    "        print(\"measure\",i+1)\n",
    "        t = time.time()\n",
    "        result = f(**kwargs)\n",
    "        times.append(time.time()-t)\n",
    "        \n",
    "    print(\"all times:\", times)\n",
    "    a = min(times)\n",
    "    b = max(times)\n",
    "    print(\"outliers times:\",a,\"&\",b)\n",
    "    t = abs(sum(times)-a-b)/3\n",
    "    print(\"benchmark time\",str(t)+\"s\",\"or\", timedelta(seconds=t))\n",
    "    return result"
   ]
  },
  {
   "cell_type": "code",
   "execution_count": null,
   "id": "0d7617d1-3b48-4f43-aae7-d05d2fa4ded4",
   "metadata": {
    "tags": []
   },
   "outputs": [],
   "source": [
    "LAT = \"lat\"\n",
    "LONG = \"lng\"\n",
    "ID = 'tid'\n",
    "def visualization(trajectory_df,color=\"blue\"):    \n",
    "    m2 = folium.Map(location=[(np.max(trajectory_df[const.LAT])+np.min(trajectory_df[const.LAT]))/2, (np.max(trajectory_df[const.LONG])+np.min(trajectory_df[const.LONG]))/2], zoom_start=14, width=\"70%\", height=\"100\") # create the map\n",
    "    ids = trajectory_df.index.get_level_values('traj_id').unique() # get all uniques ids\n",
    "    for i in ids: # add a line per trajectory and avoid linked trajectories\n",
    "        tmp_df = trajectory_df[trajectory_df.index.get_level_values('traj_id') == i]\n",
    "        coords = [zip(tmp_df[const.LAT], tmp_df[const.LONG])]\n",
    "        folium.PolyLine(coords,\n",
    "                        color=color,\n",
    "                        weight=4,\n",
    "                        opacity=0.7).add_to(m2)\n",
    "    return m2"
   ]
  },
  {
   "cell_type": "code",
   "execution_count": null,
   "id": "e4b6ae8a-4c23-4674-8b82-4dfa34931529",
   "metadata": {
    "tags": []
   },
   "outputs": [],
   "source": [
    "import pandas as pd\n",
    "from ptrail.core.TrajectoryDF import PTRAILDataFrame\n",
    "from ptrail.features.temporal_features import TemporalFeatures as temporal\n",
    "from ptrail.features.kinematic_features import KinematicFeatures as kinematic\n",
    "from ptrail.preprocessing.filters import Filters as filt\n",
    "from ptrail.visualization import TrajPlotter\n",
    "import ptrail.utilities.constants as const\n",
    "import numpy as np\n",
    "import folium"
   ]
  },
  {
   "cell_type": "code",
   "execution_count": null,
   "id": "17166d9e-45e9-4538-86b2-734fc3b6c4e6",
   "metadata": {
    "tags": []
   },
   "outputs": [],
   "source": [
    "SIZE = \"small\""
   ]
  },
  {
   "cell_type": "code",
   "execution_count": null,
   "id": "51b51dbc-c4ac-4d81-8999-1eb0464f04be",
   "metadata": {
    "tags": []
   },
   "outputs": [],
   "source": [
    "PATH=\"../datasets/berlinMOD_\"+SIZE+\".csv\"\n",
    "df = pd.read_csv(PATH)\n",
    "trajectory_df = PTRAILDataFrame(data_set = df, latitude='Latitude', longitude='Longitude', datetime='Timestamp', traj_id='id')"
   ]
  },
  {
   "cell_type": "code",
   "execution_count": null,
   "id": "d882806e-1b7d-449d-b2c2-df9675e22e6f",
   "metadata": {
    "tags": []
   },
   "outputs": [],
   "source": [
    "visualization(trajectory_df)"
   ]
  },
  {
   "cell_type": "code",
   "execution_count": null,
   "id": "c631e120-6458-4ed0-bf9a-3bf8f1e18f85",
   "metadata": {},
   "outputs": [],
   "source": []
  }
 ],
 "metadata": {
  "kernelspec": {
   "display_name": "Python 3 (ipykernel)",
   "language": "python",
   "name": "python3"
  },
  "language_info": {
   "codemirror_mode": {
    "name": "ipython",
    "version": 3
   },
   "file_extension": ".py",
   "mimetype": "text/x-python",
   "name": "python",
   "nbconvert_exporter": "python",
   "pygments_lexer": "ipython3",
   "version": "3.9.18"
  }
 },
 "nbformat": 4,
 "nbformat_minor": 5
}

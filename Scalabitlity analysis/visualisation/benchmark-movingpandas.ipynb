{
 "cells": [
  {
   "attachments": {},
   "cell_type": "markdown",
   "id": "7fcc125d-ed88-4fb0-93f5-0f3e590edc4d",
   "metadata": {},
   "source": [
    "# Study of a more simple trajectory\n",
    "We will study a collection of 3 trajectories in order to compare the visualisation of each library"
   ]
  },
  {
   "cell_type": "code",
   "execution_count": null,
   "id": "bbee8683-9870-41da-8093-db20bec59e3c",
   "metadata": {},
   "outputs": [],
   "source": [
    "\"\"\"\n",
    "Function to compute the execution time.\n",
    "\"\"\"\n",
    "from datetime import timedelta\n",
    "import time\n",
    "def get_time(f, kwargs={}):\n",
    "    times = []\n",
    "    result = None\n",
    "    for i in range(5):\n",
    "        print(\"\\nmeasure\",i+1)\n",
    "        t = time.time()\n",
    "        result = f(**kwargs)\n",
    "        res = time.time()-t\n",
    "        times.append(res)\n",
    "        print( timedelta(seconds=res))\n",
    "        if res > 3600*13:\n",
    "            print(\"trop de temps\")\n",
    "            return result\n",
    "        \n",
    "    print(\"\\nall times:\", times)\n",
    "    a = min(times)\n",
    "    b = max(times)\n",
    "    print(\"times' outliers:\",a,\"&\",b)\n",
    "    t = abs(sum(times)-a-b)/3\n",
    "    print(\"benchmark time\",str(t)+\"s\",\"or\", timedelta(seconds=t))\n",
    "    return result\n"
   ]
  },
  {
   "cell_type": "code",
   "execution_count": null,
   "id": "efff0ea2-6100-44ee-89f8-cf36e98c6b9f",
   "metadata": {},
   "outputs": [],
   "source": [
    "import numpy as np\n",
    "import pandas as pd\n",
    "from geopandas import GeoDataFrame, read_file\n",
    "\n",
    "from shapely.geometry import Point, LineString, Polygon\n",
    "from datetime import datetime, timedelta\n",
    "import matplotlib.pyplot as plt\n",
    "import movingpandas as mpd\n",
    "#from holoviews import opts, dim\n",
    "import hvplot\n",
    "import warnings\n",
    "warnings.simplefilter(\"ignore\")"
   ]
  },
  {
   "cell_type": "code",
   "execution_count": null,
   "id": "7924b182-280c-4ceb-8d20-62f45a4b87f6",
   "metadata": {},
   "outputs": [],
   "source": [
    "SIZE = \"sample\""
   ]
  },
  {
   "cell_type": "code",
   "execution_count": null,
   "id": "6634030d",
   "metadata": {},
   "outputs": [],
   "source": [
    "PATH=\"../datasets/berlinMOD_\"+SIZE+\".csv\"\n",
    "df = pd.read_csv(PATH)\n",
    "traj = mpd.TrajectoryCollection(data=df, traj_id_col='id', t='Timestamp', x='Longitude', y='Latitude')"
   ]
  },
  {
   "cell_type": "code",
   "execution_count": null,
   "id": "338cdb9a-8986-4915-a453-c8085947355e",
   "metadata": {},
   "outputs": [],
   "source": [
    "get_time(traj.hvplot, {'title':'Original Trajectories', 'line_width':5})"
   ]
  },
  {
   "cell_type": "code",
   "execution_count": null,
   "id": "2f275df1-1ace-45a1-9932-6009206fde5a",
   "metadata": {},
   "outputs": [],
   "source": []
  }
 ],
 "metadata": {
  "kernelspec": {
   "display_name": "Python 3 (ipykernel)",
   "language": "python",
   "name": "python3"
  },
  "language_info": {
   "codemirror_mode": {
    "name": "ipython",
    "version": 3
   },
   "file_extension": ".py",
   "mimetype": "text/x-python",
   "name": "python",
   "nbconvert_exporter": "python",
   "pygments_lexer": "ipython3",
   "version": "3.10.12"
  }
 },
 "nbformat": 4,
 "nbformat_minor": 5
}

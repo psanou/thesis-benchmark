{
 "cells": [
  {
   "cell_type": "code",
   "execution_count": null,
   "id": "be72c5c1-e689-4b25-a712-61ff06421aa4",
   "metadata": {},
   "outputs": [],
   "source": [
    "\"\"\"\n",
    "Function to compute the execution time.\n",
    "\"\"\"\n",
    "from datetime import timedelta\n",
    "import time\n",
    "def get_time(f, kwargs={}):\n",
    "    times = []\n",
    "    result = None\n",
    "    for i in range(5):\n",
    "        print(\"\\nmeasure\",i+1)\n",
    "        t = time.time()\n",
    "        result = f(**kwargs)\n",
    "        res = time.time()-t\n",
    "        times.append(res)\n",
    "        print( timedelta(seconds=res))\n",
    "        if res > 3600*13:\n",
    "            print(\"trop de temps\")\n",
    "            return result\n",
    "        \n",
    "    print(\"\\nall times:\", times)\n",
    "    a = min(times)\n",
    "    b = max(times)\n",
    "    print(\"times' outliers:\",a,\"&\",b)\n",
    "    t = abs(sum(times)-a-b)/3\n",
    "    print(\"benchmark time\",str(t)+\"s\",\"or\", timedelta(seconds=t))\n",
    "    return result"
   ]
  },
  {
   "cell_type": "code",
   "execution_count": null,
   "id": "26ae64d0-6e84-40de-9ead-ab2ab0ffc167",
   "metadata": {},
   "outputs": [],
   "source": [
    "import skmob\n",
    "import pandas as pd\n",
    "import folium\n",
    "from skmob.preprocessing import compression, filtering, detection"
   ]
  },
  {
   "cell_type": "code",
   "execution_count": null,
   "id": "7c206ec1-b854-430d-bdf4-4e3bd803b5a8",
   "metadata": {},
   "outputs": [],
   "source": [
    "SIZE = \"sample\""
   ]
  },
  {
   "cell_type": "code",
   "execution_count": null,
   "id": "17caa3e0-e5d7-42c1-b302-e83bf8ce318d",
   "metadata": {},
   "outputs": [],
   "source": [
    "PATH=\"../datasets/berlinMOD_\"+SIZE+\".csv\"\n",
    "df = pd.read_csv(PATH)\n",
    "trajectory_df = skmob.TrajDataFrame(data=df, latitude='Latitude', longitude='Longitude', trajectory_id='id', datetime='Timestamp')"
   ]
  },
  {
   "cell_type": "code",
   "execution_count": null,
   "id": "f63bbd38-f82f-4ad0-b547-b9b6d91e56ba",
   "metadata": {},
   "outputs": [],
   "source": [
    "get_time(trajectory_df.plot_trajectory)"
   ]
  }
 ],
 "metadata": {
  "kernelspec": {
   "display_name": "Python 3 (ipykernel)",
   "language": "python",
   "name": "python3"
  },
  "language_info": {
   "codemirror_mode": {
    "name": "ipython",
    "version": 3
   },
   "file_extension": ".py",
   "mimetype": "text/x-python",
   "name": "python",
   "nbconvert_exporter": "python",
   "pygments_lexer": "ipython3",
   "version": "3.8.16"
  }
 },
 "nbformat": 4,
 "nbformat_minor": 5
}

{
 "cells": [
  {
   "cell_type": "code",
   "execution_count": null,
   "id": "be72c5c1-e689-4b25-a712-61ff06421aa4",
   "metadata": {},
   "outputs": [],
   "source": [
    "\"\"\"\n",
    "Function to compute the execution time.\n",
    "\"\"\"\n",
    "from datetime import timedelta\n",
    "import time\n",
    "def get_time(f, kwargs={}):\n",
    "    times = []\n",
    "    result = None\n",
    "    for i in range(5):\n",
    "        print(\"\\nmeasure\",i+1)\n",
    "        t = time.time()\n",
    "        result = f(**kwargs)\n",
    "        res = time.time()-t\n",
    "        times.append(res)\n",
    "        print( timedelta(seconds=res))\n",
    "        if res > 3600*13:\n",
    "            print(\"trop de temps\")\n",
    "            return result\n",
    "        \n",
    "    print(\"\\nall times:\", times)\n",
    "    a = min(times)\n",
    "    b = max(times)\n",
    "    print(\"times' outliers:\",a,\"&\",b)\n",
    "    t = abs(sum(times)-a-b)/3\n",
    "    print(\"benchmark time\",str(t)+\"s\",\"or\", timedelta(seconds=t))\n",
    "    return result"
   ]
  },
  {
   "cell_type": "code",
   "execution_count": null,
   "id": "26ae64d0-6e84-40de-9ead-ab2ab0ffc167",
   "metadata": {},
   "outputs": [],
   "source": [
    "import skmob\n",
    "import pandas as pd\n",
    "import folium\n",
    "from skmob.preprocessing import compression, filtering, detection"
   ]
  },
  {
   "cell_type": "code",
   "execution_count": null,
   "id": "7c206ec1-b854-430d-bdf4-4e3bd803b5a8",
   "metadata": {},
   "outputs": [],
   "source": [
    "SIZE = \"sample\""
   ]
  },
  {
   "cell_type": "code",
   "execution_count": null,
   "id": "08098467-06d6-4af1-926e-0f98ec56c4ec",
   "metadata": {},
   "outputs": [],
   "source": [
    "PATH=\"../datasets/berlinMOD_\"+SIZE+\".csv\"\n",
    "df = pd.read_csv(PATH)\n",
    "trajectory_df = skmob.TrajDataFrame(data=df, latitude='Latitude', longitude='Longitude', trajectory_id='id', datetime='Timestamp')\n",
    "trajectory_df"
   ]
  },
  {
   "cell_type": "code",
   "execution_count": null,
   "id": "e479150e-05d6-40d0-bdd8-46c8e66bd982",
   "metadata": {},
   "outputs": [],
   "source": [
    "compressed_df = get_time(compression.compress,{\"tdf\":trajectory_df,\"spatial_radius_km\":0.020})"
   ]
  },
  {
   "cell_type": "code",
   "execution_count": null,
   "id": "78ffbc5e-c365-4aef-82ad-05491ee2d5f2",
   "metadata": {},
   "outputs": [],
   "source": [
    "print(\"nombre de points apres compression:\",len(compressed_df))"
   ]
  },
  {
   "cell_type": "code",
   "execution_count": null,
   "id": "c4652e99-466a-4565-9c41-396a64f422c2",
   "metadata": {},
   "outputs": [],
   "source": []
  },
  {
   "cell_type": "code",
   "execution_count": null,
   "id": "1f74f42f-1818-47e4-9437-a17a4ac44525",
   "metadata": {},
   "outputs": [],
   "source": []
  },
  {
   "cell_type": "code",
   "execution_count": null,
   "id": "95b12740-302c-47f9-bfd9-4e6608c7296b",
   "metadata": {},
   "outputs": [],
   "source": []
  },
  {
   "cell_type": "code",
   "execution_count": null,
   "id": "ae3e13f0-1943-431a-99d1-89f4f0544cae",
   "metadata": {},
   "outputs": [],
   "source": []
  }
 ],
 "metadata": {
  "kernelspec": {
   "display_name": "Python 3 (ipykernel)",
   "language": "python",
   "name": "python3"
  },
  "language_info": {
   "codemirror_mode": {
    "name": "ipython",
    "version": 3
   },
   "file_extension": ".py",
   "mimetype": "text/x-python",
   "name": "python",
   "nbconvert_exporter": "python",
   "pygments_lexer": "ipython3",
   "version": "3.8.16"
  }
 },
 "nbformat": 4,
 "nbformat_minor": 5
}

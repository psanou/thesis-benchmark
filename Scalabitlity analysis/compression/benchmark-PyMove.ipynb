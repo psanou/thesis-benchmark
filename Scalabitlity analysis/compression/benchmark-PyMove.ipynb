{
 "cells": [
  {
   "cell_type": "code",
   "execution_count": null,
   "id": "c243f8f3-15b9-4b51-ab46-f9a0dd94130c",
   "metadata": {},
   "outputs": [],
   "source": [
    "\"\"\"\n",
    "Function to compute the execution time.\n",
    "\"\"\"\n",
    "from datetime import timedelta\n",
    "import time\n",
    "def get_time(f, kwargs={}):\n",
    "    times = []\n",
    "    result = None\n",
    "    for i in range(5):\n",
    "        print(\"\\nmeasure\",i+1)\n",
    "        t = time.time()\n",
    "        result = f(**kwargs)\n",
    "        res = time.time()-t\n",
    "        times.append(res)\n",
    "        print( timedelta(seconds=res))\n",
    "        if res > 3600*13:\n",
    "            print(\"trop de temps\")\n",
    "            return result\n",
    "        \n",
    "    print(\"\\nall times:\", times)\n",
    "    a = min(times)\n",
    "    b = max(times)\n",
    "    print(\"times' outliers:\",a,\"&\",b)\n",
    "    t = abs(sum(times)-a-b)/3\n",
    "    print(\"benchmark time\",str(t)+\"s\",\"or\", timedelta(seconds=t))\n",
    "    return result"
   ]
  },
  {
   "cell_type": "code",
   "execution_count": null,
   "id": "6cf12847-e649-479e-b2a4-58730db8a2c7",
   "metadata": {},
   "outputs": [],
   "source": [
    "import pandas as pd\n",
    "import pymove as pm\n",
    "from pymove import MoveDataFrame\n",
    "from pymove import filters\n",
    "import pymove as pm\n",
    "from pymove.visualization import folium as f, matplotlib as mpl\n",
    "from pymove.utils import visual\n",
    "from pymove.preprocessing import stay_point_detection, compression, segmentation"
   ]
  },
  {
   "cell_type": "code",
   "execution_count": null,
   "id": "8900cc31-206a-4fe8-99bc-4e40a2a57c49",
   "metadata": {},
   "outputs": [],
   "source": [
    "SIZE = \"sample\""
   ]
  },
  {
   "cell_type": "markdown",
   "id": "f1a25e09-470a-4b6a-b046-767ac71a4c20",
   "metadata": {},
   "source": [
    "# cars trajectories"
   ]
  },
  {
   "cell_type": "code",
   "execution_count": null,
   "id": "6b6aefcb-36e3-427e-9374-1b701788c361",
   "metadata": {},
   "outputs": [],
   "source": [
    "PATH=\"../datasets/berlinMOD_\"+SIZE+\".csv\"\n",
    "tdf = pd.read_csv(PATH)\n",
    "move_df = MoveDataFrame(data=tdf, latitude=\"Latitude\", longitude=\"Longitude\", datetime=\"Timestamp\", traj_id=\"id\")"
   ]
  },
  {
   "cell_type": "code",
   "execution_count": null,
   "id": "8ffa2fdc-45bd-4c83-b495-0b7cf710029c",
   "metadata": {},
   "outputs": [],
   "source": [
    "compressed = get_time(compression.compress_segment_stop_to_point, {\"move_data\":move_df, \"dist_radius\":20, \"time_radius\":60*30})\n",
    "compressed"
   ]
  },
  {
   "cell_type": "code",
   "execution_count": null,
   "id": "d46ef256-8813-41c7-a38d-7b25d17aa455",
   "metadata": {},
   "outputs": [],
   "source": [
    "print(\"nombre actuel de points:\", len(compressed))"
   ]
  }
 ],
 "metadata": {
  "kernelspec": {
   "display_name": "Python 3 (ipykernel)",
   "language": "python",
   "name": "python3"
  },
  "language_info": {
   "codemirror_mode": {
    "name": "ipython",
    "version": 3
   },
   "file_extension": ".py",
   "mimetype": "text/x-python",
   "name": "python",
   "nbconvert_exporter": "python",
   "pygments_lexer": "ipython3",
   "version": "3.7.16"
  }
 },
 "nbformat": 4,
 "nbformat_minor": 5
}

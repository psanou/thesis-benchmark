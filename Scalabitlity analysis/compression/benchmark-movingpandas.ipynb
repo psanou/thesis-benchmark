{
 "cells": [
  {
   "cell_type": "markdown",
   "id": "7fcc125d-ed88-4fb0-93f5-0f3e590edc4d",
   "metadata": {},
   "source": [
    "# Study of a more simple trajectory\n",
    "We will study a collection of 3 trajectories in order to compare the visualisation of each library"
   ]
  },
  {
   "cell_type": "code",
   "execution_count": null,
   "id": "bbee8683-9870-41da-8093-db20bec59e3c",
   "metadata": {},
   "outputs": [],
   "source": [
    "\"\"\"\n",
    "Function to compute the execution time.\n",
    "\"\"\"\n",
    "from datetime import timedelta\n",
    "import time\n",
    "def get_time(f, kwargs={}):\n",
    "    times = []\n",
    "    result = None\n",
    "    for i in range(5):\n",
    "        print(\"\\nmeasure\",i+1)\n",
    "        t = time.time()\n",
    "        result = f(**kwargs)\n",
    "        res = time.time()-t\n",
    "        times.append(res)\n",
    "        print( timedelta(seconds=res))\n",
    "        if res > 3600*13:\n",
    "            print(\"trop de temps\")\n",
    "            return result\n",
    "        \n",
    "    print(\"\\nall times:\", times)\n",
    "    a = min(times)\n",
    "    b = max(times)\n",
    "    print(\"times' outliers:\",a,\"&\",b)\n",
    "    t = abs(sum(times)-a-b)/3\n",
    "    print(\"benchmark time\",str(t)+\"s\",\"or\", timedelta(seconds=t))\n",
    "    return result"
   ]
  },
  {
   "cell_type": "code",
   "execution_count": null,
   "id": "efff0ea2-6100-44ee-89f8-cf36e98c6b9f",
   "metadata": {},
   "outputs": [],
   "source": [
    "import numpy as np\n",
    "import pandas as pd\n",
    "from geopandas import GeoDataFrame, read_file\n",
    "from shapely.geometry import Point, LineString, Polygon\n",
    "from datetime import datetime, timedelta\n",
    "import matplotlib.pyplot as plt\n",
    "import movingpandas as mpd\n",
    "#from holoviews import opts, dim\n",
    "# import hvplot\n",
    "import warnings\n",
    "warnings.simplefilter(\"ignore\")"
   ]
  },
  {
   "cell_type": "code",
   "execution_count": null,
   "id": "7924b182-280c-4ceb-8d20-62f45a4b87f6",
   "metadata": {},
   "outputs": [],
   "source": [
    "SIZE = \"sample\""
   ]
  },
  {
   "cell_type": "code",
   "execution_count": null,
   "id": "139b329d-58b0-4368-98fb-685b089f6bee",
   "metadata": {},
   "outputs": [],
   "source": [
    "PATH=\"../datasets/berlinMOD_\"+SIZE+\".csv\"\n",
    "df = pd.read_csv(PATH)\n",
    "traj = mpd.TrajectoryCollection(data=df, traj_id_col='id', t='Timestamp', x='Longitude', y='Latitude')"
   ]
  },
  {
   "cell_type": "code",
   "execution_count": null,
   "id": "d25c451a",
   "metadata": {},
   "outputs": [],
   "source": [
    "tolerance = 1/111139"
   ]
  },
  {
   "cell_type": "markdown",
   "id": "74761015-fae8-4555-b34e-875f435df0ce",
   "metadata": {},
   "source": [
    "### TopDownTimeRatio method"
   ]
  },
  {
   "cell_type": "code",
   "execution_count": null,
   "id": "aad21ae1",
   "metadata": {},
   "outputs": [],
   "source": [
    "compressed_DP = get_time(mpd.DouglasPeuckerGeneralizer(traj).generalize,{\"tolerance\": tolerance})\n",
    "print(\"nombre de points apres compression\",len(compressed_DP.to_point_gdf()))\n",
    "compressed_DP"
   ]
  },
  {
   "cell_type": "markdown",
   "id": "f11cf3fc",
   "metadata": {},
   "source": [
    "### Simplify with shapely"
   ]
  },
  {
   "cell_type": "code",
   "execution_count": null,
   "id": "4432e8ec",
   "metadata": {},
   "outputs": [],
   "source": [
    "import matplotlib.pyplot as plt\n",
    "n = 0\n",
    "for t in traj.trajectories:\n",
    "    coords = t.to_linestring().simplify(tolerance, preserve_topology=False).coords\n",
    "    n+=len(coords)\n",
    "print(n)"
   ]
  },
  {
   "cell_type": "markdown",
   "id": "21ccf089",
   "metadata": {},
   "source": [
    "### TopDownTimeRatio method"
   ]
  },
  {
   "cell_type": "code",
   "execution_count": null,
   "id": "93511659",
   "metadata": {},
   "outputs": [],
   "source": [
    "compressed_topDown = get_time(mpd.TopDownTimeRatioGeneralizer(traj).generalize,{\"tolerance\": tolerance})\n",
    "print(\"nombre de points apres compression\",len(compressed_topDown.to_point_gdf()))\n",
    "compressed_topDown"
   ]
  }
 ],
 "metadata": {
  "kernelspec": {
   "display_name": "Python 3 (ipykernel)",
   "language": "python",
   "name": "python3"
  },
  "language_info": {
   "codemirror_mode": {
    "name": "ipython",
    "version": 3
   },
   "file_extension": ".py",
   "mimetype": "text/x-python",
   "name": "python",
   "nbconvert_exporter": "python",
   "pygments_lexer": "ipython3",
   "version": "3.7.16"
  }
 },
 "nbformat": 4,
 "nbformat_minor": 5
}

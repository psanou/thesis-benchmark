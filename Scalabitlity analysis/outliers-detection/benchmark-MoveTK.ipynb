{
 "cells": [
  {
   "cell_type": "code",
   "execution_count": 1,
   "id": "50465cec-ea22-44c3-bf68-75986a4c1d0f",
   "metadata": {},
   "outputs": [],
   "source": [
    "import pandas as pd\n",
    "import subprocess\n",
    "import time\n",
    "import shlex\n",
    "from datetime import timedelta"
   ]
  },
  {
   "cell_type": "code",
   "execution_count": 2,
   "id": "8900cc31-206a-4fe8-99bc-4e40a2a57c49",
   "metadata": {},
   "outputs": [],
   "source": [
    "SIZE = \"sample\""
   ]
  },
  {
   "cell_type": "markdown",
   "id": "0c4709f6-c948-410f-b738-5e931423c7dd",
   "metadata": {},
   "source": [
    "# Ships Trajectories"
   ]
  },
  {
   "cell_type": "code",
   "execution_count": 3,
   "id": "8970cd75-3937-4f07-9c73-48db0f2553c7",
   "metadata": {},
   "outputs": [],
   "source": [
    "PATH='../datasets/ships_'+SIZE+'.csv'"
   ]
  },
  {
   "cell_type": "code",
   "execution_count": 4,
   "id": "599665c9-f4a1-47e5-b58c-83724fb9abdd",
   "metadata": {},
   "outputs": [
    {
     "name": "stdout",
     "output_type": "stream",
     "text": [
      "44400\n"
     ]
    },
    {
     "data": {
      "text/plain": [
       "array([219015579, 218768000])"
      ]
     },
     "execution_count": 4,
     "metadata": {},
     "output_type": "execute_result"
    }
   ],
   "source": [
    "df = pd.read_csv(PATH)\n",
    "print(len(df))\n",
    "ids = df[\"id\"].unique()\n",
    "ids"
   ]
  },
  {
   "cell_type": "markdown",
   "id": "eb4c2d4a-21e1-4304-9f27-dbb1cdf0f6b9",
   "metadata": {},
   "source": [
    "### Outlier detection"
   ]
  },
  {
   "cell_type": "code",
   "execution_count": 23,
   "id": "032339d4-e93e-45b2-8241-0104572705fd",
   "metadata": {},
   "outputs": [
    {
     "name": "stdout",
     "output_type": "stream",
     "text": [
      "0.0%\n",
      "0.5%\n",
      "75.80640363693237 41348\n",
      "CPU times: user 258 ms, sys: 0 ns, total: 258 ms\n",
      "Wall time: 1min 16s\n"
     ]
    }
   ],
   "source": [
    "%%time\n",
    "total_time=0\n",
    "total_points=0\n",
    "command=\"\"\"movetk/build/examples/outlier_detection -tr /home/pierre-cedric/Documents/unif/fifth_year/MEMO-F524/test.csv -idx 1,2,3 -eps 25 --head\"\"\"\n",
    "for i in range(len(ids)):\n",
    "    #print(f\"{i/len(ids)}%\", flush=True)\n",
    "    tmp_df = df[df[\"id\"] == ids[i]]\n",
    "    tmp_df.sort_values(by=\"Timestamp\").drop_duplicates(subset=['Timestamp']).to_csv(\"test.csv\",index=False)\n",
    "    t = time.time()\n",
    "    val = subprocess.run(shlex.split(command), capture_output=True)\n",
    "    total_points += int(str(val.stderr.strip()).split(\":\")[-1][0:-1])\n",
    "    total_time += (time.time() - t)\n",
    "\n",
    "print(\"benchmark time\",str(total_time)+\"s\",\"or\", timedelta(seconds=total_time))\n",
    "print(\"outlier points\",total_points)"
   ]
  },
  {
   "cell_type": "code",
   "execution_count": 11,
   "id": "37d65c59-d243-49d6-9ff8-5d768d8afb44",
   "metadata": {},
   "outputs": [
    {
     "name": "stdout",
     "output_type": "stream",
     "text": [
      "2\n"
     ]
    }
   ],
   "source": [
    "df.to_csv(\"hello\")\n",
    "print(2)"
   ]
  },
  {
   "cell_type": "markdown",
   "id": "f1a25e09-470a-4b6a-b046-767ac71a4c20",
   "metadata": {},
   "source": [
    "# cars trajectories"
   ]
  },
  {
   "cell_type": "markdown",
   "id": "e7aa5cd8-4925-4fea-9c94-b5424cea7575",
   "metadata": {},
   "source": [
    "### Speed computation"
   ]
  },
  {
   "cell_type": "markdown",
   "id": "bced01cc-6542-4ece-a0a4-da8952ad6c12",
   "metadata": {},
   "source": [
    "### Stop detection"
   ]
  },
  {
   "cell_type": "markdown",
   "id": "70e28bf5-e5a1-40f5-bf16-a97f6238015f",
   "metadata": {},
   "source": [
    "### Compression"
   ]
  },
  {
   "cell_type": "markdown",
   "id": "dbf54647-5aee-4d06-a6e6-eb4beaad0e38",
   "metadata": {},
   "source": [
    "### Visualisation"
   ]
  }
 ],
 "metadata": {
  "kernelspec": {
   "display_name": "Python 3 (ipykernel)",
   "language": "python",
   "name": "python3"
  },
  "language_info": {
   "codemirror_mode": {
    "name": "ipython",
    "version": 3
   },
   "file_extension": ".py",
   "mimetype": "text/x-python",
   "name": "python",
   "nbconvert_exporter": "python",
   "pygments_lexer": "ipython3",
   "version": "3.9.13"
  }
 },
 "nbformat": 4,
 "nbformat_minor": 5
}

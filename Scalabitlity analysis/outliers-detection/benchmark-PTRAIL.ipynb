{
 "cells": [
  {
   "cell_type": "code",
   "execution_count": null,
   "id": "ab6e0388-ada5-4956-afeb-0fc31502627d",
   "metadata": {
    "tags": []
   },
   "outputs": [],
   "source": [
    "\"\"\"\n",
    "Function to compute the execution time.\n",
    "\"\"\"\n",
    "from datetime import timedelta\n",
    "import time\n",
    "def get_time(f, kwargs={}):\n",
    "    times = []\n",
    "    result = None\n",
    "    for i in range(5):\n",
    "        print(\"\\nmeasure\",i+1)\n",
    "        t = time.time()\n",
    "        result = f(**kwargs)\n",
    "        res = time.time()-t\n",
    "        times.append(res)\n",
    "        print( timedelta(seconds=res))\n",
    "        if res > 3600*13:\n",
    "            print(\"trop de temps\")\n",
    "            return result\n",
    "        \n",
    "    print(\"\\nall times:\", times)\n",
    "    a = min(times)\n",
    "    b = max(times)\n",
    "    print(\"times' outliers:\",a,\"&\",b)\n",
    "    t = abs(sum(times)-a-b)/3\n",
    "    print(\"benchmark time\",str(t)+\"s\",\"or\", timedelta(seconds=t))\n",
    "    return result"
   ]
  },
  {
   "cell_type": "code",
   "execution_count": null,
   "id": "e4b6ae8a-4c23-4674-8b82-4dfa34931529",
   "metadata": {
    "tags": []
   },
   "outputs": [],
   "source": [
    "import pandas as pd\n",
    "from ptrail.core.TrajectoryDF import PTRAILDataFrame\n",
    "from ptrail.features.temporal_features import TemporalFeatures as temporal\n",
    "from ptrail.features.kinematic_features import KinematicFeatures as kinematic\n",
    "from ptrail.preprocessing.filters import Filters as filt\n",
    "from ptrail.visualization import TrajPlotter\n",
    "import ptrail.utilities.constants as const\n",
    "import numpy as np\n",
    "import folium"
   ]
  },
  {
   "cell_type": "code",
   "execution_count": null,
   "id": "17166d9e-45e9-4538-86b2-734fc3b6c4e6",
   "metadata": {
    "tags": []
   },
   "outputs": [],
   "source": [
    "SIZE = \"small\""
   ]
  },
  {
   "cell_type": "code",
   "execution_count": null,
   "id": "aa10229c",
   "metadata": {
    "tags": []
   },
   "outputs": [],
   "source": [
    "PATH=\"../datasets/AIS_\"+SIZE+\".csv\"\n",
    "df = pd.read_csv(PATH)\n",
    "trajectory_df = PTRAILDataFrame(data_set = df, latitude='Latitude', longitude='Longitude', datetime='Timestamp', traj_id='id')\n",
    "trajectory_df"
   ]
  },
  {
   "cell_type": "markdown",
   "id": "f1a930c6-3581-42dd-923d-89ad4ca63f7b",
   "metadata": {},
   "source": [
    "### Outlier Detection with hampel method"
   ]
  },
  {
   "cell_type": "code",
   "execution_count": null,
   "id": "8ae68d30-2860-4912-8363-22a7f04e3f19",
   "metadata": {
    "tags": []
   },
   "outputs": [],
   "source": [
    "trajectory_df = kinematic.create_speed_column(trajectory_df)\n",
    "cleaned_hampel = get_time(filt.hampel_outlier_detection,{\"dataframe\":trajectory_df, \"column_name\":'Speed'})"
   ]
  },
  {
   "cell_type": "code",
   "execution_count": null,
   "id": "9f0a2a60-a59b-4ac0-b37f-22b37d8d6215",
   "metadata": {
    "tags": []
   },
   "outputs": [],
   "source": [
    "print(f\"Length of original: {len(trajectory_df)}\")\n",
    "print(f\"Length after outlier removal: {len(cleaned_hampel)}\")\n",
    "print(f\"Number of points removed: {len(trajectory_df) - len(cleaned_hampel)}\")"
   ]
  },
  {
   "cell_type": "markdown",
   "id": "cd035971-ee0b-4bcc-862f-dc9082e80e35",
   "metadata": {},
   "source": [
    "### Outlier Detection with IQR method"
   ]
  },
  {
   "cell_type": "code",
   "execution_count": null,
   "id": "57f1d4b7-b2b6-471c-905e-4d2dd2196d91",
   "metadata": {
    "tags": []
   },
   "outputs": [],
   "source": [
    "cleaned_iqr = get_time(filt.filter_outliers_by_consecutive_speed,{\"dataframe\":trajectory_df})"
   ]
  },
  {
   "cell_type": "code",
   "execution_count": null,
   "id": "bf54936b-368b-48e8-844d-0f8a63907fb4",
   "metadata": {
    "tags": []
   },
   "outputs": [],
   "source": [
    "print(f\"Length of original: {len(trajectory_df)}\")\n",
    "print(f\"Length after outlier removal: {len(cleaned_iqr)}\")\n",
    "print(f\"Number of points removed: {len(trajectory_df) - len(cleaned_iqr)}\")"
   ]
  },
  {
   "cell_type": "code",
   "execution_count": null,
   "id": "673eecb7-08de-4073-b6e5-5347378b488b",
   "metadata": {},
   "outputs": [],
   "source": []
  }
 ],
 "metadata": {
  "kernelspec": {
   "display_name": "Python 3 (ipykernel)",
   "language": "python",
   "name": "python3"
  },
  "language_info": {
   "codemirror_mode": {
    "name": "ipython",
    "version": 3
   },
   "file_extension": ".py",
   "mimetype": "text/x-python",
   "name": "python",
   "nbconvert_exporter": "python",
   "pygments_lexer": "ipython3",
   "version": "3.10.12"
  }
 },
 "nbformat": 4,
 "nbformat_minor": 5
}

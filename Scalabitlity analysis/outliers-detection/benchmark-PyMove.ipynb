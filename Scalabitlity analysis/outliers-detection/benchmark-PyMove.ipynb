{
 "cells": [
  {
   "cell_type": "code",
   "execution_count": null,
   "id": "c243f8f3-15b9-4b51-ab46-f9a0dd94130c",
   "metadata": {
    "tags": []
   },
   "outputs": [],
   "source": [
    "\"\"\"\n",
    "Function to compute the execution time.\n",
    "\"\"\"\n",
    "from datetime import timedelta\n",
    "import time\n",
    "def get_time(f, kwargs={}):\n",
    "    times = []\n",
    "    result = None\n",
    "    for i in range(5):\n",
    "        print(\"\\nmeasure\",i+1)\n",
    "        t = time.time()\n",
    "        result = f(**kwargs)\n",
    "        res = time.time()-t\n",
    "        times.append(res)\n",
    "        print( timedelta(seconds=res))\n",
    "        if res > 3600*13:\n",
    "            print(\"trop de temps\")\n",
    "            return result\n",
    "        \n",
    "    print(\"\\nall times:\", times)\n",
    "    a = min(times)\n",
    "    b = max(times)\n",
    "    print(\"times' outliers:\",a,\"&\",b)\n",
    "    t = abs(sum(times)-a-b)/3\n",
    "    print(\"benchmark time\",str(t)+\"s\",\"or\", timedelta(seconds=t))\n",
    "    return result"
   ]
  },
  {
   "cell_type": "code",
   "execution_count": null,
   "id": "6cf12847-e649-479e-b2a4-58730db8a2c7",
   "metadata": {
    "tags": []
   },
   "outputs": [],
   "source": [
    "import pandas as pd\n",
    "import pymove as pm\n",
    "from pymove import MoveDataFrame\n",
    "from pymove import filters\n",
    "import pymove as pm\n",
    "from pymove.visualization import folium as f, matplotlib as mpl\n",
    "from pymove.utils import visual\n",
    "from pymove.preprocessing import stay_point_detection, compression, segmentation"
   ]
  },
  {
   "cell_type": "code",
   "execution_count": null,
   "id": "8900cc31-206a-4fe8-99bc-4e40a2a57c49",
   "metadata": {
    "tags": []
   },
   "outputs": [],
   "source": [
    "SIZE = \"small\""
   ]
  },
  {
   "cell_type": "code",
   "execution_count": null,
   "id": "fb48cb02-b626-42fd-aae8-270615324066",
   "metadata": {
    "tags": []
   },
   "outputs": [],
   "source": [
    "PATH=\"../datasets/AIS_\"+SIZE+\".csv\"\n",
    "tdf = pd.read_csv(PATH)\n",
    "move_df = MoveDataFrame(data=tdf, latitude=\"Latitude\", longitude=\"Longitude\", datetime=\"Timestamp\", traj_id=\"id\")"
   ]
  },
  {
   "cell_type": "code",
   "execution_count": null,
   "id": "8735a67a-6d75-4a95-b7c5-7fa8749bf407",
   "metadata": {
    "tags": []
   },
   "outputs": [],
   "source": [
    "clean_traj = get_time(filters.clean_gps_speed_max_radius,{\"move_data\":move_df,\"speed_max\":73})"
   ]
  },
  {
   "cell_type": "code",
   "execution_count": null,
   "id": "253b6f7c-6ea4-4648-8585-d09ceb002fe6",
   "metadata": {
    "tags": []
   },
   "outputs": [],
   "source": [
    "print(\"nombre precedent de points:\", len(move_df))\n",
    "print(\"nombre de points retirés:\", len(move_df)-len(clean_traj))\n",
    "print(\"nombre actuel de points:\", len(clean_traj), clean_traj.shape)"
   ]
  }
 ],
 "metadata": {
  "kernelspec": {
   "display_name": "Python 3 (ipykernel)",
   "language": "python",
   "name": "python3"
  },
  "language_info": {
   "codemirror_mode": {
    "name": "ipython",
    "version": 3
   },
   "file_extension": ".py",
   "mimetype": "text/x-python",
   "name": "python",
   "nbconvert_exporter": "python",
   "pygments_lexer": "ipython3",
   "version": "3.7.16"
  }
 },
 "nbformat": 4,
 "nbformat_minor": 5
}
